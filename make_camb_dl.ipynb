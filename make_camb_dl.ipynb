{
 "cells": [
  {
   "cell_type": "code",
   "execution_count": 1,
   "metadata": {},
   "outputs": [],
   "source": [
    "import camb"
   ]
  },
  {
   "cell_type": "code",
   "execution_count": 2,
   "metadata": {},
   "outputs": [],
   "source": [
    "ps_camb = \"demo_powerspectra/camb_ps.dat\"  # Only used to demonstrate that CAMB output includes L=0,1"
   ]
  },
  {
   "cell_type": "code",
   "execution_count": 3,
   "metadata": {},
   "outputs": [],
   "source": [
    "lmax = 8150\n",
    "\n",
    "cosmology_args = dict( # Junk value\n",
    "    H0=63.3,\n",
    "    mnu=0.531,\n",
    "    ombh2=0.0217,\n",
    "    omch2=0.115,\n",
    "    tau=0.594\n",
    ")\n",
    "init_power_args = dict( # Junk value\n",
    "    ns=0.947\n",
    ")\n",
    "\n",
    "pars = camb.CAMBparams()\n",
    "pars.set_cosmology(**cosmology_args)\n",
    "pars.InitPower.set_params(**init_power_args)\n",
    "pars.set_for_lmax(lmax, lens_potential_accuracy=0)\n",
    "\n",
    "results = camb.get_results(pars)\n",
    "\n",
    "results.save_cmb_power_spectra(ps_camb)"
   ]
  },
  {
   "cell_type": "markdown",
   "metadata": {},
   "source": [
    "Note that CAMB produces L=0 and L=1 lines in the output, as stated in [CAMB documentation](https://camb.readthedocs.io/en/latest/results.html#camb.results.CAMBdata.get_cmb_power_spectra)."
   ]
  },
  {
   "cell_type": "code",
   "execution_count": 4,
   "metadata": {},
   "outputs": [
    {
     "name": "stdout",
     "output_type": "stream",
     "text": [
      "#  L TT            EE            BB            TE            PP            PT            PE\n",
      "   0 0.0000000e+00 0.0000000e+00 0.0000000e+00 0.0000000e+00 0.0000000e+00 0.0000000e+00 0.0000000e+00\n",
      "   1 0.0000000e+00 0.0000000e+00 0.0000000e+00 0.0000000e+00 0.0000000e+00 0.0000000e+00 0.0000000e+00\n",
      "   2 1.0825953e+03 1.4746664e-01 1.4796820e-07 6.6772338e+00 5.2118790e-08 2.7735919e-03 -2.5091173e-05\n",
      "   3 1.0465663e+03 3.9779316e-01 2.9968791e-07 1.0461787e+01 6.2924300e-08 2.8439773e-03 -3.7494399e-05\n"
     ]
    }
   ],
   "source": [
    "with open(ps_camb, \"r\") as f:\n",
    "    for i in range(5):\n",
    "        print(f.readline().rstrip())"
   ]
  }
 ],
 "metadata": {
  "kernelspec": {
   "display_name": "cmb-ml2",
   "language": "python",
   "name": "python3"
  },
  "language_info": {
   "codemirror_mode": {
    "name": "ipython",
    "version": 3
   },
   "file_extension": ".py",
   "mimetype": "text/x-python",
   "name": "python",
   "nbconvert_exporter": "python",
   "pygments_lexer": "ipython3",
   "version": "3.9.21"
  }
 },
 "nbformat": 4,
 "nbformat_minor": 2
}
