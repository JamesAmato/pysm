{
 "cells": [
  {
   "cell_type": "code",
   "execution_count": null,
   "id": "7555d741-b206-49c4-9008-2a2c36743863",
   "metadata": {},
   "outputs": [],
   "source": [
    "from pathlib import Path\n",
    "import healpy as hp\n",
    "import matplotlib.pyplot as plt\n",
    "import numpy as np\n",
    "import pymaster as nmt\n",
    "from astropy.io import fits\n",
    "\n",
    "%matplotlib inline"
   ]
  },
  {
   "cell_type": "code",
   "execution_count": null,
   "id": "1e3edd65-14fc-409f-a956-39e6539eb09a",
   "metadata": {},
   "outputs": [],
   "source": [
    "hp.disable_warnings()"
   ]
  },
  {
   "cell_type": "code",
   "execution_count": null,
   "id": "6c9e2399-20c9-44a1-8f88-1923d9cb667f",
   "metadata": {},
   "outputs": [],
   "source": [
    "plt.style.use(\"seaborn-talk\")"
   ]
  },
  {
   "cell_type": "code",
   "execution_count": null,
   "id": "e4951457-1bf6-4ac8-b6ef-8d482aaab3ab",
   "metadata": {},
   "outputs": [],
   "source": [
    "import pysm3 as pysm\n",
    "import pysm3.units as u"
   ]
  },
  {
   "cell_type": "code",
   "execution_count": null,
   "id": "98132cc2-19a9-427f-8124-739d3d8aa71b",
   "metadata": {},
   "outputs": [],
   "source": [
    "nside = 2048\n",
    "lmax = 2048"
   ]
  },
  {
   "cell_type": "code",
   "execution_count": null,
   "id": "db1b63fa-16f4-46bf-b44a-754358fb0a99",
   "metadata": {},
   "outputs": [],
   "source": [
    "comp = \"IQU\""
   ]
  },
  {
   "cell_type": "code",
   "execution_count": null,
   "id": "434c1817-3ad9-46d6-a2c1-b8f989f9bbe9",
   "metadata": {},
   "outputs": [],
   "source": [
    "components = list(enumerate(comp))\n",
    "components"
   ]
  },
  {
   "cell_type": "code",
   "execution_count": null,
   "id": "ef0893e2-d7a1-428d-84a6-14a64828fe32",
   "metadata": {},
   "outputs": [],
   "source": [
    "spectra_components = [\"TT\", \"EE\", \"BB\",\"TE\"]"
   ]
  },
  {
   "cell_type": "markdown",
   "id": "3bcc4f05-9417-440f-8282-ec2e5fb1d78b",
   "metadata": {},
   "source": [
    "change this to True   if you want to  run namaster on notebook \n"
   ]
  },
  {
   "cell_type": "code",
   "execution_count": null,
   "id": "99a8d4a6-1510-4a3a-a529-ad35f765a92b",
   "metadata": {},
   "outputs": [],
   "source": [
    "namaster_on_nb = True "
   ]
  },
  {
   "cell_type": "code",
   "execution_count": null,
   "id": "59f1f34a-4b01-4af9-8af8-5fa7e859d310",
   "metadata": {},
   "outputs": [],
   "source": [
    "datadir=Path(\"data\")"
   ]
  },
  {
   "cell_type": "markdown",
   "id": "b867c899-b5b1-4de6-8cbe-70915efad4b8",
   "metadata": {},
   "source": [
    "# Setting the inputs \n",
    "## Dust maps \n",
    "- We use the  2015 GNILC intensity map from the 2nd planck release, as it encodes less contamination from CIB with 21.8' resolution https://www.dropbox.com/s/hicocet83z31ob3/COM_CompMap_Dust-GNILC-F353_2048_21p8acm.fits?dl=0\n",
    "\n",
    "- for Q and U we adopt maps from the 3rd Planck release as they were optimized for polarization studies with 80' reso.  \n",
    "\n"
   ]
  },
  {
   "cell_type": "code",
   "execution_count": null,
   "id": "87e5c4fb-a1d9-4a09-a20a-6e313e6a3c33",
   "metadata": {},
   "outputs": [],
   "source": [
    "gnilc_template=\"varres\"\n",
    "dust_varresI = datadir / \"COM_CompMap_Dust-GNILC-F353_2048_21p8acm.fits\"\n",
    "dust_varresP = datadir / f\"COM_CompMap_IQU-thermaldust-gnilc-{gnilc_template}_2048_R3.00.fits\"\n"
   ]
  },
  {
   "cell_type": "code",
   "execution_count": null,
   "id": "cea40634-9f68-4da9-bad1-4457b53e46a4",
   "metadata": {},
   "outputs": [],
   "source": [
    "if not dust_varresI.exists():\n",
    "    !wget -O $dust_varresI https://www.dropbox.com/s/hicocet83z31ob3/COM_CompMap_Dust-GNILC-F353_2048_21p8acm.fits?dl=0"
   ]
  },
  {
   "cell_type": "code",
   "execution_count": null,
   "id": "134293d5-11d9-4b70-897d-22887590f4a8",
   "metadata": {},
   "outputs": [],
   "source": [
    "if not dust_varresP.exists():\n",
    "    !wget -O $dust_varresP http://pla.esac.esa.int/pla/aio/product-action?MAP.MAP_ID=COM_CompMap_IQU-thermaldust-gnilc-unires_2048_R3.00.fits"
   ]
  },
  {
   "cell_type": "markdown",
   "id": "8e5a113c-4355-498e-a3e6-dfb167d2f2b2",
   "metadata": {},
   "source": [
    "Transform maps to double precision for computations"
   ]
  },
  {
   "cell_type": "code",
   "execution_count": null,
   "id": "0b43a229-b37a-466a-a325-607505b3c0d9",
   "metadata": {},
   "outputs": [],
   "source": [
    "m_planck_varres, h = hp.read_map(dust_varresP, [c + \"_STOKES\" for c in comp], dtype=np.float64, h=True)\n",
    "I_planck_varres, h = hp.read_map(dust_varresI, dtype=np.float64, h=True)"
   ]
  },
  {
   "cell_type": "markdown",
   "id": "eba0d85c-3eda-448d-8c00-31bcb4b4ec6a",
   "metadata": {},
   "source": [
    "Maps from the two releases are in different units `MJy/sr` the former, and `K_CMB` the latter, we therefore need to perform some conversion to `uK_RJ`. "
   ]
  },
  {
   "cell_type": "code",
   "execution_count": null,
   "id": "fc284506-9442-4246-b002-f58498141163",
   "metadata": {},
   "outputs": [],
   "source": [
    "m_planck_varres <<= u.K_CMB\n",
    "I_planck_varres <<= u.MJy / u.sr\n",
    "m_planck_varres = m_planck_varres.to(\n",
    "    \"uK_RJ\", equivalencies=u.cmb_equivalencies(353 * u.GHz)\n",
    ")\n",
    "I_planck_varres = I_planck_varres.to(\n",
    "    \"uK_RJ\", equivalencies=u.cmb_equivalencies(353 * u.GHz)\n",
    ")"
   ]
  },
  {
   "cell_type": "markdown",
   "id": "6dc76669-d9dd-4df8-a7f6-14161c4e6112",
   "metadata": {},
   "source": [
    "then we are ready to combine both maps into one single TQU map. "
   ]
  },
  {
   "cell_type": "code",
   "execution_count": null,
   "id": "c57e1d34-ecaa-4a37-b8ca-007567a96b4f",
   "metadata": {},
   "outputs": [],
   "source": [
    "m_planck_varres[0] = I_planck_varres\n",
    "del I_planck_varres"
   ]
  },
  {
   "cell_type": "markdown",
   "id": "1744a6ed-10ff-4452-9424-ab3c3185208e",
   "metadata": {},
   "source": [
    "### GAL080 Planck  mask \n",
    "\n",
    "we perform the monopole removal in a region outside  the Galactic plane.  \n"
   ]
  },
  {
   "cell_type": "code",
   "execution_count": null,
   "id": "77e338b7-ffaa-4705-a2b7-503e80c98556",
   "metadata": {},
   "outputs": [],
   "source": [
    "planck_mask_filename = datadir / \"HFI_Mask_GalPlane-apo2_2048_R2.00.fits\"\n",
    "\n",
    "if not planck_mask_filename.exists():\n",
    "    !wget -O $planck_mask_filename \"http://pla.esac.esa.int/pla/aio/product-action?MAP.MAP_ID=HFI_Mask_GalPlane-apo2_2048_R2.00.fits\""
   ]
  },
  {
   "cell_type": "code",
   "execution_count": null,
   "id": "507c5fed-62e7-4c1f-87e0-e17b4d88703d",
   "metadata": {},
   "outputs": [],
   "source": [
    "planck_mask = hp.read_map(planck_mask_filename, [\"GAL080\"])\n",
    "\n",
    "planck_mask = np.int_(np.ma.masked_not_equal(planck_mask, 0.0).mask)\n",
    "fsky = planck_mask.sum() / planck_mask.size\n",
    "print(f\"masking {fsky} of the sky\")\n",
    "hp.mollview(planck_mask, title=f\"Planck common galactic mask, {comp}\")"
   ]
  },
  {
   "cell_type": "markdown",
   "id": "b9edd1b6-7c21-4bcf-b8b0-b786251a0e4e",
   "metadata": {},
   "source": [
    "#### Monopole subtraction \n",
    "\n",
    "\n",
    "Section 2.2 of [Planck 2018 XII](https://arxiv.org/pdf/1807.06212.pdf) value reported:  0.13 MJy/sr \n",
    "\n",
    "we subtract this term only to the I map for   the pixels outside  the Galactic plane mask."
   ]
  },
  {
   "cell_type": "code",
   "execution_count": null,
   "id": "3304ebb8-9cc2-47f0-9845-8b8b500fa906",
   "metadata": {},
   "outputs": [],
   "source": [
    "planck2018_monopole = (0.13 * u.MJy / u.sr).to(\n",
    "    u.uK_RJ, equivalencies=u.cmb_equivalencies(353 * u.GHz)\n",
    ")\n",
    "\n",
    "m_planck_varres[0][planck_mask] -= planck2018_monopole"
   ]
  },
  {
   "cell_type": "markdown",
   "id": "0826905e-347a-4f15-a519-3546ebc68aa0",
   "metadata": {},
   "source": [
    "\n",
    "We estimate how many pixels have I< P after we subtract the monopole "
   ]
  },
  {
   "cell_type": "code",
   "execution_count": null,
   "id": "b7bfaaa8-9e97-425f-88c7-7ecdf0cd409a",
   "metadata": {},
   "outputs": [],
   "source": [
    "maskmono = m_planck_varres[0] ** 2 < m_planck_varres[1] ** 2 + m_planck_varres[2] ** 2\n",
    "print(\n",
    "    f\"{maskmono.sum() } pixels out of { maskmono.size} expected to be NaNs in Log Pol Tens maps \"\n",
    ")"
   ]
  },
  {
   "cell_type": "code",
   "execution_count": null,
   "id": "65f72092-d770-4d2a-8936-3563f8d33e37",
   "metadata": {},
   "outputs": [],
   "source": [
    "plt.figure(figsize=(20, 5))\n",
    "for i_pol, pol in components:\n",
    "    hp.mollview(\n",
    "        m_planck_varres[i_pol],\n",
    "        title=\"Planck-GNILC 2058/2018 dust \" + pol,\n",
    "        sub=131 + i_pol,\n",
    "        unit=m_planck_varres.unit,\n",
    "        min=-300,\n",
    "        max=300,\n",
    "    )"
   ]
  },
  {
   "cell_type": "markdown",
   "id": "92c1c642-acd1-418c-a298-187d622dfd41",
   "metadata": {},
   "source": [
    "## Transform maps to Poltens quantities "
   ]
  },
  {
   "cell_type": "code",
   "execution_count": null,
   "id": "47660711-55f8-49d8-91dc-5610ae21a036",
   "metadata": {},
   "outputs": [],
   "source": [
    "def map_to_log_pol_tens(m):\n",
    "    P = np.sqrt(m[1] ** 2 + m[2] ** 2)\n",
    "    log_pol_tens = np.empty_like(m)\n",
    "    log_pol_tens[0] = np.log(m[0] ** 2 - P ** 2) / 2.0\n",
    "    log_pol_tens[1:] = m[1:] / P * np.log((m[0] + P) / (m[0] - P)) / 2.0\n",
    "    return log_pol_tens\n",
    "\n",
    "\n",
    "def log_pol_tens_to_map(log_pol_tens):\n",
    "    P = np.sqrt(log_pol_tens[1] ** 2 + log_pol_tens[2] ** 2)\n",
    "    m = np.empty_like(log_pol_tens)\n",
    "    exp_i = np.exp(log_pol_tens[0])\n",
    "    m[0] = exp_i * np.cosh(P)\n",
    "    m[1:] = log_pol_tens[1:] / P * exp_i * np.sinh(P)\n",
    "    return m\n",
    "\n",
    "\n",
    "def sigmoid(x, x0, width, power=4):\n",
    "    \"\"\"Sigmoid function given start point and width\n",
    "    Parameters\n",
    "    ----------\n",
    "    x : array\n",
    "        input x axis\n",
    "    x0 : float\n",
    "        value of x where the sigmoid starts (not the center)\n",
    "    width : float\n",
    "        width of the transition region in unit of x\n",
    "    power : float\n",
    "        tweak the steepness of the curve\n",
    "    Returns\n",
    "    -------\n",
    "    sigmoid : array\n",
    "        sigmoid, same length of x\"\"\"\n",
    "    return 1.0 / (1 + np.exp(-power * (x - x0 - width / 2) / width))"
   ]
  },
  {
   "cell_type": "code",
   "execution_count": null,
   "id": "a4798c7a-1ec9-430c-a499-b28e9d55e696",
   "metadata": {},
   "outputs": [],
   "source": [
    "log_pol_tens_varres = map_to_log_pol_tens(m_planck_varres.value)"
   ]
  },
  {
   "cell_type": "markdown",
   "id": "c9bc4c4a-82da-4a2d-8170-f03249a7285c",
   "metadata": {},
   "source": [
    "Checking NaNs  on the Poltens map "
   ]
  },
  {
   "cell_type": "code",
   "execution_count": null,
   "id": "7450ec3f-92d8-4d9e-9bbc-674e524b40a9",
   "metadata": {},
   "outputs": [],
   "source": [
    "print(\n",
    "    f\"{np.isnan(log_pol_tens_varres[0]).sum()  } pixels out of { maskmono.size} are NaNs in Log Pol Tens maps \"\n",
    ")"
   ]
  },
  {
   "cell_type": "code",
   "execution_count": null,
   "id": "4c509cdf-b7cd-47a1-8814-c3ae2560276b",
   "metadata": {},
   "outputs": [],
   "source": [
    "for i in range(3):\n",
    "    log_pol_tens_varres[i, np.isnan(log_pol_tens_varres[i])] = np.nanmedian(\n",
    "        log_pol_tens_varres[i]\n",
    "    )"
   ]
  },
  {
   "cell_type": "markdown",
   "id": "5a53f9f2-ddab-440c-a68f-417bd2ddede5",
   "metadata": {},
   "source": [
    "Set all the NaNs to the map median value  \n"
   ]
  },
  {
   "cell_type": "code",
   "execution_count": null,
   "id": "adaf518b-4b05-4ddf-87f8-368da9def8fc",
   "metadata": {},
   "outputs": [],
   "source": [
    "assert np.isnan(log_pol_tens_varres).sum() == 0"
   ]
  },
  {
   "cell_type": "code",
   "execution_count": null,
   "id": "b1e6b7b8-1c8a-4b00-adf1-9811b352dd49",
   "metadata": {},
   "outputs": [],
   "source": [
    "for i_pol, pol in components:\n",
    "    hp.mollview(\n",
    "        log_pol_tens_varres[i_pol],\n",
    "        title=\"Log Pol tensor \" + pol,\n",
    "        sub=131 + i_pol,\n",
    "        unit=m_planck_varres.unit,\n",
    "    )"
   ]
  },
  {
   "cell_type": "code",
   "execution_count": null,
   "id": "f4f86cfb-d85d-43fe-8bf2-f4945650b128",
   "metadata": {},
   "outputs": [],
   "source": [
    "from scipy.optimize import curve_fit"
   ]
  },
  {
   "cell_type": "code",
   "execution_count": null,
   "id": "7c341313-4f5f-4611-bb79-8ea6779e4672",
   "metadata": {},
   "outputs": [],
   "source": [
    "def model(ell, A, gamma):\n",
    "    out = A * ell ** gamma\n",
    "    return out"
   ]
  },
  {
   "cell_type": "code",
   "execution_count": null,
   "id": "8ad6a315-1cf1-4456-819c-34c6fab76529",
   "metadata": {},
   "outputs": [],
   "source": [
    "def run_anafast(m, lmax):\n",
    "    clanaf = hp.anafast(m, lmax=lmax)\n",
    "    cl = {}\n",
    "    cl[\"TT\"] = clanaf[0]\n",
    "    cl[\"EE\"] = clanaf[1]\n",
    "    cl[\"BB\"] = clanaf[2]\n",
    "    cl[\"TE\"] = clanaf[3]\n",
    "    ell = np.arange(lmax + 1)\n",
    "\n",
    "    cl_norm = ell * (ell + 1) / np.pi / 2\n",
    "    cl_norm[0] = 1\n",
    "    return ell, cl_norm, cl\n",
    "\n",
    "\n",
    "def run_namaster(m, mask, lmax, nlbins):\n",
    "    \"\"\"Compute C_ell with NaMaster\n",
    "    Parameters\n",
    "    ----------\n",
    "    m : numpy array\n",
    "        T only or TQU HEALPix map\n",
    "    mask : numpy array\n",
    "        mask, 1D, 0 for masked pixels,\n",
    "        needs to have same Nside of the input map\n",
    "    lmax : int\n",
    "        maximum ell of the spherical harmonics transform\n",
    "    Returns\n",
    "    -------\n",
    "    ell : numpy array\n",
    "        array of ell from 0 to lmax (length lmax+1)\n",
    "    cl_norm : numpy array\n",
    "        ell (ell+1)/2pi factor to turn C_ell into D_ell\n",
    "        first element is set to 1\n",
    "    cl : dict of numpy arrays\n",
    "        dictionary of numpy arrays with all components\n",
    "        of the spectra, for now only II, EE, BB, no\n",
    "        cross-spectra\n",
    "    \"\"\"\n",
    "    \n",
    "    nside = hp.npix2nside(len(mask))\n",
    "    #b = nmt.NmtBin.from_nside_linear(nside, 16)\n",
    "    #leff = b.get_effective_ells()\n",
    "    binning = nmt.NmtBin(nside=nside, \n",
    "            nlb=nlbins , \n",
    "            lmax=lmax, is_Dell=False)\n",
    "\n",
    "    cl = {}\n",
    "\n",
    "    \n",
    "\n",
    "    if len(m) == 3:\n",
    "        f_0 = nmt.NmtField(mask, [m[0] ])\n",
    "        f_2 = nmt.NmtField(mask, m[1:].copy(), purify_b=True)  # NaMaster masks the map in-place\n",
    "        cl_namaster = nmt.compute_full_master(f_2, f_2, binning)\n",
    "        cl[\"EE\"] = np.concatenate([[0, 0], cl_namaster[0]])\n",
    "        cl[\"BB\"] = np.concatenate([[0, 0], cl_namaster[3]])\n",
    "        cl_namaster = nmt.compute_full_master(f_0, f_2, binning)\n",
    "        cl[\"TE\"] = np.concatenate([[0, 0], cl_namaster[0]])\n",
    "    elif m.ndim == 1:\n",
    "        m = m.reshape((1, -1))\n",
    "        f_0 = nmt.NmtField(mask, [m[0] ])\n",
    "\n",
    "    cl_namaster_I = nmt.compute_full_master(f_0, f_0, binning)\n",
    "\n",
    "    cl[\"TT\"] = np.concatenate([[0, 0], cl_namaster_I[0]])\n",
    "    ell = np.concatenate([[0, 1], binning.get_effective_ells()])\n",
    "    cl_norm = ell * (ell + 1) / np.pi / 2\n",
    "    cl_norm[0] = 1\n",
    "    return ell, cl_norm, cl\n"
   ]
  },
  {
   "cell_type": "code",
   "execution_count": null,
   "id": "572bfc2d-fb81-4d3c-9b1c-d50d2e07d541",
   "metadata": {},
   "outputs": [],
   "source": [
    "print(\"run anafast on full  sky  \")\n",
    "ell, cl_norm, cl = run_anafast(log_pol_tens_varres, lmax)"
   ]
  },
  {
   "cell_type": "markdown",
   "id": "9a98b166-58b2-45d2-ba9e-61f774ec67f9",
   "metadata": {},
   "source": [
    "# (New) employing spectral indices from literature \n",
    "\n",
    "- https://arxiv.org/pdf/1801.04945.pdf and https://www.aanda.org/articles/aa/pdf/2016/09/aa28503-16.pdf\n",
    "- 2 pivotal scales `ell1=110` and `ell2=800 ` \n",
    "- non zero TE  spectrum \n",
    "\n"
   ]
  },
  {
   "cell_type": "code",
   "execution_count": null,
   "id": "b72443b3-b614-40b2-bcaf-ba98d2266d31",
   "metadata": {},
   "outputs": [],
   "source": [
    "ell_fit_low = {\"TT\":50, \"EE\":50, \"BB\":50, \"TE\":50}\n",
    "ell_fit_high = {\"TT\":100, \"EE\":100, \"BB\":100, \"TE\":100}\n",
    "gamma_fit2 = {\"TT\": -0.8, \"EE\":-0.42,\"BB\"  :-0.54 , \"TE\":-.50}\n",
    "A_fit, gamma_fit, A_fit_std, gamma_fit_std = {},{},{},{}\n",
    "plt.figure(figsize=(25,5))\n",
    "A_fit2={} \n",
    "smallscales =[] \n",
    "\n",
    "ell_pivot =  2000\n",
    "for ii, pol in enumerate(spectra_components ):\n",
    "    plt.subplot(141+ii)\n",
    "    xdata = np.arange(ell_fit_low[pol], ell_fit_high[pol])\n",
    "    ydata = xdata*(xdata+1)/np.pi/2 * cl[pol][xdata]\n",
    "    (A_fit[pol], gamma_fit[pol]), cov = curve_fit(model, xdata, ydata)\n",
    "    A_fit2[pol] =np.fabs(A_fit[pol])*  ell_fit_high[pol]**( gamma_fit[pol ] - gamma_fit2[pol ] )\n",
    "    plt.loglog(ell, ell*(ell+1)/np.pi/2 * cl[pol] )\n",
    "    scaling = model(ell[:ell_pivot]  , A_fit2[pol], gamma_fit2[pol])\n",
    "    scaling[:2]=0 \n",
    "    plt.plot(ell[:ell_pivot] , \n",
    "            scaling, label=r\"$\\alpha$\"+f\"[{pol}]:{gamma_fit2[pol]}\"\n",
    "             )\n",
    "    smallscales.append(scaling   ) \n",
    "    \n",
    "    \n",
    "    plt.axvline(ell_fit_high[pol], linestyle=\"--\", color=\"gray\")\n",
    "    plt.axvline(ell_pivot, linestyle=\"--\", color=\"k\")\n",
    "    plt.grid()\n",
    "    plt.title(f\"{pol}   spectrum for dust Dust Pol.Tens  \" )\n",
    "\n",
    "    plt.xlabel((\"$\\ell$\"))\n",
    "    plt.xlim(2, lmax)\n",
    "    plt.legend(fontsize=15)     \n",
    "\n",
    "for ii, pol in enumerate(spectra_components    ):\n",
    "    #we change the EE and BB power laws \n",
    "    xdata = np.arange(ell_fit_high[pol], ell.size)\n",
    "    ydata = xdata*(xdata+1)/np.pi/2 * cl[pol][xdata]\n",
    "    (A_fit[pol], gamma_fit[pol]), cov = curve_fit(model, xdata, ydata)\n",
    "\n",
    "     \n",
    "    plt.subplot(141+ii)\n",
    "    if pol==\"TE\":\n",
    "        A_fit2[pol] =A_fit2[pol]*  ell_pivot**( gamma_fit2[pol ]- gamma_fit2['TE' ] )\n",
    "        scaling =  model(ell[ell_pivot: ], A_fit2[pol], gamma_fit2[\"TE\"])\n",
    "        \n",
    "        plt.plot(ell[ell_pivot : ], scaling  \n",
    "             ,linewidth=3, alpha=.4, color='k', \n",
    "             )\n",
    "        smallscales[ii] =np.concatenate([ smallscales[ii], scaling  ])\n",
    "    else: \n",
    "        A_fit2[pol] =A_fit2[pol]*  ell_pivot**( gamma_fit2[pol ]- gamma_fit2['TT' ] )\n",
    "        scaling =  model(ell[ell_pivot: ], A_fit2[pol], gamma_fit2[\"TT\"])\n",
    "        \n",
    "        plt.plot(ell[ell_pivot: ], \n",
    "             scaling  ,linewidth=3, alpha=.4, color='k', \n",
    "             )\n",
    "        smallscales[ii]=np.concatenate([ smallscales[ii],  scaling ])\n",
    "        \n",
    "plt.subplot(141)\n",
    "    \n",
    "plt.ylabel(\"$\\ell(\\ell+1)C_\\ell/2\\pi [\\mu K_{RJ}]$\")\n",
    "plt.ylim(1e-5, 1e0 )\n",
    "plt.subplot(142)\n",
    "plt.ylim(1e-7, 1e-3 )\n",
    "plt.subplot(143)\n",
    "plt.ylim(1e-7, 1e-3 )\n",
    "plt.subplot(143)\n",
    "plt.ylim(1e-7, 1e-1 )"
   ]
  },
  {
   "cell_type": "markdown",
   "id": "cf746501-b911-4c66-aba6-6008496b3b72",
   "metadata": {},
   "source": [
    "# modulating  intensity small scales "
   ]
  },
  {
   "cell_type": "code",
   "execution_count": null,
   "id": "670277dd-a243-41fa-b1b6-4eeb5761250d",
   "metadata": {},
   "outputs": [],
   "source": [
    "smooth = hp.smoothing(log_pol_tens_varres[0] , fwhm=np.radians(5), lmax=lmax)"
   ]
  },
  {
   "cell_type": "code",
   "execution_count": null,
   "id": "92d82032-75ca-4b72-a7c2-c3af137348f5",
   "metadata": {},
   "outputs": [],
   "source": [
    "b1 = 1.1\n",
    "b2 = 2\n",
    "a = 0.1\n",
    "minmax = lambda m, a, b: a + (b - a) * (m - m.min()) / (m.max() - m.min())\n",
    "val=4.5\n",
    "modulate_amp = (smooth) * 1.0\n",
    "mskmd = smooth > val\n",
    "\n",
    "modulate_amp[mskmd] = minmax(smooth[mskmd], a=b1, b=b2)\n",
    "\n",
    "modulate_amp[~mskmd] = minmax(smooth[~mskmd], a=a, b=b1)"
   ]
  },
  {
   "cell_type": "markdown",
   "id": "a1e28dbb-f876-4493-9224-58e81c1028aa",
   "metadata": {},
   "source": [
    "## (New) modulating qu small scales w/ pysm2-like  approach \n",
    "\n",
    "- divide the sky into nside=8 patches\n",
    "- Estimate Namaster E-mode spectra in each pixel    \n",
    "- Estimate N_patch \n",
    "$$ \n",
    "N_{patch} = \\sqrt{\\frac{C_{\\ell_*, patch}^{EE }}{A^{EE} \\ell_*^{\\alpha_E}  }}\n",
    "$$\n",
    "- Smooth N_patch map  @10deg\n"
   ]
  },
  {
   "cell_type": "code",
   "execution_count": null,
   "id": "a396852e-19c6-4328-aa2c-d12810a0e548",
   "metadata": {},
   "outputs": [],
   "source": [
    "ulogpol =  hp.ud_grade(map_in = log_pol_tens_varres , nside_out =256 ) \n"
   ]
  },
  {
   "cell_type": "code",
   "execution_count": null,
   "id": "92b588fa-384b-451d-b077-db1ea9c81beb",
   "metadata": {},
   "outputs": [],
   "source": [
    "small_scales_input_cl = [\n",
    "    smallscales[ii]\n",
    "    * sigmoid(ell\n",
    "                  , ell_fit_high[pol], ell_fit_high[pol] / 10)\n",
    "    / cl_norm\n",
    "    for ii, pol in enumerate( spectra_components) \n",
    "]"
   ]
  },
  {
   "cell_type": "code",
   "execution_count": null,
   "id": "586ca54f-98d9-4733-b86f-4e39fe0d6e85",
   "metadata": {},
   "outputs": [],
   "source": [
    "nsidepatches= 8\n",
    "patches = np.arange(hp.nside2npix(nsidepatches)) \n",
    "nsideA =hp.get_nside(ulogpol) \n",
    "\n",
    "upatches= hp.ud_grade(patches, nside_out=nsideA ) \n"
   ]
  },
  {
   "cell_type": "code",
   "execution_count": null,
   "id": "4da46f2a-1de2-4b80-aca9-86f081777ad2",
   "metadata": {},
   "outputs": [],
   "source": [
    "import time \n",
    "def ClEE(mask, mapp):\n",
    "    map1=mapp.copy() \n",
    "    b = nmt.NmtBin.from_nside_linear(hp.get_nside(mask), 35)\n",
    "    f_2 = nmt.NmtField(mask, map1, purify_b=False)\n",
    "    cl_22 = nmt.compute_full_master(f_2, f_2, b)\n",
    "    ell_arr = b.get_effective_ells()\n",
    "    return (ell_arr,   cl_22[0] )"
   ]
  },
  {
   "cell_type": "code",
   "execution_count": null,
   "id": "e1bd4e46-c20a-40db-b0b2-a89f88b69e3b",
   "metadata": {},
   "outputs": [],
   "source": [
    "\"\"\" \n",
    "amplitude =np.zeros_like(patches, dtype=float )\n",
    "for i in patches: \n",
    "    start = time.perf_counter()\n",
    "    \n",
    "    maskpixs = upatches ==i \n",
    "    patch =(maskpixs*ulogpol ) \n",
    "    fsky = maskpixs.sum() /maskpixs.size \n",
    "    #ell,cl_norm, clp = run_anafast (patch, lmax= 300 )\n",
    "    #ellb,cl_normb, clp = run_namaster (ulogpol, maskpixs,nlbins=30, lmax= 200 )\n",
    "    #factors =  np.array([ (np.sqrt((clp [k] [ell_fit_high[k]]/fsky/   smallscales[ik][ell_fit_high[k]] ))) for ik, k in enumerate(spectra_components[:-1] )] ) \n",
    "    #factors =  np.array([ (np.sqrt(abs(clp [k] [5]/   small_scales_input_cl[ik][np.int_(ellb[5] )] ))) for ik, k in enumerate(spectra_components[:-1] )] ) \n",
    "    #almp =(factors.reshape(3,1) *almSS ) \n",
    "    #patch_ss = hp.alm2map(almp, nside=512, lmax=lmax  )\n",
    "    ell_ ,clp = ClEE (maskpixs,  ulogpol[1:]  ) \n",
    "    amplitude[i] = np.sqrt(abs(clp   [3]/   small_scales_input_cl[1][np.int_(ell_[3]  ) ] ) ) \n",
    "    end = time.perf_counter()\n",
    "    if i%100 ==0 :print(i,end-start ) \n",
    "#print(factors) \n",
    "#hp.gnomview(patch [0], rot=[0,90] , reso=3.75, xsize=320 ) \n",
    "#hp.gnomview(ulogpol [0], rot=[0,90] , reso=3.75, xsize=320 )\n",
    "\n",
    "A2048= hp.ud_grade(amplitude, nside_out=2048)\n",
    "ampl_smooth =hp.smoothing(A2048, fwhm=np.radians(10), lmax=80 ) \n",
    "ampl_smooth = minmax(ampl_smooth, a= ampl_smooth.min() ,b =1.5) \n",
    "hp.write_map(datadir/f\"pysm2_mod_{gnilc_template}_nside8.fits\", ampl_smooth )\n",
    "\"\"\""
   ]
  },
  {
   "cell_type": "code",
   "execution_count": null,
   "id": "51c976b9-c032-4642-8ff6-0a3fabfa1169",
   "metadata": {},
   "outputs": [],
   "source": [
    "ampl_smooth = hp.read_map (datadir/f\"pysm2_mod_{gnilc_template}_nside8.fits\" )"
   ]
  },
  {
   "cell_type": "code",
   "execution_count": null,
   "id": "3a2f157c-3d46-43a3-ad74-c2b8ff6f254b",
   "metadata": {},
   "outputs": [],
   "source": [
    "hp.mollview(ampl_smooth, title=gnilc_template, max=1.5)\n",
    "hp.mollview(modulate_amp )"
   ]
  },
  {
   "cell_type": "markdown",
   "id": "c1498cd4-581f-4dd6-bedc-31070caa1623",
   "metadata": {},
   "source": [
    "## (NEW)  small scales included only outside the `GAL097` planck mask \n",
    "Employ observed data inside the Gal. Plane \n"
   ]
  },
  {
   "cell_type": "markdown",
   "id": "8f17e948-125e-40b2-86b9-2655fb58899c",
   "metadata": {},
   "source": [
    "### Small scale injection "
   ]
  },
  {
   "cell_type": "code",
   "execution_count": null,
   "id": "a4b06710-daf9-43af-8fbd-2bfa691c5d7c",
   "metadata": {},
   "outputs": [],
   "source": [
    "output_nside = 2048 \n",
    "output_lmax = output_nside\n",
    "lmax=output_lmax \n",
    "ell = np.arange(output_lmax + 1)\n",
    "cl_norm = ell * (ell + 1) / np.pi / 2\n",
    "cl_norm[:1] = 1"
   ]
  },
  {
   "cell_type": "code",
   "execution_count": null,
   "id": "551b6c56-8f6a-437f-90c3-612251633a20",
   "metadata": {},
   "outputs": [],
   "source": [
    "\n",
    "\n",
    "log_ss = hp.synfast(\n",
    "    small_scales_input_cl, \n",
    "    lmax=lmax,\n",
    "    new=True,\n",
    "    nside=output_nside,\n",
    ")\n",
    "\n"
   ]
  },
  {
   "cell_type": "code",
   "execution_count": null,
   "id": "c0eee3de-00fe-4758-899f-eedb2531f687",
   "metadata": {},
   "outputs": [],
   "source": [
    "log_ss_mod_corrected = log_ss.copy() \n",
    "log_ss_mod_corrected [0] =log_ss[0]*  modulate_amp \n",
    "log_ss_mod_corrected [1:] =log_ss[1:] *ampl_smooth  \n",
    "\n"
   ]
  },
  {
   "cell_type": "code",
   "execution_count": null,
   "id": "ce9328ae-82a5-4293-93df-05890f217ce6",
   "metadata": {},
   "outputs": [],
   "source": [
    "np.random.seed(8192)\n",
    "\n",
    "alm_log_pol_tens_fullsky = hp.map2alm(\n",
    "    log_pol_tens_varres, lmax=output_lmax, use_pixel_weights=True\n",
    ")\n",
    "\n",
    "ii_LS_alm = np.empty_like(alm_log_pol_tens_fullsky)\n",
    "for ii, pol in enumerate(spectra_components[:-1]):\n",
    "\n",
    "    sig_func = sigmoid(ell, x0=ell_fit_high[pol], width=ell_fit_high[pol] / 10)\n",
    "\n",
    "    ii_LS_alm[ii] = hp.almxfl(alm_log_pol_tens_fullsky[ii], (1.0 - sig_func) ** 0.2)\n",
    "\n",
    "\n",
    "log_ls = hp.alm2map(ii_LS_alm, nside=output_nside)"
   ]
  },
  {
   "cell_type": "code",
   "execution_count": null,
   "id": "dc49ed87-73f2-497c-aa4d-428a7e616c85",
   "metadata": {},
   "outputs": [],
   "source": [
    "ii_outmap =log_ls + log_ss_mod_corrected * planck_mask  +   (1-  planck_mask)* log_ss "
   ]
  },
  {
   "cell_type": "code",
   "execution_count": null,
   "id": "8c9ed60a-9c2d-45ce-a96f-159835527abf",
   "metadata": {},
   "outputs": [],
   "source": [
    "galplane_mask =  (hp.read_map(planck_mask_filename, [\"GAL097\"]) )\n"
   ]
  },
  {
   "cell_type": "code",
   "execution_count": null,
   "id": "b1a9b426-938e-4164-8441-4801109ac06f",
   "metadata": {},
   "outputs": [],
   "source": [
    "output_map= log_pol_tens_to_map(ii_outmap) \n",
    "\n",
    "output_map= galplane_mask*output_map +   (1-  galplane_mask)*m_planck_varres.value  \n"
   ]
  },
  {
   "cell_type": "code",
   "execution_count": null,
   "id": "833dc21a-e7d4-41fc-928b-bb730cdc4ca2",
   "metadata": {},
   "outputs": [],
   "source": [
    "hp.gnomview(output_map[0], reso=3.75, xsize=320, norm='hist', rot=[0,10] ,sub=122,title='small-scales poltens i ' ) \n",
    "hp.gnomview(m_planck_varres[0], reso=3.75, xsize=320, norm='hist', rot=[0,10] ,sub=121,title='small-scales poltens i ' ) \n"
   ]
  },
  {
   "cell_type": "code",
   "execution_count": null,
   "id": "1ca4b868-764f-4bf5-9a92-f6566c5b5fe9",
   "metadata": {},
   "outputs": [],
   "source": [
    "plt.figure(figsize=(15,5) ) \n",
    "hp.gnomview(log_ss_mod_corrected[0], reso=3.75, xsize=320, rot=[30,-58] ,sub=152,title='small-scales poltens i ' ) \n",
    "hp.gnomview(log_ls[0], reso=3.75, xsize=320, rot=[30,-58] ,sub=153,title='large-scales poltens i  ' ) \n",
    "hp.gnomview(ii_outmap[0], reso=3.75, xsize=320, rot=[30,-58] ,sub=151,title='coadded i ' ) \n",
    "hp.gnomview(log_pol_tens_varres[0], reso=3.75, xsize=320, rot=[30,-58] ,sub=155,title='input  i ' ) \n",
    "hp.gnomview(modulate_amp, reso=3.75, xsize=320, rot=[30,-58] ,sub=154,title='modulation i ' )\n",
    "\n",
    "plt.figure(figsize=(15,5) ) \n",
    "hp.gnomview(log_ss_mod_corrected[1], reso=3.75, xsize=320, rot=[30,-58] ,sub=152,title='small-scales poltens q' ) \n",
    "hp.gnomview(log_ls[1], reso=3.75, xsize=320, rot=[30,-58] ,sub=153,title='large-scales poltens q'  ) \n",
    "hp.gnomview(ii_outmap[1], reso=3.75, xsize=320, rot=[30,-58] ,sub=151,title='coadded q ' ) \n",
    "hp.gnomview(log_pol_tens_varres[1], reso=3.75, xsize=320, rot=[30,-58] ,sub=155,title='input  q ' ) \n",
    "hp.gnomview(ampl_smooth  , reso=3.75, xsize=320, rot=[30,-58] ,sub=154,title='modulation p  ' ) \n"
   ]
  },
  {
   "cell_type": "code",
   "execution_count": null,
   "id": "1094ee40-aad0-4cd3-94ef-2c4f773b7f96",
   "metadata": {},
   "outputs": [],
   "source": [
    "oldmap = hp.read_map('dataset_pt/realization_0.fits', \n",
    "                     field=None) "
   ]
  },
  {
   "cell_type": "code",
   "execution_count": null,
   "id": "9fc99691-e900-48df-acaa-9cbf274d1009",
   "metadata": {},
   "outputs": [],
   "source": [
    "plt.figure(figsize=(20,5)) \n",
    "hp.gnomview(  (output_map[0] )  \n",
    "            ,reso=8 ,xsize=450,ysize=250,\n",
    "            coord=['G', 'C'] ,rot=[0,-60] , cbar=True,unit='K',title=' I map Pysm3-d9 new ', \n",
    "            notext=False ,sub=131, min=0 ,max=100, cmap='plasma')\n",
    "hp.gnomview(  ( output_map[1] )  \n",
    "            ,reso=8 ,xsize=450,ysize=250,\n",
    "            coord=['G', 'C'] ,rot=[0,-60] , cbar=True,unit='K',title='Q map Pysm3-d9 new ', \n",
    "            notext=False ,sub=132, min=-5 ,max=5, cmap='plasma')\n",
    "hp.gnomview(  (output_map[2] )  \n",
    "            ,reso=8 ,xsize=450,ysize=250,\n",
    "            coord=['G', 'C'] ,rot=[0,-60] , cbar=True,unit='K',title='U map Pysm3-d9 new ', \n",
    "            notext=False ,sub=133, min=-5 ,max=5, cmap='plasma')\n",
    "\n",
    "plt.figure(figsize=(20,5)) \n",
    "hp.gnomview(  (oldmap[0] )  \n",
    "            ,reso=8 ,xsize=450,ysize=250,\n",
    "            coord=['G', 'C'] ,rot=[0,-60] , cbar=True,unit='K',title=' I map Pysm3-d9 old ', \n",
    "            notext=False ,sub=131, min=0 ,max=100, cmap='plasma')\n",
    "hp.gnomview(  ( oldmap[1] )  \n",
    "            ,reso=8 ,xsize=450,ysize=250,\n",
    "            coord=['G', 'C'] ,rot=[0,-60] , cbar=True,unit='K',title='Q map Pysm3-d9 old ', \n",
    "            notext=False ,sub=132, min=-5 ,max=5, cmap='plasma')\n",
    "hp.gnomview(  (oldmap[2] )  \n",
    "            ,reso=8 ,xsize=450,ysize=250,\n",
    "            coord=['G', 'C'] ,rot=[0,-60] , cbar=True,unit='K',title='U map Pysm3-d9 old ', \n",
    "            notext=False ,sub=133, min=-5 ,max=5, cmap='plasma')\n",
    "plt.figure(figsize=(20,5)) \n",
    "hp.gnomview(  (m_planck_varres[0] )     \n",
    "            ,reso=8 ,xsize=450,ysize=250,\n",
    "            coord=['G', 'C'] ,rot=[0,-60] , cbar=True,unit='K',title=' I map GNILC', \n",
    "            notext=False ,sub=131, min=0 ,max=100,cmap='plasma')\n",
    "hp.gnomview(  (m_planck_varres[1] )     \n",
    "            ,reso=8 ,xsize=450,ysize=250,\n",
    "            coord=['G', 'C'] ,rot=[0,-60] , cbar=True,unit='K',title='Q map GNILC', \n",
    "            notext=False ,sub=132, min=-5 ,max=5,cmap='plasma')\n",
    "hp.gnomview(  (m_planck_varres[2] )     \n",
    "            ,reso=8 ,xsize=450,ysize=250,\n",
    "            coord=['G', 'C'] ,rot=[0,-60] , cbar=True,unit='K',title='U map GNILC', \n",
    "            notext=False ,sub=133, min=-5 ,max=5,cmap='plasma')\n",
    "\n"
   ]
  },
  {
   "cell_type": "code",
   "execution_count": null,
   "id": "09014798-dc0c-49d7-900f-4981aa56fa5f",
   "metadata": {},
   "outputs": [],
   "source": [
    "\n",
    "\n",
    "hp.gnomview(  (ampl_smooth )  \n",
    "            ,reso=8 ,xsize=450,ysize=250,\n",
    "            coord=['G', 'C'] ,rot=[0,-60] , cbar=True,unit='K',title=' I map Pysm3-d9 old ', \n",
    "            notext=False ,    cmap='plasma')"
   ]
  },
  {
   "cell_type": "code",
   "execution_count": null,
   "id": "70e5b4d4-04b9-493c-b935-d35c92f81765",
   "metadata": {},
   "outputs": [],
   "source": [
    "del log_ls, ii_LS_alm, log_ss, log_ss_mod_corrected, alm_log_pol_tens_fullsky"
   ]
  },
  {
   "cell_type": "code",
   "execution_count": null,
   "id": "31224ae8-7133-412f-adcc-1ace9708936f",
   "metadata": {},
   "outputs": [],
   "source": [
    "\"\"\"\n",
    "hp.write_map(\n",
    "    datadir / f\"dust_gnilc_unir\n",
    "    es_planck.fits\",\n",
    "    output_map,\n",
    "    dtype=np.float32,\n",
    "    overwrite=True,\n",
    ")\n",
    "\"\"\""
   ]
  },
  {
   "cell_type": "code",
   "execution_count": null,
   "id": "36237b72-5f62-4483-bbd8-51d7c2667503",
   "metadata": {},
   "outputs": [],
   "source": [
    "output_map512= hp.ud_grade(output_map,nside_out=512)\n",
    "input_map512= hp.ud_grade(m_planck_varres.value ,nside_out=512)"
   ]
  },
  {
   "cell_type": "markdown",
   "id": "e3dc85ab-c71a-458e-a736-b7de39f61d34",
   "metadata": {},
   "source": [
    "### UDgrade to accelerate the Namaster computation "
   ]
  },
  {
   "cell_type": "code",
   "execution_count": null,
   "id": "c5f7ede9-40cb-4c1a-a95a-68b00140d8d9",
   "metadata": {},
   "outputs": [],
   "source": [
    "bkmaskfile = datadir/'bk14_mask_gal_n0512.fits'\n",
    "if not bkmaskfile .exists():\n",
    "    !wget -O $bkmaskfile http://bicepkeck.org/BK14_datarelease/bk14_mask_gal_n0512.fits\n",
    "maskbk= hp.read_map(bkmaskfile , verbose=False)\n",
    "idx = np.where((maskbk < 0) | (~np.isfinite(maskbk)))\n",
    "maskbk [idx] = 0"
   ]
  },
  {
   "cell_type": "code",
   "execution_count": null,
   "id": "9b99f360-1bd0-43f5-966a-d7d228f47155",
   "metadata": {},
   "outputs": [],
   "source": [
    "aoa = '/global/cscratch1/sd/flauger/S4_misc/weights_aoa_spsat_apo_gal_512.fits'\n",
    "mask_aoa  = hp.read_map(aoa, verbose=False)\n"
   ]
  },
  {
   "cell_type": "code",
   "execution_count": null,
   "id": "00d3d23d-dceb-459a-88e9-24a4a634c1b8",
   "metadata": {},
   "outputs": [],
   "source": [
    "planck_mask "
   ]
  },
  {
   "cell_type": "code",
   "execution_count": null,
   "id": "7b1286e3-a999-4176-8203-f27925c9e545",
   "metadata": {},
   "outputs": [],
   "source": [
    "planck_masks ={ \n",
    "                \"GAL099\": hp.ud_grade(hp.read_map(planck_mask_filename, [\"GAL099\"]),nside_out=512),\n",
    "                \"GAL097\": hp.ud_grade(hp.read_map(planck_mask_filename, [\"GAL097\"]),nside_out=512),\n",
    "                \"GAL090\": hp.ud_grade(hp.read_map(planck_mask_filename, [\"GAL090\"]),nside_out=512),\n",
    "               \"GAL080\": hp.ud_grade(hp.read_map(planck_mask_filename, [\"GAL080\"]),nside_out=512),\n",
    "               \"GAL070\": hp.ud_grade(hp.read_map(planck_mask_filename, [\"GAL070\"]),nside_out=512),\n",
    "               \"GAL060\": hp.ud_grade(hp.read_map(planck_mask_filename, [\"GAL060\"]),nside_out=512),\n",
    "               \"GAL040\": hp.ud_grade(hp.read_map(planck_mask_filename, [\"GAL040\"]),nside_out=512),\n",
    "               \"GAL020\": hp.ud_grade(hp.read_map(planck_mask_filename, [\"GAL020\"]),nside_out=512) \n",
    "              }\n",
    "\n",
    "\n"
   ]
  },
  {
   "cell_type": "code",
   "execution_count": null,
   "id": "96ad447c-8fbc-41bf-8056-b15eae56936d",
   "metadata": {},
   "outputs": [],
   "source": [
    "planck_masks_2048 ={ \n",
    "                \"GAL099\":hp.read_map(planck_mask_filename, [\"GAL099\"]),\n",
    "                \"GAL097\":hp.read_map(planck_mask_filename, [\"GAL097\"]),\n",
    "                \"GAL090\":hp.read_map(planck_mask_filename, [\"GAL090\"]),\n",
    "               \"GAL080\":hp.read_map(planck_mask_filename, [\"GAL080\"]),\n",
    "               \"GAL070\":hp.read_map(planck_mask_filename, [\"GAL070\"]),\n",
    "               \"GAL060\":hp.read_map(planck_mask_filename, [\"GAL060\"]),\n",
    "               \"GAL040\":hp.read_map(planck_mask_filename, [\"GAL040\"]),\n",
    "               \"GAL020\":hp.read_map(planck_mask_filename, [\"GAL020\"]) \n",
    "              }\n",
    "\n",
    "\n"
   ]
  },
  {
   "cell_type": "code",
   "execution_count": null,
   "id": "ad0a3bb7-bf7d-44cc-aea5-6727d0eac54e",
   "metadata": {},
   "outputs": [],
   "source": [
    "ell, cl_norm, clo  = run_anafast(output_map512, lmax=2048 )\n",
    "ell, cl_norm, cli   = run_anafast(input_map512 , lmax=2048 )"
   ]
  },
  {
   "cell_type": "code",
   "execution_count": null,
   "id": "f9e3ce19-f182-4909-b30a-76615db0c78e",
   "metadata": {},
   "outputs": [],
   "source": [
    "colors= plt.cm.cividis( np.linspace(0,1,len(planck_masks.keys())  +1 ) )  "
   ]
  },
  {
   "cell_type": "code",
   "execution_count": null,
   "id": "9b95a125-a79e-4d91-a9c7-5fa715221ca5",
   "metadata": {},
   "outputs": [],
   "source": [
    "bins ={ \n",
    "                \"GAL099\": 5,\n",
    "                \"GAL097\": 5,\n",
    "                \"GAL090\": 5,\n",
    "               \"GAL080\": 5,\n",
    "               \"GAL070\": 15,\n",
    "               \"GAL060\": 15,\n",
    "               \"GAL040\": 25,\n",
    "               \"GAL020\": 25 \n",
    "              } \n",
    "plt.figure(figsize=(15,10 ))\n",
    "import os \n",
    "#for jj, k in enumerate([ \"GAL080\",\"GAL070\",\"GAL040\" ])  : \n",
    "for jj, k in enumerate(planck_masks.keys())  : \n",
    "    #fspectra = datadir / f\"dust_gnilc_varres_no_monopole_gal{k[3:]}_spectra.npz\"\n",
    "    fspectra = datadir / f\"dust_gnilc_{gnilc_template}_no_monopole_gal{k[3:]}_spectra.npz\"\n",
    "    print(k) \n",
    "    if os.path.exists(fspectra):\n",
    "        input_ell = np.load(fspectra)[\"ell\"]\n",
    "        cl_in = {kk: np.load(fspectra)[kk] for kk in spectra_components+[\"TE\"] }\n",
    "    else: \n",
    "        input_ell, cl_norm, cl_in = run_namaster(m =input_map512   , mask =planck_masks[k] ,lmax=1300 , nlbins = bins[k]  )  \n",
    "        np.savez(fspectra, ell= input_ell, TT= cl_in[\"TT\"] , EE= cl_in[\"EE\"], BB= cl_in[\"BB\"],TE= cl_in[\"TE\"] ) \n",
    "    \n",
    "    fspectra = datadir / f\"dust_gnilc_{gnilc_template}_pysmmod_planck_gal{k[3:]}_spectra.npz\"\n",
    "    if os.path.exists(fspectra):\n",
    "        output_ell = np.load(fspectra)[\"ell\"]\n",
    "        cl_out = {kk: np.load(fspectra)[kk] for kk in spectra_components+[\"TE\"] }\n",
    "    else:    \n",
    "    \n",
    "        #output_ell, cl_norm, cl_out = run_namaster(m = output_map, mask =planck_masks[k] ,lmax=3000 , nlbins = bins[k]  )  \n",
    "        output_ell, cl_norm, cl_out = run_namaster(m = output_map, mask =planck_masks_2048[k] ,lmax=3000 , nlbins = bins[k]  )  \n",
    "        np.savez(fspectra, ell= output_ell, TT= cl_out[\"TT\"] , EE= cl_out[\"EE\"], BB= cl_out[\"BB\"],TE= cl_out[\"TE\"] ) \n",
    "\n",
    "    for ii, pol in enumerate([\"TT\",\"EE\", \"BB\",\"TE\" ]):\n",
    "        plt.subplot( 2,2,ii+1 )\n",
    "        #if jj == 0 :\n",
    "        #    plt.title(pol) \n",
    "        #    plt.loglog( ell,  ell**2 *(clo [pol]), label='Small-Scales ' ,color=colors[0] ,) \n",
    "        #    plt.loglog( ell,  ell**2 *(cli [pol]),':',   label='GNILC map ',color=colors[0] ,alpha=.5)\n",
    "        plt.loglog(output_ell,  output_ell**2* (cl_out [pol])  ,\n",
    "                   color=colors[jj]) \n",
    "                   #,label =f\"{k}\")       \n",
    "        plt.loglog(input_ell,   input_ell**2*  (cl_in [pol]),\":\",   color=colors[jj+1] ,alpha=.5,)\n",
    "\n",
    "plt.subplot(221) \n",
    "plt.legend()\n",
    "plt.ylabel(\"$ D_\\ell  [\\mu K_{RJ}]$\")\n",
    "plt.ylim(1e0,2e6)\n",
    "plt.xlim(2,1e3)\n",
    "\n",
    "plt.subplot(222) \n",
    "plt.ylim(1e-1,2e3)\n",
    "plt.xlim(2,1e3)\n",
    "sm = plt.cm.ScalarMappable(cmap=plt.cm.cividis_r ,norm=plt.Normalize (vmin=20.,vmax=100 ))\n",
    "cb =plt.colorbar(sm)\n",
    "cb.set_label(r' $f_{sky}$ [%]' ,rotation='90', fontsize=16 )\n",
    "plt.subplot(223) \n",
    "plt.ylabel(\"$ D_\\ell  [\\mu K_{RJ}]$\")\n",
    "plt.xlabel((\"$\\ell$\"))\n",
    "\n",
    "plt.ylim(1e-1,2e3)\n",
    "plt.xlim(2,1e3)\n",
    "\n",
    "plt.subplot(224) \n",
    "plt.ylim(1e-2,1e5)\n",
    "plt.xlim(2,1e3)\n",
    "\n",
    "plt.xlabel((\"$\\ell$\"))\n",
    "sm = plt.cm.ScalarMappable(cmap=plt.cm.cividis_r ,norm=plt.Normalize (vmin=20.,vmax=100 ))\n",
    "cb =plt.colorbar(sm)\n",
    "cb.set_label(r' $f_{sky}$ [%]' ,rotation='90', fontsize=16 )\n",
    "plt.tight_layout() "
   ]
  },
  {
   "cell_type": "code",
   "execution_count": null,
   "id": "96f07e08-c5d1-437c-a66f-658b03e96c9f",
   "metadata": {},
   "outputs": [],
   "source": [
    " \n",
    "#plt.figure(figsize=(15,10 ))\n",
    "import os \n",
    "for jj, k in enumerate(planck_masks.keys())  : \n",
    "     \n",
    "    fspectra = datadir / f\"dust_gnilc_varres_pysmmod_planck_gal{k[3:]}_spectra.npz\"\n",
    "    if os.path.exists(fspectra):\n",
    "#        print(\"read Namaster spectra  \")\n",
    "        output_ell = np.load(fspectra)[\"ell\"]\n",
    "        cl_out = {kk: np.load(fspectra)[kk] for kk in spectra_components+[\"TE\"] }\n",
    "    else:    \n",
    "#        print(\"computing spectra\")\n",
    "    \n",
    "        output_ell, cl_norm, cl_out = run_namaster(m = output_map512, mask =planck_masks[k] ,lmax=1300 , nlbins = bins[k]  )  \n",
    "        np.savez(fspectra, ell= output_ell, TT= cl_out[\"TT\"] , EE= cl_out[\"EE\"], BB= cl_out[\"BB\"],TE= cl_out[\"TE\"] ) \n",
    "\n",
    "    if jj==0: \n",
    "        plt.plot( ell,  (clo [\"EE\"]/ clo[\"BB\"] ),   color=colors[0] ,alpha=1) \n",
    "    plt.plot( output_ell,  (cl_out [\"EE\"]/ cl_out[\"BB\"] ),  color=colors[jj+1] ,alpha=1) \n",
    "\n",
    "plt.xlim(200,1e3)\n",
    "plt.ylim(0,3)\n",
    "sm = plt.cm.ScalarMappable(cmap=plt.cm.cividis_r ,norm=plt.Normalize (vmin=20.,vmax=100 ))\n",
    "cb =plt.colorbar(sm)\n",
    "cb.set_label(r' $f_{sky}$ [%]' ,rotation='90', fontsize=16 )\n",
    "plt.xlabel((\"$\\ell$\"))\n",
    "plt.ylabel((\"E-to-B ratio\"))\n",
    "\n",
    "plt.title(gnilc_template)\n",
    "plt.tight_layout() "
   ]
  },
  {
   "cell_type": "markdown",
   "id": "d2fc9c84-f50a-4c3f-8a18-398f0d434c24",
   "metadata": {},
   "source": []
  },
  {
   "cell_type": "markdown",
   "id": "72d19076-a5f2-4a01-a01d-bd0aa93695c6",
   "metadata": {},
   "source": [
    "# (New) we further validate E and B spectra  also within the BK and Southern Hole patches"
   ]
  },
  {
   "cell_type": "code",
   "execution_count": null,
   "id": "76bffb87-2908-4d5c-a0c0-1404b230f218",
   "metadata": {},
   "outputs": [],
   "source": [
    "def ClBB(mask, mapp):\n",
    "    map1=mapp.copy() \n",
    "    b = nmt.NmtBin.from_nside_linear(hp.get_nside(mask), 35)\n",
    "    f_2 = nmt.NmtField(mask, map1, purify_b=True)\n",
    "    cl_22 = nmt.compute_full_master(f_2, f_2, b)\n",
    "    ell_arr = b.get_effective_ells()\n",
    "    return (ell_arr, cl_22[3], cl_22[0] )"
   ]
  },
  {
   "cell_type": "code",
   "execution_count": null,
   "id": "480d385e-0b00-4035-a7e7-43a30340050f",
   "metadata": {},
   "outputs": [],
   "source": [
    "import matplotlib\n",
    "import matplotlib.pyplot as plt\n",
    "from matplotlib import rc"
   ]
  },
  {
   "cell_type": "code",
   "execution_count": null,
   "id": "6d4a222b-8415-408d-941c-760fab8c058f",
   "metadata": {},
   "outputs": [],
   "source": [
    "i_dic ={}\n",
    "(ells, clBB_i, clEE_i) = ClBB(mask_aoa, input_map512[1:,:])\n",
    "\n",
    "i_dic[\"proposed_S4\"] = [clBB_i, clEE_i] \n",
    "(ells, clBB_i, clEE_i) = ClBB(maskbk, input_map512[1:,:])\n",
    "i_dic[\"southern_hole\"] = [clBB_i, clEE_i]    "
   ]
  },
  {
   "cell_type": "code",
   "execution_count": null,
   "id": "bd951df6-bf35-489d-b337-51e3abcdd997",
   "metadata": {},
   "outputs": [],
   "source": [
    "o_dic = {} \n",
    "\n",
    "(oells, clBB_o, clEE_o ) = ClBB(mask_aoa , output_map512[1:,:])\n",
    "o_dic[\"proposed_S4\"] = [clBB_o, clEE_o] \n",
    "(oells, clBB_o, clEE_o ) = ClBB(maskbk , output_map512[1:,:])\n",
    "o_dic[\"southern_hole\"] = [clBB_o, clEE_o] \n"
   ]
  },
  {
   "cell_type": "code",
   "execution_count": null,
   "id": "dabdf48c-e20a-4b34-9c1b-73fb59307e13",
   "metadata": {},
   "outputs": [],
   "source": [
    "bk = (np.sqrt(4.4) *u.uK_CMB  ).to(\n",
    "    \"uK_RJ\", equivalencies=u.cmb_equivalencies(353 * u.GHz)\n",
    ")"
   ]
  },
  {
   "cell_type": "code",
   "execution_count": null,
   "id": "f61a6ae8-3db8-4a05-b39e-79db8bb52f1d",
   "metadata": {},
   "outputs": [],
   "source": [
    "plt.figure(figsize=(15,4 ))\n",
    "plt.subplot(121)\n",
    "plt.title('EE') \n",
    "plt.ylabel(\"$ D_\\ell\\,\\,  [\\mu K_{RJ}]$\")\n",
    "plt.xlabel((\"$\\ell$\"))\n",
    "\n",
    "plt.plot(ells, ells*(ells+1.)*i_dic[\"southern_hole\"][1] /(2.*np.pi),'.',  alpha=.5, color='C0',linestyle=':' )\n",
    "plt.plot(oells, oells*(oells+1.)*o_dic[\"southern_hole\"][1] /(2.*np.pi), label=\"BK\" ,color='C0' )\n",
    "plt.plot(ells, ells*(ells+1.)*i_dic[\"proposed_S4\"][1] /(2.*np.pi), '.', alpha=.5, color='C1',linestyle=':')\n",
    "plt.plot(oells, oells*(oells+1.)*o_dic[\"proposed_S4\"][1] /(2.*np.pi),  label=\"Southern-Hole\" ,color='C1' )\n",
    "plt.loglog() \n",
    "plt.ylim(1e-3,5e-1) \n",
    "plt.xlim(40,1.5e3) \n",
    "plt.axvline(ell_fit_high[pol], linestyle=\"--\", color=\"gray\")\n",
    "plt.axvline(ell_pivot, linestyle=\"--\", color=\"k\")\n",
    "plt.subplot(122)\n",
    "plt.title('BB') \n",
    "plt.xlabel((\"$\\ell$\"))\n",
    "plt.plot(ells, ells*(ells+1.)*i_dic[\"southern_hole\"][0] /(2.*np.pi),'.',  alpha=.5, color='C0',linestyle=':')\n",
    "plt.plot(oells, oells*(oells+1.)*o_dic[\"southern_hole\"][0] /(2.*np.pi), label=\"Southern-Hole\" ,color='C0' )\n",
    "plt.plot(ells, ells*(ells+1.)*i_dic[\"proposed_S4\"][0] /(2.*np.pi), '.',  alpha=.5, color='C1',linestyle=':')\n",
    "plt.plot(oells, oells*(oells+1.)*o_dic[\"proposed_S4\"][0] /(2.*np.pi), label=\"proposed S4\" ,color='C1' )\n",
    "plt.scatter([80.], [(bk**2).value], color='r', marker='*',  label=r'$A_d$ BK2021 @353GHz')\n",
    "plt.loglog() \n",
    "plt.ylim(1e-3,5e-1) \n",
    "plt.xlim(40,1.5e3) \n",
    "plt.axvline(ell_fit_high[pol], linestyle=\"--\", color=\"gray\")\n",
    "plt.axvline(ell_pivot, linestyle=\"--\", color=\"k\")\n",
    "plt.legend() \n",
    "plt.grid() "
   ]
  },
  {
   "cell_type": "markdown",
   "id": "0f0793d1-9b0b-4916-aa3f-9c5b671c3fe5",
   "metadata": {},
   "source": [
    "## Check polarization "
   ]
  },
  {
   "cell_type": "code",
   "execution_count": null,
   "id": "c8e08db9-a78d-43fb-ac5c-47385b241a4e",
   "metadata": {},
   "outputs": [],
   "source": [
    "get_polfrac=lambda x : np.sqrt(x[1]**2 + x[2] **2 ) /x[0] "
   ]
  },
  {
   "cell_type": "code",
   "execution_count": null,
   "id": "474167fd-2b31-4a81-b437-0e1bbc378ff4",
   "metadata": {},
   "outputs": [],
   "source": [
    "Pout = get_polfrac(output_map)\n",
    "Pin = get_polfrac(m_planck_varres.value )"
   ]
  },
  {
   "cell_type": "code",
   "execution_count": null,
   "id": "cd4602cf-b58c-4597-9e82-af465beb233f",
   "metadata": {},
   "outputs": [],
   "source": [
    "logpin = np.log10(Pin)\n",
    "logpout = np.log10(Pout)"
   ]
  },
  {
   "cell_type": "code",
   "execution_count": null,
   "id": "0b76ee50-dd05-4619-8833-e2321687bea6",
   "metadata": {},
   "outputs": [],
   "source": [
    "planck_masks_bool  ={ k:    np.ma.masked_greater(m ,  0 ).mask  for k,m in planck_masks_2048.items() } "
   ]
  },
  {
   "cell_type": "code",
   "execution_count": null,
   "id": "cacced3f-d735-44da-80e9-53d797aef603",
   "metadata": {},
   "outputs": [],
   "source": [
    "plt.figure(figsize=(15,10))\n",
    "\n",
    "for jj,pm  in enumerate(planck_masks_bool.items())  :\n",
    "    k =pm[0]\n",
    "    msk =pm[1] \n",
    "    print(k ) \n",
    "    if k ==\"GAL099\": continue \n",
    "    plt.subplot(3,3,jj )\n",
    "\n",
    "    h,edg= np.histogram(\n",
    "        logpout[msk] ,\n",
    "        bins=np.linspace(-4, 0, 100), density=True)\n",
    "    xb = np.array([(edg[i] +edg[i+1])/2 for i in range(edg.size-1)])\n",
    "    \n",
    "    plt.plot( xb,h,\n",
    "        lw=3,\n",
    "       color='C0', alpha=.5,label='output'\n",
    "\n",
    "    )\n",
    "    h, edg= np.histogram(\n",
    "        logpin[msk] ,\n",
    "        density=True ,\n",
    "        bins=np.linspace(-4, 0, 100))  \n",
    "    xb = np.array([(edg[i] +edg[i+1])/2 for i in range(edg.size-1)])\n",
    "    \n",
    "    plt.plot(xb,h , \n",
    "        lw=3,alpha=.5 ,color='k' ,linestyle=':',label='input'\n",
    "    )\n",
    "    plt.ylabel(\"norm.counts\", fontsize=14)\n",
    "    plt.xlabel(r\"$\\log10( p )$\", fontsize=14)\n",
    "    plt.title (k+\" mask\" ) \n",
    "    plt.xlim(-3,-0.5)   \n",
    "    \n",
    "plt.tight_layout() \n",
    "plt.subplot(331)\n",
    "plt.legend( fontsize=11, loc='upper left' )  \n",
    "\n",
    "plt.subplot(339)\n",
    "    \n",
    "logpin = np.log10(get_polfrac(input_map512))\n",
    "logpout = np.log10(get_polfrac(output_map512))\n",
    "h,edg= np.histogram(\n",
    "        logpout[np.ma.masked_greater(maskbk ,  0 ).mask ] ,\n",
    "        bins=np.linspace(-4, 0, 100), density=True)\n",
    "xb = np.array([(edg[i] +edg[i+1])/2 for i in range(edg.size-1)])\n",
    "plt.plot( xb,h,\n",
    "        lw=3,\n",
    "       color='C0', alpha=.5,label='output'\n",
    "\n",
    "    )\n",
    "h, edg= np.histogram(\n",
    "        logpin[np.ma.masked_greater(maskbk ,  0 ).mask ] ,\n",
    "        density=True ,\n",
    "        bins=np.linspace(-4, 0, 100))  \n",
    "xb = np.array([(edg[i] +edg[i+1])/2 for i in range(edg.size-1)])\n",
    "plt.plot(xb,h , \n",
    "        lw=3,alpha=.5 ,color='k' ,linestyle=':',label='input'\n",
    "    )\n",
    "plt.title ( \"Southern-Hole  mask\" ) \n",
    "\n",
    "plt.subplot(338)\n",
    "    \n",
    "\n",
    "h,edg= np.histogram(\n",
    "        logpout[np.ma.masked_greater(mask_aoa,  0 ).mask ] ,\n",
    "        bins=np.linspace(-4, 0, 100), density=True)\n",
    "xb = np.array([(edg[i] +edg[i+1])/2 for i in range(edg.size-1)])\n",
    "plt.plot( xb,h,\n",
    "        lw=3,\n",
    "       color='C0', alpha=.5,label='output'\n",
    "\n",
    "    )\n",
    "h, edg= np.histogram(\n",
    "        logpin[np.ma.masked_greater(mask_aoa,  0 ).mask ] ,\n",
    "        density=True ,\n",
    "        bins=np.linspace(-4, 0, 100))  \n",
    "xb = np.array([(edg[i] +edg[i+1])/2 for i in range(edg.size-1)])\n",
    "plt.plot(xb,h , \n",
    "        lw=3,alpha=.5 ,color='k' ,linestyle=':',label='input'\n",
    "    )\n",
    "plt.ylabel(\"norm.counts\", fontsize=14)\n",
    "plt.xlabel(r\"$\\log10( p )$\", fontsize=14)\n",
    "plt.title (\"Proposed S4  mask\" ) \n",
    "plt.xlim(-3,-0.5)  \n"
   ]
  },
  {
   "cell_type": "code",
   "execution_count": null,
   "id": "612cba04-7c80-45b3-b15e-27096269a652",
   "metadata": {},
   "outputs": [],
   "source": []
  }
 ],
 "metadata": {
  "language_info": {
   "codemirror_mode": {
    "name": "ipython"
   },
   "file_extension": ".py",
   "mimetype": "text/x-python",
   "name": "python",
   "nbconvert_exporter": "python"
  }
 },
 "nbformat": 4,
 "nbformat_minor": 5
}
