{
 "cells": [
  {
   "cell_type": "code",
   "execution_count": null,
   "id": "989c7685-3708-45eb-914f-719da0319837",
   "metadata": {},
   "outputs": [],
   "source": [
    "import os\n",
    "\n",
    "os.environ[\n",
    "    \"OMP_NUM_THREADS\"\n",
    "] = \"64\"  # for jupyter.nersc.gov otherwise the notebook only uses 2 cores"
   ]
  },
  {
   "cell_type": "code",
   "execution_count": null,
   "id": "4f48bbb4-a285-4585-813f-93de83f91f7f",
   "metadata": {},
   "outputs": [],
   "source": [
    "from pathlib import Path\n",
    "import healpy as hp\n",
    "import matplotlib.pyplot as plt\n",
    "import numpy as np\n",
    "#import pymaster as nmt\n",
    "from astropy.io import fits\n",
    "\n",
    "%matplotlib inline"
   ]
  },
  {
   "cell_type": "code",
   "execution_count": null,
   "id": "0d4ad523-661b-4981-937c-2d882020b616",
   "metadata": {},
   "outputs": [],
   "source": [
    "plt.style.use(\"seaborn-talk\")"
   ]
  },
  {
   "cell_type": "code",
   "execution_count": null,
   "id": "b0c70a96-13c7-4963-8c71-b5c16f6a4898",
   "metadata": {},
   "outputs": [],
   "source": [
    "import pysm3 as pysm\n",
    "import pysm3.units as u"
   ]
  },
  {
   "cell_type": "code",
   "execution_count": null,
   "id": "e09fa591-c024-4325-8feb-439ebac13f3e",
   "metadata": {},
   "outputs": [],
   "source": [
    "nside = 512\n",
    "lmax = 3*nside - 1"
   ]
  },
  {
   "cell_type": "code",
   "execution_count": null,
   "id": "e6e02972-6f6d-4157-82be-2a6905d15c0a",
   "metadata": {},
   "outputs": [],
   "source": [
    "comp = \"IQU\""
   ]
  },
  {
   "cell_type": "code",
   "execution_count": null,
   "id": "08c7c763-23ba-4ffa-9cd7-9aa603dc9f89",
   "metadata": {},
   "outputs": [],
   "source": [
    "components = list(enumerate(comp))\n",
    "components"
   ]
  },
  {
   "cell_type": "code",
   "execution_count": null,
   "id": "cf1f6667-b343-4b92-9adf-c28473723144",
   "metadata": {},
   "outputs": [],
   "source": [
    "spectra_components = [\"TT\", \"EE\", \"BB\"]"
   ]
  },
  {
   "cell_type": "markdown",
   "id": "428853aa-d70f-4703-b8b8-340f42f919d4",
   "metadata": {},
   "source": [
    "change this to True   if you want to  run namaster on notebook \n"
   ]
  },
  {
   "cell_type": "code",
   "execution_count": null,
   "id": "f4854475-34e5-47e5-a069-677421b158d5",
   "metadata": {},
   "outputs": [],
   "source": [
    "!rm -f data/synch_*_spectra.npz"
   ]
  },
  {
   "cell_type": "code",
   "execution_count": null,
   "id": "fb0e9603-3d04-45cc-ad39-bbbdf8e1355b",
   "metadata": {},
   "outputs": [],
   "source": [
    "namaster_on_nb = True"
   ]
  },
  {
   "cell_type": "code",
   "execution_count": null,
   "id": "306e6dc4-66c6-4639-8c37-1b0af5f4a2ad",
   "metadata": {},
   "outputs": [],
   "source": [
    "datadir=Path(\"data\")"
   ]
  },
  {
   "cell_type": "code",
   "execution_count": null,
   "id": "f7d905b5-3ad2-42a2-a801-3070915b4ff9",
   "metadata": {},
   "outputs": [],
   "source": [
    "imapfile = datadir /\"haslam408_dsds_Remazeilles2014.fits\"\n",
    "qumapfile =datadir /\"wmap_band_iqumap_r9_9yr_K_v5.fits\""
   ]
  },
  {
   "cell_type": "code",
   "execution_count": null,
   "id": "85f9e74c-441b-425a-929c-6140271a1a71",
   "metadata": {},
   "outputs": [],
   "source": [
    "if not imapfile.exists():\n",
    "    !wget -O $imapfile   https://lambda.gsfc.nasa.gov/data/foregrounds/haslam_2014/haslam408_dsds_Remazeilles2014.fits"
   ]
  },
  {
   "cell_type": "code",
   "execution_count": null,
   "id": "287c6e4b-423b-4aa4-85e1-b4b2f3d88e95",
   "metadata": {},
   "outputs": [],
   "source": [
    "if not qumapfile.exists():\n",
    "    !wget -O $qumapfile   https://lambda.gsfc.nasa.gov/data/map/dr5/skymaps/9yr/raw/wmap_band_iqumap_r9_9yr_K_v5.fits "
   ]
  },
  {
   "cell_type": "code",
   "execution_count": null,
   "id": "ff5d019b-2430-4333-ab6e-dd6f58c8d37f",
   "metadata": {},
   "outputs": [],
   "source": [
    "imap = hp.read_map(imapfile) \n",
    "qumap = hp.read_map(qumapfile, field=[1,2] ) "
   ]
  },
  {
   "cell_type": "markdown",
   "id": "c90a2377-cbb0-41d9-bd20-444969bb7044",
   "metadata": {},
   "source": [
    "\n",
    "# Setting the inputs \n",
    "## Synchrotron   maps \n",
    "- We use the Haslam map at 408MHz for the intensity template \n",
    "- for Q and U we adopt maps from the K-band of WMAP .  \n",
    "\n",
    "\n",
    "- rescaling Haslam map to 23 GHz **assuming a constant spectral index =-3.1**   and from K to uK \n",
    "- converting Wmap maps to from mK to uK  \n",
    "- we reduce noise by smoothing to 2 deg \n",
    "\n"
   ]
  },
  {
   "cell_type": "code",
   "execution_count": null,
   "id": "23ea86fa-4875-41ff-94c8-a9f812d4f4b4",
   "metadata": {},
   "outputs": [],
   "source": [
    "rescaling_factor =  (23. / 0.408) **  -3.1 \n",
    "\n",
    "imap *=rescaling_factor \n",
    "imap <<= u.K_RJ\n",
    "imap =imap.to(    u.uK_RJ )\n",
    "qumap <<= u.mK_RJ \n",
    "qumap = qumap.to(\"uK_RJ\") "
   ]
  },
  {
   "cell_type": "code",
   "execution_count": null,
   "id": "3181742c-8c6f-4172-bc17-56d80ff54b3c",
   "metadata": {},
   "outputs": [],
   "source": [
    "IQU =np.array([ imap, qumap[0], qumap[1]] ) "
   ]
  },
  {
   "cell_type": "code",
   "execution_count": null,
   "id": "ff628b4c-eb47-4f04-8350-aafcc05af472",
   "metadata": {},
   "outputs": [],
   "source": [
    "FWHM_SMOOTHING=2 #deg \n",
    "IQU = hp.smoothing( IQU , fwhm=np.radians(FWHM_SMOOTHING))\n",
    "IQU<<= u.uK_RJ "
   ]
  },
  {
   "cell_type": "code",
   "execution_count": null,
   "id": "e900c5ef-cfcc-43c6-9844-19717391dfc7",
   "metadata": {},
   "outputs": [],
   "source": [
    "plt.figure(figsize=(20, 5))\n",
    "for i_pol, pol in components:\n",
    "    hp.mollview(\n",
    "        IQU[i_pol],\n",
    "        title=\"Haslam/WMAP K synch \" + pol,\n",
    "        sub=131 + i_pol,\n",
    "        unit=IQU.unit,\n",
    "        min=-300,\n",
    "        max=300,\n",
    "    )"
   ]
  },
  {
   "cell_type": "code",
   "execution_count": null,
   "id": "be041782-e480-4cf7-8ab0-02386d6f1884",
   "metadata": {},
   "outputs": [],
   "source": [
    "if not os.path.exists(datadir/\"synch_hybrid.fits\") : \n",
    "    hp.write_map(datadir/\"synch_hybrid.fits\", IQU)"
   ]
  },
  {
   "cell_type": "code",
   "execution_count": null,
   "id": "eb10856c-5a9d-4564-9d3e-e0621ba4919e",
   "metadata": {},
   "outputs": [],
   "source": [
    "import numpy as np\n",
    "import healpy as hp\n",
    "\n",
    "\n",
    "\n",
    "def map_to_log_pol_tens(m):\n",
    "    P = np.sqrt(m[1] ** 2 + m[2] ** 2)\n",
    "    log_pol_tens = np.empty_like(m)\n",
    "    log_pol_tens[0] = np.log(m[0] ** 2 - P ** 2) / 2.0\n",
    "    log_pol_tens[1:] = m[1:] / P * np.log((m[0] + P) / (m[0] - P)) / 2.0\n",
    "    return log_pol_tens\n",
    "\n",
    "\n",
    "def log_pol_tens_to_map(log_pol_tens):\n",
    "    P = np.sqrt(log_pol_tens[1] ** 2 + log_pol_tens[2] ** 2)\n",
    "    m = np.empty_like(log_pol_tens)\n",
    "    exp_i =np.exp(log_pol_tens[0])\n",
    "    m[0] = exp_i * np.cosh(P)\n",
    "    m[1:] = log_pol_tens[1:] / P * exp_i * np.sinh(P)\n",
    "    return m\n",
    "\n",
    "\n",
    "def sigmoid(x, x0, width, power=4):\n",
    "    \"\"\"Sigmoid function given start point and width\n",
    "    Parameters\n",
    "    ----------\n",
    "    x : array\n",
    "        input x axis\n",
    "    x0 : float\n",
    "        value of x where the sigmoid starts (not the center)\n",
    "    width : float\n",
    "        width of the transition region in unit of x\n",
    "    power : float\n",
    "        tweak the steepness of the curve\n",
    "    Returns\n",
    "    -------\n",
    "    sigmoid : array\n",
    "        sigmoid, same length of x\"\"\"\n",
    "    return 1.0 / (1 + np.exp(-power * (x - x0 - width / 2) / width))\n"
   ]
  },
  {
   "cell_type": "code",
   "execution_count": null,
   "id": "e7def493-949e-4761-84e9-bb74521b5458",
   "metadata": {},
   "outputs": [],
   "source": [
    "iqu = map_to_log_pol_tens(IQU  .value)"
   ]
  },
  {
   "cell_type": "code",
   "execution_count": null,
   "id": "f0cc9b85-eb41-4000-b024-73cb78b341fc",
   "metadata": {},
   "outputs": [],
   "source": [
    "m_back   = log_pol_tens_to_map(iqu ) \n",
    "hp.mollview( (IQU.value  - m_back )[1], min=-1e-12,max=1e-12 )\n",
    "del m_back "
   ]
  },
  {
   "cell_type": "code",
   "execution_count": null,
   "id": "2aebd463-a7ca-4150-9ddd-c8d7963f2a79",
   "metadata": {},
   "outputs": [],
   "source": [
    "print(f\"{np.isnan(iqu[0]).sum()  } pixels out of { iqu[0].size} are NaNs in Log Pol Tens maps \")\n",
    "for i in range(3 ):\n",
    "    iqu[i, np.isnan(iqu[i] )] = np.nanmedian(iqu[i] )\n",
    "assert np.isnan(iqu).sum() == 0\n",
    "print(f\"{np.isnan(iqu[0]).sum()  } pixels out of { iqu[0].size} are NaNs in Log Pol Tens maps \")"
   ]
  },
  {
   "cell_type": "code",
   "execution_count": null,
   "id": "e9d44200-fafd-4eb3-b364-67ee5e14cdd8",
   "metadata": {},
   "outputs": [],
   "source": [
    "if not os.path.exists(datadir/\"synch_logpoltens.fits\") : \n",
    "    hp.write_map(datadir/\"synch_logpoltens.fits\", iqu)"
   ]
  },
  {
   "cell_type": "code",
   "execution_count": null,
   "id": "ba49d04e-91a2-4607-abe8-23b51cc86b61",
   "metadata": {},
   "outputs": [],
   "source": [
    "for i_pol, pol in components:\n",
    "    hp.mollview(iqu[i_pol], title=\"Log Pol tensor \"+pol , sub=131+i_pol   )"
   ]
  },
  {
   "cell_type": "code",
   "execution_count": null,
   "id": "880a7987-d06e-46b6-ba6b-71eb200bcdd3",
   "metadata": {},
   "outputs": [],
   "source": [
    "from scipy.optimize import curve_fit"
   ]
  },
  {
   "cell_type": "code",
   "execution_count": null,
   "id": "c1b236a0-0706-45a5-98b2-d79d9968a62e",
   "metadata": {},
   "outputs": [],
   "source": [
    "def model(ell, A, gamma):\n",
    "    out = A * ell ** gamma\n",
    "    out[:2] = 0\n",
    "    return out"
   ]
  },
  {
   "cell_type": "code",
   "execution_count": null,
   "id": "f75dcc77-fb3b-4d1e-8958-4c15e5df7084",
   "metadata": {},
   "outputs": [],
   "source": [
    "def run_anafast(m, lmax) : \n",
    "    clanaf=hp.anafast(m , lmax=lmax ) \n",
    "    cl ={} \n",
    "    cl[\"TT\"] = clanaf[0]\n",
    "    cl[\"EE\"] = clanaf[1]\n",
    "    cl[\"BB\"] = clanaf[2 ]\n",
    "    ell = np.arange(lmax +1 ) \n",
    "    \n",
    "    cl_norm = ell * (ell + 1) / np.pi / 2\n",
    "    cl_norm[0] = 1\n",
    "    return ell,cl_norm, cl     \n",
    "\n",
    "\n",
    "\n",
    "def run_namaster(m, mask, lmax):\n",
    "    \"\"\"Compute C_ell with NaMaster\n",
    "    Parameters\n",
    "    ----------\n",
    "    m : numpy array\n",
    "        T only or TQU HEALPix map\n",
    "    mask : numpy array\n",
    "        mask, 1D, 0 for masked pixels,\n",
    "        needs to have same Nside of the input map\n",
    "    lmax : int\n",
    "        maximum ell of the spherical harmonics transform\n",
    "    Returns\n",
    "    -------\n",
    "    ell : numpy array\n",
    "        array of ell from 0 to lmax (length lmax+1)\n",
    "    cl_norm : numpy array\n",
    "        ell (ell+1)/2pi factor to turn C_ell into D_ell\n",
    "        first element is set to 1\n",
    "    cl : dict of numpy arrays\n",
    "        dictionary of numpy arrays with all components\n",
    "        of the spectra, for now only II, EE, BB, no\n",
    "        cross-spectra\n",
    "    \"\"\"\n",
    "    nside = hp.npix2nside(len(mask))\n",
    "\n",
    "    binning = nmt.NmtBin(nside=nside, nlb=1, lmax=lmax, is_Dell=False)\n",
    "\n",
    "    cl = {}\n",
    "\n",
    "    f_0 = nmt.NmtField(mask, [m[0] ])\n",
    "\n",
    "    if len(m) == 3:\n",
    "        f_2 = nmt.NmtField(mask, m[1:].copy())  # NaMaster masks the map in-place\n",
    "        cl_namaster = nmt.compute_full_master(f_2, f_2, binning)\n",
    "        cl[\"EE\"] = np.concatenate([[0, 0], cl_namaster[0]])\n",
    "        cl[\"BB\"] = np.concatenate([[0, 0], cl_namaster[3]])\n",
    "        cl_namaster = nmt.compute_full_master(f_0, f_2, binning)\n",
    "        cl[\"TE\"] = np.concatenate([[0, 0], cl_namaster[0]])\n",
    "    elif m.ndim == 1:\n",
    "        m = m.reshape((1, -1))\n",
    "\n",
    "    cl_namaster_I = nmt.compute_full_master(f_0, f_0, binning)\n",
    "\n",
    "    cl[\"TT\"] = np.concatenate([[0, 0], cl_namaster_I[0]])\n",
    "    ell = np.concatenate([[0, 1], binning.get_effective_ells()])\n",
    "    cl_norm = ell * (ell + 1) / np.pi / 2\n",
    "    cl_norm[0] = 1\n",
    "    return ell, cl_norm, cl"
   ]
  },
  {
   "cell_type": "code",
   "execution_count": null,
   "id": "0c4b729a-5d46-4b29-8428-f868cc823df6",
   "metadata": {},
   "outputs": [],
   "source": [
    "print (\"run anafast on masked sky  \")\n",
    "ell,cl_norm,cl=run_anafast(iqu ,lmax)    "
   ]
  },
  {
   "cell_type": "markdown",
   "id": "e9c81d2c-2179-41f0-b01c-d370075965e3",
   "metadata": {
    "tags": []
   },
   "source": [
    "## Power law fit \n",
    "\n",
    "- We fit in$\\ell \\in[1-,36]$ a power law for TT spectrum of the logpol tens i map\n",
    "- we use the spectral index power law also for EE and BB power spectra to avoid unphysical crossings of EE over TT and BB over TT at higher multipoles\n"
   ]
  },
  {
   "cell_type": "code",
   "execution_count": null,
   "id": "0d3e38e8-fe3f-412e-9c7f-cffe9c78b517",
   "metadata": {},
   "outputs": [],
   "source": [
    "ell_fit_low = {\"TT\":10, \"EE\":10, \"BB\":10}\n",
    "ell_fit_high = {\"TT\":36, \"EE\":36, \"BB\":36}\n",
    "A_fit, gamma_fit, A_fit_std, gamma_fit_std = {},{},{},{}\n",
    "plt.figure(figsize=(25,5))\n",
    "\n",
    "for ii, pol in enumerate(spectra_components):\n",
    "    plt.subplot(131+ii)\n",
    "    xdata = np.arange(ell_fit_low[pol], ell_fit_high[pol])\n",
    "    ydata = xdata*(xdata+1)/np.pi/2 * cl[pol][xdata]\n",
    "    (A_fit[pol], gamma_fit[pol]), cov = curve_fit(model, xdata, ydata)\n",
    "    A_fit_std[pol], gamma_fit_std[pol] = np.sqrt(np.diag(cov))\n",
    "\n",
    "    plt.loglog(ell, ell*(ell+1)/np.pi/2 * cl[pol], label=\"Anafast $C_\\ell$\")\n",
    "\n",
    "    plt.plot(ell[ell_fit_low[pol]//2:ell_fit_high[pol]*2], \n",
    "             model(ell[ell_fit_low[pol]//2:ell_fit_high[pol]*2], A_fit[pol], gamma_fit[pol]), label=\"old model fit\")\n",
    "    \n",
    "\n",
    "    plt.axvline(ell_fit_low[pol], linestyle=\"--\", color=\"black\", label=\"$ \\ell={} $\".format(ell_fit_low[pol]))\n",
    "    plt.axvline(ell_fit_high[pol], linestyle=\"--\", color=\"gray\", label=\"$ \\ell={} $\".format(ell_fit_high[pol]))\n",
    "    plt.grid()\n",
    "    plt.title(f\"{pol}   spectrum for dust Dust Pol.Tens  \"+r\"$\\gamma_{fit}=$\"+f\"{gamma_fit[pol]:.2f}\")\n",
    "\n",
    "    plt.ylabel(\"$\\ell(\\ell+1)C_\\ell/2\\pi [\\mu K_{RJ}]$\")\n",
    "    plt.xlabel((\"$\\ell$\"))\n",
    "    plt.xlim(2, lmax)\n",
    "    \n",
    "print(f\"B-to-E ratio at l= {ell_fit_high['BB']} , { A_fit['BB']/A_fit['EE' ]}\" ) \n",
    "\n",
    "for ii, pol in enumerate(spectra_components[1:] ):\n",
    "    #we change the EE and BB power laws \n",
    "    A_fit[pol] =A_fit[pol]*  ell_fit_high[pol]**( gamma_fit[pol ] - gamma_fit['TT' ] ) \n",
    "    gamma_fit[pol] = gamma_fit['TT'] \n",
    "    plt.subplot(132+ii)\n",
    "    plt.plot(ell[ell_fit_high[pol] :ell_fit_high[pol]*10], \n",
    "             model(ell[ell_fit_high[pol]:ell_fit_high[pol]*10], A_fit[pol], gamma_fit[pol]), label=\"new power law\")\n",
    "    \n",
    "print(f\"B-to-E ratio at l= {ell_fit_high['BB']} , { A_fit['BB']/A_fit['EE' ]}\" ) \n",
    "     \n"
   ]
  },
  {
   "cell_type": "markdown",
   "id": "1dc4c929-7c90-4cb4-8391-212fdc51f417",
   "metadata": {},
   "source": [
    "### Define Modulation maps \n",
    "as suggested by Ben Thorne , \n",
    "the injected small scales are at different multipoles for intensity and polarization, we consider 2 different modulation maps  \n",
    "\n",
    "#### Modulation for  polarization : \n",
    "- smooth `i` map to 5 deg \n",
    "- we saturate all the pixels >5.5 to 1.5 \n",
    "- reduce the dynamic range to range from .5 to 1.5 with MinMax rescaling  \n",
    "\n",
    "#### Modulation for  intensity : \n",
    "- smooth `i` map to 5 deg \n",
    "- for  the pixels >5  MinMax rescaling from 1.1 to 2 \n",
    "- elsewhere MinMax rescaling  from  .1 to 1.1   "
   ]
  },
  {
   "cell_type": "code",
   "execution_count": null,
   "id": "14debea2-386b-46d5-ac10-69766ffb576b",
   "metadata": {},
   "outputs": [],
   "source": [
    "ismooth = hp.smoothing(iqu[0] , fwhm=np.radians( 5) ) "
   ]
  },
  {
   "cell_type": "code",
   "execution_count": null,
   "id": "5b7e8e2e-0f80-42df-ba01-488e5c25af65",
   "metadata": {},
   "outputs": [],
   "source": [
    "minmax= lambda m,a,b: a + (b-a) * (m - m .min()  )/(m .max() -m .min () )\n",
    "\n",
    "modulate_amp_pol= (ismooth )*1. \n",
    "modulate_amp= (ismooth )*1. \n",
    "\n",
    "mskmd = ismooth > 5.5\n",
    "b1=1.5\n",
    "a=.5\n",
    "\n",
    "modulate_amp_pol[mskmd] = 1.5\n",
    "modulate_amp_pol[~mskmd] = minmax (ismooth[~mskmd], .5, 1.5 )\n",
    "mskmd = ismooth > 5\n",
    "\n",
    "modulate_amp[mskmd] = minmax (ismooth[mskmd], 1.1, 2 )\n",
    "modulate_amp[~mskmd] = minmax (ismooth[~mskmd], .1, 1.1 )\n"
   ]
  },
  {
   "cell_type": "code",
   "execution_count": null,
   "id": "7122c67d-3851-411c-aea0-3970abc15766",
   "metadata": {},
   "outputs": [],
   "source": [
    "hp.mollview(modulate_amp, title='intensity modulation', sub=121)\n",
    "hp.mollview(modulate_amp_pol, title='polarization modulation', sub=122)\n"
   ]
  },
  {
   "cell_type": "code",
   "execution_count": null,
   "id": "c2ffba40-f20e-4c11-acda-679c3796bed1",
   "metadata": {},
   "outputs": [],
   "source": [
    "output_lmax = lmax"
   ]
  },
  {
   "cell_type": "code",
   "execution_count": null,
   "id": "c897b4ba-508d-43d2-9716-a69165f2beff",
   "metadata": {},
   "outputs": [],
   "source": [
    "np.random.seed(777)\n",
    "#filter small scales \n",
    "small_scales_input_cl = [\n",
    "    1 \\\n",
    "    * model(ell, A_fit[pol], gamma_fit[pol]) \\\n",
    "    * sigmoid(ell, ell_fit_high[pol], ell_fit_high[pol]/10)  \\\n",
    "    / cl_norm \\\n",
    "    for pol in spectra_components\n",
    "]\n",
    "ii_SS_alm =hp.synalm(small_scales_input_cl+ [np. zeros_like(small_scales_input_cl[0])]*3 ,lmax=lmax, new=True )\n",
    "#filter large scales \n",
    "alm_log_pol_tens_fullsky = hp.map2alm(iqu   , lmax=lmax, use_pixel_weights=True)\n",
    "ii_LS_alm=np.empty_like(alm_log_pol_tens_fullsky)\n",
    "\n",
    "for ii, pol in enumerate(spectra_components ):\n",
    "    \n",
    "    sig_func =  sigmoid(ell, x0= ell_fit_high[pol], width= ell_fit_high[pol]/10)\n",
    "    ii_LS_alm[ii] = hp.almxfl(alm_log_pol_tens_fullsky[ii] , (1.-sig_func)**.2 ) \n",
    "\n",
    "log_ss =hp.alm2map( ii_SS_alm , nside=nside ) \n",
    "log_ss[0] *=modulate_amp \n",
    "log_ss[1:] *=modulate_amp_pol\n",
    "\n",
    "log_ls =hp.alm2map(ii_LS_alm, nside=nside ) \n",
    "ii_map_out = log_ss + log_ls \n",
    " "
   ]
  },
  {
   "cell_type": "code",
   "execution_count": null,
   "id": "c87ea88f-122e-4cbb-8b12-e378cbfb61c1",
   "metadata": {},
   "outputs": [],
   "source": [
    "ell,cl_norm,cltot  =run_anafast(ii_map_out ,lmax)    \n"
   ]
  },
  {
   "cell_type": "code",
   "execution_count": null,
   "id": "138baa53-a733-442f-acb2-2ec9f830c364",
   "metadata": {},
   "outputs": [],
   "source": [
    "plt.figure(figsize=(25,5))\n",
    "\n",
    "for ii, pol in enumerate(spectra_components):\n",
    "    plt.subplot(131+ii)\n",
    "    plt.loglog(ell, ell*(ell+1)/np.pi/2 * cl[pol], label=\"anafast $C_\\ell$\")\n",
    "    plt.loglog(ell, ell*(ell+1)/np.pi/2 * cltot[pol], label=\"tot  $C_\\ell$\")\n",
    "\n",
    "    plt.plot(ell[ell_fit_low[pol]//2:ell_fit_high[pol]*20], \n",
    "             model(ell[ell_fit_low[pol]//2:ell_fit_high[pol]*20], A_fit[pol], gamma_fit[pol]), label=\"model fit\")\n",
    "    \n",
    "\n",
    "    plt.axvline(ell_fit_low[pol], linestyle=\"--\", color=\"black\", label=\"$ \\ell={} $\".format(ell_fit_low[pol]))\n",
    "    plt.axvline(ell_fit_high[pol], linestyle=\"--\", color=\"gray\", label=\"$ \\ell={} $\".format(ell_fit_high[pol]))\n",
    "    plt.legend()\n",
    "    plt.grid()\n",
    "    plt.title(f\"{pol}   spectrum for dust Dust Pol.Tens  \"+r\"$\\gamma_{fit}=$\"+f\"{gamma_fit[pol]:.2f}\")\n",
    "\n",
    "    plt.ylabel(\"$\\ell(\\ell+1)C_\\ell/2\\pi [\\mu K_{RJ}]$\")\n",
    "    plt.xlabel((\"$\\ell$\"))\n",
    "    plt.xlim(2, lmax)\n"
   ]
  },
  {
   "cell_type": "code",
   "execution_count": null,
   "id": "ff6bbb63-a88d-491b-ba3b-dae31fc00d4a",
   "metadata": {},
   "outputs": [],
   "source": [
    "output_map = log_pol_tens_to_map(ii_map_out )\n"
   ]
  },
  {
   "cell_type": "code",
   "execution_count": null,
   "id": "54eb2651-87a9-4484-a4a3-55a5ad9ed2da",
   "metadata": {},
   "outputs": [],
   "source": [
    "lat=75\n",
    "plt.figure(figsize=(15,10))\n",
    "hp.gnomview(ii_map_out[0] ,  title='i w/ small scales ', rot=[0,lat],reso=3.75,xsize=320,  sub=234 )\n",
    "hp.gnomview(iqu[0] ,  title='i', rot=[0,lat],reso=3.75,xsize=320, sub=231 )\n",
    "hp.gnomview(modulate_amp   ,  title=' modulation I ', rot=[0,lat],reso=3.75,xsize=320,  sub=233, )\n",
    "\n",
    "hp.gnomview((IQU[0]),  title=' I input   ', rot=[0,lat],reso=3.75,xsize=320,  sub=232, )\n",
    "hp.gnomview((log_ss)[0],  title='  small scales ', rot=[0,lat], reso=3.75,xsize=320, sub=236, )\n",
    "hp.gnomview(output_map[0] ,  title='I w/ small scales ', rot=[0,lat],reso=3.75,xsize=320,  sub=235 )\n",
    "lat=75\n",
    "plt.figure(figsize=(15,10))\n",
    "hp.gnomview(ii_map_out[1] ,  title='q w/ small scales ', rot=[0,lat],reso=3.75,xsize=320,  sub=234 )\n",
    "hp.gnomview(iqu [1],  title='q', rot=[0,lat],reso=3.75,xsize=320, sub=231 )\n",
    "hp.gnomview((modulate_amp_pol ),  title=' modulation P ', rot=[0,lat],reso=3.75,xsize=320,  sub=233, )\n",
    "\n",
    "hp.gnomview((IQU[1] ),  title=' Q input  ', rot=[0,lat],reso=3.75,xsize=320,  sub=232, )\n",
    "hp.gnomview((log_ss)[1],  title='  small scales ', rot=[0,lat], reso=3.75,xsize=320, sub=236, )\n",
    "hp.gnomview(output_map[1] ,  title='Q w/ small scales ', rot=[0,lat],reso=3.75,xsize=320,  sub=235 )"
   ]
  },
  {
   "cell_type": "code",
   "execution_count": null,
   "id": "21ef4a15-6697-4ab5-bf14-22ba712257b5",
   "metadata": {},
   "outputs": [],
   "source": [
    "if not os.path.exists(datadir/\"sync_hybrid_out.fits\"  ) : \n",
    "    hp.write_map(datadir/\"sync_hybrid_out.fits\", output_map  ,overwrite=True )"
   ]
  },
  {
   "cell_type": "markdown",
   "id": "72741b65-42f8-4f58-9af0-50eea3dbf46d",
   "metadata": {},
   "source": [
    "### Validation \n"
   ]
  },
  {
   "cell_type": "code",
   "execution_count": null,
   "id": "e71565b6-33e5-45bf-8506-1ed10067e285",
   "metadata": {},
   "outputs": [],
   "source": [
    "bk15_mask_filename = datadir/ \"BK15_region_Gal_apo.fits\"\n",
    "if not bk15_mask_filename.exists():\n",
    "    !wget -O $bk15_mask_filename https://portal.nersc.gov/project/cmb/pysm-data/gnilc/inputs/BK15_region_Gal_apo.fits"
   ]
  },
  {
   "cell_type": "code",
   "execution_count": null,
   "id": "86692762-f1ea-4c70-a6bb-8dd238e17057",
   "metadata": {},
   "outputs": [],
   "source": [
    "planck_masks = {k.lower():hp.read_map(datadir/ \"HFI_Mask_GalPlane-apo2_2048_R2.00.fits\", [k]) for k in [\"GAL{:03d}\".format(frac) for frac in [20,40,80]]}\n",
    "\n",
    "planck_masks[\"BK\"] = hp.read_map(bk15_mask_filename)"
   ]
  },
  {
   "cell_type": "code",
   "execution_count": null,
   "id": "680a52d4-6b3d-4dd8-b7e3-1b6213515abe",
   "metadata": {},
   "outputs": [],
   "source": [
    "for k,v in planck_masks.items():\n",
    "    planck_masks[k] = hp.ud_grade(v, nside)"
   ]
  },
  {
   "cell_type": "code",
   "execution_count": null,
   "id": "5f4e9356-4a36-4c44-be2f-b7cce021545b",
   "metadata": {},
   "outputs": [],
   "source": [
    "nlb= {'BK':35, 'gal020':25, 'gal040':15,'gal080':4 } "
   ]
  },
  {
   "cell_type": "code",
   "execution_count": null,
   "id": "964da8db-bbf4-4449-93d3-f7fd5d858bdf",
   "metadata": {},
   "outputs": [],
   "source": [
    "import pymaster as nmt"
   ]
  },
  {
   "cell_type": "code",
   "execution_count": null,
   "id": "6aab8bdf-f8b8-464d-929a-0c5dd9a48997",
   "metadata": {},
   "outputs": [],
   "source": [
    "def run_namaster(m, mask, lmax, nlbins=1):\n",
    "    \"\"\"Compute C_ell with NaMaster\n",
    "    Parameters\n",
    "    ----------\n",
    "    m : numpy array\n",
    "        T only or TQU HEALPix map\n",
    "    mask : numpy array\n",
    "        mask, 1D, 0 for masked pixels,\n",
    "        needs to have same Nside of the input map\n",
    "    lmax : int\n",
    "        maximum ell of the spherical harmonics transform\n",
    "    Returns\n",
    "    -------\n",
    "    ell : numpy array\n",
    "        array of ell from 0 to lmax (length lmax+1)\n",
    "    cl_norm : numpy array\n",
    "        ell (ell+1)/2pi factor to turn C_ell into D_ell\n",
    "        first element is set to 1\n",
    "    cl : dict of numpy arrays\n",
    "        dictionary of numpy arrays with all components\n",
    "        of the spectra, for now only II, EE, BB, no\n",
    "        cross-spectra\n",
    "    \"\"\"\n",
    "    nside = hp.npix2nside(len(mask))\n",
    "\n",
    "    binning = nmt.NmtBin(nside=nside, nlb=nlbins, lmax=lmax, is_Dell=False)\n",
    "\n",
    "    cl = {}\n",
    "\n",
    "    f_0 = nmt.NmtField(mask, [m[0].copy()])\n",
    "\n",
    "    if len(m) == 3:\n",
    "        f_2 = nmt.NmtField(mask, m[1:].copy())  # NaMaster masks the map in-place\n",
    "        cl_namaster = nmt.compute_full_master(f_2, f_2, binning)\n",
    "        cl[\"EE\"] = np.concatenate([[0, 0], cl_namaster[0]])\n",
    "        cl[\"BB\"] = np.concatenate([[0, 0], cl_namaster[3]])\n",
    "        cl_namaster = nmt.compute_full_master(f_0, f_2, binning)\n",
    "        cl[\"TE\"] = np.concatenate([[0, 0], cl_namaster[0]])\n",
    "    elif m.ndim == 1:\n",
    "        m = m.reshape((1, -1))\n",
    "\n",
    "    cl_namaster_I = nmt.compute_full_master(f_0, f_0, binning)\n",
    "\n",
    "    cl[\"TT\"] = np.concatenate([[0, 0], cl_namaster_I[0]])\n",
    "    ell = np.concatenate([[0, 1], binning.get_effective_ells()])\n",
    "    cl_norm = ell * (ell + 1) / np.pi / 2\n",
    "    cl_norm[0] = 1\n",
    "    return ell, cl_norm, cl"
   ]
  },
  {
   "cell_type": "code",
   "execution_count": null,
   "id": "48aa7f48-7bbd-4830-8dc1-503280604dd0",
   "metadata": {},
   "outputs": [],
   "source": [
    "plt.figure(figsize=(10,5))\n",
    "\n",
    "for jj, k in enumerate(planck_masks.keys())  :\n",
    "    fspectra = datadir / f\"sync_hybrid_out_{k}_spectra.npz\"\n",
    "    if os.path.exists(fspectra):\n",
    "        print(\"read Namaster spectra  \")\n",
    "        output_ell = np.load(fspectra)[\"ell\"]\n",
    "        cl_out = {kk: np.load(fspectra)[kk] for kk in spectra_components}\n",
    "    elif namaster_on_nb:\n",
    "        print(\"run Namaster  \")\n",
    "        output_ell, output_cl_norm, cl_out = run_namaster(\n",
    "            output_map, mask=planck_masks[k]  , lmax=output_lmax, nlbins = nlb[k] \n",
    "        )\n",
    "        np.savez(fspectra, ell=output_ell, cl_norm=output_cl_norm, **cl_out)        \n",
    "        \n",
    "    fspectra = datadir / f\"synch_hybrid_{k}_spectra.npz\"\n",
    "    if os.path.exists(fspectra):\n",
    "        print(\"read Namaster spectra  \")\n",
    "        input_ell = np.load(fspectra)[\"ell\"]\n",
    "        cl_in = {kk: np.load(fspectra)[kk] for kk in spectra_components}\n",
    "    elif namaster_on_nb:\n",
    "        print(\"run Namaster  \")\n",
    "        input_ell, input_cl_norm, cl_in  = run_namaster(\n",
    "            IQU, mask=planck_masks[k], lmax=output_lmax, nlbins = nlb[k] \n",
    "        )\n",
    "        np.savez(fspectra, ell=input_ell, cl_norm=input_cl_norm, **cl_in)        \n",
    "    plt.subplot(2,2,jj+1 )\n",
    "    for ii, pol in enumerate([\"TT\",\"EE\", \"BB\" ]):\n",
    "        if jj==3:\n",
    "\n",
    "            plt.loglog(output_ell,  abs(cl_out [pol]),   color='C%d'%ii,   label=pol\n",
    "                 )\n",
    "        else: \n",
    "            plt.loglog(output_ell, abs( cl_out [pol]),   color='C%d'%ii, )             \n",
    "        plt.loglog(input_ell,  abs( cl_in [pol]), color='C%d'%ii,alpha=.5,)\n",
    "\n",
    "        plt.grid()\n",
    "        plt.legend(title=(k +\" mask \"), fontsize=15)  \n",
    "        plt.ylabel(\"$ C_\\ell  [\\mu K_{RJ}]$\")\n",
    "        plt.xlabel((\"$\\ell$\"))\n",
    "        plt.xlim(10,1e3) \n",
    "        plt.ylim(1e-6,1e0) \n",
    "plt.tight_layout() "
   ]
  },
  {
   "cell_type": "code",
   "execution_count": null,
   "id": "4b15448c-229c-4494-9efc-a37647b62c4f",
   "metadata": {},
   "outputs": [],
   "source": [
    "plt.figure(figsize=(10,5))\n",
    "\n",
    "for jj, k in enumerate(planck_masks.keys())  :\n",
    "    fspectra = datadir / f\"sync_hybrid_out_{k}_spectra.npz\"\n",
    "    if os.path.exists(fspectra):\n",
    "        print(\"read Namaster spectra  \")\n",
    "        output_ell = np.load(fspectra)[\"ell\"]\n",
    "        cl_out = {kk: np.load(fspectra)[kk] for kk in spectra_components}\n",
    "    elif namaster_on_nb:\n",
    "        print(\"run Namaster  \")\n",
    "        output_ell, output_cl_norm, cl_out = run_namaster(\n",
    "            output_map, mask=planck_masks[k], lmax=output_lmax, nlbins = nlb[k] \n",
    "        )\n",
    "        np.savez(fspectra, ell=output_ell, cl_norm=output_cl_norm, **cl_out)        \n",
    "        \n",
    "    #else:\n",
    "    #    print(\"run anafast on masked sky  \")\n",
    "    #    output_ell, cl_norm, cl_out = run_anafast(output_map * planck_mask, lmax)\n",
    "    \n",
    "    fspectra = datadir / f\"synch_hybrid_{k}_spectra.npz\"\n",
    "    if os.path.exists(fspectra):\n",
    "        print(\"read Namaster spectra  \")\n",
    "        input_ell = np.load(fspectra)[\"ell\"]\n",
    "        cl_in = {kk: np.load(fspectra)[kk] for kk in spectra_components}\n",
    "    elif namaster_on_nb:\n",
    "        print(\"run Namaster  \")\n",
    "        input_ell, input_cl_norm, cl_in  = run_namaster(\n",
    "            m_planck_varres, mask=planck_masks[k], lmax=output_lmax, nlbins = nlb[k] \n",
    "        )\n",
    "        np.savez(fspectra, ell=input_ell, cl_norm=input_cl_norm, **cl_in)        \n",
    "    #else:\n",
    "    #    print(\"run anafast on masked sky  \")\n",
    "    #    ell, cl_norm, cl_out = run_anafast(output_map * planck_mask, lmax)\n",
    "    plt.subplot(2,2,jj+1 )\n",
    "    plt.semilogx(output_ell,  cl_out [\"BB\"]/cl_out[\"EE\"] ,   color='C%d'%0,   )\n",
    "    plt.semilogx(input_ell,   cl_in [\"BB\"]/cl_in[\"EE\"], color='C%d'%0,alpha=.5,)\n",
    "    plt.grid()\n",
    "    plt.legend(title=(k +\" mask \"), fontsize=15)  \n",
    "    plt.ylabel((\"B-to-E ratio\"))\n",
    "    plt.xlabel((\"$\\ell$\"))\n",
    "    plt.ylim(0,1) \n",
    "    plt.xlim(10,2e3 ) \n",
    "    \n",
    "plt.tight_layout() "
   ]
  },
  {
   "cell_type": "code",
   "execution_count": null,
   "id": "7bb97125-c5c8-4cf1-9712-a5fe1f5f923d",
   "metadata": {},
   "outputs": [],
   "source": [
    "get_polfrac = lambda m: np.sqrt(m[1] ** 2 + m[2] ** 2) / m[0]"
   ]
  },
  {
   "cell_type": "code",
   "execution_count": null,
   "id": "2c567fe9-682d-42f2-a46e-eaeef426c1c6",
   "metadata": {
    "tags": []
   },
   "outputs": [],
   "source": [
    "Pout = get_polfrac(output_map)\n",
    "Pin = get_polfrac(IQU.value)"
   ]
  },
  {
   "cell_type": "code",
   "execution_count": null,
   "id": "338ace94-1ee7-4709-8e83-fe0352d85ef2",
   "metadata": {},
   "outputs": [],
   "source": [
    "plt.figure(figsize=(15, 5))\n",
    "hp.mollview(\n",
    "    np.log10(Pin), title=\" Pol.Frac input\", sub=121, min=-3, max=0, unit=\"Log10(p )\"\n",
    ")\n",
    "hp.mollview(\n",
    "    np.log10(Pout), title=\"Pol.Frac output\", sub=122, min=-3, max=0, unit=\"Log10(p)\"\n",
    ")"
   ]
  },
  {
   "cell_type": "code",
   "execution_count": null,
   "id": "b77ffffa-fee3-4449-a00d-b554df3cdad0",
   "metadata": {},
   "outputs": [],
   "source": [
    "logpin = np.log10(Pin)\n",
    "logpout = np.log10(Pout)"
   ]
  },
  {
   "cell_type": "code",
   "execution_count": null,
   "id": "f5b6dfc5-5ed1-4e77-8621-99b24dcb4c09",
   "metadata": {},
   "outputs": [],
   "source": [
    "plt.figure(figsize=(10,5))\n",
    "\n",
    "for jj,pm  in enumerate(planck_masks.items())  :\n",
    "    k =pm[0]\n",
    "    msk = np.round(pm[1] ).astype(bool)\n",
    "    \n",
    "    plt.subplot(2,2,jj+1 )\n",
    "    \n",
    "\n",
    "    h,edg= np.histogram(\n",
    "        logpout[msk] ,\n",
    "        bins=np.linspace(-4, 0, 100), density=True)\n",
    "    xb = np.array([(edg[i] +edg[i+1])/2 for i in range(edg.size-1)])\n",
    "    \n",
    "    plt.plot( xb,h,\n",
    "        lw=3,\n",
    "       color='C0', alpha=.5,label='output'\n",
    "\n",
    "    )\n",
    "    h, edg= np.histogram(\n",
    "        logpin[msk] ,\n",
    "        density=True ,\n",
    "        bins=np.linspace(-4, 0, 100))  \n",
    "    xb = np.array([(edg[i] +edg[i+1])/2 for i in range(edg.size-1)])\n",
    "    \n",
    "    plt.plot(xb,h , \n",
    "        lw=3,alpha=.5 ,color='C0' ,linestyle='--',label='input'\n",
    "    )\n",
    "    plt.ylabel(\"norm.counts\", fontsize=14)\n",
    "    plt.xlabel(r\"$\\log10( p )$\", fontsize=14)\n",
    "    plt.legend(title=(k +\" mask \"), fontsize=13, loc='best' )  \n",
    "    plt.xlim(-3,-0.)         \n",
    "plt.tight_layout() \n"
   ]
  },
  {
   "cell_type": "markdown",
   "id": "26720a46-44fb-45fb-9c7b-5175d77e1726",
   "metadata": {},
   "source": [
    "###  Small scales on the PySM2 beta synchrotron template"
   ]
  },
  {
   "cell_type": "markdown",
   "id": "1a4f19c9-f4a2-4997-923e-d788bfb44d50",
   "metadata": {},
   "source": [
    "- we subtract the offset term from the $\\beta_s$ map  \n",
    "- we use the fitted power law from the study of Nicoletta to inject small scales on to the Bs map\n",
    "- we rescale the large scale Bs map by a factor `~1.572` which comes from the SPASS latest results \n",
    "- we modulate the small scales on the Bs map by the same  modulation map adopted for intensity  \n",
    "\n"
   ]
  },
  {
   "cell_type": "code",
   "execution_count": null,
   "id": "8739464f-3c93-48dd-a59e-15f7f85a0c76",
   "metadata": {},
   "outputs": [],
   "source": [
    "\n",
    "template_dir = '/global/project/projectdirs/cmb/www/pysm-data/pysm_2/'\n",
    "beta_s_pysm = hp.read_map(template_dir+'synch_beta.fits')\n",
    "print(beta_s_pysm.mean())\n",
    "beta_s_pysm_nomono = hp.remove_monopole(beta_s_pysm)\n",
    "print(beta_s_pysm_nomono.mean())\n"
   ]
  },
  {
   "cell_type": "code",
   "execution_count": null,
   "id": "56bae391-7618-44cc-945e-fbf27023e9fc",
   "metadata": {},
   "outputs": [],
   "source": [
    "ell = np.arange(lmax+1)\n",
    "cl_spass_fit = 10**(-0.82655497)*ell**(-2.60860208)\n",
    "cl_spass_fit[0] = 0"
   ]
  },
  {
   "cell_type": "code",
   "execution_count": null,
   "id": "d805b7cb-c40b-4fb3-83bf-a055bc6d4a35",
   "metadata": {},
   "outputs": [],
   "source": [
    "np.random.seed(777)\n",
    "\n",
    "bs_ss_alm =hp.synalm(cl_spass_fit ,lmax=lmax )\n",
    "alm_bs  = hp.map2alm(  beta_s_pysm_nomono    , lmax=lmax, use_pixel_weights=True)\n",
    "\n",
    "bs_LS_alm=np.empty_like(alm_bs)\n",
    "\n",
    "sig_func =  sigmoid(ell, x0= ell_fit_high['TT' ]-15, width= ell_fit_high['TT' ]/10)\n",
    "bs_LS_alm= hp.almxfl(alm_bs ,  np.sqrt(1.-sig_func)) \n",
    "bs_ss_alm=  hp.almxfl(bs_ss_alm ,  np.sqrt(sig_func) ) \n",
    "bs_ss =hp.alm2map( bs_ss_alm , nside=nside ) \n",
    "\n",
    "bs_ss *=modulate_amp \n",
    "\n",
    "bs_ls =hp.alm2map(bs_LS_alm, nside=nside )\n",
    "bs_ls_resc = bs_ls  * 1.5722501"
   ]
  },
  {
   "cell_type": "code",
   "execution_count": null,
   "id": "210409a6-f7b9-451a-9f8b-da50dd8c9f89",
   "metadata": {},
   "outputs": [],
   "source": [
    "bs_out = bs_ss *modulate_amp   + bs_ls_resc  -3.1"
   ]
  },
  {
   "cell_type": "code",
   "execution_count": null,
   "id": "0364e971-aebf-473a-ad8b-507804146e05",
   "metadata": {},
   "outputs": [],
   "source": [
    "clout=hp.anafast(bs_out, lmax=lmax)\n",
    "clin= hp.anafast(beta_s_pysm, lmax=lmax) "
   ]
  },
  {
   "cell_type": "code",
   "execution_count": null,
   "id": "55c1d052-5f1d-4572-bfc3-efb54c2601f4",
   "metadata": {},
   "outputs": [],
   "source": [
    "for ii in range(1) :\n",
    "    plt.loglog(ell,  clin,  alpha=.5, color='C%d'%ii , label=r'$ \\beta_s$ PySM2' )\n",
    "    plt.loglog(ell,  clout, label=r\"$  \\beta_s$ PySM3 \",  )\n",
    "        \n",
    "    plt.grid(True)\n",
    "    plt.plot(ell , \n",
    "             cl_spass_fit , '--' ,label='Power law fit ' , color='red' )\n",
    "    \n",
    "    plt.legend()\n",
    "    \n",
    "    plt.ylabel(\"$ C_\\ell $\")\n",
    "    plt.xlabel((\"$\\ell$\"))\n",
    "    #plt.xlim(10, 55 )    \n",
    "    plt.xlim(2,lmax  )\n",
    "plt.ylim(1e-10, 1e-2)     "
   ]
  },
  {
   "cell_type": "code",
   "execution_count": null,
   "id": "6da691e6-98ef-4391-ab28-81e8f3a0c483",
   "metadata": {},
   "outputs": [],
   "source": []
  }
 ],
 "metadata": {
  "kernelspec": {
   "display_name": "namaster",
   "language": "python",
   "name": "namaster"
  },
  "language_info": {
   "codemirror_mode": {
    "name": "ipython",
    "version": 3
   },
   "file_extension": ".py",
   "mimetype": "text/x-python",
   "name": "python",
   "nbconvert_exporter": "python",
   "pygments_lexer": "ipython3",
   "version": "3.9.2"
  }
 },
 "nbformat": 4,
 "nbformat_minor": 5
}
