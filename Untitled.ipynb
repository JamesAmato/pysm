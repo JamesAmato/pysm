{
 "cells": [
  {
   "cell_type": "code",
   "execution_count": 1,
   "id": "4e0a808a-aece-4390-b1ed-96b253359c38",
   "metadata": {},
   "outputs": [],
   "source": [
    "from pysm3 import units as u"
   ]
  },
  {
   "cell_type": "code",
   "execution_count": 2,
   "id": "25ec9c17-00c1-4d52-a532-bbc3b04e191a",
   "metadata": {},
   "outputs": [],
   "source": [
    "import numpy as np"
   ]
  },
  {
   "cell_type": "code",
   "execution_count": 3,
   "id": "86feab33-6316-4be3-82cb-3a3ed2cc3700",
   "metadata": {},
   "outputs": [],
   "source": [
    "a = np.zeros(3)*u.mK"
   ]
  },
  {
   "cell_type": "code",
   "execution_count": 4,
   "id": "ea46245d-9c42-4074-b7bf-ff164dbe423c",
   "metadata": {},
   "outputs": [
    {
     "data": {
      "text/latex": [
       "$[0,~0,~0] \\; \\mathrm{mK}$"
      ],
      "text/plain": [
       "<Quantity [0., 0., 0.] mK>"
      ]
     },
     "execution_count": 4,
     "metadata": {},
     "output_type": "execute_result"
    }
   ],
   "source": [
    "a\n"
   ]
  },
  {
   "cell_type": "code",
   "execution_count": 5,
   "id": "7b603d23-559e-413a-afbb-ee5b61e78e0c",
   "metadata": {},
   "outputs": [
    {
     "data": {
      "text/plain": [
       "array([0., 0., 0.])"
      ]
     },
     "execution_count": 5,
     "metadata": {},
     "output_type": "execute_result"
    }
   ],
   "source": [
    "a.value"
   ]
  },
  {
   "cell_type": "code",
   "execution_count": 6,
   "id": "f9b86b3d-bf4b-4f3b-97c1-5784c46ad1d1",
   "metadata": {},
   "outputs": [],
   "source": [
    "class ReturnsCar:\n",
    "    def __init__(self, wcs):\n",
    "        self.wcs = wcs\n",
    "\n",
    "    def get_emission(self):\n",
    "        emission = np.ones(12) * u.uK_RJ\n",
    "        return utils.wrap_wcs(emission, self.wcs)\n",
    "\n",
    "\n",
    "def test_wrap_wcs_no_wcs():\n",
    "    EmissionModel = ReturnsCar(wcs=None)\n",
    "    emission = EmissionModel.get_emission()\n",
    "    assert emission.unit == u.uK_RJ\n",
    "    assert not hasattr(emission, \"wcs\")\n",
    "\n",
    "\n"
   ]
  },
  {
   "cell_type": "code",
   "execution_count": 7,
   "id": "800db221-063a-42c2-b665-21f4a89a0c97",
   "metadata": {},
   "outputs": [],
   "source": [
    "import pixell\n",
    "from pysm3 import utils"
   ]
  },
  {
   "cell_type": "code",
   "execution_count": 8,
   "id": "4ac41fd2-5329-44ab-a999-ba9f0e68840c",
   "metadata": {},
   "outputs": [
    {
     "data": {
      "text/plain": [
       "'0.26.0'"
      ]
     },
     "execution_count": 8,
     "metadata": {},
     "output_type": "execute_result"
    }
   ],
   "source": [
    "pixell.__version__"
   ]
  },
  {
   "cell_type": "code",
   "execution_count": 9,
   "id": "c821e13f-5d31-499b-90e9-79c27f5befc3",
   "metadata": {},
   "outputs": [],
   "source": [
    "    shape, wcs = pixell.enmap.fullsky_geometry(\n",
    "        (10 * u.deg).to_value(u.rad),\n",
    "        dims=(3,),\n",
    "        variant=\"fejer1\",\n",
    "    )\n",
    "    EmissionModel = ReturnsCar(wcs=wcs)\n",
    "    emission = EmissionModel.get_emission()"
   ]
  },
  {
   "cell_type": "code",
   "execution_count": 10,
   "id": "b4863dfb-8b8f-4b20-a8bf-fab7fbc7c684",
   "metadata": {},
   "outputs": [
    {
     "data": {
      "text/plain": [
       "ndmap([1. 1. 1. 1. 1. 1. 1. 1. 1. 1. 1. 1.],car:{cdelt:[-10,10],crval:[5,0],crpix:[18.50,9.50]})"
      ]
     },
     "execution_count": 10,
     "metadata": {},
     "output_type": "execute_result"
    }
   ],
   "source": [
    "emission"
   ]
  },
  {
   "cell_type": "code",
   "execution_count": 11,
   "id": "08eda467-c6cc-4f0c-a9cf-7abc485c5a52",
   "metadata": {},
   "outputs": [],
   "source": [
    "b = emission * u.uK"
   ]
  },
  {
   "cell_type": "code",
   "execution_count": 12,
   "id": "890a239e-a7d8-4797-8d04-b79f282274b6",
   "metadata": {},
   "outputs": [
    {
     "data": {
      "text/latex": [
       "$[1,~1,~1,~1,~1,~1,~1,~1,~1,~1,~1,~1] \\; \\mathrm{\\mu K}$"
      ],
      "text/plain": [
       "<Quantity [1., 1., 1., 1., 1., 1., 1., 1., 1., 1., 1., 1.] uK>"
      ]
     },
     "execution_count": 12,
     "metadata": {},
     "output_type": "execute_result"
    }
   ],
   "source": [
    "b"
   ]
  },
  {
   "cell_type": "code",
   "execution_count": 13,
   "id": "1735d1e3-78c6-4520-afd2-f8d12ee2ebd9",
   "metadata": {},
   "outputs": [
    {
     "data": {
      "text/plain": [
       "array([1., 1., 1., 1., 1., 1., 1., 1., 1., 1., 1., 1.])"
      ]
     },
     "execution_count": 13,
     "metadata": {},
     "output_type": "execute_result"
    }
   ],
   "source": [
    "b.value"
   ]
  },
  {
   "cell_type": "code",
   "execution_count": 14,
   "id": "e8bd3d38-6765-4734-93fa-dfc6ff9ad973",
   "metadata": {},
   "outputs": [
    {
     "data": {
      "text/latex": [
       "$[1,~1,~1,~1,~1,~1,~1,~1,~1,~1,~1,~1] \\; \\mathrm{\\mu K}$"
      ],
      "text/plain": [
       "<Quantity [1., 1., 1., 1., 1., 1., 1., 1., 1., 1., 1., 1.] uK>"
      ]
     },
     "execution_count": 14,
     "metadata": {},
     "output_type": "execute_result"
    }
   ],
   "source": [
    "u.Quantity(emission, u.uK)"
   ]
  },
  {
   "cell_type": "code",
   "execution_count": null,
   "id": "fbf11b28-6127-4dbd-b194-0858544ac085",
   "metadata": {},
   "outputs": [],
   "source": []
  }
 ],
 "metadata": {
  "kernelspec": {
   "display_name": "pysm",
   "language": "python",
   "name": "pysm"
  },
  "language_info": {
   "codemirror_mode": {
    "name": "ipython",
    "version": 3
   },
   "file_extension": ".py",
   "mimetype": "text/x-python",
   "name": "python",
   "nbconvert_exporter": "python",
   "pygments_lexer": "ipython3",
   "version": "3.11.0"
  }
 },
 "nbformat": 4,
 "nbformat_minor": 5
}
