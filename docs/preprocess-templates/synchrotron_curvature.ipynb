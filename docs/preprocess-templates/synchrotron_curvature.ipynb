{
 "cells": [
  {
   "cell_type": "code",
   "execution_count": null,
   "id": "ddf0687b-70b5-4aca-b978-a8331403a846",
   "metadata": {},
   "outputs": [],
   "source": [
    "import os\n",
    "\n",
    "os.environ[\n",
    "    \"OMP_NUM_THREADS\"\n",
    "] = \"64\"  # for jupyter.nersc.gov otherwise the notebook only uses 2 cores"
   ]
  },
  {
   "cell_type": "markdown",
   "id": "e1ecd4b3-9bb3-443f-9740-d9e492096ccf",
   "metadata": {},
   "source": [
    "# Preprocess HASLAM map as it is done for Synchrotron Amplitude template"
   ]
  },
  {
   "cell_type": "code",
   "execution_count": null,
   "id": "ad6fdf13-4b5d-4479-853f-0325703b1c5e",
   "metadata": {},
   "outputs": [],
   "source": [
    "from pathlib import Path\n",
    "import healpy as hp\n",
    "import matplotlib.pyplot as plt\n",
    "import numpy as np\n",
    "\n",
    "# import pymaster as nmt\n",
    "from astropy.io import fits\n",
    "\n",
    "%matplotlib inline"
   ]
  },
  {
   "cell_type": "code",
   "execution_count": null,
   "id": "2d0fd56a-8815-49ac-89c5-486c878adb2f",
   "metadata": {},
   "outputs": [],
   "source": [
    "plt.style.use(\"seaborn-talk\")"
   ]
  },
  {
   "cell_type": "code",
   "execution_count": null,
   "id": "0d35d4e9-bc10-411c-9cab-f54e1e8fb557",
   "metadata": {},
   "outputs": [],
   "source": [
    "import pysm3 as pysm\n",
    "import pysm3.units as u\n",
    "\n",
    "nside = 512\n",
    "lmax = 3 * nside\n",
    "comp = \"IQU\"\n",
    "components = list(enumerate(comp))\n",
    "components"
   ]
  },
  {
   "cell_type": "code",
   "execution_count": null,
   "id": "1b13619f-bf27-4368-bfc3-e4c86be29271",
   "metadata": {},
   "outputs": [],
   "source": [
    "datadir = Path(\"/global/cscratch1/sd/giuspugl/extending_synch/data\")\n",
    "imapfile = datadir / \"haslam408_dsds_Remazeilles2014.fits\"\n",
    "qumapfile = datadir / \"wmap_band_iqumap_r9_9yr_K_v5.fits\"\n",
    "if not imapfile.exists():\n",
    "    !wget -O $imapfile   https://lambda.gsfc.nasa.gov/data/foregrounds/haslam_2014/haslam408_dsds_Remazeilles2014.fits\n",
    "if not qumapfile.exists():\n",
    "    !wget -O $qumapfile   https://lambda.gsfc.nasa.gov/data/map/dr5/skymaps/9yr/raw/wmap_band_iqumap_r9_9yr_K_v5.fits\n",
    "imap = hp.read_map(imapfile)\n",
    "qumap = hp.read_map(qumapfile, field=[1, 2])"
   ]
  },
  {
   "cell_type": "code",
   "execution_count": null,
   "id": "9e0653e8-80b6-4d21-ae7b-1ae1f0b85b0b",
   "metadata": {},
   "outputs": [],
   "source": [
    "rescaling_factor = (23.0 / 0.408) ** -3.1\n",
    "\n",
    "imap *= rescaling_factor\n",
    "imap <<= u.K_RJ\n",
    "imap = imap.to(u.uK_RJ)\n",
    "qumap <<= u.mK_RJ\n",
    "qumap = qumap.to(\"uK_RJ\")\n",
    "IQU = np.array([imap, qumap[0], qumap[1]])\n",
    "FWHM_SMOOTHING = 2  # deg\n",
    "IQU = hp.smoothing(IQU, fwhm=np.radians(FWHM_SMOOTHING))\n",
    "IQU <<= u.uK_RJ\n",
    "plt.figure(figsize=(20, 5))\n",
    "for i_pol, pol in components:\n",
    "    hp.mollview(\n",
    "        IQU[i_pol],\n",
    "        title=\"Haslam/WMAP K synch \" + pol,\n",
    "        sub=131 + i_pol,\n",
    "        unit=IQU.unit,\n",
    "        min=-300,\n",
    "        max=300,\n",
    "    )"
   ]
  },
  {
   "cell_type": "code",
   "execution_count": null,
   "id": "6abfe59b-5167-4ce8-ab36-cb0d6075c744",
   "metadata": {},
   "outputs": [],
   "source": [
    "import numpy as np\n",
    "import healpy as hp\n",
    "\n",
    "\n",
    "def map_to_log_pol_tens(m):\n",
    "    P = np.sqrt(m[1] ** 2 + m[2] ** 2)\n",
    "    log_pol_tens = np.empty_like(m)\n",
    "    log_pol_tens[0] = np.log(m[0] ** 2 - P ** 2) / 2.0\n",
    "    log_pol_tens[1:] = m[1:] / P * np.log((m[0] + P) / (m[0] - P)) / 2.0\n",
    "    return log_pol_tens\n",
    "\n",
    "\n",
    "def log_pol_tens_to_map(log_pol_tens):\n",
    "    P = np.sqrt(log_pol_tens[1] ** 2 + log_pol_tens[2] ** 2)\n",
    "    m = np.empty_like(log_pol_tens)\n",
    "    exp_i = np.exp(log_pol_tens[0])\n",
    "    m[0] = exp_i * np.cosh(P)\n",
    "    m[1:] = log_pol_tens[1:] / P * exp_i * np.sinh(P)\n",
    "    return m\n",
    "\n",
    "\n",
    "def sigmoid(x, x0, width, power=4):\n",
    "    \"\"\"Sigmoid function given start point and width\n",
    "    Parameters\n",
    "    ----------\n",
    "    x : array\n",
    "        input x axis\n",
    "    x0 : float\n",
    "        value of x where the sigmoid starts (not the center)\n",
    "    width : float\n",
    "        width of the transition region in unit of x\n",
    "    power : float\n",
    "        tweak the steepness of the curve\n",
    "    Returns\n",
    "    -------\n",
    "    sigmoid : array\n",
    "        sigmoid, same length of x\"\"\"\n",
    "    return 1.0 / (1 + np.exp(-power * (x - x0 - width / 2) / width))\n",
    "\n",
    "\n",
    "iqu = map_to_log_pol_tens(IQU.value)"
   ]
  },
  {
   "cell_type": "code",
   "execution_count": null,
   "id": "512a7d22-7ae9-4ad9-a708-414839fe8254",
   "metadata": {},
   "outputs": [],
   "source": [
    "print(\n",
    "    f\"{np.isnan(iqu[0]).sum()  } pixels out of { iqu[0].size} are NaNs in Log Pol Tens maps \"\n",
    ")\n",
    "for i in range(3):\n",
    "    iqu[i, np.isnan(iqu[i])] = np.nanmedian(iqu[i])\n",
    "assert np.isnan(iqu).sum() == 0\n",
    "print(\n",
    "    f\"{np.isnan(iqu[0]).sum()  } pixels out of { iqu[0].size} are NaNs in Log Pol Tens maps \"\n",
    ")"
   ]
  },
  {
   "cell_type": "code",
   "execution_count": null,
   "id": "dc9fa91a-8c0b-480a-aedd-6d7882618a40",
   "metadata": {},
   "outputs": [],
   "source": [
    "for i_pol, pol in components:\n",
    "    hp.mollview(iqu[i_pol], title=\"Log Pol tensor \" + pol, sub=131 + i_pol)"
   ]
  },
  {
   "cell_type": "markdown",
   "id": "040b780e-6609-4a42-93fa-24cef04639c4",
   "metadata": {},
   "source": [
    "### Template for $C_s$ is the $i$ map smoothed at 5deg \n",
    "\n",
    "The modulation amplitude is exactly the same as the one adopted for $Bs$  and $intensity $ small scales "
   ]
  },
  {
   "cell_type": "code",
   "execution_count": null,
   "id": "10fb95f9-0f10-41f8-a9fd-daafbce80412",
   "metadata": {},
   "outputs": [],
   "source": [
    "ismooth = hp.smoothing(iqu[0], fwhm=np.radians(5))\n",
    "minmax = lambda m, a, b: a + (b - a) * (m - m.min()) / (m.max() - m.min())\n",
    "\n",
    "modulate_amp = (ismooth) * 1.0\n",
    "\n",
    "mskmd = ismooth > 5.5\n",
    "b1 = 1.5\n",
    "a = 0.5\n",
    "\n",
    "mskmd = ismooth > 5\n",
    "\n",
    "modulate_amp[mskmd] = minmax(ismooth[mskmd], 1.1, 2)\n",
    "modulate_amp[~mskmd] = minmax(ismooth[~mskmd], 0.1, 1.1)"
   ]
  },
  {
   "cell_type": "markdown",
   "id": "305dc1cd-122e-4437-9e9a-9396184cf8c2",
   "metadata": {},
   "source": [
    "### Tweak the values for MinMax rescaling so that we match Kogut 2012 measurements within ARCADE patch "
   ]
  },
  {
   "cell_type": "code",
   "execution_count": null,
   "id": "42e779a1-ff87-4893-8c0a-2566bea7636a",
   "metadata": {},
   "outputs": [],
   "source": [
    "Cmap = minmax(ismooth, a=-0.041, b=-0.076)"
   ]
  },
  {
   "cell_type": "markdown",
   "id": "19281527-b505-4e1e-bdde-62e492a0d890",
   "metadata": {},
   "source": [
    "### Load ARCADE patch \n",
    "make wget link "
   ]
  },
  {
   "cell_type": "code",
   "execution_count": null,
   "id": "02aebccf-ebe0-4cf8-9df1-de557a3901d7",
   "metadata": {},
   "outputs": [],
   "source": [
    "arcadefile = datadir / \"arc2_3150_v19.fits\"\n",
    "if not arcadefile.exists():\n",
    "    !wget -O $arcadefile   https://lambda.gsfc.nasa.gov/data/suborbital/ARCADE/arc2_3150_v19.fits\n",
    "\n",
    "arcade = hp.read_map(arcadefile)\n",
    "mask = arcade != 0\n",
    "mask_arcade = hp.ud_grade(mask, nside_out=hp.get_nside(Cmap))\n",
    "hp.mollview(mask_arcade)"
   ]
  },
  {
   "cell_type": "code",
   "execution_count": null,
   "id": "6e1e2c0e-26bb-4188-a9e5-838bdb6abb52",
   "metadata": {},
   "outputs": [],
   "source": [
    "print(\n",
    "    f\" Kogut 2012 measured Cs = -0.052\\pm 0.005, we get within ARCADE patch:\\n\"\n",
    "    + f\"{Cmap[mask_arcade].mean():.4f}\\pm { Cmap[mask_arcade] .std():.4f}\"\n",
    ")"
   ]
  },
  {
   "cell_type": "code",
   "execution_count": null,
   "id": "6a50b410-5bc1-4c1d-a35e-ab78d7207581",
   "metadata": {},
   "outputs": [],
   "source": [
    "hp.gnomview(\n",
    "    (Cmap * mask_arcade) / mask_arcade,\n",
    "    title=\"Matched synchrotron curvature - ARCADE\",\n",
    "    rot=[66, 0],\n",
    "    reso=10,\n",
    "    xsize=780,\n",
    "    cmap=\"jet\",\n",
    "    min=-0.1,\n",
    "    max=0,\n",
    ")\n",
    "\n",
    "hp.mollview(Cmap, title=\"synchrotron curvature\", cmap=\"jet\", min=-0.1, max=0)\n",
    "hp.graticule()"
   ]
  },
  {
   "cell_type": "markdown",
   "id": "dff27b62-e96b-4bc0-8df5-fdd72a9eeb0c",
   "metadata": {},
   "source": [
    "# Inject  Modulated small scales to  $C_s$ "
   ]
  },
  {
   "cell_type": "code",
   "execution_count": null,
   "id": "22794dc8-a8bd-404b-a1bf-c87fa49dbeda",
   "metadata": {},
   "outputs": [],
   "source": [
    "def sigmoid(x, x0, width, power=4):\n",
    "    \"\"\"Sigmoid function given start point and width\n",
    "    Parameters\n",
    "    ----------\n",
    "    x : array\n",
    "        input x axis\n",
    "    x0 : float\n",
    "        value of x where the sigmoid starts (not the center)\n",
    "    width : float\n",
    "        width of the transition region in unit of x\n",
    "    power : float\n",
    "        tweak the steepness of the curve\n",
    "    Returns\n",
    "    -------\n",
    "    sigmoid : array\n",
    "        sigmoid, same length of x\"\"\"\n",
    "    return 1.0 / (1 + np.exp(-power * (x - x0 - width / 2) / width))"
   ]
  },
  {
   "cell_type": "code",
   "execution_count": null,
   "id": "0d605d5e-2ab1-4179-ae92-bf90535a30db",
   "metadata": {},
   "outputs": [],
   "source": [
    "ell = np.arange(lmax + 1)\n",
    "cl_spass_fit = 10 ** (-0.82655497) * ell ** (-2.60860208)\n",
    "cl_spass_fit[0] = 0\n",
    "ell_fit_low = 10\n",
    "ell_fit_high = 36"
   ]
  },
  {
   "cell_type": "code",
   "execution_count": null,
   "id": "f2a0080d-b66a-43df-83df-5764b1926d20",
   "metadata": {},
   "outputs": [],
   "source": [
    "def run_anafast(m, lmax):\n",
    "    clanaf = hp.anafast(m, lmax=lmax)\n",
    "    cl = {}\n",
    "    cl[\"TT\"] = clanaf\n",
    "    ell = np.arange(lmax + 1)\n",
    "\n",
    "    cl_norm = ell * (ell + 1) / np.pi / 2\n",
    "    cl_norm[0] = 1\n",
    "    return ell, cl_norm, cl\n",
    "\n",
    "\n",
    "def model(ell, A, gamma):\n",
    "    out = A * ell ** gamma\n",
    "    out[:2] = 0\n",
    "    return out"
   ]
  },
  {
   "cell_type": "code",
   "execution_count": null,
   "id": "4b4381ed-b14a-439a-acf7-96ed44bf7f06",
   "metadata": {},
   "outputs": [],
   "source": [
    "ell, cl_norm, cl_c = run_anafast(Cmap, lmax=lmax)"
   ]
  },
  {
   "cell_type": "code",
   "execution_count": null,
   "id": "22322c62-aceb-4fbb-bc5d-efb7e6bf54cf",
   "metadata": {},
   "outputs": [],
   "source": [
    "gamma_spass = -2.60860208\n",
    "A0 = cl_c[\"TT\"][ell_fit_high] / ell_fit_high ** (gamma_spass)\n",
    "\n",
    "\n",
    "plt.loglog(ell, cl_c[\"TT\"], label=\"Anafast $C_\\ell$\")\n",
    "plt.plot(\n",
    "    ell[ell_fit_high:],\n",
    "    model(ell[ell_fit_high:], A0, gamma_spass),\n",
    "    label=\"power law SPASS \",\n",
    ")\n",
    "\n",
    "plt.axvline(\n",
    "    ell_fit_low, linestyle=\"--\", color=\"black\", label=\"$ \\ell={} $\".format(ell_fit_low)\n",
    ")\n",
    "plt.axvline(\n",
    "    ell_fit_high, linestyle=\"--\", color=\"gray\", label=\"$ \\ell={} $\".format(ell_fit_high)\n",
    ")\n",
    "plt.grid()\n",
    "plt.title(r\"$C_s  $\" + f\" power spectrum \")\n",
    "plt.legend()\n",
    "plt.ylabel(\"$ C_\\ell [\\mu K_{RJ}^2]$\")\n",
    "plt.xlabel((\"$\\ell$\"))\n",
    "plt.xlim(2, lmax)"
   ]
  },
  {
   "cell_type": "code",
   "execution_count": null,
   "id": "2a37389b-3054-4e20-9de8-e4dd2359dd9e",
   "metadata": {},
   "outputs": [],
   "source": [
    "sig_func = sigmoid(ell, x0=ell_fit_high, width=20)\n",
    "np.random.seed(777)\n",
    "alm_Cs = hp.map2alm(Cmap, lmax=lmax, use_pixel_weights=True)\n",
    "Cs_ls_alm = hp.almxfl(alm_Cs, np.sqrt(1.0 - sig_func))\n",
    "Cs_ss_alm = hp.synalm(model(ell, A0, gamma_spass), lmax=lmax)\n",
    "Cs_ss_alm = hp.almxfl(Cs_ss_alm, np.sqrt(sig_func))\n",
    "Cs_ss = hp.alm2map(Cs_ss_alm, lmax=lmax, nside=nside)\n",
    "Cs_ss *= modulate_amp\n",
    "\n",
    "Cs_ls = hp.alm2map(Cs_ls_alm, nside=nside)\n",
    "Cs_out = Cs_ss + Cs_ls\n",
    "ell, _, clcs_out = run_anafast(Cs_out, lmax=lmax)\n",
    "ell, _, clls = run_anafast(Cs_ls, lmax=lmax)\n",
    "ell, _, clss = run_anafast(Cs_ss, lmax=lmax)"
   ]
  },
  {
   "cell_type": "code",
   "execution_count": null,
   "id": "9a31c8a7-4570-4fcb-8e6c-799b737aea0a",
   "metadata": {},
   "outputs": [],
   "source": [
    "for ii in range(1):\n",
    "    plt.loglog(\n",
    "        ell, cl_c[\"TT\"], alpha=0.5, color=\"C%d\" % ii, label=r\"$ C_s$ w/o small scales\"\n",
    "    )\n",
    "    plt.loglog(\n",
    "        ell,\n",
    "        clcs_out[\"TT\"],\n",
    "        label=r\"$  C_s$ w/ small scales \",\n",
    "    )\n",
    "    # plt.loglog(ell,  clls[pol], label=r\"$  \\beta_s$ PySM3 \",  )\n",
    "    # plt.loglog(ell,  clss[pol], label=r\"$  \\beta_s$ PySM3 \",  )\n",
    "\n",
    "    plt.grid(True)\n",
    "\n",
    "    plt.legend()\n",
    "\n",
    "    plt.ylabel(\"$ C_\\ell $\")\n",
    "    plt.xlabel((\"$\\ell$\"))\n",
    "    # plt.xlim(10, 55 )\n",
    "    plt.xlim(2, lmax)\n",
    "plt.ylim(1e-15, 1e-4)"
   ]
  },
  {
   "cell_type": "code",
   "execution_count": null,
   "id": "34795a14-8fe8-4927-938f-1e538d1e3cd6",
   "metadata": {},
   "outputs": [],
   "source": [
    "hp.gnomview(\n",
    "    (Cmap * mask_arcade) / mask_arcade,\n",
    "    title=\"Cs w/o small scales - ARCADE\",\n",
    "    rot=[66, 0],\n",
    "    reso=10,\n",
    "    sub=121,\n",
    "    xsize=780,\n",
    "    cmap=\"jet\",\n",
    "    min=-0.1,\n",
    "    max=0,\n",
    ")\n",
    "hp.gnomview(\n",
    "    (Cs_out * mask_arcade) / mask_arcade,\n",
    "    title=\"Cs w/ small scales - ARCADE\",\n",
    "    rot=[66, 0],\n",
    "    reso=10,\n",
    "    sub=122,\n",
    "    xsize=780,\n",
    "    cmap=\"jet\",\n",
    "    min=-0.1,\n",
    "    max=0,\n",
    ")\n",
    "plt.figure()\n",
    "hp.mollview(Cmap, title=\"Cs w/o small scales\", cmap=\"jet\", min=-0.1, max=0, sub=121)\n",
    "\n",
    "\n",
    "hp.mollview(Cs_out, title=\"Cs w/ small scales\", cmap=\"jet\", min=-0.1, max=0, sub=122)\n",
    "hp.graticule()"
   ]
  },
  {
   "cell_type": "code",
   "execution_count": null,
   "id": "6518a0a7-e138-4711-8b3f-bb6c0f02f899",
   "metadata": {},
   "outputs": [],
   "source": [
    "print(\n",
    "    f\" Kogut 2012 measured Cs = -0.052\\pm 0.005, we get within ARCADE patch:\\n\"\n",
    "    + f\"{Cs_out[mask_arcade].mean().mean():.4f}\\pm { Cs_out[mask_arcade]  .std():.4f}\"\n",
    ")"
   ]
  },
  {
   "cell_type": "code",
   "execution_count": null,
   "id": "31596563-36e2-4a77-b5a4-41c3e2d6fe54",
   "metadata": {},
   "outputs": [],
   "source": []
  }
 ],
 "metadata": {
  "language_info": {
   "codemirror_mode": {
    "name": "ipython"
   },
   "file_extension": ".py",
   "mimetype": "text/x-python",
   "name": "python",
   "nbconvert_exporter": "python"
  }
 },
 "nbformat": 4,
 "nbformat_minor": 5
}
