{
 "cells": [
  {
   "cell_type": "code",
   "execution_count": 1,
   "metadata": {},
   "outputs": [],
   "source": [
    "# imports\n",
    "import os\n",
    "import sys\n",
    "from pixell import enmap, pointsrcs, enplot, utils\n",
    "import numpy as np\n",
    "import matplotlib.pyplot as plt\n",
    "import healpy as hp\n",
    "from pysm3 import units as u"
   ]
  },
  {
   "cell_type": "code",
   "execution_count": 2,
   "metadata": {},
   "outputs": [],
   "source": [
    "fwhm = 1 * u.deg\n",
    "from pysm3.models.catalog import *"
   ]
  },
  {
   "cell_type": "code",
   "execution_count": 3,
   "metadata": {},
   "outputs": [],
   "source": [
    "shape, wcs = enmap.fullsky_geometry(res=(0.1 * u.deg).to_value(u.rad))"
   ]
  },
  {
   "cell_type": "code",
   "execution_count": 4,
   "metadata": {},
   "outputs": [],
   "source": [
    "fluxes_I = np.ones(1)*10*u.Jy"
   ]
  },
  {
   "cell_type": "code",
   "execution_count": 5,
   "metadata": {},
   "outputs": [],
   "source": [
    "scaling_factor = 1 * u.uK_RJ / (u.Jy/u.sr)"
   ]
  },
  {
   "cell_type": "code",
   "execution_count": 6,
   "metadata": {},
   "outputs": [],
   "source": [
    "output_map = enmap.enmap(np.zeros(shape, dtype=np.float32), wcs)\n",
    "r, p = pointsrcs.expand_beam(fwhm2sigma(fwhm.to_value(u.rad)))\n",
    "output_map = (\n",
    "    pointsrcs.sim_objects(\n",
    "        shape,\n",
    "        wcs,\n",
    "        np.array([[0],[0]]),\n",
    "        flux2amp(np.array([10]), fwhm.to_value(u.rad))\n",
    "        * scaling_factor.value,  # to peak amplitude and to output units\n",
    "        ((r, p))))"
   ]
  },
  {
   "cell_type": "code",
   "execution_count": 7,
   "metadata": {},
   "outputs": [
    {
     "data": {
      "text/plain": [
       "array([28972.15796879])"
      ]
     },
     "execution_count": 7,
     "metadata": {},
     "output_type": "execute_result"
    }
   ],
   "source": [
    "flux2amp(np.array([10]), fwhm.to_value(u.rad))"
   ]
  },
  {
   "cell_type": "code",
   "execution_count": 8,
   "metadata": {},
   "outputs": [
    {
     "data": {
      "text/plain": [
       "array(28972.158, dtype=float32)"
      ]
     },
     "execution_count": 8,
     "metadata": {},
     "output_type": "execute_result"
    }
   ],
   "source": [
    "output_map.max()"
   ]
  },
  {
   "cell_type": "code",
   "execution_count": 9,
   "metadata": {},
   "outputs": [
    {
     "data": {
      "text/plain": [
       "<matplotlib.image.AxesImage at 0x7f196e3d8e50>"
      ]
     },
     "execution_count": 9,
     "metadata": {},
     "output_type": "execute_result"
    },
    {
     "data": {
      "image/png": "[encoded data removed]",
      "text/plain": [
       "<Figure size 640x480 with 1 Axes>"
      ]
     },
     "metadata": {},
     "output_type": "display_data"
    }
   ],
   "source": [
    "plt.imshow(output_map)"
   ]
  },
  {
   "cell_type": "code",
   "execution_count": 10,
   "metadata": {},
   "outputs": [
    {
     "data": {
      "text/plain": [
       "array([ 900, 1800])"
      ]
     },
     "execution_count": 10,
     "metadata": {},
     "output_type": "execute_result"
    }
   ],
   "source": [
    "output_map.argmax(unit=\"pixel\")"
   ]
  },
  {
   "cell_type": "code",
   "execution_count": 11,
   "metadata": {},
   "outputs": [
    {
     "data": {
      "text/plain": [
       "9.413194754914742e-07"
      ]
     },
     "execution_count": 11,
     "metadata": {},
     "output_type": "execute_result"
    }
   ],
   "source": [
    "enmap.pixsizemap(shape, wcs)[180, 360]"
   ]
  },
  {
   "cell_type": "code",
   "execution_count": 12,
   "metadata": {},
   "outputs": [
    {
     "data": {
      "text/plain": [
       "0.0"
      ]
     },
     "execution_count": 12,
     "metadata": {},
     "output_type": "execute_result"
    }
   ],
   "source": [
    "output_map[180, 360] * enmap.pixsizemap(shape, wcs)[180, 360]"
   ]
  },
  {
   "cell_type": "code",
   "execution_count": 13,
   "metadata": {},
   "outputs": [],
   "source": [
    "from pysm3.utils import car_aperture_photometry"
   ]
  },
  {
   "cell_type": "code",
   "execution_count": 14,
   "metadata": {},
   "outputs": [],
   "source": [
    "box_half_size_rad = 2 * fwhm.to_value(u.rad)\n",
    "box_center = [0, 0]\n",
    "box = np.array(\n",
    "    [\n",
    "        [box_center[0] - box_half_size_rad, box_center[1] - box_half_size_rad],\n",
    "        [box_center[0] + box_half_size_rad, box_center[1] + box_half_size_rad],\n",
    "    ]\n",
    ")  # in radians\n",
    "cutout = output_map.submap(box)\n",
    "flux = car_aperture_photometry(cutout, 2 * fwhm.to_value(u.rad))"
   ]
  },
  {
   "cell_type": "code",
   "execution_count": 15,
   "metadata": {},
   "outputs": [
    {
     "data": {
      "text/plain": [
       "9.998954563795008"
      ]
     },
     "execution_count": 15,
     "metadata": {},
     "output_type": "execute_result"
    }
   ],
   "source": [
    "flux"
   ]
  },
  {
   "cell_type": "code",
   "execution_count": 16,
   "metadata": {},
   "outputs": [
    {
     "data": {
      "text/plain": [
       "<matplotlib.image.AxesImage at 0x7f196eee0150>"
      ]
     },
     "execution_count": 16,
     "metadata": {},
     "output_type": "execute_result"
    },
    {
     "data": {
      "image/png": "[encoded data removed]",
      "text/plain": [
       "<Figure size 640x480 with 1 Axes>"
      ]
     },
     "metadata": {},
     "output_type": "display_data"
    }
   ],
   "source": [
    "plt.imshow(cutout)"
   ]
  },
  {
   "cell_type": "code",
   "execution_count": 17,
   "metadata": {},
   "outputs": [
    {
     "data": {
      "text/plain": [
       "array(28972.158, dtype=float32)"
      ]
     },
     "execution_count": 17,
     "metadata": {},
     "output_type": "execute_result"
    }
   ],
   "source": [
    "cutout.max()"
   ]
  },
  {
   "cell_type": "code",
   "execution_count": 18,
   "metadata": {},
   "outputs": [
    {
     "name": "stderr",
     "output_type": "stream",
     "text": [
      "/home/zonca/micromamba/envs/pysm/lib/python3.11/site-packages/pixell/enmap.py:2263: UserWarning: enmap.to_healpix is deprecated. Reprojecting this way is error-prone due to the potential loss of information, and the (very small) loss of high-l power due to the use of spline interpolation. Use reproject.map2healpix instead. And read its docstring!\n",
      "  warnings.warn(\"enmap.to_healpix is deprecated. Reprojecting this way is error-prone due to the potential loss of information, and the (very small) loss of high-l power due to the use of spline interpolation. Use reproject.map2healpix instead. And read its docstring!\")\n"
     ]
    },
    {
     "data": {
      "text/plain": [
       "array([0., 0., 0., ..., 0., 0., 0.], dtype=float32)"
      ]
     },
     "execution_count": 18,
     "metadata": {},
     "output_type": "execute_result"
    }
   ],
   "source": [
    "output_map.to_healpix(nside=128)"
   ]
  },
  {
   "cell_type": "code",
   "execution_count": 19,
   "metadata": {},
   "outputs": [],
   "source": [
    "from pixell import reproject"
   ]
  },
  {
   "cell_type": "code",
   "execution_count": 20,
   "metadata": {},
   "outputs": [
    {
     "name": "stdout",
     "output_type": "stream",
     "text": [
      "\u001b[0;31mSignature:\u001b[0m\n",
      "\u001b[0mreproject\u001b[0m\u001b[0;34m.\u001b[0m\u001b[0mmap2healpix\u001b[0m\u001b[0;34m(\u001b[0m\u001b[0;34m\u001b[0m\n",
      "\u001b[0;34m\u001b[0m    \u001b[0mimap\u001b[0m\u001b[0;34m,\u001b[0m\u001b[0;34m\u001b[0m\n",
      "\u001b[0;34m\u001b[0m    \u001b[0mnside\u001b[0m\u001b[0;34m=\u001b[0m\u001b[0;32mNone\u001b[0m\u001b[0;34m,\u001b[0m\u001b[0;34m\u001b[0m\n",
      "\u001b[0;34m\u001b[0m    \u001b[0mlmax\u001b[0m\u001b[0;34m=\u001b[0m\u001b[0;32mNone\u001b[0m\u001b[0;34m,\u001b[0m\u001b[0;34m\u001b[0m\n",
      "\u001b[0;34m\u001b[0m    \u001b[0mout\u001b[0m\u001b[0;34m=\u001b[0m\u001b[0;32mNone\u001b[0m\u001b[0;34m,\u001b[0m\u001b[0;34m\u001b[0m\n",
      "\u001b[0;34m\u001b[0m    \u001b[0mrot\u001b[0m\u001b[0;34m=\u001b[0m\u001b[0;32mNone\u001b[0m\u001b[0;34m,\u001b[0m\u001b[0;34m\u001b[0m\n",
      "\u001b[0;34m\u001b[0m    \u001b[0mspin\u001b[0m\u001b[0;34m=\u001b[0m\u001b[0;34m[\u001b[0m\u001b[0;36m0\u001b[0m\u001b[0;34m,\u001b[0m \u001b[0;36m2\u001b[0m\u001b[0;34m]\u001b[0m\u001b[0;34m,\u001b[0m\u001b[0;34m\u001b[0m\n",
      "\u001b[0;34m\u001b[0m    \u001b[0mmethod\u001b[0m\u001b[0;34m=\u001b[0m\u001b[0;34m'harm'\u001b[0m\u001b[0;34m,\u001b[0m\u001b[0;34m\u001b[0m\n",
      "\u001b[0;34m\u001b[0m    \u001b[0morder\u001b[0m\u001b[0;34m=\u001b[0m\u001b[0;36m1\u001b[0m\u001b[0;34m,\u001b[0m\u001b[0;34m\u001b[0m\n",
      "\u001b[0;34m\u001b[0m    \u001b[0mextensive\u001b[0m\u001b[0;34m=\u001b[0m\u001b[0;32mFalse\u001b[0m\u001b[0;34m,\u001b[0m\u001b[0;34m\u001b[0m\n",
      "\u001b[0;34m\u001b[0m    \u001b[0mbsize\u001b[0m\u001b[0;34m=\u001b[0m\u001b[0;36m100000\u001b[0m\u001b[0;34m,\u001b[0m\u001b[0;34m\u001b[0m\n",
      "\u001b[0;34m\u001b[0m    \u001b[0mnside_mode\u001b[0m\u001b[0;34m=\u001b[0m\u001b[0;34m'pow2'\u001b[0m\u001b[0;34m,\u001b[0m\u001b[0;34m\u001b[0m\n",
      "\u001b[0;34m\u001b[0m    \u001b[0mboundary\u001b[0m\u001b[0;34m=\u001b[0m\u001b[0;34m'constant'\u001b[0m\u001b[0;34m,\u001b[0m\u001b[0;34m\u001b[0m\n",
      "\u001b[0;34m\u001b[0m    \u001b[0mverbose\u001b[0m\u001b[0;34m=\u001b[0m\u001b[0;32mFalse\u001b[0m\u001b[0;34m,\u001b[0m\u001b[0;34m\u001b[0m\n",
      "\u001b[0;34m\u001b[0m    \u001b[0mniter\u001b[0m\u001b[0;34m=\u001b[0m\u001b[0;36m0\u001b[0m\u001b[0;34m,\u001b[0m\u001b[0;34m\u001b[0m\n",
      "\u001b[0;34m\u001b[0m\u001b[0;34m)\u001b[0m\u001b[0;34m\u001b[0m\u001b[0;34m\u001b[0m\u001b[0m\n",
      "\u001b[0;31mDocstring:\u001b[0m\n",
      "Reproject from an enmap to healpix, optionally including a rotation.\n",
      "\n",
      "imap:  The input enmap[...,ny,nx]. Stokes along the -3rd axis if\n",
      "       present.\n",
      "nside: The nside of the healpix map to generate. Not used if\n",
      "       an output map is passed. Otherwise defaults to the same\n",
      "       resolution as the input map.\n",
      "lmax:  The highest multipole to use in any harmonic-space\n",
      "       operations. Defaults to the input maps' Nyquist limit.\n",
      "out:   An optional array [...,npix] to write the output map to.\n",
      "       The ...  part must match the input map, as must the data\n",
      "       type.\n",
      "rot:   An optional coordinate rotation to apply. Either a string\n",
      "       \"isys,osys\", where isys is the system to transform from,\n",
      "       and osys is the system to transform to. Currently the values\n",
      "       \"cel\"/\"equ\" and \"gal\" are recognized. Alternatively, a tuple of\n",
      "       3 euler zyz euler angles can be passed, in the same convention\n",
      "       as healpy.rotate_alm.\n",
      "spin:  A description of the spin of the entries along the stokes\n",
      "       axis. Defaults to [0,2], which means that the first entry\n",
      "       is spin-0, followed by a spin-2 pair (any non-zero spin\n",
      "       covers a pair of entries). If the axis is longer than\n",
      "       what's covered in the description, then it is repeated as\n",
      "       necessary. Pass spin=[0] to disable any special treatment\n",
      "       of this axis.\n",
      "method: How to interpolate between the input and output\n",
      "       pixelizations. Can be \"harm\" (default) or \"spline\".\n",
      "       \"harm\" maps between them using spherical harmonics\n",
      "       transforms. This preserves the power spectrum (so no window\n",
      "       function is introduced), and averages noise down when the\n",
      "       output pixels are larger than the input pixels. However, it\n",
      "       can suffer from ringing around very bright features, and an\n",
      "       all-positive input map may end up with small negative values.\n",
      "       \"spline\" instead uses spline interpolation to look up the\n",
      "       value in the intput map corresponding to each pixel center\n",
      "       in the output map. The spline order is controlled with the\n",
      "       \"order\" argument. Overall \"harm\" is best suited for normal\n",
      "       sky maps, while \"spline\" with order = 0 or 1 is best suited\n",
      "       for hitcount maps and masks.\n",
      "order: The spline order to use when method=\"spline\".\n",
      "       0 corresponds to nearest neighbor interpolation.\n",
      "       1 corresponds to bilinear interpolation (default)\n",
      "       3 corresponds to bicubic spline interpolation.\n",
      "       0 and 1 are local and do not introduce values outside\n",
      "       the input range, but introduce some aliasing and loss of\n",
      "       power. 3 has less power loss, but still non-zero, and\n",
      "       is vulnerable to ringing.\n",
      "extensive: Whether the map represents an extensive (as opposed to\n",
      "       intensive) quantity. Extensive quantities have values\n",
      "       proportional to the pixel size, unlike intensive quantities.\n",
      "       Hitcount per pixel is an extensive quantity. Hitcount per\n",
      "       square degree is an intensive quantity, as is a temperature\n",
      "       map. Defaults to False.\n",
      "bsize: The spline method operates on batches of pixels to save memory.\n",
      "       This controls the batch size, in pixels. Defaults to 100000.\n",
      "nside_mode: Controls which restrictions apply to nside in the case where\n",
      "       it has to be inferred automatically. Can be \"pow2\", \"mul32\" and \"any\".\n",
      "       \"pow2\", the default, results in nside being a power of two, as\n",
      "       required by the healpix standard.\n",
      "       \"mul32\" relaxes this requirement, making a map where nside is a\n",
      "       multiple of 32. This is compatible with most healpix operations,\n",
      "       but not with ud_grade or the nest pixel ordering.\n",
      "       \"any\" allows for any integer nside.\n",
      "boundary: The boundary conditions assumed for the input map when\n",
      "       method=\"spline\". Defaults to \"constant\", which assumes that\n",
      "       anything outsize the map has a constant value of 0. Another\n",
      "       useful value is \"wrap\", which assumes that the right side\n",
      "       wraps over to the left, and the top to the bottom. See\n",
      "       scipy.ndimage.distance_transform's documentation for other,\n",
      "       less useful values. method=\"harm\" always assumes \"constant\"\n",
      "       regardless of this setting.\n",
      "verbose: Whether to print information about what it's doing.\n",
      "       Defaults to False, which doesn't print anything.\n",
      "\n",
      "Typical usage:\n",
      "* map_healpix  = map2healpix(map,  rot=\"cel,gal\")\n",
      "* ivar_healpix = map2healpix(ivar, rot=\"cel,gal\", method=\"spline\", spin=[0], extensive=True)\n",
      "\u001b[0;31mFile:\u001b[0m      ~/micromamba/envs/pysm/lib/python3.11/site-packages/pixell/reproject.py\n",
      "\u001b[0;31mType:\u001b[0m      function"
     ]
    }
   ],
   "source": [
    "reproject.map2healpix?"
   ]
  },
  {
   "cell_type": "code",
   "execution_count": null,
   "metadata": {},
   "outputs": [],
   "source": []
  }
 ],
 "metadata": {
  "kernelspec": {
   "display_name": "Python 3",
   "language": "python",
   "name": "python3"
  },
  "language_info": {
   "codemirror_mode": {
    "name": "ipython",
    "version": 3
   },
   "file_extension": ".py",
   "mimetype": "text/x-python",
   "name": "python",
   "nbconvert_exporter": "python",
   "pygments_lexer": "ipython3",
   "version": "3.11.0"
  }
 },
 "nbformat": 4,
 "nbformat_minor": 2
}
