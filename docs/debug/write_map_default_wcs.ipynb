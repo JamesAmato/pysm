{
 "cells": [
  {
   "cell_type": "code",
   "execution_count": 1,
   "metadata": {},
   "outputs": [],
   "source": [
    "import pixell.enmap\n",
    "import numpy as np"
   ]
  },
  {
   "cell_type": "code",
   "execution_count": 2,
   "metadata": {},
   "outputs": [],
   "source": [
    "shape, wcs = pixell.enmap.fullsky_geometry(\n",
    "    np.radians(5),\n",
    "    dims=(3,),\n",
    "    variant=\"fejer1\",\n",
    ")\n",
    "\n",
    "m = pixell.enmap.zeros(shape, wcs)\n",
    "pixell.enmap.write_map(\"map_with_wcs.fits\", m)\n",
    "pixell.enmap.write_map(\"map_no_wcs.fits\", np.array(m))"
   ]
  },
  {
   "cell_type": "code",
   "execution_count": 4,
   "metadata": {},
   "outputs": [
    {
     "name": "stdout",
     "output_type": "stream",
     "text": [
      "car:{cdelt:[-5,5],crval:[2.5,0],crpix:[36.50,18.50]}\n",
      ":{cdelt:[1,1],crval:[0,0],crpix:[0.00,0.00]}\n"
     ]
    }
   ],
   "source": [
    "print(pixell.enmap.read_map(\"map_with_wcs.fits\").wcs)\n",
    "print(pixell.enmap.read_map(\"map_no_wcs.fits\").wcs)"
   ]
  },
  {
   "cell_type": "code",
   "execution_count": null,
   "metadata": {},
   "outputs": [],
   "source": []
  }
 ],
 "metadata": {
  "kernelspec": {
   "display_name": "so",
   "language": "python",
   "name": "python3"
  },
  "language_info": {
   "codemirror_mode": {
    "name": "ipython",
    "version": 3
   },
   "file_extension": ".py",
   "mimetype": "text/x-python",
   "name": "python",
   "nbconvert_exporter": "python",
   "pygments_lexer": "ipython3",
   "version": "3.10.11"
  }
 },
 "nbformat": 4,
 "nbformat_minor": 2
}
