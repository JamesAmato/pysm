{
 "cells": [
  {
   "cell_type": "code",
   "execution_count": 1,
   "id": "152b0cd6-6d3d-477e-a454-61a5e0e865f3",
   "metadata": {},
   "outputs": [],
   "source": [
    "import healpy as hp"
   ]
  },
  {
   "cell_type": "code",
   "execution_count": 2,
   "id": "016e5600-17e1-464a-9bd1-a4560fbcc8f4",
   "metadata": {},
   "outputs": [],
   "source": [
    "import numpy as np"
   ]
  },
  {
   "cell_type": "code",
   "execution_count": 12,
   "id": "96a0c906-3378-40e9-86fc-da2c963d3df9",
   "metadata": {},
   "outputs": [],
   "source": [
    "nside = 8192"
   ]
  },
  {
   "cell_type": "code",
   "execution_count": 13,
   "id": "eabf189a-1939-4d03-bcaf-2e1fbb1bec7a",
   "metadata": {},
   "outputs": [],
   "source": [
    "npix = hp.nside2npix(nside)"
   ]
  },
  {
   "cell_type": "code",
   "execution_count": 14,
   "id": "e383dc17-7613-4252-affa-b1023b38208c",
   "metadata": {},
   "outputs": [],
   "source": [
    "m = np.ones(npix)"
   ]
  },
  {
   "cell_type": "code",
   "execution_count": null,
   "id": "5d96c3c5-b905-4908-8c2f-7fee1925ab65",
   "metadata": {},
   "outputs": [],
   "source": [
    "%%time\n",
    "\n",
    "alm = hp.map2alm(m)"
   ]
  },
  {
   "cell_type": "code",
   "execution_count": null,
   "id": "0655f834-436e-4a4a-82c0-aeee71953fb9",
   "metadata": {},
   "outputs": [],
   "source": [
    "%%time\n",
    "\n",
    "m_back = hp.alm2map(alm, nside)"
   ]
  },
  {
   "cell_type": "code",
   "execution_count": null,
   "id": "0aa3a54e-8192-4862-b4d4-7ecf209291ed",
   "metadata": {},
   "outputs": [],
   "source": []
  }
 ],
 "metadata": {
  "kernelspec": {
   "display_name": "so",
   "language": "python",
   "name": "so"
  },
  "language_info": {
   "codemirror_mode": {
    "name": "ipython",
    "version": 3
   },
   "file_extension": ".py",
   "mimetype": "text/x-python",
   "name": "python",
   "nbconvert_exporter": "python",
   "pygments_lexer": "ipython3",
   "version": "3.10.11"
  }
 },
 "nbformat": 4,
 "nbformat_minor": 5
}
