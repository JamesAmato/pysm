{
 "cells": [
  {
   "cell_type": "code",
   "execution_count": 2,
   "metadata": {},
   "outputs": [],
   "source": [
    "import h5py\n",
    "import healpy as hp\n",
    "import netCDF4\n",
    "import numpy as np\n",
    "\n",
    "try:\n",
    "    from numpy import trapezoid\n",
    "except ImportError:\n",
    "    from numpy import trapz as trapezoid\n",
    "import pytest\n",
    "import xarray as xr\n",
    "from numpy.testing import assert_allclose\n",
    "\n",
    "from pysm3 import units as u\n",
    "from pysm3 import utils\n",
    "from pysm3.models.catalog import (\n",
    "    PointSourceCatalog,\n",
    "    evaluate_model,\n",
    "    evaluate_poly,\n",
    "    aggregate,\n",
    ")\n",
    "from pysm3.utils import car_aperture_photometry, healpix_aperture_photometry"
   ]
  },
  {
   "cell_type": "code",
   "execution_count": 3,
   "metadata": {},
   "outputs": [
    {
     "name": "stdout",
     "output_type": "stream",
     "text": [
      "1.7.1\n"
     ]
    }
   ],
   "source": [
    "num_sources = 2\n",
    "indices = np.arange(num_sources)\n",
    "\n",
    "dims = (\"index\", \"power\")\n",
    "catalog = xr.Dataset(\n",
    "    {\n",
    "        \"logpolycoefflux\": (dims, np.zeros((len(indices), 5), dtype=np.float64)),\n",
    "        \"logpolycoefpolflux\": (dims, np.zeros((len(indices), 5), dtype=np.float64)),\n",
    "    },\n",
    "    coords={\n",
    "        \"index\": indices,\n",
    "        \"power\": np.arange(5)[::-1],\n",
    "        \"theta\": (\"index\", np.array([np.pi / 4, np.pi / 2])),\n",
    "        \"phi\": (\"index\", np.zeros(num_sources)),\n",
    "    },\n",
    ")\n",
    "for field in [\"theta\", \"phi\"]:\n",
    "    catalog[field].attrs[\"units\"] = \"rad\"\n",
    "for field in [\"logpolycoefflux\", \"logpolycoefpolflux\"]:\n",
    "    catalog[field].attrs[\"units\"] = \"Jy\"\n",
    "catalog[\"logpolycoefflux\"].loc[{\"index\": 0, \"power\": 0}] = 3.7\n",
    "catalog[\"logpolycoefflux\"].loc[{\"index\": 1, \"power\": 1}] = 2\n",
    "catalog[\"logpolycoefpolflux\"].loc[{\"index\": 1, \"power\": 0}] = 5\n",
    "fn = \"test_catalog.h5\"\n",
    "print(netCDF4.__version__)\n",
    "catalog.to_netcdf(str(fn), format=\"NETCDF4\")  # requires netcdf4 package"
   ]
  },
  {
   "cell_type": "code",
   "execution_count": 4,
   "metadata": {},
   "outputs": [
    {
     "name": "stderr",
     "output_type": "stream",
     "text": [
      "WARNING: function 'max' is not known to astropy's Quantity. Will run it anyway, hoping it will treat ndarray subclasses correctly. Please raise an issue at https://github.com/astropy/astropy/issues. [astropy.units.quantity]\n"
     ]
    },
    {
     "ename": "AssertionError",
     "evalue": "\nNot equal to tolerance rtol=0.001, atol=0\n\nMismatched elements: 1 / 1 (100%)\nMax absolute difference: 0.1759937\nMax relative difference: 1.00000408\n x: Quantity(7.176184e-07, unit='Jy')\n y: Quantity(-0.175993, unit='Jy')",
     "output_type": "error",
     "traceback": [
      "\u001b[0;31m---------------------------------------------------------------------------\u001b[0m",
      "\u001b[0;31mAssertionError\u001b[0m                            Traceback (most recent call last)",
      "Cell \u001b[0;32mIn[4], line 45\u001b[0m\n\u001b[1;32m     43\u001b[0m cutout \u001b[38;5;241m=\u001b[39m output_map[\u001b[38;5;241m1\u001b[39m]\u001b[38;5;241m.\u001b[39msubmap(box) \u001b[38;5;241m*\u001b[39m scaling_factor\u001b[38;5;241m.\u001b[39mvalue\n\u001b[1;32m     44\u001b[0m flux \u001b[38;5;241m=\u001b[39m car_aperture_photometry(cutout, \u001b[38;5;241m2\u001b[39m \u001b[38;5;241m*\u001b[39m fwhm\u001b[38;5;241m.\u001b[39mto_value(u\u001b[38;5;241m.\u001b[39mrad)) \u001b[38;5;241m*\u001b[39m u\u001b[38;5;241m.\u001b[39mJy\n\u001b[0;32m---> 45\u001b[0m \u001b[43massert_allclose\u001b[49m\u001b[43m(\u001b[49m\u001b[43mflux\u001b[49m\u001b[43m,\u001b[49m\u001b[43m \u001b[49m\u001b[43mcatalog_flux_P\u001b[49m\u001b[43m[\u001b[49m\u001b[38;5;241;43m1\u001b[39;49m\u001b[43m]\u001b[49m\u001b[43m \u001b[49m\u001b[38;5;241;43m*\u001b[39;49m\u001b[43m \u001b[49m\u001b[43mnp\u001b[49m\u001b[38;5;241;43m.\u001b[39;49m\u001b[43mcos\u001b[49m\u001b[43m(\u001b[49m\u001b[38;5;241;43m2\u001b[39;49m\u001b[43m \u001b[49m\u001b[38;5;241;43m*\u001b[39;49m\u001b[43m \u001b[49m\u001b[43mpsirand\u001b[49m\u001b[43m[\u001b[49m\u001b[38;5;241;43m1\u001b[39;49m\u001b[43m]\u001b[49m\u001b[43m)\u001b[49m\u001b[43m,\u001b[49m\u001b[43m \u001b[49m\u001b[43mrtol\u001b[49m\u001b[38;5;241;43m=\u001b[39;49m\u001b[38;5;241;43m1e-3\u001b[39;49m\u001b[43m)\u001b[49m\n\u001b[1;32m     47\u001b[0m cutout \u001b[38;5;241m=\u001b[39m output_map[\u001b[38;5;241m2\u001b[39m]\u001b[38;5;241m.\u001b[39msubmap(box) \u001b[38;5;241m*\u001b[39m scaling_factor\u001b[38;5;241m.\u001b[39mvalue\n\u001b[1;32m     48\u001b[0m flux \u001b[38;5;241m=\u001b[39m car_aperture_photometry(cutout, \u001b[38;5;241m2\u001b[39m \u001b[38;5;241m*\u001b[39m fwhm\u001b[38;5;241m.\u001b[39mto_value(u\u001b[38;5;241m.\u001b[39mrad)) \u001b[38;5;241m*\u001b[39m u\u001b[38;5;241m.\u001b[39mJy\n",
      "    \u001b[0;31m[... skipping hidden 1 frame]\u001b[0m\n",
      "File \u001b[0;32m~/mambaforge-pypy3/envs/so/lib/python3.10/contextlib.py:79\u001b[0m, in \u001b[0;36mContextDecorator.__call__.<locals>.inner\u001b[0;34m(*args, **kwds)\u001b[0m\n\u001b[1;32m     76\u001b[0m \u001b[38;5;129m@wraps\u001b[39m(func)\n\u001b[1;32m     77\u001b[0m \u001b[38;5;28;01mdef\u001b[39;00m \u001b[38;5;21minner\u001b[39m(\u001b[38;5;241m*\u001b[39margs, \u001b[38;5;241m*\u001b[39m\u001b[38;5;241m*\u001b[39mkwds):\n\u001b[1;32m     78\u001b[0m     \u001b[38;5;28;01mwith\u001b[39;00m \u001b[38;5;28mself\u001b[39m\u001b[38;5;241m.\u001b[39m_recreate_cm():\n\u001b[0;32m---> 79\u001b[0m         \u001b[38;5;28;01mreturn\u001b[39;00m \u001b[43mfunc\u001b[49m\u001b[43m(\u001b[49m\u001b[38;5;241;43m*\u001b[39;49m\u001b[43margs\u001b[49m\u001b[43m,\u001b[49m\u001b[43m \u001b[49m\u001b[38;5;241;43m*\u001b[39;49m\u001b[38;5;241;43m*\u001b[39;49m\u001b[43mkwds\u001b[49m\u001b[43m)\u001b[49m\n",
      "File \u001b[0;32m~/mambaforge-pypy3/envs/so/lib/python3.10/site-packages/numpy/testing/_private/utils.py:797\u001b[0m, in \u001b[0;36massert_array_compare\u001b[0;34m(comparison, x, y, err_msg, verbose, header, precision, equal_nan, equal_inf, strict)\u001b[0m\n\u001b[1;32m    793\u001b[0m         err_msg \u001b[38;5;241m+\u001b[39m\u001b[38;5;241m=\u001b[39m \u001b[38;5;124m'\u001b[39m\u001b[38;5;130;01m\\n\u001b[39;00m\u001b[38;5;124m'\u001b[39m \u001b[38;5;241m+\u001b[39m \u001b[38;5;124m'\u001b[39m\u001b[38;5;130;01m\\n\u001b[39;00m\u001b[38;5;124m'\u001b[39m\u001b[38;5;241m.\u001b[39mjoin(remarks)\n\u001b[1;32m    794\u001b[0m         msg \u001b[38;5;241m=\u001b[39m build_err_msg([ox, oy], err_msg,\n\u001b[1;32m    795\u001b[0m                             verbose\u001b[38;5;241m=\u001b[39mverbose, header\u001b[38;5;241m=\u001b[39mheader,\n\u001b[1;32m    796\u001b[0m                             names\u001b[38;5;241m=\u001b[39m(\u001b[38;5;124m'\u001b[39m\u001b[38;5;124mx\u001b[39m\u001b[38;5;124m'\u001b[39m, \u001b[38;5;124m'\u001b[39m\u001b[38;5;124my\u001b[39m\u001b[38;5;124m'\u001b[39m), precision\u001b[38;5;241m=\u001b[39mprecision)\n\u001b[0;32m--> 797\u001b[0m         \u001b[38;5;28;01mraise\u001b[39;00m \u001b[38;5;167;01mAssertionError\u001b[39;00m(msg)\n\u001b[1;32m    798\u001b[0m \u001b[38;5;28;01mexcept\u001b[39;00m \u001b[38;5;167;01mValueError\u001b[39;00m:\n\u001b[1;32m    799\u001b[0m     \u001b[38;5;28;01mimport\u001b[39;00m \u001b[38;5;21;01mtraceback\u001b[39;00m\n",
      "\u001b[0;31mAssertionError\u001b[0m: \nNot equal to tolerance rtol=0.001, atol=0\n\nMismatched elements: 1 / 1 (100%)\nMax absolute difference: 0.1759937\nMax relative difference: 1.00000408\n x: Quantity(7.176184e-07, unit='Jy')\n y: Quantity(-0.175993, unit='Jy')"
     ]
    }
   ],
   "source": [
    "\n",
    "# resolution of the map is 7 degrees, beam is 0.5 degrees\n",
    "# all flux should be in the central pixel\n",
    "nside = 32\n",
    "catalog = PointSourceCatalog(fn, nside=nside)\n",
    "freqs = np.exp(np.array([3, 4])) * u.GHz  # ~ 20 and ~ 55 GHz\n",
    "weights = np.array([1, 1], dtype=np.float64)\n",
    "weights /= trapezoid(weights, x=freqs.to_value(u.GHz))\n",
    "\n",
    "scaling_factor = utils.bandpass_unit_conversion(\n",
    "    freqs, weights, input_unit=u.uK_RJ, output_unit=u.Jy / u.sr\n",
    ")\n",
    "catalog_flux = catalog.get_fluxes(freqs, weights=weights)\n",
    "\n",
    "fwhm = 2 * u.deg\n",
    "output_map = catalog.get_emission(\n",
    "    freqs,\n",
    "    weights=weights,\n",
    "    output_units=u.uK_RJ,\n",
    "    fwhm=fwhm,\n",
    "    return_car=True,\n",
    ")\n",
    "assert_allclose(\n",
    "    output_map[0].argmax(unit=\"coord\"), np.array([0, 0]), atol=1e-2, rtol=1e-3\n",
    ")\n",
    "\n",
    "box_half_size_rad = 3 * fwhm.to_value(u.rad)\n",
    "box_center = [0, 0]\n",
    "box = np.array(\n",
    "    [\n",
    "        [box_center[0] - box_half_size_rad, box_center[1] - box_half_size_rad],\n",
    "        [box_center[0] + box_half_size_rad, box_center[1] + box_half_size_rad],\n",
    "    ]\n",
    ")  # in radians\n",
    "cutout = output_map[0].submap(box) * scaling_factor.value\n",
    "flux = car_aperture_photometry(cutout, 2 * fwhm.to_value(u.rad)) * u.Jy\n",
    "assert_allclose(flux, catalog_flux.max(), rtol=1e-3)\n",
    "\n",
    "catalog_flux_P = catalog.get_fluxes(\n",
    "    freqs, weights=weights, coeff=\"logpolycoefpolflux\"\n",
    ")\n",
    "np.random.seed(56567)\n",
    "psirand = np.random.uniform(low=-np.pi / 2.0, high=np.pi / 2.0, size=2)\n",
    "cutout = output_map[1].submap(box) * scaling_factor.value\n",
    "flux = car_aperture_photometry(cutout, 2 * fwhm.to_value(u.rad)) * u.Jy\n",
    "assert_allclose(flux, catalog_flux_P[1] * np.cos(2 * psirand[1]), rtol=1e-3)"
   ]
  },
  {
   "cell_type": "code",
   "execution_count": null,
   "metadata": {},
   "outputs": [
    {
     "name": "stdout",
     "output_type": "stream",
     "text": [
      "[3.7        7.76159416] Jy [0. 5.] Jy\n"
     ]
    }
   ],
   "source": [
    "print(catalog_flux, catalog_flux_P)"
   ]
  },
  {
   "cell_type": "code",
   "execution_count": 10,
   "metadata": {},
   "outputs": [
    {
     "name": "stderr",
     "output_type": "stream",
     "text": [
      "WARNING: function 'max' is not known to astropy's Quantity. Will run it anyway, hoping it will treat ndarray subclasses correctly. Please raise an issue at https://github.com/astropy/astropy/issues. [astropy.units.quantity]\n"
     ]
    },
    {
     "ename": "AssertionError",
     "evalue": "\nNot equal to tolerance rtol=0.001, atol=0\n\nMismatched elements: 1 / 1 (100%)\nMax absolute difference: 4.9969024\nMax relative difference: 1.00000014\n x: Quantity(7.176184e-07, unit='Jy')\n y: Quantity(-4.996902, unit='Jy')",
     "output_type": "error",
     "traceback": [
      "\u001b[0;31m---------------------------------------------------------------------------\u001b[0m",
      "\u001b[0;31mAssertionError\u001b[0m                            Traceback (most recent call last)",
      "Cell \u001b[0;32mIn[10], line 3\u001b[0m\n\u001b[1;32m      1\u001b[0m cutout \u001b[38;5;241m=\u001b[39m output_map[\u001b[38;5;241m2\u001b[39m]\u001b[38;5;241m.\u001b[39msubmap(box) \u001b[38;5;241m*\u001b[39m scaling_factor\u001b[38;5;241m.\u001b[39mvalue\n\u001b[1;32m      2\u001b[0m flux \u001b[38;5;241m=\u001b[39m car_aperture_photometry(cutout, \u001b[38;5;241m2\u001b[39m \u001b[38;5;241m*\u001b[39m fwhm\u001b[38;5;241m.\u001b[39mto_value(u\u001b[38;5;241m.\u001b[39mrad)) \u001b[38;5;241m*\u001b[39m u\u001b[38;5;241m.\u001b[39mJy\n\u001b[0;32m----> 3\u001b[0m \u001b[43massert_allclose\u001b[49m\u001b[43m(\u001b[49m\u001b[43mflux\u001b[49m\u001b[43m,\u001b[49m\u001b[43m \u001b[49m\u001b[43mcatalog_flux_P\u001b[49m\u001b[43m[\u001b[49m\u001b[38;5;241;43m1\u001b[39;49m\u001b[43m]\u001b[49m\u001b[43m \u001b[49m\u001b[38;5;241;43m*\u001b[39;49m\u001b[43m \u001b[49m\u001b[43mnp\u001b[49m\u001b[38;5;241;43m.\u001b[39;49m\u001b[43msin\u001b[49m\u001b[43m(\u001b[49m\u001b[38;5;241;43m2\u001b[39;49m\u001b[43m \u001b[49m\u001b[38;5;241;43m*\u001b[39;49m\u001b[43m \u001b[49m\u001b[43mpsirand\u001b[49m\u001b[43m[\u001b[49m\u001b[38;5;241;43m1\u001b[39;49m\u001b[43m]\u001b[49m\u001b[43m)\u001b[49m\u001b[43m,\u001b[49m\u001b[43m \u001b[49m\u001b[43mrtol\u001b[49m\u001b[38;5;241;43m=\u001b[39;49m\u001b[38;5;241;43m1e-3\u001b[39;49m\u001b[43m)\u001b[49m\n",
      "    \u001b[0;31m[... skipping hidden 1 frame]\u001b[0m\n",
      "File \u001b[0;32m~/mambaforge-pypy3/envs/so/lib/python3.10/contextlib.py:79\u001b[0m, in \u001b[0;36mContextDecorator.__call__.<locals>.inner\u001b[0;34m(*args, **kwds)\u001b[0m\n\u001b[1;32m     76\u001b[0m \u001b[38;5;129m@wraps\u001b[39m(func)\n\u001b[1;32m     77\u001b[0m \u001b[38;5;28;01mdef\u001b[39;00m \u001b[38;5;21minner\u001b[39m(\u001b[38;5;241m*\u001b[39margs, \u001b[38;5;241m*\u001b[39m\u001b[38;5;241m*\u001b[39mkwds):\n\u001b[1;32m     78\u001b[0m     \u001b[38;5;28;01mwith\u001b[39;00m \u001b[38;5;28mself\u001b[39m\u001b[38;5;241m.\u001b[39m_recreate_cm():\n\u001b[0;32m---> 79\u001b[0m         \u001b[38;5;28;01mreturn\u001b[39;00m \u001b[43mfunc\u001b[49m\u001b[43m(\u001b[49m\u001b[38;5;241;43m*\u001b[39;49m\u001b[43margs\u001b[49m\u001b[43m,\u001b[49m\u001b[43m \u001b[49m\u001b[38;5;241;43m*\u001b[39;49m\u001b[38;5;241;43m*\u001b[39;49m\u001b[43mkwds\u001b[49m\u001b[43m)\u001b[49m\n",
      "File \u001b[0;32m~/mambaforge-pypy3/envs/so/lib/python3.10/site-packages/numpy/testing/_private/utils.py:797\u001b[0m, in \u001b[0;36massert_array_compare\u001b[0;34m(comparison, x, y, err_msg, verbose, header, precision, equal_nan, equal_inf, strict)\u001b[0m\n\u001b[1;32m    793\u001b[0m         err_msg \u001b[38;5;241m+\u001b[39m\u001b[38;5;241m=\u001b[39m \u001b[38;5;124m'\u001b[39m\u001b[38;5;130;01m\\n\u001b[39;00m\u001b[38;5;124m'\u001b[39m \u001b[38;5;241m+\u001b[39m \u001b[38;5;124m'\u001b[39m\u001b[38;5;130;01m\\n\u001b[39;00m\u001b[38;5;124m'\u001b[39m\u001b[38;5;241m.\u001b[39mjoin(remarks)\n\u001b[1;32m    794\u001b[0m         msg \u001b[38;5;241m=\u001b[39m build_err_msg([ox, oy], err_msg,\n\u001b[1;32m    795\u001b[0m                             verbose\u001b[38;5;241m=\u001b[39mverbose, header\u001b[38;5;241m=\u001b[39mheader,\n\u001b[1;32m    796\u001b[0m                             names\u001b[38;5;241m=\u001b[39m(\u001b[38;5;124m'\u001b[39m\u001b[38;5;124mx\u001b[39m\u001b[38;5;124m'\u001b[39m, \u001b[38;5;124m'\u001b[39m\u001b[38;5;124my\u001b[39m\u001b[38;5;124m'\u001b[39m), precision\u001b[38;5;241m=\u001b[39mprecision)\n\u001b[0;32m--> 797\u001b[0m         \u001b[38;5;28;01mraise\u001b[39;00m \u001b[38;5;167;01mAssertionError\u001b[39;00m(msg)\n\u001b[1;32m    798\u001b[0m \u001b[38;5;28;01mexcept\u001b[39;00m \u001b[38;5;167;01mValueError\u001b[39;00m:\n\u001b[1;32m    799\u001b[0m     \u001b[38;5;28;01mimport\u001b[39;00m \u001b[38;5;21;01mtraceback\u001b[39;00m\n",
      "\u001b[0;31mAssertionError\u001b[0m: \nNot equal to tolerance rtol=0.001, atol=0\n\nMismatched elements: 1 / 1 (100%)\nMax absolute difference: 4.9969024\nMax relative difference: 1.00000014\n x: Quantity(7.176184e-07, unit='Jy')\n y: Quantity(-4.996902, unit='Jy')"
     ]
    }
   ],
   "source": [
    "cutout = output_map[2].submap(box) * scaling_factor.value\n",
    "flux = car_aperture_photometry(cutout, 2 * fwhm.to_value(u.rad)) * u.Jy\n",
    "assert_allclose(flux, catalog_flux_P[1] * np.sin(2 * psirand[1]), rtol=1e-3)"
   ]
  },
  {
   "cell_type": "code",
   "execution_count": 20,
   "metadata": {},
   "outputs": [
    {
     "data": {
      "text/plain": [
       "<matplotlib.image.AxesImage at 0x1555096d5db0>"
      ]
     },
     "execution_count": 20,
     "metadata": {},
     "output_type": "execute_result"
    },
    {
     "data": {
      "image/png": "[encoded data removed]",
      "text/plain": [
       "<Figure size 640x480 with 1 Axes>"
      ]
     },
     "metadata": {},
     "output_type": "display_data"
    }
   ],
   "source": [
    "plt.imshow(output_map[0].submap(box) * scaling_factor.value, vmin=0, vmax=1000)"
   ]
  },
  {
   "cell_type": "code",
   "execution_count": 22,
   "metadata": {},
   "outputs": [
    {
     "data": {
      "text/plain": [
       "<matplotlib.image.AxesImage at 0x1555097bfb80>"
      ]
     },
     "execution_count": 22,
     "metadata": {},
     "output_type": "execute_result"
    },
    {
     "data": {
      "image/png": "[encoded data removed]",
      "text/plain": [
       "<Figure size 640x480 with 1 Axes>"
      ]
     },
     "metadata": {},
     "output_type": "display_data"
    }
   ],
   "source": [
    "\n",
    "plt.imshow(output_map[1].submap(box) * scaling_factor.value, vmin=0, vmax=1e-3)"
   ]
  },
  {
   "cell_type": "code",
   "execution_count": 7,
   "metadata": {},
   "outputs": [
    {
     "data": {
      "text/plain": [
       "<matplotlib.image.AxesImage at 0x155510d80b80>"
      ]
     },
     "execution_count": 7,
     "metadata": {},
     "output_type": "execute_result"
    },
    {
     "data": {
      "image/png": "[encoded data removed]",
      "text/plain": [
       "<Figure size 640x480 with 1 Axes>"
      ]
     },
     "metadata": {},
     "output_type": "display_data"
    }
   ],
   "source": [
    "import matplotlib.pyplot as plt\n",
    "\n",
    "plt.imshow(cutout)"
   ]
  },
  {
   "cell_type": "code",
   "execution_count": 8,
   "metadata": {},
   "outputs": [
    {
     "data": {
      "text/plain": [
       "array(0.00044921, dtype=float32)"
      ]
     },
     "execution_count": 8,
     "metadata": {},
     "output_type": "execute_result"
    }
   ],
   "source": [
    "cutout.max()"
   ]
  },
  {
   "cell_type": "code",
   "execution_count": 9,
   "metadata": {},
   "outputs": [
    {
     "data": {
      "text/latex": [
       "$[3.7,~7.7615942] \\; \\mathrm{Jy}$"
      ],
      "text/plain": [
       "<Quantity [3.7       , 7.76159416] Jy>"
      ]
     },
     "execution_count": 9,
     "metadata": {},
     "output_type": "execute_result"
    }
   ],
   "source": [
    "catalog_flux"
   ]
  },
  {
   "cell_type": "code",
   "execution_count": null,
   "metadata": {},
   "outputs": [],
   "source": []
  }
 ],
 "metadata": {
  "kernelspec": {
   "display_name": "so",
   "language": "python",
   "name": "python3"
  },
  "language_info": {
   "codemirror_mode": {
    "name": "ipython",
    "version": 3
   },
   "file_extension": ".py",
   "mimetype": "text/x-python",
   "name": "python",
   "nbconvert_exporter": "python",
   "pygments_lexer": "ipython3",
   "version": "3.10.11"
  }
 },
 "nbformat": 4,
 "nbformat_minor": 2
}
