{
 "cells": [
  {
   "cell_type": "code",
   "execution_count": 1,
   "id": "0ed31a46-d481-4958-af82-3889e2f6b80a",
   "metadata": {
    "execution": {
     "iopub.execute_input": "2024-06-27T11:03:05.236300Z",
     "iopub.status.busy": "2024-06-27T11:03:05.236031Z",
     "iopub.status.idle": "2024-06-27T11:03:09.246665Z",
     "shell.execute_reply": "2024-06-27T11:03:09.246076Z"
    },
    "papermill": {
     "duration": 4.026483,
     "end_time": "2024-06-27T11:03:09.248122",
     "exception": false,
     "start_time": "2024-06-27T11:03:05.221639",
     "status": "completed"
    },
    "tags": []
   },
   "outputs": [],
   "source": [
    "import h5py\n",
    "import numpy as np\n",
    "import healpy as hp\n",
    "import matplotlib.pyplot as plt"
   ]
  },
  {
   "cell_type": "code",
   "execution_count": 2,
   "id": "8e35f4b9-bc39-49e9-af61-67464526f4d9",
   "metadata": {
    "execution": {
     "iopub.execute_input": "2024-06-27T11:03:09.262818Z",
     "iopub.status.busy": "2024-06-27T11:03:09.262601Z",
     "iopub.status.idle": "2024-06-27T11:03:09.373390Z",
     "shell.execute_reply": "2024-06-27T11:03:09.372913Z"
    },
    "papermill": {
     "duration": 0.118578,
     "end_time": "2024-06-27T11:03:09.374461",
     "exception": false,
     "start_time": "2024-06-27T11:03:09.255883",
     "status": "completed"
    },
    "tags": []
   },
   "outputs": [
    {
     "name": "stdout",
     "output_type": "stream",
     "text": [
      "/global/cfs/cdirs/sobs/www/users/Radio_WebSky/matched_catalogs_2\n"
     ]
    }
   ],
   "source": [
    "cd /global/cfs/cdirs/sobs/www/users/Radio_WebSky/matched_catalogs_2"
   ]
  },
  {
   "cell_type": "code",
   "execution_count": 3,
   "id": "031d3e3d-b9d0-4c73-80bb-bbd804a825fe",
   "metadata": {
    "execution": {
     "iopub.execute_input": "2024-06-27T11:03:09.388634Z",
     "iopub.status.busy": "2024-06-27T11:03:09.388428Z",
     "iopub.status.idle": "2024-06-27T11:03:09.862397Z",
     "shell.execute_reply": "2024-06-27T11:03:09.861715Z"
    },
    "papermill": {
     "duration": 0.482588,
     "end_time": "2024-06-27T11:03:09.863617",
     "exception": false,
     "start_time": "2024-06-27T11:03:09.381029",
     "status": "completed"
    },
    "tags": []
   },
   "outputs": [
    {
     "name": "stdout",
     "output_type": "stream",
     "text": [
      "catalog_100.0.h5  catalog_232.0.h5  catalog_353.0.h5  catalog_643.0.h5\r\n",
      "catalog_111.0.h5  catalog_24.5.h5   catalog_375.0.h5  catalog_67.8.h5\r\n",
      "catalog_129.0.h5  catalog_256.0.h5  catalog_409.0.h5  catalog_70.0.h5\r\n",
      "catalog_143.0.h5  catalog_27.3.h5   catalog_41.7.h5   catalog_729.0.h5\r\n",
      "catalog_153.0.h5  catalog_275.0.h5  catalog_44.0.h5   catalog_73.7.h5\r\n",
      "catalog_164.0.h5  catalog_294.0.h5  catalog_467.0.h5  catalog_79.6.h5\r\n",
      "catalog_18.7.h5   catalog_30.0.h5   catalog_47.4.h5   catalog_817.0.h5\r\n",
      "catalog_189.0.h5  catalog_306.0.h5  catalog_525.0.h5  catalog_857.0.h5\r\n",
      "catalog_21.6.h5   catalog_314.0.h5  catalog_545.0.h5  catalog_90.2.h5\r\n",
      "catalog_210.0.h5  catalog_340.0.h5  catalog_584.0.h5  catalog_906.0.h5\r\n",
      "catalog_217.0.h5  catalog_35.9.h5   catalog_63.9.h5\r\n"
     ]
    }
   ],
   "source": [
    "%ls"
   ]
  },
  {
   "cell_type": "code",
   "execution_count": 4,
   "id": "ba71f7d1",
   "metadata": {
    "execution": {
     "iopub.execute_input": "2024-06-27T11:03:09.880107Z",
     "iopub.status.busy": "2024-06-27T11:03:09.879867Z",
     "iopub.status.idle": "2024-06-27T11:03:09.883207Z",
     "shell.execute_reply": "2024-06-27T11:03:09.882752Z"
    },
    "papermill": {
     "duration": 0.012164,
     "end_time": "2024-06-27T11:03:09.884216",
     "exception": false,
     "start_time": "2024-06-27T11:03:09.872052",
     "status": "completed"
    },
    "tags": []
   },
   "outputs": [],
   "source": [
    "freqs = [\n",
    "    \"18.7\",\n",
    "    \"24.5\",\n",
    "    \"44.0\",\n",
    "    \"70.0\",\n",
    "    \"100.0\",\n",
    "    \"143.0\",\n",
    "    \"217.0\",\n",
    "    \"353.0\",\n",
    "    \"545.0\",\n",
    "    \"643.0\",\n",
    "    \"729.0\",\n",
    "    \"857.0\",\n",
    "    \"906.0\",\n",
    "]"
   ]
  },
  {
   "cell_type": "code",
   "execution_count": 5,
   "id": "d0653ac2-3d67-4480-849d-bcca2727a143",
   "metadata": {
    "execution": {
     "iopub.execute_input": "2024-06-27T11:03:09.898647Z",
     "iopub.status.busy": "2024-06-27T11:03:09.898494Z",
     "iopub.status.idle": "2024-06-27T11:03:09.968573Z",
     "shell.execute_reply": "2024-06-27T11:03:09.968088Z"
    },
    "papermill": {
     "duration": 0.078639,
     "end_time": "2024-06-27T11:03:09.969831",
     "exception": false,
     "start_time": "2024-06-27T11:03:09.891192",
     "status": "completed"
    },
    "tags": []
   },
   "outputs": [],
   "source": [
    "cat = h5py.File(\"catalog_100.0.h5\", \"r\")"
   ]
  },
  {
   "cell_type": "markdown",
   "id": "80b4c835",
   "metadata": {
    "papermill": {
     "duration": 0.006384,
     "end_time": "2024-06-27T11:03:09.983148",
     "exception": false,
     "start_time": "2024-06-27T11:03:09.976764",
     "status": "completed"
    },
    "tags": []
   },
   "source": [
    "There are no metadata in the file, I guess fluxes are in `Jy`"
   ]
  },
  {
   "cell_type": "code",
   "execution_count": 6,
   "id": "5f8de1f5",
   "metadata": {
    "execution": {
     "iopub.execute_input": "2024-06-27T11:03:09.997293Z",
     "iopub.status.busy": "2024-06-27T11:03:09.997033Z",
     "iopub.status.idle": "2024-06-27T11:03:09.999593Z",
     "shell.execute_reply": "2024-06-27T11:03:09.999170Z"
    },
    "papermill": {
     "duration": 0.010882,
     "end_time": "2024-06-27T11:03:10.000575",
     "exception": false,
     "start_time": "2024-06-27T11:03:09.989693",
     "status": "completed"
    },
    "tags": []
   },
   "outputs": [],
   "source": [
    "cutoff_flux = 1e-3"
   ]
  },
  {
   "cell_type": "code",
   "execution_count": 7,
   "id": "1ad4445f",
   "metadata": {
    "execution": {
     "iopub.execute_input": "2024-06-27T11:03:10.014470Z",
     "iopub.status.busy": "2024-06-27T11:03:10.014302Z",
     "iopub.status.idle": "2024-06-27T11:03:11.957830Z",
     "shell.execute_reply": "2024-06-27T11:03:11.957248Z"
    },
    "papermill": {
     "duration": 1.952123,
     "end_time": "2024-06-27T11:03:11.959353",
     "exception": false,
     "start_time": "2024-06-27T11:03:10.007230",
     "status": "completed"
    },
    "tags": []
   },
   "outputs": [],
   "source": [
    "high_flux_sources_mask = cat[\"flux\"][:] > cutoff_flux"
   ]
  },
  {
   "cell_type": "code",
   "execution_count": 8,
   "id": "e916cd08",
   "metadata": {
    "execution": {
     "iopub.execute_input": "2024-06-27T11:03:12.002526Z",
     "iopub.status.busy": "2024-06-27T11:03:12.002325Z",
     "iopub.status.idle": "2024-06-27T11:03:12.077717Z",
     "shell.execute_reply": "2024-06-27T11:03:12.077195Z"
    },
    "papermill": {
     "duration": 0.108826,
     "end_time": "2024-06-27T11:03:12.078721",
     "exception": false,
     "start_time": "2024-06-27T11:03:11.969895",
     "status": "completed"
    },
    "tags": []
   },
   "outputs": [
    {
     "data": {
      "text/plain": [
       "372255"
      ]
     },
     "execution_count": 8,
     "metadata": {},
     "output_type": "execute_result"
    }
   ],
   "source": [
    "(high_flux_sources_mask).sum()"
   ]
  },
  {
   "cell_type": "code",
   "execution_count": 9,
   "id": "4483e313",
   "metadata": {
    "execution": {
     "iopub.execute_input": "2024-06-27T11:03:12.093850Z",
     "iopub.status.busy": "2024-06-27T11:03:12.093643Z",
     "iopub.status.idle": "2024-06-27T11:03:12.212006Z",
     "shell.execute_reply": "2024-06-27T11:03:12.211609Z"
    },
    "papermill": {
     "duration": 0.127315,
     "end_time": "2024-06-27T11:03:12.212973",
     "exception": false,
     "start_time": "2024-06-27T11:03:12.085658",
     "status": "completed"
    },
    "tags": []
   },
   "outputs": [
    {
     "data": {
      "text/plain": [
       "0.13211945911740433"
      ]
     },
     "execution_count": 9,
     "metadata": {},
     "output_type": "execute_result"
    }
   ],
   "source": [
    "high_flux_sources_mask.mean() * 100"
   ]
  },
  {
   "cell_type": "code",
   "execution_count": 10,
   "id": "06739d8b-fc8a-46d8-a430-c905f89fb37c",
   "metadata": {
    "execution": {
     "iopub.execute_input": "2024-06-27T11:03:12.228796Z",
     "iopub.status.busy": "2024-06-27T11:03:12.228637Z",
     "iopub.status.idle": "2024-06-27T11:03:12.257469Z",
     "shell.execute_reply": "2024-06-27T11:03:12.256943Z"
    },
    "papermill": {
     "duration": 0.037872,
     "end_time": "2024-06-27T11:03:12.258531",
     "exception": false,
     "start_time": "2024-06-27T11:03:12.220659",
     "status": "completed"
    },
    "tags": []
   },
   "outputs": [
    {
     "name": "stdout",
     "output_type": "stream",
     "text": [
      "flux [3.24291534e-07 3.16862867e-07 3.17171157e-07]\n",
      "phi [3.22861886 3.22861886 3.22861886]\n",
      "polarized flux [1.42910628e-09 1.99535624e-08 2.29563857e-09]\n",
      "theta [1.64009452 1.64009452 1.64009452]\n"
     ]
    }
   ],
   "source": [
    "for k, v in cat.items():\n",
    "    print(k, v[:3])"
   ]
  },
  {
   "cell_type": "code",
   "execution_count": 11,
   "id": "306159e9",
   "metadata": {
    "execution": {
     "iopub.execute_input": "2024-06-27T11:03:12.273651Z",
     "iopub.status.busy": "2024-06-27T11:03:12.273442Z",
     "iopub.status.idle": "2024-06-27T11:03:12.319216Z",
     "shell.execute_reply": "2024-06-27T11:03:12.318579Z"
    },
    "papermill": {
     "duration": 0.054896,
     "end_time": "2024-06-27T11:03:12.320496",
     "exception": false,
     "start_time": "2024-06-27T11:03:12.265600",
     "status": "completed"
    },
    "tags": []
   },
   "outputs": [],
   "source": [
    "(all_indices,) = np.nonzero(high_flux_sources_mask)"
   ]
  },
  {
   "cell_type": "code",
   "execution_count": 12,
   "id": "1b7ed1da-8a08-47a0-a513-538bfec1dd9b",
   "metadata": {
    "execution": {
     "iopub.execute_input": "2024-06-27T11:03:12.335979Z",
     "iopub.status.busy": "2024-06-27T11:03:12.335798Z",
     "iopub.status.idle": "2024-06-27T11:03:12.339255Z",
     "shell.execute_reply": "2024-06-27T11:03:12.338811Z"
    },
    "papermill": {
     "duration": 0.012085,
     "end_time": "2024-06-27T11:03:12.340271",
     "exception": false,
     "start_time": "2024-06-27T11:03:12.328186",
     "status": "completed"
    },
    "tags": []
   },
   "outputs": [
    {
     "data": {
      "text/plain": [
       "372255"
      ]
     },
     "execution_count": 12,
     "metadata": {},
     "output_type": "execute_result"
    }
   ],
   "source": [
    "len(all_indices)"
   ]
  },
  {
   "cell_type": "code",
   "execution_count": 13,
   "id": "06ee9c0f-c6d6-4f86-ba98-5ec295e18f0b",
   "metadata": {
    "execution": {
     "iopub.execute_input": "2024-06-27T11:03:12.354755Z",
     "iopub.status.busy": "2024-06-27T11:03:12.354567Z",
     "iopub.status.idle": "2024-06-27T11:03:12.404072Z",
     "shell.execute_reply": "2024-06-27T11:03:12.403590Z"
    },
    "papermill": {
     "duration": 0.058266,
     "end_time": "2024-06-27T11:03:12.405264",
     "exception": false,
     "start_time": "2024-06-27T11:03:12.346998",
     "status": "completed"
    },
    "tags": []
   },
   "outputs": [],
   "source": [
    "all_indices = np.array(sorted(all_indices))"
   ]
  },
  {
   "cell_type": "code",
   "execution_count": 14,
   "id": "886dbbaf-8890-449c-bab4-2f7eba722d31",
   "metadata": {
    "execution": {
     "iopub.execute_input": "2024-06-27T11:03:12.421611Z",
     "iopub.status.busy": "2024-06-27T11:03:12.421415Z",
     "iopub.status.idle": "2024-06-27T11:03:14.454325Z",
     "shell.execute_reply": "2024-06-27T11:03:14.453747Z"
    },
    "papermill": {
     "duration": 2.042507,
     "end_time": "2024-06-27T11:03:14.455704",
     "exception": false,
     "start_time": "2024-06-27T11:03:12.413197",
     "status": "completed"
    },
    "tags": []
   },
   "outputs": [],
   "source": [
    "import pandas as pd\n",
    "import xarray as xr"
   ]
  },
  {
   "cell_type": "code",
   "execution_count": 15,
   "id": "b918e34e-b782-480b-8067-c3c31df9c436",
   "metadata": {
    "execution": {
     "iopub.execute_input": "2024-06-27T11:03:14.482926Z",
     "iopub.status.busy": "2024-06-27T11:03:14.482697Z",
     "iopub.status.idle": "2024-06-27T11:03:14.485508Z",
     "shell.execute_reply": "2024-06-27T11:03:14.485062Z"
    },
    "papermill": {
     "duration": 0.014321,
     "end_time": "2024-06-27T11:03:14.486506",
     "exception": false,
     "start_time": "2024-06-27T11:03:14.472185",
     "status": "completed"
    },
    "tags": []
   },
   "outputs": [],
   "source": [
    "columns = [\"theta\", \"phi\", \"flux\", \"polarized flux\"]"
   ]
  },
  {
   "cell_type": "code",
   "execution_count": 16,
   "id": "0851b3a4-7214-4182-9afb-c21768fd96e4",
   "metadata": {
    "execution": {
     "iopub.execute_input": "2024-06-27T11:03:14.519543Z",
     "iopub.status.busy": "2024-06-27T11:03:14.519337Z",
     "iopub.status.idle": "2024-06-27T11:03:14.530055Z",
     "shell.execute_reply": "2024-06-27T11:03:14.529558Z"
    },
    "papermill": {
     "duration": 0.026912,
     "end_time": "2024-06-27T11:03:14.531157",
     "exception": false,
     "start_time": "2024-06-27T11:03:14.504245",
     "status": "completed"
    },
    "tags": []
   },
   "outputs": [],
   "source": [
    "flux = xr.DataArray(\n",
    "    data=np.zeros((len(all_indices), len(freqs)), dtype=np.float64),\n",
    "    coords={\"index\": all_indices, \"freq\": list(map(float, freqs))},\n",
    "    name=\"flux\",\n",
    ")\n",
    "fluxnorm = flux.copy()"
   ]
  },
  {
   "cell_type": "code",
   "execution_count": 17,
   "id": "394e8f66-d9e7-446e-af75-6940184da4a7",
   "metadata": {
    "execution": {
     "iopub.execute_input": "2024-06-27T11:03:14.568194Z",
     "iopub.status.busy": "2024-06-27T11:03:14.567968Z",
     "iopub.status.idle": "2024-06-27T11:03:14.576744Z",
     "shell.execute_reply": "2024-06-27T11:03:14.576310Z"
    },
    "papermill": {
     "duration": 0.027027,
     "end_time": "2024-06-27T11:03:14.577915",
     "exception": false,
     "start_time": "2024-06-27T11:03:14.550888",
     "status": "completed"
    },
    "tags": []
   },
   "outputs": [],
   "source": [
    "polarized_flux = flux.copy()"
   ]
  },
  {
   "cell_type": "code",
   "execution_count": 18,
   "id": "6dedf80b-4d9c-4a8b-b028-ca99f5f1393e",
   "metadata": {
    "execution": {
     "iopub.execute_input": "2024-06-27T11:03:14.608989Z",
     "iopub.status.busy": "2024-06-27T11:03:14.608782Z",
     "iopub.status.idle": "2024-06-27T11:07:19.747753Z",
     "shell.execute_reply": "2024-06-27T11:07:19.747130Z"
    },
    "papermill": {
     "duration": 245.149027,
     "end_time": "2024-06-27T11:07:19.749412",
     "exception": false,
     "start_time": "2024-06-27T11:03:14.600385",
     "status": "completed"
    },
    "tags": []
   },
   "outputs": [
    {
     "name": "stdout",
     "output_type": "stream",
     "text": [
      "18.7\n",
      "24.5\n",
      "44.0\n",
      "70.0\n",
      "100.0\n",
      "143.0\n",
      "217.0\n",
      "353.0\n",
      "545.0\n",
      "643.0\n",
      "729.0\n",
      "857.0\n",
      "906.0\n"
     ]
    }
   ],
   "source": [
    "sources_xr = xr.Dataset(\n",
    "    {\"flux\": flux, \"polarized_flux\": polarized_flux, \"fluxnorm\": fluxnorm}\n",
    ")\n",
    "for freq in freqs:\n",
    "    print(freq)\n",
    "    cat = h5py.File(f\"catalog_{freq}.h5\", \"r\")\n",
    "    for column in [\"flux\", \"polarized_flux\"]:\n",
    "        sources_xr[column].loc[dict(index=all_indices, freq=float(freq))] = cat[\n",
    "            column.replace(\"_\", \" \")\n",
    "        ][high_flux_sources_mask]"
   ]
  },
  {
   "cell_type": "code",
   "execution_count": 19,
   "id": "8f1fa80e-f674-40c1-bb9d-901503650240",
   "metadata": {
    "execution": {
     "iopub.execute_input": "2024-06-27T11:07:19.771124Z",
     "iopub.status.busy": "2024-06-27T11:07:19.770934Z",
     "iopub.status.idle": "2024-06-27T11:07:19.918759Z",
     "shell.execute_reply": "2024-06-27T11:07:19.918192Z"
    },
    "papermill": {
     "duration": 0.157791,
     "end_time": "2024-06-27T11:07:19.919914",
     "exception": false,
     "start_time": "2024-06-27T11:07:19.762123",
     "status": "completed"
    },
    "tags": []
   },
   "outputs": [],
   "source": [
    "sources_xr = sources_xr.sortby(sources_xr.flux.loc[dict(freq=float(freqs[0]))])"
   ]
  },
  {
   "cell_type": "code",
   "execution_count": 20,
   "id": "074fa7ac-7aae-4513-af86-cbe2a24082b1",
   "metadata": {
    "execution": {
     "iopub.execute_input": "2024-06-27T11:07:19.952685Z",
     "iopub.status.busy": "2024-06-27T11:07:19.952477Z",
     "iopub.status.idle": "2024-06-27T11:07:19.956953Z",
     "shell.execute_reply": "2024-06-27T11:07:19.956512Z"
    },
    "papermill": {
     "duration": 0.015711,
     "end_time": "2024-06-27T11:07:19.957995",
     "exception": false,
     "start_time": "2024-06-27T11:07:19.942284",
     "status": "completed"
    },
    "tags": []
   },
   "outputs": [],
   "source": [
    "sources_xr.coords[\"index\"] = np.arange(len(sources_xr.coords[\"index\"]))"
   ]
  },
  {
   "cell_type": "code",
   "execution_count": 21,
   "id": "e38b940b-9b60-4162-bb0f-392dcea5563f",
   "metadata": {
    "execution": {
     "iopub.execute_input": "2024-06-27T11:07:19.974473Z",
     "iopub.status.busy": "2024-06-27T11:07:19.974315Z",
     "iopub.status.idle": "2024-06-27T11:12:25.379314Z",
     "shell.execute_reply": "2024-06-27T11:12:25.378574Z"
    },
    "papermill": {
     "duration": 305.415048,
     "end_time": "2024-06-27T11:12:25.380786",
     "exception": false,
     "start_time": "2024-06-27T11:07:19.965738",
     "status": "completed"
    },
    "tags": []
   },
   "outputs": [],
   "source": [
    "for s in range(len(all_indices)):\n",
    "    sources_xr[\"fluxnorm\"].loc[dict(index=s)] = sources_xr[\"flux\"].loc[\n",
    "        dict(index=s)\n",
    "    ] / sources_xr[\"flux\"].loc[dict(index=s)].sel(freq=100)"
   ]
  },
  {
   "cell_type": "code",
   "execution_count": 22,
   "id": "8728e619-1716-4894-9ecb-94ba384a2266",
   "metadata": {
    "execution": {
     "iopub.execute_input": "2024-06-27T11:12:25.401718Z",
     "iopub.status.busy": "2024-06-27T11:12:25.401558Z",
     "iopub.status.idle": "2024-06-27T11:12:25.404160Z",
     "shell.execute_reply": "2024-06-27T11:12:25.403732Z"
    },
    "papermill": {
     "duration": 0.012806,
     "end_time": "2024-06-27T11:12:25.405158",
     "exception": false,
     "start_time": "2024-06-27T11:12:25.392352",
     "status": "completed"
    },
    "tags": []
   },
   "outputs": [],
   "source": [
    "#print(sources_xr[\"fluxnorm\"].loc[dict(index=s)], sources_xr[\"flux\"].loc[dict(index=s)])"
   ]
  },
  {
   "cell_type": "code",
   "execution_count": 23,
   "id": "e6f77665-62a3-45d5-b1cd-73f19e4ba279",
   "metadata": {
    "execution": {
     "iopub.execute_input": "2024-06-27T11:12:25.421863Z",
     "iopub.status.busy": "2024-06-27T11:12:25.421646Z",
     "iopub.status.idle": "2024-06-27T11:12:25.433854Z",
     "shell.execute_reply": "2024-06-27T11:12:25.433425Z"
    },
    "papermill": {
     "duration": 0.021794,
     "end_time": "2024-06-27T11:12:25.434940",
     "exception": false,
     "start_time": "2024-06-27T11:12:25.413146",
     "status": "completed"
    },
    "tags": []
   },
   "outputs": [],
   "source": [
    "#sources_xr.fluxnorm.plot(vmin=0, vmax=100)\n",
    "#plt.figure()\n",
    "#sources_xr.flux.plot(vmin=0, vmax=100)"
   ]
  },
  {
   "cell_type": "code",
   "execution_count": 24,
   "id": "41cd2b38-0caf-41ae-a8f5-871d205238c3",
   "metadata": {
    "execution": {
     "iopub.execute_input": "2024-06-27T11:12:25.451513Z",
     "iopub.status.busy": "2024-06-27T11:12:25.451317Z",
     "iopub.status.idle": "2024-06-27T11:12:25.463435Z",
     "shell.execute_reply": "2024-06-27T11:12:25.462896Z"
    },
    "papermill": {
     "duration": 0.021755,
     "end_time": "2024-06-27T11:12:25.464631",
     "exception": false,
     "start_time": "2024-06-27T11:12:25.442876",
     "status": "completed"
    },
    "tags": []
   },
   "outputs": [],
   "source": [
    "sources_xr[\"logpolycoefflux\"] = xr.DataArray(\n",
    "    np.zeros((len(all_indices), 5), dtype=np.float64),\n",
    "    dims=[\"index\", \"power\"],\n",
    "    coords={\"power\": np.arange(5)},\n",
    ")\n",
    "sources_xr[\"logpolycoefnorm\"] = sources_xr[\"logpolycoefflux\"].copy()\n",
    "sources_xr[\"logpolycoefpolflux\"] = sources_xr[\"logpolycoefflux\"].copy()"
   ]
  },
  {
   "cell_type": "code",
   "execution_count": 25,
   "id": "6dbd89aa-fe34-401f-8d9d-43330c8057c9",
   "metadata": {
    "execution": {
     "iopub.execute_input": "2024-06-27T11:12:25.481852Z",
     "iopub.status.busy": "2024-06-27T11:12:25.481691Z",
     "iopub.status.idle": "2024-06-27T23:53:19.807134Z",
     "shell.execute_reply": "2024-06-27T23:53:19.806692Z"
    },
    "papermill": {
     "duration": 45654.335652,
     "end_time": "2024-06-27T23:53:19.808563",
     "exception": false,
     "start_time": "2024-06-27T11:12:25.472911",
     "status": "completed"
    },
    "tags": []
   },
   "outputs": [],
   "source": [
    "from scipy.optimize import curve_fit\n",
    "\n",
    "\n",
    "def model(freq, a, b, c, d, e):\n",
    "    log_freq = np.log(freq)\n",
    "    return a + b * log_freq + c * log_freq**2 + d * log_freq**3 + e * log_freq**4\n",
    "\n",
    "\n",
    "for s in range(len(all_indices)):\n",
    "    sources_xr[\"logpolycoefflux\"].loc[dict(index=s)], cov = curve_fit(\n",
    "        model, sources_xr.coords[\"freq\"], sources_xr.flux.sel(index=s)\n",
    "    )\n",
    "    sources_xr[\"logpolycoefpolflux\"].loc[dict(index=s)], cov = curve_fit(\n",
    "        model, sources_xr.coords[\"freq\"], sources_xr.polarized_flux.sel(index=s)\n",
    "    )\n",
    "    sources_xr[\"logpolycoefnorm\"].loc[dict(index=s)], cov = curve_fit(\n",
    "        model, sources_xr.coords[\"freq\"], sources_xr.fluxnorm.sel(index=s)\n",
    "    )"
   ]
  },
  {
   "cell_type": "code",
   "execution_count": 26,
   "id": "fbfa997a-54f3-43ab-bfbe-6b1ae107a368",
   "metadata": {
    "execution": {
     "iopub.execute_input": "2024-06-27T23:53:19.841991Z",
     "iopub.status.busy": "2024-06-27T23:53:19.841804Z",
     "iopub.status.idle": "2024-06-27T23:53:19.844349Z",
     "shell.execute_reply": "2024-06-27T23:53:19.843995Z"
    },
    "papermill": {
     "duration": 0.013058,
     "end_time": "2024-06-27T23:53:19.845321",
     "exception": false,
     "start_time": "2024-06-27T23:53:19.832263",
     "status": "completed"
    },
    "tags": []
   },
   "outputs": [],
   "source": [
    "# for s in range(len(all_indices)):\n",
    "#     plt.figure()\n",
    "#     sources_xr.flux.sel(index=s).plot(marker=\"o\", linestyle=\"none\")  # , xscale=\"log\")\n",
    "#     sources_xr.fluxnorm.sel(index=s).plot(\n",
    "#         marker=\"o\", linestyle=\"none\"\n",
    "#     )  # , xscale=\"log\")\n",
    "\n",
    "#     plt.loglog(\n",
    "#         sources_xr.coords[\"freq\"],\n",
    "#         model(sources_xr.coords[\"freq\"], *sources_xr.logpolycoefflux.sel(index=s)),\n",
    "#     )\n",
    "#     plt.loglog(\n",
    "#         sources_xr.coords[\"freq\"],\n",
    "#         model(sources_xr.coords[\"freq\"], *sources_xr.logpolycoefnorm.sel(index=s)),\n",
    "#     )\n",
    "#     plt.grid()\n",
    "#     break"
   ]
  },
  {
   "cell_type": "code",
   "execution_count": 27,
   "id": "31df666c-4e49-40f1-b884-9e3eec1da294",
   "metadata": {
    "execution": {
     "iopub.execute_input": "2024-06-27T23:53:19.863934Z",
     "iopub.status.busy": "2024-06-27T23:53:19.863636Z",
     "iopub.status.idle": "2024-06-27T23:53:19.958182Z",
     "shell.execute_reply": "2024-06-27T23:53:19.957806Z"
    },
    "papermill": {
     "duration": 0.105248,
     "end_time": "2024-06-27T23:53:19.959160",
     "exception": false,
     "start_time": "2024-06-27T23:53:19.853912",
     "status": "completed"
    },
    "tags": []
   },
   "outputs": [
    {
     "data": {
      "text/plain": [
       "(<xarray.DataArray 'logpolycoefflux' ()>\n",
       " array(-17557.80288493),\n",
       " <xarray.DataArray 'logpolycoefflux' ()>\n",
       " array(23993.59927165))"
      ]
     },
     "execution_count": 27,
     "metadata": {},
     "output_type": "execute_result"
    }
   ],
   "source": [
    "sources_xr.logpolycoefflux.min(), sources_xr.logpolycoefflux.max()"
   ]
  },
  {
   "cell_type": "code",
   "execution_count": 28,
   "id": "43f02e70-7a7e-408d-851e-17d4f6356f5e",
   "metadata": {
    "execution": {
     "iopub.execute_input": "2024-06-27T23:53:19.976660Z",
     "iopub.status.busy": "2024-06-27T23:53:19.976496Z",
     "iopub.status.idle": "2024-06-27T23:53:19.978789Z",
     "shell.execute_reply": "2024-06-27T23:53:19.978417Z"
    },
    "papermill": {
     "duration": 0.01214,
     "end_time": "2024-06-27T23:53:19.979866",
     "exception": false,
     "start_time": "2024-06-27T23:53:19.967726",
     "status": "completed"
    },
    "tags": []
   },
   "outputs": [],
   "source": [
    "# plt.figure(figsize=(12, 5))\n",
    "# plt.subplot(121)\n",
    "# sources_xr.logpolycoefflux.plot(vmax=50, vmin=-50)\n",
    "# plt.subplot(122)\n",
    "# sources_xr.logpolycoefnorm.plot(vmax=50, vmin=-50)"
   ]
  },
  {
   "cell_type": "code",
   "execution_count": 29,
   "id": "a8be3926-00e6-4a14-a66a-060424b6d405",
   "metadata": {
    "execution": {
     "iopub.execute_input": "2024-06-27T23:53:19.997861Z",
     "iopub.status.busy": "2024-06-27T23:53:19.997553Z",
     "iopub.status.idle": "2024-06-27T23:53:20.005002Z",
     "shell.execute_reply": "2024-06-27T23:53:20.004624Z"
    },
    "papermill": {
     "duration": 0.017415,
     "end_time": "2024-06-27T23:53:20.006092",
     "exception": false,
     "start_time": "2024-06-27T23:53:19.988677",
     "status": "completed"
    },
    "tags": []
   },
   "outputs": [],
   "source": [
    "# plt.figure(figsize=(15, 8))\n",
    "\n",
    "# for power in range(5):\n",
    "#     plt.subplot(231 + power)\n",
    "\n",
    "#     np.fabs(sources_xr.logpolycoefflux.loc[dict(power=power)]).plot.hist(\n",
    "#         bins=np.logspace(-0, 4, 20), density=False, lw=3, label=\"fluxes\"\n",
    "#     )\n",
    "\n",
    "#     np.fabs(sources_xr.logpolycoefnorm.loc[dict(power=power)]).plot.hist(\n",
    "#         bins=np.logspace(-0, 4, 20),\n",
    "#         density=False,\n",
    "#         histtype=\"step\",\n",
    "#         lw=2,\n",
    "#         label=\"normalized fluxes\",\n",
    "#         linestyle=\"--\",\n",
    "#     )\n",
    "#     plt.grid()\n",
    "#     plt.title(f\"Power {power}\")\n",
    "#     plt.legend()\n",
    "#     plt.xscale(\"log\")\n",
    "#     plt.xlabel(None)"
   ]
  },
  {
   "cell_type": "code",
   "execution_count": 30,
   "id": "f7f80d98",
   "metadata": {
    "execution": {
     "iopub.execute_input": "2024-06-27T23:53:20.023356Z",
     "iopub.status.busy": "2024-06-27T23:53:20.023125Z",
     "iopub.status.idle": "2024-06-27T23:53:20.032373Z",
     "shell.execute_reply": "2024-06-27T23:53:20.032010Z"
    },
    "papermill": {
     "duration": 0.019149,
     "end_time": "2024-06-27T23:53:20.033476",
     "exception": false,
     "start_time": "2024-06-27T23:53:20.014327",
     "status": "completed"
    },
    "tags": []
   },
   "outputs": [],
   "source": [
    "output_catalog = sources_xr[[\"logpolycoefflux\",\"logpolycoefpolflux\"]]"
   ]
  },
  {
   "cell_type": "code",
   "execution_count": 31,
   "id": "af92c175",
   "metadata": {
    "execution": {
     "iopub.execute_input": "2024-06-27T23:53:20.051763Z",
     "iopub.status.busy": "2024-06-27T23:53:20.051482Z",
     "iopub.status.idle": "2024-06-27T23:53:20.067522Z",
     "shell.execute_reply": "2024-06-27T23:53:20.067159Z"
    },
    "papermill": {
     "duration": 0.025976,
     "end_time": "2024-06-27T23:53:20.068642",
     "exception": false,
     "start_time": "2024-06-27T23:53:20.042666",
     "status": "completed"
    },
    "tags": []
   },
   "outputs": [],
   "source": [
    "output_catalog[\"index\"] = all_indices"
   ]
  },
  {
   "cell_type": "code",
   "execution_count": 32,
   "id": "e761dc39",
   "metadata": {
    "execution": {
     "iopub.execute_input": "2024-06-27T23:53:20.086494Z",
     "iopub.status.busy": "2024-06-27T23:53:20.086332Z",
     "iopub.status.idle": "2024-06-27T23:53:20.090116Z",
     "shell.execute_reply": "2024-06-27T23:53:20.089724Z"
    },
    "papermill": {
     "duration": 0.014046,
     "end_time": "2024-06-27T23:53:20.091208",
     "exception": false,
     "start_time": "2024-06-27T23:53:20.077162",
     "status": "completed"
    },
    "tags": []
   },
   "outputs": [],
   "source": [
    "output_catalog.logpolycoefflux.attrs[\"units\"] = \"Jy\"\n",
    "output_catalog.logpolycoefpolflux.attrs[\"units\"] = \"Jy\""
   ]
  },
  {
   "cell_type": "code",
   "execution_count": 33,
   "id": "3606bcfa",
   "metadata": {
    "execution": {
     "iopub.execute_input": "2024-06-27T23:53:20.108981Z",
     "iopub.status.busy": "2024-06-27T23:53:20.108669Z",
     "iopub.status.idle": "2024-06-27T23:53:35.212200Z",
     "shell.execute_reply": "2024-06-27T23:53:35.211694Z"
    },
    "papermill": {
     "duration": 15.113927,
     "end_time": "2024-06-27T23:53:35.213711",
     "exception": false,
     "start_time": "2024-06-27T23:53:20.099784",
     "status": "completed"
    },
    "tags": []
   },
   "outputs": [],
   "source": [
    "for coord in [\"theta\", \"phi\"]:\n",
    "    output_catalog = output_catalog.assign_coords(**{coord:((\"index\"), cat[coord][high_flux_sources_mask].astype(np.float64))})"
   ]
  },
  {
   "cell_type": "code",
   "execution_count": 34,
   "id": "bc3a3c86",
   "metadata": {
    "execution": {
     "iopub.execute_input": "2024-06-27T23:53:35.235631Z",
     "iopub.status.busy": "2024-06-27T23:53:35.235433Z",
     "iopub.status.idle": "2024-06-27T23:53:35.273375Z",
     "shell.execute_reply": "2024-06-27T23:53:35.272949Z"
    },
    "papermill": {
     "duration": 0.048451,
     "end_time": "2024-06-27T23:53:35.274378",
     "exception": false,
     "start_time": "2024-06-27T23:53:35.225927",
     "status": "completed"
    },
    "tags": []
   },
   "outputs": [
    {
     "data": {
      "text/html": [
       "<div><svg style=\"position: absolute; width: 0; height: 0; overflow: hidden\">\n",
       "<defs>\n",
       "<symbol id=\"icon-database\" viewBox=\"0 0 32 32\">\n",
       "<path d=\"M16 0c-8.837 0-16 2.239-16 5v4c0 2.761 7.163 5 16 5s16-2.239 16-5v-4c0-2.761-7.163-5-16-5z\"></path>\n",
       "<path d=\"M16 17c-8.837 0-16-2.239-16-5v6c0 2.761 7.163 5 16 5s16-2.239 16-5v-6c0 2.761-7.163 5-16 5z\"></path>\n",
       "<path d=\"M16 26c-8.837 0-16-2.239-16-5v6c0 2.761 7.163 5 16 5s16-2.239 16-5v-6c0 2.761-7.163 5-16 5z\"></path>\n",
       "</symbol>\n",
       "<symbol id=\"icon-file-text2\" viewBox=\"0 0 32 32\">\n",
       "<path d=\"M28.681 7.159c-0.694-0.947-1.662-2.053-2.724-3.116s-2.169-2.030-3.116-2.724c-1.612-1.182-2.393-1.319-2.841-1.319h-15.5c-1.378 0-2.5 1.121-2.5 2.5v27c0 1.378 1.122 2.5 2.5 2.5h23c1.378 0 2.5-1.122 2.5-2.5v-19.5c0-0.448-0.137-1.23-1.319-2.841zM24.543 5.457c0.959 0.959 1.712 1.825 2.268 2.543h-4.811v-4.811c0.718 0.556 1.584 1.309 2.543 2.268zM28 29.5c0 0.271-0.229 0.5-0.5 0.5h-23c-0.271 0-0.5-0.229-0.5-0.5v-27c0-0.271 0.229-0.5 0.5-0.5 0 0 15.499-0 15.5 0v7c0 0.552 0.448 1 1 1h7v19.5z\"></path>\n",
       "<path d=\"M23 26h-14c-0.552 0-1-0.448-1-1s0.448-1 1-1h14c0.552 0 1 0.448 1 1s-0.448 1-1 1z\"></path>\n",
       "<path d=\"M23 22h-14c-0.552 0-1-0.448-1-1s0.448-1 1-1h14c0.552 0 1 0.448 1 1s-0.448 1-1 1z\"></path>\n",
       "<path d=\"M23 18h-14c-0.552 0-1-0.448-1-1s0.448-1 1-1h14c0.552 0 1 0.448 1 1s-0.448 1-1 1z\"></path>\n",
       "</symbol>\n",
       "</defs>\n",
       "</svg>\n",
       "<style>/* CSS stylesheet for displaying xarray objects in jupyterlab.\n",
       " *\n",
       " */\n",
       "\n",
       ":root {\n",
       "  --xr-font-color0: var(--jp-content-font-color0, rgba(0, 0, 0, 1));\n",
       "  --xr-font-color2: var(--jp-content-font-color2, rgba(0, 0, 0, 0.54));\n",
       "  --xr-font-color3: var(--jp-content-font-color3, rgba(0, 0, 0, 0.38));\n",
       "  --xr-border-color: var(--jp-border-color2, #e0e0e0);\n",
       "  --xr-disabled-color: var(--jp-layout-color3, #bdbdbd);\n",
       "  --xr-background-color: var(--jp-layout-color0, white);\n",
       "  --xr-background-color-row-even: var(--jp-layout-color1, white);\n",
       "  --xr-background-color-row-odd: var(--jp-layout-color2, #eeeeee);\n",
       "}\n",
       "\n",
       "html[theme=dark],\n",
       "body[data-theme=dark],\n",
       "body.vscode-dark {\n",
       "  --xr-font-color0: rgba(255, 255, 255, 1);\n",
       "  --xr-font-color2: rgba(255, 255, 255, 0.54);\n",
       "  --xr-font-color3: rgba(255, 255, 255, 0.38);\n",
       "  --xr-border-color: #1F1F1F;\n",
       "  --xr-disabled-color: #515151;\n",
       "  --xr-background-color: #111111;\n",
       "  --xr-background-color-row-even: #111111;\n",
       "  --xr-background-color-row-odd: #313131;\n",
       "}\n",
       "\n",
       ".xr-wrap {\n",
       "  display: block !important;\n",
       "  min-width: 300px;\n",
       "  max-width: 700px;\n",
       "}\n",
       "\n",
       ".xr-text-repr-fallback {\n",
       "  /* fallback to plain text repr when CSS is not injected (untrusted notebook) */\n",
       "  display: none;\n",
       "}\n",
       "\n",
       ".xr-header {\n",
       "  padding-top: 6px;\n",
       "  padding-bottom: 6px;\n",
       "  margin-bottom: 4px;\n",
       "  border-bottom: solid 1px var(--xr-border-color);\n",
       "}\n",
       "\n",
       ".xr-header > div,\n",
       ".xr-header > ul {\n",
       "  display: inline;\n",
       "  margin-top: 0;\n",
       "  margin-bottom: 0;\n",
       "}\n",
       "\n",
       ".xr-obj-type,\n",
       ".xr-array-name {\n",
       "  margin-left: 2px;\n",
       "  margin-right: 10px;\n",
       "}\n",
       "\n",
       ".xr-obj-type {\n",
       "  color: var(--xr-font-color2);\n",
       "}\n",
       "\n",
       ".xr-sections {\n",
       "  padding-left: 0 !important;\n",
       "  display: grid;\n",
       "  grid-template-columns: 150px auto auto 1fr 20px 20px;\n",
       "}\n",
       "\n",
       ".xr-section-item {\n",
       "  display: contents;\n",
       "}\n",
       "\n",
       ".xr-section-item input {\n",
       "  display: none;\n",
       "}\n",
       "\n",
       ".xr-section-item input + label {\n",
       "  color: var(--xr-disabled-color);\n",
       "}\n",
       "\n",
       ".xr-section-item input:enabled + label {\n",
       "  cursor: pointer;\n",
       "  color: var(--xr-font-color2);\n",
       "}\n",
       "\n",
       ".xr-section-item input:enabled + label:hover {\n",
       "  color: var(--xr-font-color0);\n",
       "}\n",
       "\n",
       ".xr-section-summary {\n",
       "  grid-column: 1;\n",
       "  color: var(--xr-font-color2);\n",
       "  font-weight: 500;\n",
       "}\n",
       "\n",
       ".xr-section-summary > span {\n",
       "  display: inline-block;\n",
       "  padding-left: 0.5em;\n",
       "}\n",
       "\n",
       ".xr-section-summary-in:disabled + label {\n",
       "  color: var(--xr-font-color2);\n",
       "}\n",
       "\n",
       ".xr-section-summary-in + label:before {\n",
       "  display: inline-block;\n",
       "  content: '►';\n",
       "  font-size: 11px;\n",
       "  width: 15px;\n",
       "  text-align: center;\n",
       "}\n",
       "\n",
       ".xr-section-summary-in:disabled + label:before {\n",
       "  color: var(--xr-disabled-color);\n",
       "}\n",
       "\n",
       ".xr-section-summary-in:checked + label:before {\n",
       "  content: '▼';\n",
       "}\n",
       "\n",
       ".xr-section-summary-in:checked + label > span {\n",
       "  display: none;\n",
       "}\n",
       "\n",
       ".xr-section-summary,\n",
       ".xr-section-inline-details {\n",
       "  padding-top: 4px;\n",
       "  padding-bottom: 4px;\n",
       "}\n",
       "\n",
       ".xr-section-inline-details {\n",
       "  grid-column: 2 / -1;\n",
       "}\n",
       "\n",
       ".xr-section-details {\n",
       "  display: none;\n",
       "  grid-column: 1 / -1;\n",
       "  margin-bottom: 5px;\n",
       "}\n",
       "\n",
       ".xr-section-summary-in:checked ~ .xr-section-details {\n",
       "  display: contents;\n",
       "}\n",
       "\n",
       ".xr-array-wrap {\n",
       "  grid-column: 1 / -1;\n",
       "  display: grid;\n",
       "  grid-template-columns: 20px auto;\n",
       "}\n",
       "\n",
       ".xr-array-wrap > label {\n",
       "  grid-column: 1;\n",
       "  vertical-align: top;\n",
       "}\n",
       "\n",
       ".xr-preview {\n",
       "  color: var(--xr-font-color3);\n",
       "}\n",
       "\n",
       ".xr-array-preview,\n",
       ".xr-array-data {\n",
       "  padding: 0 5px !important;\n",
       "  grid-column: 2;\n",
       "}\n",
       "\n",
       ".xr-array-data,\n",
       ".xr-array-in:checked ~ .xr-array-preview {\n",
       "  display: none;\n",
       "}\n",
       "\n",
       ".xr-array-in:checked ~ .xr-array-data,\n",
       ".xr-array-preview {\n",
       "  display: inline-block;\n",
       "}\n",
       "\n",
       ".xr-dim-list {\n",
       "  display: inline-block !important;\n",
       "  list-style: none;\n",
       "  padding: 0 !important;\n",
       "  margin: 0;\n",
       "}\n",
       "\n",
       ".xr-dim-list li {\n",
       "  display: inline-block;\n",
       "  padding: 0;\n",
       "  margin: 0;\n",
       "}\n",
       "\n",
       ".xr-dim-list:before {\n",
       "  content: '(';\n",
       "}\n",
       "\n",
       ".xr-dim-list:after {\n",
       "  content: ')';\n",
       "}\n",
       "\n",
       ".xr-dim-list li:not(:last-child):after {\n",
       "  content: ',';\n",
       "  padding-right: 5px;\n",
       "}\n",
       "\n",
       ".xr-has-index {\n",
       "  font-weight: bold;\n",
       "}\n",
       "\n",
       ".xr-var-list,\n",
       ".xr-var-item {\n",
       "  display: contents;\n",
       "}\n",
       "\n",
       ".xr-var-item > div,\n",
       ".xr-var-item label,\n",
       ".xr-var-item > .xr-var-name span {\n",
       "  background-color: var(--xr-background-color-row-even);\n",
       "  margin-bottom: 0;\n",
       "}\n",
       "\n",
       ".xr-var-item > .xr-var-name:hover span {\n",
       "  padding-right: 5px;\n",
       "}\n",
       "\n",
       ".xr-var-list > li:nth-child(odd) > div,\n",
       ".xr-var-list > li:nth-child(odd) > label,\n",
       ".xr-var-list > li:nth-child(odd) > .xr-var-name span {\n",
       "  background-color: var(--xr-background-color-row-odd);\n",
       "}\n",
       "\n",
       ".xr-var-name {\n",
       "  grid-column: 1;\n",
       "}\n",
       "\n",
       ".xr-var-dims {\n",
       "  grid-column: 2;\n",
       "}\n",
       "\n",
       ".xr-var-dtype {\n",
       "  grid-column: 3;\n",
       "  text-align: right;\n",
       "  color: var(--xr-font-color2);\n",
       "}\n",
       "\n",
       ".xr-var-preview {\n",
       "  grid-column: 4;\n",
       "}\n",
       "\n",
       ".xr-index-preview {\n",
       "  grid-column: 2 / 5;\n",
       "  color: var(--xr-font-color2);\n",
       "}\n",
       "\n",
       ".xr-var-name,\n",
       ".xr-var-dims,\n",
       ".xr-var-dtype,\n",
       ".xr-preview,\n",
       ".xr-attrs dt {\n",
       "  white-space: nowrap;\n",
       "  overflow: hidden;\n",
       "  text-overflow: ellipsis;\n",
       "  padding-right: 10px;\n",
       "}\n",
       "\n",
       ".xr-var-name:hover,\n",
       ".xr-var-dims:hover,\n",
       ".xr-var-dtype:hover,\n",
       ".xr-attrs dt:hover {\n",
       "  overflow: visible;\n",
       "  width: auto;\n",
       "  z-index: 1;\n",
       "}\n",
       "\n",
       ".xr-var-attrs,\n",
       ".xr-var-data,\n",
       ".xr-index-data {\n",
       "  display: none;\n",
       "  background-color: var(--xr-background-color) !important;\n",
       "  padding-bottom: 5px !important;\n",
       "}\n",
       "\n",
       ".xr-var-attrs-in:checked ~ .xr-var-attrs,\n",
       ".xr-var-data-in:checked ~ .xr-var-data,\n",
       ".xr-index-data-in:checked ~ .xr-index-data {\n",
       "  display: block;\n",
       "}\n",
       "\n",
       ".xr-var-data > table {\n",
       "  float: right;\n",
       "}\n",
       "\n",
       ".xr-var-name span,\n",
       ".xr-var-data,\n",
       ".xr-index-name div,\n",
       ".xr-index-data,\n",
       ".xr-attrs {\n",
       "  padding-left: 25px !important;\n",
       "}\n",
       "\n",
       ".xr-attrs,\n",
       ".xr-var-attrs,\n",
       ".xr-var-data,\n",
       ".xr-index-data {\n",
       "  grid-column: 1 / -1;\n",
       "}\n",
       "\n",
       "dl.xr-attrs {\n",
       "  padding: 0;\n",
       "  margin: 0;\n",
       "  display: grid;\n",
       "  grid-template-columns: 125px auto;\n",
       "}\n",
       "\n",
       ".xr-attrs dt,\n",
       ".xr-attrs dd {\n",
       "  padding: 0;\n",
       "  margin: 0;\n",
       "  float: left;\n",
       "  padding-right: 10px;\n",
       "  width: auto;\n",
       "}\n",
       "\n",
       ".xr-attrs dt {\n",
       "  font-weight: normal;\n",
       "  grid-column: 1;\n",
       "}\n",
       "\n",
       ".xr-attrs dt:hover span {\n",
       "  display: inline-block;\n",
       "  background: var(--xr-background-color);\n",
       "  padding-right: 10px;\n",
       "}\n",
       "\n",
       ".xr-attrs dd {\n",
       "  grid-column: 2;\n",
       "  white-space: pre-wrap;\n",
       "  word-break: break-all;\n",
       "}\n",
       "\n",
       ".xr-icon-database,\n",
       ".xr-icon-file-text2,\n",
       ".xr-no-icon {\n",
       "  display: inline-block;\n",
       "  vertical-align: middle;\n",
       "  width: 1em;\n",
       "  height: 1.5em !important;\n",
       "  stroke-width: 0;\n",
       "  stroke: currentColor;\n",
       "  fill: currentColor;\n",
       "}\n",
       "</style><pre class='xr-text-repr-fallback'>&lt;xarray.Dataset&gt;\n",
       "Dimensions:             (index: 372255, power: 5)\n",
       "Coordinates:\n",
       "  * index               (index) int64 11253 16428 24110 ... 281755430 281755795\n",
       "  * power               (power) int64 0 1 2 3 4\n",
       "    theta               (index) float64 2.655 2.659 2.596 ... 1.38 1.377 1.426\n",
       "    phi                 (index) float64 4.177 3.977 4.17 ... 0.4638 0.5054\n",
       "Data variables:\n",
       "    logpolycoefflux     (index, power) float64 0.0768 -0.07379 ... -580.4 26.14\n",
       "    logpolycoefpolflux  (index, power) float64 0.03042 -0.02862 ... 40.85 -1.996</pre><div class='xr-wrap' style='display:none'><div class='xr-header'><div class='xr-obj-type'>xarray.Dataset</div></div><ul class='xr-sections'><li class='xr-section-item'><input id='section-af9d1199-f3f4-491d-9929-81aae2b9d915' class='xr-section-summary-in' type='checkbox' disabled ><label for='section-af9d1199-f3f4-491d-9929-81aae2b9d915' class='xr-section-summary'  title='Expand/collapse section'>Dimensions:</label><div class='xr-section-inline-details'><ul class='xr-dim-list'><li><span class='xr-has-index'>index</span>: 372255</li><li><span class='xr-has-index'>power</span>: 5</li></ul></div><div class='xr-section-details'></div></li><li class='xr-section-item'><input id='section-80bfef6a-a187-431d-adc4-af43a0565f97' class='xr-section-summary-in' type='checkbox'  checked><label for='section-80bfef6a-a187-431d-adc4-af43a0565f97' class='xr-section-summary' >Coordinates: <span>(4)</span></label><div class='xr-section-inline-details'></div><div class='xr-section-details'><ul class='xr-var-list'><li class='xr-var-item'><div class='xr-var-name'><span class='xr-has-index'>index</span></div><div class='xr-var-dims'>(index)</div><div class='xr-var-dtype'>int64</div><div class='xr-var-preview xr-preview'>11253 16428 ... 281755430 281755795</div><input id='attrs-ffdeaf22-eea0-476e-885f-1b4232977c81' class='xr-var-attrs-in' type='checkbox' disabled><label for='attrs-ffdeaf22-eea0-476e-885f-1b4232977c81' title='Show/Hide attributes'><svg class='icon xr-icon-file-text2'><use xlink:href='#icon-file-text2'></use></svg></label><input id='data-6699b71d-87db-45f8-8434-d193846279f0' class='xr-var-data-in' type='checkbox'><label for='data-6699b71d-87db-45f8-8434-d193846279f0' title='Show/Hide data repr'><svg class='icon xr-icon-database'><use xlink:href='#icon-database'></use></svg></label><div class='xr-var-attrs'><dl class='xr-attrs'></dl></div><div class='xr-var-data'><pre>array([    11253,     16428,     24110, ..., 281755117, 281755430, 281755795])</pre></div></li><li class='xr-var-item'><div class='xr-var-name'><span class='xr-has-index'>power</span></div><div class='xr-var-dims'>(power)</div><div class='xr-var-dtype'>int64</div><div class='xr-var-preview xr-preview'>0 1 2 3 4</div><input id='attrs-b12b6dfd-84fd-4497-9161-25906f7e7a63' class='xr-var-attrs-in' type='checkbox' disabled><label for='attrs-b12b6dfd-84fd-4497-9161-25906f7e7a63' title='Show/Hide attributes'><svg class='icon xr-icon-file-text2'><use xlink:href='#icon-file-text2'></use></svg></label><input id='data-bd1359db-3f58-459e-9519-8ae8b4a03c43' class='xr-var-data-in' type='checkbox'><label for='data-bd1359db-3f58-459e-9519-8ae8b4a03c43' title='Show/Hide data repr'><svg class='icon xr-icon-database'><use xlink:href='#icon-database'></use></svg></label><div class='xr-var-attrs'><dl class='xr-attrs'></dl></div><div class='xr-var-data'><pre>array([0, 1, 2, 3, 4])</pre></div></li><li class='xr-var-item'><div class='xr-var-name'><span>theta</span></div><div class='xr-var-dims'>(index)</div><div class='xr-var-dtype'>float64</div><div class='xr-var-preview xr-preview'>2.655 2.659 2.596 ... 1.377 1.426</div><input id='attrs-c7d76f3c-30db-4b7a-81d4-2c22fa5ae0b2' class='xr-var-attrs-in' type='checkbox' disabled><label for='attrs-c7d76f3c-30db-4b7a-81d4-2c22fa5ae0b2' title='Show/Hide attributes'><svg class='icon xr-icon-file-text2'><use xlink:href='#icon-file-text2'></use></svg></label><input id='data-efd484dc-e989-492b-9b85-8def8be74ee2' class='xr-var-data-in' type='checkbox'><label for='data-efd484dc-e989-492b-9b85-8def8be74ee2' title='Show/Hide data repr'><svg class='icon xr-icon-database'><use xlink:href='#icon-database'></use></svg></label><div class='xr-var-attrs'><dl class='xr-attrs'></dl></div><div class='xr-var-data'><pre>array([2.65485716, 2.65869761, 2.59632301, ..., 1.38046789, 1.37715018,\n",
       "       1.42648816])</pre></div></li><li class='xr-var-item'><div class='xr-var-name'><span>phi</span></div><div class='xr-var-dims'>(index)</div><div class='xr-var-dtype'>float64</div><div class='xr-var-preview xr-preview'>4.177 3.977 4.17 ... 0.4638 0.5054</div><input id='attrs-ab890e8e-34e6-4f11-97cf-c4d3b187e05d' class='xr-var-attrs-in' type='checkbox' disabled><label for='attrs-ab890e8e-34e6-4f11-97cf-c4d3b187e05d' title='Show/Hide attributes'><svg class='icon xr-icon-file-text2'><use xlink:href='#icon-file-text2'></use></svg></label><input id='data-1d42d4d3-7cd5-4810-8f73-6653467be0a7' class='xr-var-data-in' type='checkbox'><label for='data-1d42d4d3-7cd5-4810-8f73-6653467be0a7' title='Show/Hide data repr'><svg class='icon xr-icon-database'><use xlink:href='#icon-database'></use></svg></label><div class='xr-var-attrs'><dl class='xr-attrs'></dl></div><div class='xr-var-data'><pre>array([4.17657375, 3.97703004, 4.17026234, ..., 0.45735464, 0.46375346,\n",
       "       0.50541824])</pre></div></li></ul></div></li><li class='xr-section-item'><input id='section-eda6edb1-29e2-478a-99f5-4c23994ae767' class='xr-section-summary-in' type='checkbox'  checked><label for='section-eda6edb1-29e2-478a-99f5-4c23994ae767' class='xr-section-summary' >Data variables: <span>(2)</span></label><div class='xr-section-inline-details'></div><div class='xr-section-details'><ul class='xr-var-list'><li class='xr-var-item'><div class='xr-var-name'><span>logpolycoefflux</span></div><div class='xr-var-dims'>(index, power)</div><div class='xr-var-dtype'>float64</div><div class='xr-var-preview xr-preview'>0.0768 -0.07379 ... -580.4 26.14</div><input id='attrs-df194162-2c14-460e-8e59-84a49d1b7dbb' class='xr-var-attrs-in' type='checkbox' ><label for='attrs-df194162-2c14-460e-8e59-84a49d1b7dbb' title='Show/Hide attributes'><svg class='icon xr-icon-file-text2'><use xlink:href='#icon-file-text2'></use></svg></label><input id='data-2e6b1db9-4d91-4e0d-a7f8-ddd77e0c571a' class='xr-var-data-in' type='checkbox'><label for='data-2e6b1db9-4d91-4e0d-a7f8-ddd77e0c571a' title='Show/Hide data repr'><svg class='icon xr-icon-database'><use xlink:href='#icon-database'></use></svg></label><div class='xr-var-attrs'><dl class='xr-attrs'><dt><span>units :</span></dt><dd>Jy</dd></dl></div><div class='xr-var-data'><pre>array([[ 7.68030020e-02, -7.37858670e-02,  2.62195581e-02,\n",
       "        -4.12623033e-03,  2.47186563e-04],\n",
       "       [ 4.59224449e-02, -4.35887096e-02,  1.52797562e-02,\n",
       "        -2.37456970e-03,  1.41729155e-04],\n",
       "       [ 2.99672592e-02, -2.79569186e-02,  9.59012362e-03,\n",
       "        -1.45492463e-03,  8.55293141e-05],\n",
       "       ...,\n",
       "       [ 6.65702855e+02, -4.19460501e+02,  1.01946013e+02,\n",
       "        -1.12183430e+01,  4.68620629e-01],\n",
       "       [ 8.72594549e+02, -4.93835884e+02,  1.13773940e+02,\n",
       "        -1.23353675e+01,  5.21350605e-01],\n",
       "       [ 2.39935993e+04, -1.75578029e+04,  4.80132734e+03,\n",
       "        -5.80425328e+02,  2.61441573e+01]])</pre></div></li><li class='xr-var-item'><div class='xr-var-name'><span>logpolycoefpolflux</span></div><div class='xr-var-dims'>(index, power)</div><div class='xr-var-dtype'>float64</div><div class='xr-var-preview xr-preview'>0.03042 -0.02862 ... 40.85 -1.996</div><input id='attrs-4a719330-7358-48cb-93bb-5afa3299508e' class='xr-var-attrs-in' type='checkbox' ><label for='attrs-4a719330-7358-48cb-93bb-5afa3299508e' title='Show/Hide attributes'><svg class='icon xr-icon-file-text2'><use xlink:href='#icon-file-text2'></use></svg></label><input id='data-02604d8f-2c88-4296-ab90-55b195812fc5' class='xr-var-data-in' type='checkbox'><label for='data-02604d8f-2c88-4296-ab90-55b195812fc5' title='Show/Hide data repr'><svg class='icon xr-icon-database'><use xlink:href='#icon-database'></use></svg></label><div class='xr-var-attrs'><dl class='xr-attrs'><dt><span>units :</span></dt><dd>Jy</dd></dl></div><div class='xr-var-data'><pre>array([[ 3.04247333e-02, -2.86212909e-02,  9.84268646e-03,\n",
       "        -1.46806444e-03,  8.02868192e-05],\n",
       "       [ 9.19274396e-03, -8.40339890e-03,  2.80137410e-03,\n",
       "        -4.05131102e-04,  2.16008961e-05],\n",
       "       [ 3.16811488e-03, -2.61348416e-03,  7.63491061e-04,\n",
       "        -9.38871222e-05,  4.20633172e-06],\n",
       "       ...,\n",
       "       [-8.51219132e+01,  7.45685716e+01, -2.33713634e+01,\n",
       "         3.14195869e+00, -1.53946001e-01],\n",
       "       [-1.01911300e+03,  8.77738494e+02, -2.71679313e+02,\n",
       "         3.61777219e+01, -1.75996613e+00],\n",
       "       [-1.12741047e+03,  9.78764313e+02, -3.05045263e+02,\n",
       "         4.08467575e+01, -1.99578923e+00]])</pre></div></li></ul></div></li><li class='xr-section-item'><input id='section-97810bae-aa30-4292-94c8-873d7a428298' class='xr-section-summary-in' type='checkbox'  ><label for='section-97810bae-aa30-4292-94c8-873d7a428298' class='xr-section-summary' >Indexes: <span>(2)</span></label><div class='xr-section-inline-details'></div><div class='xr-section-details'><ul class='xr-var-list'><li class='xr-var-item'><div class='xr-index-name'><div>index</div></div><div class='xr-index-preview'>PandasIndex</div><div></div><input id='index-9bce10e9-a7d6-4165-be65-208207dcafd0' class='xr-index-data-in' type='checkbox'/><label for='index-9bce10e9-a7d6-4165-be65-208207dcafd0' title='Show/Hide index repr'><svg class='icon xr-icon-database'><use xlink:href='#icon-database'></use></svg></label><div class='xr-index-data'><pre>PandasIndex(Index([    11253,     16428,     24110,     25342,     26268,     27427,\n",
       "           27855,     40649,     43434,     44634,\n",
       "       ...\n",
       "       281751967, 281752822, 281753210, 281753640, 281753799, 281754105,\n",
       "       281754532, 281755117, 281755430, 281755795],\n",
       "      dtype=&#x27;int64&#x27;, name=&#x27;index&#x27;, length=372255))</pre></div></li><li class='xr-var-item'><div class='xr-index-name'><div>power</div></div><div class='xr-index-preview'>PandasIndex</div><div></div><input id='index-74c9fdf1-30ee-4dfd-990f-b66667209705' class='xr-index-data-in' type='checkbox'/><label for='index-74c9fdf1-30ee-4dfd-990f-b66667209705' title='Show/Hide index repr'><svg class='icon xr-icon-database'><use xlink:href='#icon-database'></use></svg></label><div class='xr-index-data'><pre>PandasIndex(Index([0, 1, 2, 3, 4], dtype=&#x27;int64&#x27;, name=&#x27;power&#x27;))</pre></div></li></ul></div></li><li class='xr-section-item'><input id='section-504853e7-49c5-4f96-9f49-6ee771dd6e79' class='xr-section-summary-in' type='checkbox' disabled ><label for='section-504853e7-49c5-4f96-9f49-6ee771dd6e79' class='xr-section-summary'  title='Expand/collapse section'>Attributes: <span>(0)</span></label><div class='xr-section-inline-details'></div><div class='xr-section-details'><dl class='xr-attrs'></dl></div></li></ul></div></div>"
      ],
      "text/plain": [
       "<xarray.Dataset>\n",
       "Dimensions:             (index: 372255, power: 5)\n",
       "Coordinates:\n",
       "  * index               (index) int64 11253 16428 24110 ... 281755430 281755795\n",
       "  * power               (power) int64 0 1 2 3 4\n",
       "    theta               (index) float64 2.655 2.659 2.596 ... 1.38 1.377 1.426\n",
       "    phi                 (index) float64 4.177 3.977 4.17 ... 0.4638 0.5054\n",
       "Data variables:\n",
       "    logpolycoefflux     (index, power) float64 0.0768 -0.07379 ... -580.4 26.14\n",
       "    logpolycoefpolflux  (index, power) float64 0.03042 -0.02862 ... 40.85 -1.996"
      ]
     },
     "execution_count": 34,
     "metadata": {},
     "output_type": "execute_result"
    }
   ],
   "source": [
    "output_catalog"
   ]
  },
  {
   "cell_type": "code",
   "execution_count": 35,
   "id": "f037b0d7",
   "metadata": {
    "execution": {
     "iopub.execute_input": "2024-06-27T23:53:35.293524Z",
     "iopub.status.busy": "2024-06-27T23:53:35.293321Z",
     "iopub.status.idle": "2024-06-27T23:53:35.295756Z",
     "shell.execute_reply": "2024-06-27T23:53:35.295391Z"
    },
    "papermill": {
     "duration": 0.013566,
     "end_time": "2024-06-27T23:53:35.296719",
     "exception": false,
     "start_time": "2024-06-27T23:53:35.283153",
     "status": "completed"
    },
    "tags": []
   },
   "outputs": [],
   "source": [
    "output_filename = \"websky_high_flux_catalog_1mJy.h5\""
   ]
  },
  {
   "cell_type": "code",
   "execution_count": 36,
   "id": "631c8dca",
   "metadata": {
    "execution": {
     "iopub.execute_input": "2024-06-27T23:53:35.315163Z",
     "iopub.status.busy": "2024-06-27T23:53:35.314990Z",
     "iopub.status.idle": "2024-06-27T23:53:35.317720Z",
     "shell.execute_reply": "2024-06-27T23:53:35.317352Z"
    },
    "papermill": {
     "duration": 0.013523,
     "end_time": "2024-06-27T23:53:35.318698",
     "exception": false,
     "start_time": "2024-06-27T23:53:35.305175",
     "status": "completed"
    },
    "tags": []
   },
   "outputs": [],
   "source": [
    "output_catalog.coords[\"theta\"].attrs[\"units\"] = \"rad\"\n",
    "output_catalog.coords[\"phi\"].attrs[\"units\"] = \"rad\""
   ]
  },
  {
   "cell_type": "code",
   "execution_count": 37,
   "id": "6cc1bd05",
   "metadata": {
    "execution": {
     "iopub.execute_input": "2024-06-27T23:53:35.337303Z",
     "iopub.status.busy": "2024-06-27T23:53:35.336972Z",
     "iopub.status.idle": "2024-06-27T23:53:37.085137Z",
     "shell.execute_reply": "2024-06-27T23:53:37.084642Z"
    },
    "papermill": {
     "duration": 1.75892,
     "end_time": "2024-06-27T23:53:37.086575",
     "exception": false,
     "start_time": "2024-06-27T23:53:35.327655",
     "status": "completed"
    },
    "tags": []
   },
   "outputs": [],
   "source": [
    "output_catalog.to_netcdf(output_filename, format=\"NETCDF4\") # requires netcdf4 package"
   ]
  },
  {
   "cell_type": "code",
   "execution_count": 38,
   "id": "e106b83e",
   "metadata": {
    "execution": {
     "iopub.execute_input": "2024-06-27T23:53:37.118197Z",
     "iopub.status.busy": "2024-06-27T23:53:37.117994Z",
     "iopub.status.idle": "2024-06-27T23:53:37.411396Z",
     "shell.execute_reply": "2024-06-27T23:53:37.410838Z"
    },
    "papermill": {
     "duration": 0.304626,
     "end_time": "2024-06-27T23:53:37.412574",
     "exception": false,
     "start_time": "2024-06-27T23:53:37.107948",
     "status": "completed"
    },
    "tags": []
   },
   "outputs": [
    {
     "name": "stdout",
     "output_type": "stream",
     "text": [
      "-rw-rw---- 1 zonca sobs 37M Jun 27 16:53 websky_high_flux_catalog_1mJy.h5\r\n"
     ]
    }
   ],
   "source": [
    "%ls -lah $output_filename"
   ]
  },
  {
   "cell_type": "code",
   "execution_count": 39,
   "id": "f38b5686",
   "metadata": {
    "execution": {
     "iopub.execute_input": "2024-06-27T23:53:37.433492Z",
     "iopub.status.busy": "2024-06-27T23:53:37.433262Z",
     "iopub.status.idle": "2024-06-27T23:53:37.436268Z",
     "shell.execute_reply": "2024-06-27T23:53:37.435884Z"
    },
    "papermill": {
     "duration": 0.013798,
     "end_time": "2024-06-27T23:53:37.437260",
     "exception": false,
     "start_time": "2024-06-27T23:53:37.423462",
     "status": "completed"
    },
    "tags": []
   },
   "outputs": [],
   "source": [
    "import xarray"
   ]
  },
  {
   "cell_type": "code",
   "execution_count": 40,
   "id": "7226bf84",
   "metadata": {
    "execution": {
     "iopub.execute_input": "2024-06-27T23:53:37.457461Z",
     "iopub.status.busy": "2024-06-27T23:53:37.457276Z",
     "iopub.status.idle": "2024-06-27T23:53:37.829652Z",
     "shell.execute_reply": "2024-06-27T23:53:37.829225Z"
    },
    "papermill": {
     "duration": 0.383406,
     "end_time": "2024-06-27T23:53:37.830762",
     "exception": false,
     "start_time": "2024-06-27T23:53:37.447356",
     "status": "completed"
    },
    "tags": []
   },
   "outputs": [
    {
     "data": {
      "text/html": [
       "<div><svg style=\"position: absolute; width: 0; height: 0; overflow: hidden\">\n",
       "<defs>\n",
       "<symbol id=\"icon-database\" viewBox=\"0 0 32 32\">\n",
       "<path d=\"M16 0c-8.837 0-16 2.239-16 5v4c0 2.761 7.163 5 16 5s16-2.239 16-5v-4c0-2.761-7.163-5-16-5z\"></path>\n",
       "<path d=\"M16 17c-8.837 0-16-2.239-16-5v6c0 2.761 7.163 5 16 5s16-2.239 16-5v-6c0 2.761-7.163 5-16 5z\"></path>\n",
       "<path d=\"M16 26c-8.837 0-16-2.239-16-5v6c0 2.761 7.163 5 16 5s16-2.239 16-5v-6c0 2.761-7.163 5-16 5z\"></path>\n",
       "</symbol>\n",
       "<symbol id=\"icon-file-text2\" viewBox=\"0 0 32 32\">\n",
       "<path d=\"M28.681 7.159c-0.694-0.947-1.662-2.053-2.724-3.116s-2.169-2.030-3.116-2.724c-1.612-1.182-2.393-1.319-2.841-1.319h-15.5c-1.378 0-2.5 1.121-2.5 2.5v27c0 1.378 1.122 2.5 2.5 2.5h23c1.378 0 2.5-1.122 2.5-2.5v-19.5c0-0.448-0.137-1.23-1.319-2.841zM24.543 5.457c0.959 0.959 1.712 1.825 2.268 2.543h-4.811v-4.811c0.718 0.556 1.584 1.309 2.543 2.268zM28 29.5c0 0.271-0.229 0.5-0.5 0.5h-23c-0.271 0-0.5-0.229-0.5-0.5v-27c0-0.271 0.229-0.5 0.5-0.5 0 0 15.499-0 15.5 0v7c0 0.552 0.448 1 1 1h7v19.5z\"></path>\n",
       "<path d=\"M23 26h-14c-0.552 0-1-0.448-1-1s0.448-1 1-1h14c0.552 0 1 0.448 1 1s-0.448 1-1 1z\"></path>\n",
       "<path d=\"M23 22h-14c-0.552 0-1-0.448-1-1s0.448-1 1-1h14c0.552 0 1 0.448 1 1s-0.448 1-1 1z\"></path>\n",
       "<path d=\"M23 18h-14c-0.552 0-1-0.448-1-1s0.448-1 1-1h14c0.552 0 1 0.448 1 1s-0.448 1-1 1z\"></path>\n",
       "</symbol>\n",
       "</defs>\n",
       "</svg>\n",
       "<style>/* CSS stylesheet for displaying xarray objects in jupyterlab.\n",
       " *\n",
       " */\n",
       "\n",
       ":root {\n",
       "  --xr-font-color0: var(--jp-content-font-color0, rgba(0, 0, 0, 1));\n",
       "  --xr-font-color2: var(--jp-content-font-color2, rgba(0, 0, 0, 0.54));\n",
       "  --xr-font-color3: var(--jp-content-font-color3, rgba(0, 0, 0, 0.38));\n",
       "  --xr-border-color: var(--jp-border-color2, #e0e0e0);\n",
       "  --xr-disabled-color: var(--jp-layout-color3, #bdbdbd);\n",
       "  --xr-background-color: var(--jp-layout-color0, white);\n",
       "  --xr-background-color-row-even: var(--jp-layout-color1, white);\n",
       "  --xr-background-color-row-odd: var(--jp-layout-color2, #eeeeee);\n",
       "}\n",
       "\n",
       "html[theme=dark],\n",
       "body[data-theme=dark],\n",
       "body.vscode-dark {\n",
       "  --xr-font-color0: rgba(255, 255, 255, 1);\n",
       "  --xr-font-color2: rgba(255, 255, 255, 0.54);\n",
       "  --xr-font-color3: rgba(255, 255, 255, 0.38);\n",
       "  --xr-border-color: #1F1F1F;\n",
       "  --xr-disabled-color: #515151;\n",
       "  --xr-background-color: #111111;\n",
       "  --xr-background-color-row-even: #111111;\n",
       "  --xr-background-color-row-odd: #313131;\n",
       "}\n",
       "\n",
       ".xr-wrap {\n",
       "  display: block !important;\n",
       "  min-width: 300px;\n",
       "  max-width: 700px;\n",
       "}\n",
       "\n",
       ".xr-text-repr-fallback {\n",
       "  /* fallback to plain text repr when CSS is not injected (untrusted notebook) */\n",
       "  display: none;\n",
       "}\n",
       "\n",
       ".xr-header {\n",
       "  padding-top: 6px;\n",
       "  padding-bottom: 6px;\n",
       "  margin-bottom: 4px;\n",
       "  border-bottom: solid 1px var(--xr-border-color);\n",
       "}\n",
       "\n",
       ".xr-header > div,\n",
       ".xr-header > ul {\n",
       "  display: inline;\n",
       "  margin-top: 0;\n",
       "  margin-bottom: 0;\n",
       "}\n",
       "\n",
       ".xr-obj-type,\n",
       ".xr-array-name {\n",
       "  margin-left: 2px;\n",
       "  margin-right: 10px;\n",
       "}\n",
       "\n",
       ".xr-obj-type {\n",
       "  color: var(--xr-font-color2);\n",
       "}\n",
       "\n",
       ".xr-sections {\n",
       "  padding-left: 0 !important;\n",
       "  display: grid;\n",
       "  grid-template-columns: 150px auto auto 1fr 20px 20px;\n",
       "}\n",
       "\n",
       ".xr-section-item {\n",
       "  display: contents;\n",
       "}\n",
       "\n",
       ".xr-section-item input {\n",
       "  display: none;\n",
       "}\n",
       "\n",
       ".xr-section-item input + label {\n",
       "  color: var(--xr-disabled-color);\n",
       "}\n",
       "\n",
       ".xr-section-item input:enabled + label {\n",
       "  cursor: pointer;\n",
       "  color: var(--xr-font-color2);\n",
       "}\n",
       "\n",
       ".xr-section-item input:enabled + label:hover {\n",
       "  color: var(--xr-font-color0);\n",
       "}\n",
       "\n",
       ".xr-section-summary {\n",
       "  grid-column: 1;\n",
       "  color: var(--xr-font-color2);\n",
       "  font-weight: 500;\n",
       "}\n",
       "\n",
       ".xr-section-summary > span {\n",
       "  display: inline-block;\n",
       "  padding-left: 0.5em;\n",
       "}\n",
       "\n",
       ".xr-section-summary-in:disabled + label {\n",
       "  color: var(--xr-font-color2);\n",
       "}\n",
       "\n",
       ".xr-section-summary-in + label:before {\n",
       "  display: inline-block;\n",
       "  content: '►';\n",
       "  font-size: 11px;\n",
       "  width: 15px;\n",
       "  text-align: center;\n",
       "}\n",
       "\n",
       ".xr-section-summary-in:disabled + label:before {\n",
       "  color: var(--xr-disabled-color);\n",
       "}\n",
       "\n",
       ".xr-section-summary-in:checked + label:before {\n",
       "  content: '▼';\n",
       "}\n",
       "\n",
       ".xr-section-summary-in:checked + label > span {\n",
       "  display: none;\n",
       "}\n",
       "\n",
       ".xr-section-summary,\n",
       ".xr-section-inline-details {\n",
       "  padding-top: 4px;\n",
       "  padding-bottom: 4px;\n",
       "}\n",
       "\n",
       ".xr-section-inline-details {\n",
       "  grid-column: 2 / -1;\n",
       "}\n",
       "\n",
       ".xr-section-details {\n",
       "  display: none;\n",
       "  grid-column: 1 / -1;\n",
       "  margin-bottom: 5px;\n",
       "}\n",
       "\n",
       ".xr-section-summary-in:checked ~ .xr-section-details {\n",
       "  display: contents;\n",
       "}\n",
       "\n",
       ".xr-array-wrap {\n",
       "  grid-column: 1 / -1;\n",
       "  display: grid;\n",
       "  grid-template-columns: 20px auto;\n",
       "}\n",
       "\n",
       ".xr-array-wrap > label {\n",
       "  grid-column: 1;\n",
       "  vertical-align: top;\n",
       "}\n",
       "\n",
       ".xr-preview {\n",
       "  color: var(--xr-font-color3);\n",
       "}\n",
       "\n",
       ".xr-array-preview,\n",
       ".xr-array-data {\n",
       "  padding: 0 5px !important;\n",
       "  grid-column: 2;\n",
       "}\n",
       "\n",
       ".xr-array-data,\n",
       ".xr-array-in:checked ~ .xr-array-preview {\n",
       "  display: none;\n",
       "}\n",
       "\n",
       ".xr-array-in:checked ~ .xr-array-data,\n",
       ".xr-array-preview {\n",
       "  display: inline-block;\n",
       "}\n",
       "\n",
       ".xr-dim-list {\n",
       "  display: inline-block !important;\n",
       "  list-style: none;\n",
       "  padding: 0 !important;\n",
       "  margin: 0;\n",
       "}\n",
       "\n",
       ".xr-dim-list li {\n",
       "  display: inline-block;\n",
       "  padding: 0;\n",
       "  margin: 0;\n",
       "}\n",
       "\n",
       ".xr-dim-list:before {\n",
       "  content: '(';\n",
       "}\n",
       "\n",
       ".xr-dim-list:after {\n",
       "  content: ')';\n",
       "}\n",
       "\n",
       ".xr-dim-list li:not(:last-child):after {\n",
       "  content: ',';\n",
       "  padding-right: 5px;\n",
       "}\n",
       "\n",
       ".xr-has-index {\n",
       "  font-weight: bold;\n",
       "}\n",
       "\n",
       ".xr-var-list,\n",
       ".xr-var-item {\n",
       "  display: contents;\n",
       "}\n",
       "\n",
       ".xr-var-item > div,\n",
       ".xr-var-item label,\n",
       ".xr-var-item > .xr-var-name span {\n",
       "  background-color: var(--xr-background-color-row-even);\n",
       "  margin-bottom: 0;\n",
       "}\n",
       "\n",
       ".xr-var-item > .xr-var-name:hover span {\n",
       "  padding-right: 5px;\n",
       "}\n",
       "\n",
       ".xr-var-list > li:nth-child(odd) > div,\n",
       ".xr-var-list > li:nth-child(odd) > label,\n",
       ".xr-var-list > li:nth-child(odd) > .xr-var-name span {\n",
       "  background-color: var(--xr-background-color-row-odd);\n",
       "}\n",
       "\n",
       ".xr-var-name {\n",
       "  grid-column: 1;\n",
       "}\n",
       "\n",
       ".xr-var-dims {\n",
       "  grid-column: 2;\n",
       "}\n",
       "\n",
       ".xr-var-dtype {\n",
       "  grid-column: 3;\n",
       "  text-align: right;\n",
       "  color: var(--xr-font-color2);\n",
       "}\n",
       "\n",
       ".xr-var-preview {\n",
       "  grid-column: 4;\n",
       "}\n",
       "\n",
       ".xr-index-preview {\n",
       "  grid-column: 2 / 5;\n",
       "  color: var(--xr-font-color2);\n",
       "}\n",
       "\n",
       ".xr-var-name,\n",
       ".xr-var-dims,\n",
       ".xr-var-dtype,\n",
       ".xr-preview,\n",
       ".xr-attrs dt {\n",
       "  white-space: nowrap;\n",
       "  overflow: hidden;\n",
       "  text-overflow: ellipsis;\n",
       "  padding-right: 10px;\n",
       "}\n",
       "\n",
       ".xr-var-name:hover,\n",
       ".xr-var-dims:hover,\n",
       ".xr-var-dtype:hover,\n",
       ".xr-attrs dt:hover {\n",
       "  overflow: visible;\n",
       "  width: auto;\n",
       "  z-index: 1;\n",
       "}\n",
       "\n",
       ".xr-var-attrs,\n",
       ".xr-var-data,\n",
       ".xr-index-data {\n",
       "  display: none;\n",
       "  background-color: var(--xr-background-color) !important;\n",
       "  padding-bottom: 5px !important;\n",
       "}\n",
       "\n",
       ".xr-var-attrs-in:checked ~ .xr-var-attrs,\n",
       ".xr-var-data-in:checked ~ .xr-var-data,\n",
       ".xr-index-data-in:checked ~ .xr-index-data {\n",
       "  display: block;\n",
       "}\n",
       "\n",
       ".xr-var-data > table {\n",
       "  float: right;\n",
       "}\n",
       "\n",
       ".xr-var-name span,\n",
       ".xr-var-data,\n",
       ".xr-index-name div,\n",
       ".xr-index-data,\n",
       ".xr-attrs {\n",
       "  padding-left: 25px !important;\n",
       "}\n",
       "\n",
       ".xr-attrs,\n",
       ".xr-var-attrs,\n",
       ".xr-var-data,\n",
       ".xr-index-data {\n",
       "  grid-column: 1 / -1;\n",
       "}\n",
       "\n",
       "dl.xr-attrs {\n",
       "  padding: 0;\n",
       "  margin: 0;\n",
       "  display: grid;\n",
       "  grid-template-columns: 125px auto;\n",
       "}\n",
       "\n",
       ".xr-attrs dt,\n",
       ".xr-attrs dd {\n",
       "  padding: 0;\n",
       "  margin: 0;\n",
       "  float: left;\n",
       "  padding-right: 10px;\n",
       "  width: auto;\n",
       "}\n",
       "\n",
       ".xr-attrs dt {\n",
       "  font-weight: normal;\n",
       "  grid-column: 1;\n",
       "}\n",
       "\n",
       ".xr-attrs dt:hover span {\n",
       "  display: inline-block;\n",
       "  background: var(--xr-background-color);\n",
       "  padding-right: 10px;\n",
       "}\n",
       "\n",
       ".xr-attrs dd {\n",
       "  grid-column: 2;\n",
       "  white-space: pre-wrap;\n",
       "  word-break: break-all;\n",
       "}\n",
       "\n",
       ".xr-icon-database,\n",
       ".xr-icon-file-text2,\n",
       ".xr-no-icon {\n",
       "  display: inline-block;\n",
       "  vertical-align: middle;\n",
       "  width: 1em;\n",
       "  height: 1.5em !important;\n",
       "  stroke-width: 0;\n",
       "  stroke: currentColor;\n",
       "  fill: currentColor;\n",
       "}\n",
       "</style><pre class='xr-text-repr-fallback'>&lt;xarray.Dataset&gt;\n",
       "Dimensions:             (index: 372255, power: 5)\n",
       "Coordinates:\n",
       "  * index               (index) int64 11253 16428 24110 ... 281755430 281755795\n",
       "  * power               (power) int64 0 1 2 3 4\n",
       "    theta               (index) float64 ...\n",
       "    phi                 (index) float64 ...\n",
       "Data variables:\n",
       "    logpolycoefflux     (index, power) float64 ...\n",
       "    logpolycoefpolflux  (index, power) float64 ...</pre><div class='xr-wrap' style='display:none'><div class='xr-header'><div class='xr-obj-type'>xarray.Dataset</div></div><ul class='xr-sections'><li class='xr-section-item'><input id='section-5715888f-0d02-45d4-a112-ef3373d6b19e' class='xr-section-summary-in' type='checkbox' disabled ><label for='section-5715888f-0d02-45d4-a112-ef3373d6b19e' class='xr-section-summary'  title='Expand/collapse section'>Dimensions:</label><div class='xr-section-inline-details'><ul class='xr-dim-list'><li><span class='xr-has-index'>index</span>: 372255</li><li><span class='xr-has-index'>power</span>: 5</li></ul></div><div class='xr-section-details'></div></li><li class='xr-section-item'><input id='section-f060f1b7-f66e-4c68-bf1e-dd15b097a67b' class='xr-section-summary-in' type='checkbox'  checked><label for='section-f060f1b7-f66e-4c68-bf1e-dd15b097a67b' class='xr-section-summary' >Coordinates: <span>(4)</span></label><div class='xr-section-inline-details'></div><div class='xr-section-details'><ul class='xr-var-list'><li class='xr-var-item'><div class='xr-var-name'><span class='xr-has-index'>index</span></div><div class='xr-var-dims'>(index)</div><div class='xr-var-dtype'>int64</div><div class='xr-var-preview xr-preview'>11253 16428 ... 281755430 281755795</div><input id='attrs-15858fb7-365d-4b70-8677-6a973748f488' class='xr-var-attrs-in' type='checkbox' disabled><label for='attrs-15858fb7-365d-4b70-8677-6a973748f488' title='Show/Hide attributes'><svg class='icon xr-icon-file-text2'><use xlink:href='#icon-file-text2'></use></svg></label><input id='data-99676f34-4285-4644-8422-479b98124da8' class='xr-var-data-in' type='checkbox'><label for='data-99676f34-4285-4644-8422-479b98124da8' title='Show/Hide data repr'><svg class='icon xr-icon-database'><use xlink:href='#icon-database'></use></svg></label><div class='xr-var-attrs'><dl class='xr-attrs'></dl></div><div class='xr-var-data'><pre>array([    11253,     16428,     24110, ..., 281755117, 281755430, 281755795])</pre></div></li><li class='xr-var-item'><div class='xr-var-name'><span class='xr-has-index'>power</span></div><div class='xr-var-dims'>(power)</div><div class='xr-var-dtype'>int64</div><div class='xr-var-preview xr-preview'>0 1 2 3 4</div><input id='attrs-9558db6e-fee3-4319-8ff2-932b930783db' class='xr-var-attrs-in' type='checkbox' disabled><label for='attrs-9558db6e-fee3-4319-8ff2-932b930783db' title='Show/Hide attributes'><svg class='icon xr-icon-file-text2'><use xlink:href='#icon-file-text2'></use></svg></label><input id='data-304022cb-e437-4a8f-ac5d-7729da8df9c5' class='xr-var-data-in' type='checkbox'><label for='data-304022cb-e437-4a8f-ac5d-7729da8df9c5' title='Show/Hide data repr'><svg class='icon xr-icon-database'><use xlink:href='#icon-database'></use></svg></label><div class='xr-var-attrs'><dl class='xr-attrs'></dl></div><div class='xr-var-data'><pre>array([0, 1, 2, 3, 4])</pre></div></li><li class='xr-var-item'><div class='xr-var-name'><span>theta</span></div><div class='xr-var-dims'>(index)</div><div class='xr-var-dtype'>float64</div><div class='xr-var-preview xr-preview'>...</div><input id='attrs-b3dae73a-9885-420d-934c-0959eeafdc5d' class='xr-var-attrs-in' type='checkbox' ><label for='attrs-b3dae73a-9885-420d-934c-0959eeafdc5d' title='Show/Hide attributes'><svg class='icon xr-icon-file-text2'><use xlink:href='#icon-file-text2'></use></svg></label><input id='data-601ee684-1f75-486d-a205-931f374471a5' class='xr-var-data-in' type='checkbox'><label for='data-601ee684-1f75-486d-a205-931f374471a5' title='Show/Hide data repr'><svg class='icon xr-icon-database'><use xlink:href='#icon-database'></use></svg></label><div class='xr-var-attrs'><dl class='xr-attrs'><dt><span>units :</span></dt><dd>rad</dd></dl></div><div class='xr-var-data'><pre>[372255 values with dtype=float64]</pre></div></li><li class='xr-var-item'><div class='xr-var-name'><span>phi</span></div><div class='xr-var-dims'>(index)</div><div class='xr-var-dtype'>float64</div><div class='xr-var-preview xr-preview'>...</div><input id='attrs-36f1def4-8ce4-4049-a3bf-ce3b69b1930a' class='xr-var-attrs-in' type='checkbox' ><label for='attrs-36f1def4-8ce4-4049-a3bf-ce3b69b1930a' title='Show/Hide attributes'><svg class='icon xr-icon-file-text2'><use xlink:href='#icon-file-text2'></use></svg></label><input id='data-cca85b63-c511-427f-a7be-85ac93fe57cd' class='xr-var-data-in' type='checkbox'><label for='data-cca85b63-c511-427f-a7be-85ac93fe57cd' title='Show/Hide data repr'><svg class='icon xr-icon-database'><use xlink:href='#icon-database'></use></svg></label><div class='xr-var-attrs'><dl class='xr-attrs'><dt><span>units :</span></dt><dd>rad</dd></dl></div><div class='xr-var-data'><pre>[372255 values with dtype=float64]</pre></div></li></ul></div></li><li class='xr-section-item'><input id='section-217a060e-22cb-43ca-9158-9a7cd90ce579' class='xr-section-summary-in' type='checkbox'  checked><label for='section-217a060e-22cb-43ca-9158-9a7cd90ce579' class='xr-section-summary' >Data variables: <span>(2)</span></label><div class='xr-section-inline-details'></div><div class='xr-section-details'><ul class='xr-var-list'><li class='xr-var-item'><div class='xr-var-name'><span>logpolycoefflux</span></div><div class='xr-var-dims'>(index, power)</div><div class='xr-var-dtype'>float64</div><div class='xr-var-preview xr-preview'>...</div><input id='attrs-da19c3e9-3b3d-41fd-960b-487c813e5389' class='xr-var-attrs-in' type='checkbox' ><label for='attrs-da19c3e9-3b3d-41fd-960b-487c813e5389' title='Show/Hide attributes'><svg class='icon xr-icon-file-text2'><use xlink:href='#icon-file-text2'></use></svg></label><input id='data-2c8c6323-affa-4bae-bb45-e334f30b7b8f' class='xr-var-data-in' type='checkbox'><label for='data-2c8c6323-affa-4bae-bb45-e334f30b7b8f' title='Show/Hide data repr'><svg class='icon xr-icon-database'><use xlink:href='#icon-database'></use></svg></label><div class='xr-var-attrs'><dl class='xr-attrs'><dt><span>units :</span></dt><dd>Jy</dd></dl></div><div class='xr-var-data'><pre>[1861275 values with dtype=float64]</pre></div></li><li class='xr-var-item'><div class='xr-var-name'><span>logpolycoefpolflux</span></div><div class='xr-var-dims'>(index, power)</div><div class='xr-var-dtype'>float64</div><div class='xr-var-preview xr-preview'>...</div><input id='attrs-f3b1c964-c64d-499b-bb3c-991b472adffb' class='xr-var-attrs-in' type='checkbox' ><label for='attrs-f3b1c964-c64d-499b-bb3c-991b472adffb' title='Show/Hide attributes'><svg class='icon xr-icon-file-text2'><use xlink:href='#icon-file-text2'></use></svg></label><input id='data-96576d1c-16b1-4c74-8bf2-dbe78a8a185c' class='xr-var-data-in' type='checkbox'><label for='data-96576d1c-16b1-4c74-8bf2-dbe78a8a185c' title='Show/Hide data repr'><svg class='icon xr-icon-database'><use xlink:href='#icon-database'></use></svg></label><div class='xr-var-attrs'><dl class='xr-attrs'><dt><span>units :</span></dt><dd>Jy</dd></dl></div><div class='xr-var-data'><pre>[1861275 values with dtype=float64]</pre></div></li></ul></div></li><li class='xr-section-item'><input id='section-a3b08563-fa3f-41e9-92e3-a14dbc2424a2' class='xr-section-summary-in' type='checkbox'  ><label for='section-a3b08563-fa3f-41e9-92e3-a14dbc2424a2' class='xr-section-summary' >Indexes: <span>(2)</span></label><div class='xr-section-inline-details'></div><div class='xr-section-details'><ul class='xr-var-list'><li class='xr-var-item'><div class='xr-index-name'><div>index</div></div><div class='xr-index-preview'>PandasIndex</div><div></div><input id='index-07d13702-f8e1-4803-b8ff-1bd153fabb79' class='xr-index-data-in' type='checkbox'/><label for='index-07d13702-f8e1-4803-b8ff-1bd153fabb79' title='Show/Hide index repr'><svg class='icon xr-icon-database'><use xlink:href='#icon-database'></use></svg></label><div class='xr-index-data'><pre>PandasIndex(Index([    11253,     16428,     24110,     25342,     26268,     27427,\n",
       "           27855,     40649,     43434,     44634,\n",
       "       ...\n",
       "       281751967, 281752822, 281753210, 281753640, 281753799, 281754105,\n",
       "       281754532, 281755117, 281755430, 281755795],\n",
       "      dtype=&#x27;int64&#x27;, name=&#x27;index&#x27;, length=372255))</pre></div></li><li class='xr-var-item'><div class='xr-index-name'><div>power</div></div><div class='xr-index-preview'>PandasIndex</div><div></div><input id='index-c768c553-6275-4e8b-b299-d4041b22a2e5' class='xr-index-data-in' type='checkbox'/><label for='index-c768c553-6275-4e8b-b299-d4041b22a2e5' title='Show/Hide index repr'><svg class='icon xr-icon-database'><use xlink:href='#icon-database'></use></svg></label><div class='xr-index-data'><pre>PandasIndex(Index([0, 1, 2, 3, 4], dtype=&#x27;int64&#x27;, name=&#x27;power&#x27;))</pre></div></li></ul></div></li><li class='xr-section-item'><input id='section-4e50d971-76b3-47ab-8468-665a4312ff76' class='xr-section-summary-in' type='checkbox' disabled ><label for='section-4e50d971-76b3-47ab-8468-665a4312ff76' class='xr-section-summary'  title='Expand/collapse section'>Attributes: <span>(0)</span></label><div class='xr-section-inline-details'></div><div class='xr-section-details'><dl class='xr-attrs'></dl></div></li></ul></div></div>"
      ],
      "text/plain": [
       "<xarray.Dataset>\n",
       "Dimensions:             (index: 372255, power: 5)\n",
       "Coordinates:\n",
       "  * index               (index) int64 11253 16428 24110 ... 281755430 281755795\n",
       "  * power               (power) int64 0 1 2 3 4\n",
       "    theta               (index) float64 ...\n",
       "    phi                 (index) float64 ...\n",
       "Data variables:\n",
       "    logpolycoefflux     (index, power) float64 ...\n",
       "    logpolycoefpolflux  (index, power) float64 ..."
      ]
     },
     "execution_count": 40,
     "metadata": {},
     "output_type": "execute_result"
    }
   ],
   "source": [
    "xarray.open_dataset(output_filename)"
   ]
  },
  {
   "cell_type": "code",
   "execution_count": 41,
   "id": "505d4b7c",
   "metadata": {
    "execution": {
     "iopub.execute_input": "2024-06-27T23:53:37.852004Z",
     "iopub.status.busy": "2024-06-27T23:53:37.851818Z",
     "iopub.status.idle": "2024-06-27T23:53:37.857112Z",
     "shell.execute_reply": "2024-06-27T23:53:37.856766Z"
    },
    "papermill": {
     "duration": 0.017016,
     "end_time": "2024-06-27T23:53:37.858102",
     "exception": false,
     "start_time": "2024-06-27T23:53:37.841086",
     "status": "completed"
    },
    "tags": []
   },
   "outputs": [
    {
     "data": {
      "text/plain": [
       "<HDF5 dataset \"logpolycoefflux\": shape (372255, 5), type \"<f8\">"
      ]
     },
     "execution_count": 41,
     "metadata": {},
     "output_type": "execute_result"
    }
   ],
   "source": [
    "import h5py\n",
    "f = h5py.File(output_filename, 'r')\n",
    "f[\"logpolycoefflux\"]"
   ]
  },
  {
   "cell_type": "code",
   "execution_count": 42,
   "id": "10bd3b7e",
   "metadata": {
    "execution": {
     "iopub.execute_input": "2024-06-27T23:53:37.879404Z",
     "iopub.status.busy": "2024-06-27T23:53:37.879218Z",
     "iopub.status.idle": "2024-06-27T23:53:37.888190Z",
     "shell.execute_reply": "2024-06-27T23:53:37.887780Z"
    },
    "papermill": {
     "duration": 0.020132,
     "end_time": "2024-06-27T23:53:37.889159",
     "exception": false,
     "start_time": "2024-06-27T23:53:37.869027",
     "status": "completed"
    },
    "tags": []
   },
   "outputs": [
    {
     "data": {
      "text/plain": [
       "b'Jy'"
      ]
     },
     "execution_count": 42,
     "metadata": {},
     "output_type": "execute_result"
    }
   ],
   "source": [
    "f[\"logpolycoefflux\"].attrs[\"units\"]"
   ]
  }
 ],
 "metadata": {
  "@webio": {
   "lastCommId": null,
   "lastKernelId": null
  },
  "kernelspec": {
   "display_name": "pycmb",
   "language": "python",
   "name": "pycmb"
  },
  "language_info": {
   "codemirror_mode": {
    "name": "ipython",
    "version": 3
   },
   "file_extension": ".py",
   "mimetype": "text/x-python",
   "name": "python",
   "nbconvert_exporter": "python",
   "pygments_lexer": "ipython3",
   "version": "3.10.0"
  },
  "papermill": {
   "default_parameters": {},
   "duration": 46239.220999,
   "end_time": "2024-06-27T23:53:39.698232",
   "environment_variables": {},
   "exception": true,
   "input_path": "websky_sources_high_flux_catalog.ipynb",
   "output_path": "websky_sources_high_flux_catalog_out_1mJy.ipynb",
   "parameters": {},
   "start_time": "2024-06-27T11:03:00.477233",
   "version": "2.4.0"
  }
 },
 "nbformat": 4,
 "nbformat_minor": 5
}
