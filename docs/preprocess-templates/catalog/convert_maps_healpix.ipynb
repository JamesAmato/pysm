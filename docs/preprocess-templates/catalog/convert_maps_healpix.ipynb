{
 "cells": [
  {
   "cell_type": "code",
   "execution_count": 1,
   "id": "19cf332c",
   "metadata": {},
   "outputs": [],
   "source": [
    "import healpy as hp\n",
    "import pixell\n",
    "import h5py\n",
    "import xarray as xr\n",
    "from pysm3 import units as u\n",
    "from pixell import enmap, reproject\n",
    "import numpy as np"
   ]
  },
  {
   "cell_type": "code",
   "execution_count": 2,
   "id": "6819166c",
   "metadata": {},
   "outputs": [],
   "source": [
    "import os\n",
    "\n",
    "# for jupyter.nersc.gov otherwise the notebook only uses 2 cores\n",
    "\n",
    "os.environ[\"OMP_NUM_THREADS\"] = \"128\""
   ]
  },
  {
   "cell_type": "code",
   "execution_count": 3,
   "id": "e9e56712",
   "metadata": {},
   "outputs": [],
   "source": [
    "nside = 2048"
   ]
  },
  {
   "cell_type": "code",
   "execution_count": 4,
   "id": "b2f8075c",
   "metadata": {},
   "outputs": [],
   "source": [
    "%ls /global/homes/z/zonca/prjcmb/www/pysm-data/websky/0.4/radio_catalog/$nside"
   ]
  },
  {
   "cell_type": "code",
   "execution_count": 5,
   "id": "f9984c35",
   "metadata": {},
   "outputs": [],
   "source": [
    "from pathlib import Path"
   ]
  },
  {
   "cell_type": "code",
   "execution_count": 6,
   "id": "11bb332b",
   "metadata": {},
   "outputs": [],
   "source": [
    "output_path = Path(\"/global/homes/z/zonca/prjcmb/www/pysm-data/websky/0.4/radio_catalog\") / str(nside)"
   ]
  },
  {
   "cell_type": "code",
   "execution_count": 7,
   "id": "c3f65e85",
   "metadata": {},
   "outputs": [],
   "source": [
    "f = Path(\"/pscratch/sd/z/zonca\")"
   ]
  },
  {
   "cell_type": "code",
   "execution_count": 8,
   "id": "4dfec8e1",
   "metadata": {},
   "outputs": [],
   "source": [
    "freqs = (\n",
    "    list(\n",
    "        map(\n",
    "            float,\n",
    "            [\n",
    "                \"5.0\",\n",
    "                \"18.7\",\n",
    "                \"24.5\",\n",
    "                \"44.0\",\n",
    "                \"70.0\",\n",
    "                \"100.0\",\n",
    "                \"143.0\",\n",
    "                \"217.0\",\n",
    "                \"353.0\",\n",
    "                \"545.0\",\n",
    "                \"643.0\",\n",
    "                \"729.0\",\n",
    "                \"857.0\",\n",
    "                \"906.0\",\n",
    "            ],\n",
    "        )\n",
    "    )\n",
    "    * u.GHz\n",
    ")"
   ]
  },
  {
   "cell_type": "code",
   "execution_count": 9,
   "id": "3d544f63",
   "metadata": {},
   "outputs": [
    {
     "data": {
      "text/plain": [
       "[5.0,\n",
       " 18.7,\n",
       " 24.5,\n",
       " 44.0,\n",
       " 70.0,\n",
       " 100.0,\n",
       " 143.0,\n",
       " 217.0,\n",
       " 353.0,\n",
       " 545.0,\n",
       " 643.0,\n",
       " 729.0,\n",
       " 857.0,\n",
       " 906.0]"
      ]
     },
     "execution_count": 9,
     "metadata": {},
     "output_type": "execute_result"
    }
   ],
   "source": [
    "list(freqs.value)"
   ]
  },
  {
   "cell_type": "code",
   "execution_count": 19,
   "id": "7008e693",
   "metadata": {},
   "outputs": [
    {
     "name": "stdout",
     "output_type": "stream",
     "text": [
      "5.0 GHz\n"
     ]
    },
    {
     "name": "stderr",
     "output_type": "stream",
     "text": [
      "setting the output map dtype to [dtype('float32'), dtype('float32'), dtype('float32')]\n"
     ]
    },
    {
     "name": "stdout",
     "output_type": "stream",
     "text": [
      "18.7 GHz\n",
      "websky_full_catalog_trasp_nside_2048_map_18.7 missing\n",
      "24.5 GHz\n",
      "websky_full_catalog_trasp_nside_2048_map_24.5 missing\n",
      "44.0 GHz\n"
     ]
    },
    {
     "name": "stderr",
     "output_type": "stream",
     "text": [
      "setting the output map dtype to [dtype('float32'), dtype('float32'), dtype('float32')]\n"
     ]
    },
    {
     "name": "stdout",
     "output_type": "stream",
     "text": [
      "70.0 GHz\n"
     ]
    },
    {
     "name": "stderr",
     "output_type": "stream",
     "text": [
      "setting the output map dtype to [dtype('float32'), dtype('float32'), dtype('float32')]\n"
     ]
    },
    {
     "name": "stdout",
     "output_type": "stream",
     "text": [
      "100.0 GHz\n"
     ]
    },
    {
     "name": "stderr",
     "output_type": "stream",
     "text": [
      "setting the output map dtype to [dtype('float32'), dtype('float32'), dtype('float32')]\n"
     ]
    },
    {
     "name": "stdout",
     "output_type": "stream",
     "text": [
      "143.0 GHz\n"
     ]
    },
    {
     "name": "stderr",
     "output_type": "stream",
     "text": [
      "setting the output map dtype to [dtype('float32'), dtype('float32'), dtype('float32')]\n"
     ]
    },
    {
     "name": "stdout",
     "output_type": "stream",
     "text": [
      "217.0 GHz\n",
      "websky_full_catalog_trasp_nside_2048_map_217.0 missing\n",
      "353.0 GHz\n",
      "websky_full_catalog_trasp_nside_2048_map_353.0 missing\n",
      "545.0 GHz\n",
      "websky_full_catalog_trasp_nside_2048_map_545.0 missing\n",
      "643.0 GHz\n",
      "websky_full_catalog_trasp_nside_2048_map_643.0 missing\n",
      "729.0 GHz\n",
      "websky_full_catalog_trasp_nside_2048_map_729.0 missing\n",
      "857.0 GHz\n",
      "websky_full_catalog_trasp_nside_2048_map_857.0 missing\n",
      "906.0 GHz\n",
      "websky_full_catalog_trasp_nside_2048_map_906.0 missing\n"
     ]
    }
   ],
   "source": [
    "for freq in freqs:\n",
    "    print(freq)\n",
    "    try:\n",
    "        filename = f\"websky_full_catalog_trasp_nside_{nside}_map_{freq.value:04.1f}\"\n",
    "        m = enmap.read_map(str(f / filename) + \".h5\", fmt=\"hdf\")\n",
    "\n",
    "\n",
    "        output_map = reproject.map2healpix(                                                                       \n",
    "             m,                                                                                           \n",
    "             nside, method=\"spline\",\n",
    "         )\n",
    "        hp.write_map(str(output_path / f\"{freq.value:05.1f}\") + \".fits\",\n",
    "                     output_map,\n",
    "                     column_units=\"uK_RJ\", coord=\"G\", overwrite=True)\n",
    "    except FileNotFoundError:\n",
    "        print(filename, \"missing\")"
   ]
  },
  {
   "cell_type": "code",
   "execution_count": null,
   "id": "a248c536",
   "metadata": {},
   "outputs": [],
   "source": []
  }
 ],
 "metadata": {
  "@webio": {
   "lastCommId": null,
   "lastKernelId": null
  },
  "kernelspec": {
   "display_name": "pycmb",
   "language": "python",
   "name": "pycmb"
  },
  "language_info": {
   "codemirror_mode": {
    "name": "ipython",
    "version": 3
   },
   "file_extension": ".py",
   "mimetype": "text/x-python",
   "name": "python",
   "nbconvert_exporter": "python",
   "pygments_lexer": "ipython3",
   "version": "3.10.0"
  }
 },
 "nbformat": 4,
 "nbformat_minor": 5
}
