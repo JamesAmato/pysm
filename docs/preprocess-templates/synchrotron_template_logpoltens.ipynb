{
 "cells": [
  {
   "cell_type": "markdown",
   "id": "e770293d-e1a7-4ea4-91f3-a81b1938d137",
   "metadata": {},
   "source": [
    "# Haslam/WMAP Synchrotron templates for PySM 3\n",
    "> Synchrotron templates based on Haslam for Temperature and WMAP for polarization in logarithmic polarization fraction formalism (logpoltens) with injection of simulated small scale fluctuations"
   ]
  },
  {
   "cell_type": "markdown",
   "id": "1928e2fd-36e5-42dc-9a7b-06a3f161ad92",
   "metadata": {},
   "source": [
    "This new implementation of small scale injection will homogeneize the synchrotron models to the latest updates implemented on  dust : \n",
    "- input templates the same as before: HASLAM (rescaled to 23GHz and WMAP K-band, smoothed at 2deg)\n",
    "- two pivot scales `ell1=36`,`ell2=400` for small scale injection\n",
    "- spectral indices for EE, BB coming from literature , [Planck 2018]( https://arxiv.org/pdf/1807.06208.pdf) : \n",
    " i.  alpha_TT=alpha_TE= -1 \n",
    " ii. alpha_EE = -0.84 \n",
    " iii. alpha_BB= -0.78\n",
    "Notice that for TT and TE the value is justified by what actually see in the spectra of input maps, see the plot in cell `[31]`.\n",
    "- small scales have with non-zero TE \n",
    "- Modulation of qu maps with a single map, p:\n",
    " i. to avoid modulation w/ negative values,\n",
    " ii. to preserve non-zero TE \n",
    "- we propose to modulate polarization small scales as it has been done in `pysm2`(https://arxiv.org/pdf/1608.02841.pdf) ,  with a couple of differences: \n",
    " i. small scales are expected to be injected with   non-gaussian content (thanks to the  logpoltens formalism); \n",
    "ii. split the sky with  high reso pixels (nside=8) ; \n",
    "iii. use amplitude of E-mode spectra to derive the modulation template\n",
    "\n",
    "## Related notebooks\n",
    "\n",
    "* [Simplified version of this notebook that generates small scales up to $\\ell_{max}=16384$](synchrotron_template_logpoltens_generate_artifacts.ipynb)\n",
    "* [Notebook that generates small scales for the spectral index $\\beta$](synchrotron_beta.ipynb)\n",
    "* [Notebook that generates the template for curvature for `s7`](synchrotron_curvature.ipynb)\n",
    "* Notebooks that create maps at different resolutions for [templates](utils_synch_generate_map.ipynb), for [spectral index](utils_synch_generate_map_spectralindex.ipynb) and for [curvature](utils_synch_generate_map_curvature.ipynb)"
   ]
  },
  {
   "cell_type": "code",
   "execution_count": null,
   "id": "989c7685-3708-45eb-914f-719da0319837",
   "metadata": {},
   "outputs": [],
   "source": [
    "import os\n",
    "\n",
    "os.environ[\n",
    "    \"OMP_NUM_THREADS\"\n",
    "] = \"64\"  # for jupyter.nersc.gov otherwise the notebook only uses 2 cores\n",
    "\n",
    "output_files = []\n",
    "\n",
    "from datetime import date\n",
    "today = date.today()\n",
    "version = today.strftime(\"%Y.%m.%d\")\n",
    "version"
   ]
  },
  {
   "cell_type": "code",
   "execution_count": null,
   "id": "8a2daef2-fd62-4481-8d9b-a9d08852bd8d",
   "metadata": {},
   "outputs": [],
   "source": [
    "from pathlib import Path\n",
    "import healpy as hp\n",
    "import matplotlib.pyplot as plt\n",
    "import numpy as np\n",
    "\n",
    "# import pymaster as nmt\n",
    "from astropy.io import fits\n",
    "\n",
    "%matplotlib inline\n",
    "\n",
    "plt.style.use(\"seaborn-talk\")"
   ]
  },
  {
   "cell_type": "code",
   "execution_count": null,
   "id": "25685211-0cb2-4a5e-b771-21083126370f",
   "metadata": {},
   "outputs": [],
   "source": [
    "hp.disable_warnings()"
   ]
  },
  {
   "cell_type": "code",
   "execution_count": null,
   "id": "b0c70a96-13c7-4963-8c71-b5c16f6a4898",
   "metadata": {},
   "outputs": [],
   "source": [
    "import pysm3 as pysm\n",
    "import pysm3.units as u\n",
    "from pysm3.utils import add_metadata"
   ]
  },
  {
   "cell_type": "code",
   "execution_count": null,
   "id": "e09fa591-c024-4325-8feb-439ebac13f3e",
   "metadata": {},
   "outputs": [],
   "source": [
    "nside = 512\n",
    "lmax = 3 * nside"
   ]
  },
  {
   "cell_type": "code",
   "execution_count": null,
   "id": "e6e02972-6f6d-4157-82be-2a6905d15c0a",
   "metadata": {},
   "outputs": [],
   "source": [
    "comp = \"IQU\""
   ]
  },
  {
   "cell_type": "code",
   "execution_count": null,
   "id": "08c7c763-23ba-4ffa-9cd7-9aa603dc9f89",
   "metadata": {},
   "outputs": [],
   "source": [
    "components = list(enumerate(comp))\n",
    "components"
   ]
  },
  {
   "cell_type": "code",
   "execution_count": null,
   "id": "cf1f6667-b343-4b92-9adf-c28473723144",
   "metadata": {},
   "outputs": [],
   "source": [
    "spectra_components = [\"TT\", \"EE\", \"BB\", \"TE\"]"
   ]
  },
  {
   "cell_type": "markdown",
   "id": "428853aa-d70f-4703-b8b8-340f42f919d4",
   "metadata": {},
   "source": [
    "change this to True   if you want to  run namaster on notebook \n"
   ]
  },
  {
   "cell_type": "code",
   "execution_count": null,
   "id": "fb0e9603-3d04-45cc-ad39-bbbdf8e1355b",
   "metadata": {},
   "outputs": [],
   "source": [
    "namaster_on_nb = True"
   ]
  },
  {
   "cell_type": "code",
   "execution_count": null,
   "id": "306e6dc4-66c6-4639-8c37-1b0af5f4a2ad",
   "metadata": {},
   "outputs": [],
   "source": [
    "datadir = Path(\"synch_data\")"
   ]
  },
  {
   "cell_type": "code",
   "execution_count": null,
   "id": "0fecdb37-7e6b-4322-8ceb-36c98c64c802",
   "metadata": {},
   "outputs": [],
   "source": [
    "proddir = Path(\"production-data\") / \"synch\" / \"raw\""
   ]
  },
  {
   "cell_type": "code",
   "execution_count": null,
   "id": "f7d905b5-3ad2-42a2-a801-3070915b4ff9",
   "metadata": {},
   "outputs": [],
   "source": [
    "imapfile = datadir / \"haslam408_dsds_Remazeilles2014.fits\"\n",
    "qumapfile = datadir / \"wmap_band_iqumap_r9_9yr_K_v5.fits\""
   ]
  },
  {
   "cell_type": "code",
   "execution_count": null,
   "id": "85f9e74c-441b-425a-929c-6140271a1a71",
   "metadata": {},
   "outputs": [],
   "source": [
    "if not imapfile.exists():\n",
    "    !wget -O $imapfile   https://lambda.gsfc.nasa.gov/data/foregrounds/haslam_2014/haslam408_dsds_Remazeilles2014.fits"
   ]
  },
  {
   "cell_type": "code",
   "execution_count": null,
   "id": "287c6e4b-423b-4aa4-85e1-b4b2f3d88e95",
   "metadata": {},
   "outputs": [],
   "source": [
    "if not qumapfile.exists():\n",
    "    !wget -O $qumapfile   https://lambda.gsfc.nasa.gov/data/map/dr5/skymaps/9yr/raw/wmap_band_iqumap_r9_9yr_K_v5.fits"
   ]
  },
  {
   "cell_type": "code",
   "execution_count": null,
   "id": "ff5d019b-2430-4333-ab6e-dd6f58c8d37f",
   "metadata": {},
   "outputs": [],
   "source": [
    "imap = hp.read_map(imapfile)\n",
    "qumap = hp.read_map(qumapfile, field=[1, 2])"
   ]
  },
  {
   "cell_type": "markdown",
   "id": "c90a2377-cbb0-41d9-bd20-444969bb7044",
   "metadata": {},
   "source": [
    "\n",
    "# Setting the inputs \n",
    "## Synchrotron   maps \n",
    "- We use the Haslam map at 408MHz for the intensity template \n",
    "- for Q and U we adopt maps from the K-band of WMAP .  \n",
    "\n",
    "\n",
    "- rescaling Haslam map to 23 GHz **assuming a constant spectral index =-3.1**   and from K to uK \n",
    "- converting Wmap maps to from mK to uK  \n",
    "- we reduce noise by smoothing to 2 deg \n",
    "\n"
   ]
  },
  {
   "cell_type": "code",
   "execution_count": null,
   "id": "23ea86fa-4875-41ff-94c8-a9f812d4f4b4",
   "metadata": {},
   "outputs": [],
   "source": [
    "rescaling_factor = (23.0 / 0.408) ** -3.1\n",
    "\n",
    "imap *= rescaling_factor\n",
    "imap <<= u.K_RJ\n",
    "imap = imap.to(u.uK_RJ)\n",
    "qumap <<= u.mK_RJ\n",
    "qumap = qumap.to(\"uK_RJ\")"
   ]
  },
  {
   "cell_type": "code",
   "execution_count": null,
   "id": "3181742c-8c6f-4172-bc17-56d80ff54b3c",
   "metadata": {},
   "outputs": [],
   "source": [
    "IQU = np.array([imap, qumap[0], qumap[1]])"
   ]
  },
  {
   "cell_type": "code",
   "execution_count": null,
   "id": "ff628b4c-eb47-4f04-8350-aafcc05af472",
   "metadata": {},
   "outputs": [],
   "source": [
    "FWHM_SMOOTHING = 2  # deg\n",
    "IQU = hp.smoothing(IQU, fwhm=np.radians(FWHM_SMOOTHING))\n",
    "IQU <<= u.uK_RJ"
   ]
  },
  {
   "cell_type": "code",
   "execution_count": null,
   "id": "e900c5ef-cfcc-43c6-9844-19717391dfc7",
   "metadata": {},
   "outputs": [],
   "source": [
    "plt.figure(figsize=(20, 5))\n",
    "for i_pol, pol in components:\n",
    "    hp.mollview(\n",
    "        IQU[i_pol],\n",
    "        title=\"Haslam/WMAP K synch \" + pol,\n",
    "        sub=131 + i_pol,\n",
    "        unit=IQU.unit,\n",
    "        min=-300,\n",
    "        max=300,\n",
    "    )"
   ]
  },
  {
   "cell_type": "code",
   "execution_count": null,
   "id": "be041782-e480-4cf7-8ab0-02386d6f1884",
   "metadata": {},
   "outputs": [],
   "source": [
    "if not os.path.exists(datadir / \"synch_hybrid.fits\"):\n",
    "    hp.write_map(datadir / \"synch_hybrid.fits\", IQU)"
   ]
  },
  {
   "cell_type": "code",
   "execution_count": null,
   "id": "eb10856c-5a9d-4564-9d3e-e0621ba4919e",
   "metadata": {},
   "outputs": [],
   "source": [
    "import numpy as np\n",
    "import healpy as hp\n",
    "\n",
    "\n",
    "def map_to_log_pol_tens(m):\n",
    "    P = np.sqrt(m[1] ** 2 + m[2] ** 2)\n",
    "    log_pol_tens = np.empty_like(m)\n",
    "    log_pol_tens[0] = np.log(m[0] ** 2 - P**2) / 2.0\n",
    "    log_pol_tens[1:] = m[1:] / P * np.log((m[0] + P) / (m[0] - P)) / 2.0\n",
    "    return log_pol_tens\n",
    "\n",
    "\n",
    "def log_pol_tens_to_map(log_pol_tens):\n",
    "    P = np.sqrt(log_pol_tens[1] ** 2 + log_pol_tens[2] ** 2)\n",
    "    m = np.empty_like(log_pol_tens)\n",
    "    exp_i = np.exp(log_pol_tens[0])\n",
    "    m[0] = exp_i * np.cosh(P)\n",
    "    m[1:] = log_pol_tens[1:] / P * exp_i * np.sinh(P)\n",
    "    return m\n",
    "\n",
    "\n",
    "def sigmoid(x, x0, width, power=4):\n",
    "    \"\"\"Sigmoid function given start point and width\n",
    "    Parameters\n",
    "    ----------\n",
    "    x : array\n",
    "        input x axis\n",
    "    x0 : float\n",
    "        value of x where the sigmoid starts (not the center)\n",
    "    width : float\n",
    "        width of the transition region in unit of x\n",
    "    power : float\n",
    "        tweak the steepness of the curve\n",
    "    Returns\n",
    "    -------\n",
    "    sigmoid : array\n",
    "        sigmoid, same length of x\"\"\"\n",
    "    return 1.0 / (1 + np.exp(-power * (x - x0 - width / 2) / width))"
   ]
  },
  {
   "cell_type": "code",
   "execution_count": null,
   "id": "e7def493-949e-4761-84e9-bb74521b5458",
   "metadata": {},
   "outputs": [],
   "source": [
    "iqu = map_to_log_pol_tens(IQU.value)"
   ]
  },
  {
   "cell_type": "code",
   "execution_count": null,
   "id": "f0cc9b85-eb41-4000-b024-73cb78b341fc",
   "metadata": {},
   "outputs": [],
   "source": [
    "m_back = log_pol_tens_to_map(iqu)\n",
    "hp.mollview((IQU.value - m_back)[1], min=-1e-12, max=1e-12)\n",
    "del m_back"
   ]
  },
  {
   "cell_type": "code",
   "execution_count": null,
   "id": "2aebd463-a7ca-4150-9ddd-c8d7963f2a79",
   "metadata": {},
   "outputs": [],
   "source": [
    "print(\n",
    "    f\"{np.isnan(iqu[0]).sum()  } pixels out of { iqu[0].size} are NaNs in Log Pol Tens maps \"\n",
    ")\n",
    "for i in range(3):\n",
    "    iqu[i, np.isnan(iqu[i])] = np.nanmedian(iqu[i])\n",
    "assert np.isnan(iqu).sum() == 0\n",
    "print(\n",
    "    f\"{np.isnan(iqu[0]).sum()  } pixels out of { iqu[0].size} are NaNs in Log Pol Tens maps \"\n",
    ")"
   ]
  },
  {
   "cell_type": "code",
   "execution_count": null,
   "id": "e9d44200-fafd-4eb3-b364-67ee5e14cdd8",
   "metadata": {},
   "outputs": [],
   "source": [
    "if not os.path.exists(datadir / \"synch_logpoltens.fits\"):\n",
    "    hp.write_map(datadir / \"synch_logpoltens.fits\", iqu)"
   ]
  },
  {
   "cell_type": "code",
   "execution_count": null,
   "id": "ba49d04e-91a2-4607-abe8-23b51cc86b61",
   "metadata": {},
   "outputs": [],
   "source": [
    "for i_pol, pol in components:\n",
    "    hp.mollview(iqu[i_pol], title=\"Log Pol tensor \" + pol, sub=131 + i_pol)"
   ]
  },
  {
   "cell_type": "code",
   "execution_count": null,
   "id": "880a7987-d06e-46b6-ba6b-71eb200bcdd3",
   "metadata": {},
   "outputs": [],
   "source": [
    "from scipy.optimize import curve_fit"
   ]
  },
  {
   "cell_type": "code",
   "execution_count": null,
   "id": "c1b236a0-0706-45a5-98b2-d79d9968a62e",
   "metadata": {},
   "outputs": [],
   "source": [
    "def model(ell, A, gamma):\n",
    "    out = A * ell**gamma\n",
    "    return out"
   ]
  },
  {
   "cell_type": "code",
   "execution_count": null,
   "id": "f75dcc77-fb3b-4d1e-8958-4c15e5df7084",
   "metadata": {},
   "outputs": [],
   "source": [
    "def run_anafast(m, lmax):\n",
    "    clanaf = hp.anafast(m, lmax=lmax)\n",
    "    cl = {}\n",
    "    cl[\"TT\"] = clanaf[0]\n",
    "    cl[\"EE\"] = clanaf[1]\n",
    "    cl[\"BB\"] = clanaf[2]\n",
    "    cl[\"TE\"] = clanaf[3]\n",
    "    ell = np.arange(lmax + 1, dtype=float)\n",
    "\n",
    "    cl_norm = ell * (ell + 1) / np.pi / 2\n",
    "    cl_norm[0] = 1\n",
    "    return ell, cl_norm, cl\n",
    "\n",
    "\n",
    "def run_namaster(m, mask, lmax, nlbins):\n",
    "    \"\"\"Compute C_ell with NaMaster\n",
    "    Parameters\n",
    "    ----------\n",
    "    m : numpy array\n",
    "        T only or TQU HEALPix map\n",
    "    mask : numpy array\n",
    "        mask, 1D, 0 for masked pixels,\n",
    "        needs to have same Nside of the input map\n",
    "    lmax : int\n",
    "        maximum ell of the spherical harmonics transform\n",
    "    Returns\n",
    "    -------\n",
    "    ell : numpy array\n",
    "        array of ell from 0 to lmax (length lmax+1)\n",
    "    cl_norm : numpy array\n",
    "        ell (ell+1)/2pi factor to turn C_ell into D_ell\n",
    "        first element is set to 1\n",
    "    cl : dict of numpy arrays\n",
    "        dictionary of numpy arrays with all components\n",
    "        of the spectra, for now only II, EE, BB, no\n",
    "        cross-spectra\n",
    "    \"\"\"\n",
    "\n",
    "    nside = hp.npix2nside(len(mask))\n",
    "    # b = nmt.NmtBin.from_nside_linear(nside, 16)\n",
    "    # leff = b.get_effective_ells()\n",
    "    binning = nmt.NmtBin(nside=nside, nlb=nlbins, lmax=lmax, is_Dell=False)\n",
    "\n",
    "    cl = {}\n",
    "\n",
    "    if len(m) == 3:\n",
    "        f_0 = nmt.NmtField(mask, [m[0]])\n",
    "        f_2 = nmt.NmtField(\n",
    "            mask, m[1:].copy(), purify_b=True\n",
    "        )  # NaMaster masks the map in-place\n",
    "        cl_namaster = nmt.compute_full_master(f_2, f_2, binning)\n",
    "        cl[\"EE\"] = np.concatenate([[0, 0], cl_namaster[0]])\n",
    "        cl[\"BB\"] = np.concatenate([[0, 0], cl_namaster[3]])\n",
    "        cl_namaster = nmt.compute_full_master(f_0, f_2, binning)\n",
    "        cl[\"TE\"] = np.concatenate([[0, 0], cl_namaster[0]])\n",
    "    elif m.ndim == 1:\n",
    "        m = m.reshape((1, -1))\n",
    "        f_0 = nmt.NmtField(mask, [m[0]])\n",
    "\n",
    "    cl_namaster_I = nmt.compute_full_master(f_0, f_0, binning)\n",
    "\n",
    "    cl[\"TT\"] = np.concatenate([[0, 0], cl_namaster_I[0]])\n",
    "    ell = np.concatenate([[0, 1], binning.get_effective_ells()])\n",
    "    cl_norm = ell * (ell + 1) / np.pi / 2\n",
    "    cl_norm[0] = 1\n",
    "    return ell, cl_norm, cl"
   ]
  },
  {
   "cell_type": "code",
   "execution_count": null,
   "id": "0c4b729a-5d46-4b29-8428-f868cc823df6",
   "metadata": {},
   "outputs": [],
   "source": [
    "ell, cl_norm, cl = run_anafast(iqu, lmax)"
   ]
  },
  {
   "cell_type": "markdown",
   "id": "e9c81d2c-2179-41f0-b01c-d370075965e3",
   "metadata": {},
   "source": [
    "## Power law fit \n",
    "\n",
    "- We fit in$\\ell \\in[1-,36]$ a power law for TT spectrum of the logpol tens i map\n",
    "- we use the spectral index power law also for EE and BB power spectra to avoid unphysical crossings of EE over TT and BB over TT at higher multipoles\n"
   ]
  },
  {
   "cell_type": "code",
   "execution_count": null,
   "id": "96c732cf-3742-4400-b373-9ac3ef91859a",
   "metadata": {},
   "outputs": [],
   "source": [
    "ell_fit_low = {\"TT\": 10, \"EE\": 10, \"BB\": 10, \"TE\": 10}\n",
    "ell_fit_high = {\"TT\": 36, \"EE\": 36, \"BB\": 36, \"TE\": 36}\n",
    "gamma_fit2 = {\"TT\": -1, \"EE\": -0.84, \"BB\": -0.76, \"TE\": -1}\n",
    "A_fit, gamma_fit, A_fit_std, gamma_fit_std = {}, {}, {}, {}\n",
    "plt.figure(figsize=(25, 5))\n",
    "A_fit2 = {}\n",
    "smallscales = []\n",
    "\n",
    "ell_pivot = 400\n",
    "for ii, pol in enumerate(spectra_components):\n",
    "    plt.subplot(141 + ii)\n",
    "    xdata = np.arange(ell_fit_low[pol], ell_fit_high[pol])\n",
    "    ydata = xdata * (xdata + 1) / np.pi / 2 * cl[pol][xdata]\n",
    "    (A_fit[pol], gamma_fit[pol]), cov = curve_fit(model, xdata, ydata)\n",
    "    A_fit2[pol] = np.fabs(A_fit[pol]) * ell_fit_high[pol] ** (\n",
    "        gamma_fit[pol] - gamma_fit2[pol]\n",
    "    )\n",
    "    plt.loglog(ell, ell * (ell + 1) / np.pi / 2 * cl[pol])\n",
    "    scaling = model(ell[:ell_pivot], A_fit2[pol], gamma_fit2[pol])\n",
    "    scaling[:2] = 0\n",
    "    plt.plot(ell[:ell_pivot], scaling, label=r\"$\\alpha$\" + f\"[{pol}]:{gamma_fit2[pol]}\")\n",
    "    smallscales.append(scaling)\n",
    "\n",
    "    plt.axvline(ell_fit_high[pol], linestyle=\"--\", color=\"gray\")\n",
    "    plt.axvline(ell_pivot, linestyle=\"--\", color=\"k\")\n",
    "    plt.grid()\n",
    "    plt.title(f\"{pol}   spectrum for   synchro Pol.Tens  \")\n",
    "\n",
    "    plt.xlabel((\"$\\ell$\"))\n",
    "    plt.xlim(2, lmax)\n",
    "    plt.legend(fontsize=15)\n",
    "\n",
    "for ii, pol in enumerate(spectra_components):\n",
    "    # we change the EE and BB power laws\n",
    "    xdata = np.arange(ell_fit_high[pol], ell.size)\n",
    "    ydata = xdata * (xdata + 1) / np.pi / 2 * cl[pol][xdata]\n",
    "    (A_fit[pol], gamma_fit[pol]), cov = curve_fit(model, xdata, ydata)\n",
    "\n",
    "    plt.subplot(141 + ii)\n",
    "    if pol == \"TE\":\n",
    "        A_fit2[pol] = A_fit2[pol] * ell_pivot ** (gamma_fit2[pol] - gamma_fit2[\"TE\"])\n",
    "        scaling = model(ell[ell_pivot:], A_fit2[pol], gamma_fit2[\"TE\"])\n",
    "\n",
    "        plt.plot(\n",
    "            ell[ell_pivot:],\n",
    "            scaling,\n",
    "            linewidth=3,\n",
    "            alpha=0.4,\n",
    "            color=\"k\",\n",
    "        )\n",
    "        smallscales[ii] = np.concatenate([smallscales[ii], scaling])\n",
    "    else:\n",
    "        A_fit2[pol] = A_fit2[pol] * ell_pivot ** (gamma_fit2[pol] - gamma_fit2[\"TT\"])\n",
    "        scaling = model(ell[ell_pivot:], A_fit2[pol], gamma_fit2[\"TT\"])\n",
    "        plt.plot(\n",
    "            ell[ell_pivot:],\n",
    "            scaling,\n",
    "            linewidth=3,\n",
    "            alpha=0.4,\n",
    "            color=\"k\",\n",
    "        )\n",
    "        smallscales[ii] = np.concatenate([smallscales[ii], scaling])\n",
    "\n",
    "plt.subplot(141)\n",
    "\n",
    "plt.ylabel(\"$\\ell(\\ell+1)C_\\ell/2\\pi [\\mu K_{RJ}]$\")\n",
    "plt.ylim(1e-5, 1e0)\n",
    "plt.subplot(142)\n",
    "plt.ylim(1e-5, 1e-1)\n",
    "plt.subplot(143)\n",
    "plt.ylim(1e-5, 1e-1)\n",
    "plt.subplot(143)\n",
    "plt.ylim(1e-5, 1e-1)"
   ]
  },
  {
   "cell_type": "code",
   "execution_count": null,
   "id": "0554ce3e-2c56-4b69-8841-d67acd492a87",
   "metadata": {},
   "outputs": [],
   "source": [
    "cl_ss = [\n",
    "    smallscales[ii] * sigmoid(ell, ell_fit_high[pol], ell_fit_high[pol] / 10) / cl_norm\n",
    "    for ii, pol in enumerate(spectra_components)\n",
    "]"
   ]
  },
  {
   "cell_type": "markdown",
   "id": "6900a957-5052-480a-b7f0-753f210026c9",
   "metadata": {},
   "source": [
    "# (new) modulation for intensity and polarization \n",
    "\n",
    "- downgrade map at `nside=128`\n",
    "-  estimate power spectra masking the galactic plane \n"
   ]
  },
  {
   "cell_type": "code",
   "execution_count": null,
   "id": "94f917ce-4481-4109-8655-29def888b9de",
   "metadata": {},
   "outputs": [],
   "source": [
    "import pymaster as nmt\n",
    "\n",
    "mask = IQU[0].value > 150\n",
    "\n",
    "iqu2 = hp.ud_grade(\n",
    "    iqu,  # hp.smoothing(iqu, fwhm=np.radians(np.sqrt(3**2- FWHM_SMOOTHING**2)  ) )\n",
    "    nside_out=128,\n",
    ")\n",
    "\n",
    "mask = hp.ud_grade(mask, nside_out=hp.get_nside(iqu2))\n",
    "lmax_mod = 100\n",
    "apo_mask = nmt.mask_apodization(mask, 5, apotype=\"C2\")\n",
    "ell0, norm, cl0 = run_anafast(iqu2 * mask, lmax=lmax_mod)"
   ]
  },
  {
   "cell_type": "code",
   "execution_count": null,
   "id": "5b7e8e2e-0f80-42df-ba01-488e5c25af65",
   "metadata": {},
   "outputs": [],
   "source": [
    "nsidepatches = 8\n",
    "centers = np.vstack(\n",
    "    hp.pix2vec(ipix=np.arange(hp.nside2npix(nsidepatches)), nside=nsidepatches)\n",
    ").T\n",
    "\n",
    "\n",
    "def bin_cell(cell, dig):\n",
    "    cb = []\n",
    "    errb = []\n",
    "    for i in np.unique(dig):\n",
    "        msk = dig == i\n",
    "        cb.append(cell[msk].mean())\n",
    "        errb.append(cell[msk].std())\n",
    "\n",
    "    return np.array(cb), np.array(errb)\n",
    "\n",
    "\n",
    "def bin_ell(ells, dig):\n",
    "    lb = []\n",
    "    dl = []\n",
    "    for i in np.unique(dig):\n",
    "        msk = dig == i\n",
    "        lb.append(ells[msk].mean())\n",
    "        dl.append((ells[msk].max() - ells[msk].min()) / 2)\n",
    "    return np.array(lb), np.array(dl)\n",
    "\n",
    "\n",
    "fit_model = lambda x, Ad, alpha: Ad * (x / 30) ** (alpha)\n",
    "tmod = np.zeros_like(iqu2[0])\n",
    "pmod = np.zeros_like(iqu2[0])\n",
    "n_eff = np.zeros_like(iqu2[0])\n",
    "for ipix, c in enumerate(centers):\n",
    "    patch = np.zeros_like(iqu2[0])\n",
    "    maskpixs = hp.query_disc(nside=hp.get_nside(iqu2), vec=c, radius=np.radians(15.6))\n",
    "    patch[maskpixs] = 1\n",
    "\n",
    "    apo_patch = nmt.mask_apodization(patch, 5, apotype=\"C2\")\n",
    "    fsky = apo_patch.sum() / apo_patch.size\n",
    "\n",
    "    if ipix % 100 == 0:\n",
    "        print(ipix)\n",
    "    ellp, norm, clp = run_anafast(m=iqu2 * apo_patch, lmax=lmax_mod)\n",
    "    digi = np.digitize(ellp, np.linspace(0, lmax_mod, 10))\n",
    "\n",
    "    dtt, errtt = bin_cell((clp[\"TT\"]), digi) / fsky\n",
    "    dee, erree = bin_cell((clp[\"EE\"]), digi) / fsky\n",
    "    lb, delta_l = bin_ell(ellp, digi)\n",
    "    lmask = np.logical_and((lb) < 50, lb > 10)\n",
    "    lmaskt = np.logical_and((lb) < 50, lb > 10)\n",
    "\n",
    "    param_ee, _ = curve_fit(\n",
    "        fit_model, ydata=dee[lmask], xdata=lb[lmask], sigma=erree[lmask]\n",
    "    )\n",
    "    param_tt, _ = curve_fit(\n",
    "        fit_model, ydata=dtt[lmaskt], xdata=lb[lmaskt], sigma=errtt[lmaskt]\n",
    "    )\n",
    "\n",
    "    l_ = 36\n",
    "    pmod += np.sqrt(fit_model(l_, *param_ee) / cl0[\"EE\"][l_]) * apo_patch\n",
    "    tmod += np.sqrt(fit_model(l_, *param_tt) / cl0[\"TT\"][l_]) * apo_patch\n",
    "    n_eff += apo_patch\n",
    "\n",
    "#   break"
   ]
  },
  {
   "cell_type": "code",
   "execution_count": null,
   "id": "a7fa3730-796e-48e2-92f0-3fa797f3b26e",
   "metadata": {},
   "outputs": [],
   "source": [
    "psm = hp.smoothing(pmod / n_eff, fwhm=np.radians(11.5))\n",
    "tsm = hp.smoothing(tmod / n_eff, fwhm=np.radians(11.5))\n",
    "hp.mollview(psm, sub=122, title=\"P Modulation\")\n",
    "hp.mollview(tsm, sub=121, title=\"I Modulation\")"
   ]
  },
  {
   "cell_type": "code",
   "execution_count": null,
   "id": "3d8e184f-e52a-443a-8f7c-36a9470ab4f0",
   "metadata": {},
   "outputs": [],
   "source": [
    "LS_lmax = 128"
   ]
  },
  {
   "cell_type": "code",
   "execution_count": null,
   "id": "22232d0a-297b-4a4c-8170-9f12eb26c356",
   "metadata": {},
   "outputs": [],
   "source": [
    "np.random.seed(777)\n",
    "# filter large scales\n",
    "alm_log_pol_tens_fullsky = hp.map2alm(iqu, lmax=lmax, use_pixel_weights=True)\n",
    "ii_LS_alm = np.empty_like(alm_log_pol_tens_fullsky)\n",
    "\n",
    "for ii, pol in enumerate(spectra_components[:-1]):\n",
    "\n",
    "    sig_func = sigmoid(ell, x0=ell_fit_high[pol], width=ell_fit_high[pol] / 10)\n",
    "    ii_LS_alm[ii] = hp.almxfl(alm_log_pol_tens_fullsky[ii], (1.0 - sig_func) ** 0.2)"
   ]
  },
  {
   "cell_type": "code",
   "execution_count": null,
   "id": "69c9476b-7680-48cf-bdff-cb2f8cec5cc9",
   "metadata": {},
   "outputs": [],
   "source": [
    "for pol in range(3):\n",
    "    plt.loglog(hp.alm2cl(ii_LS_alm[pol]))\n",
    "plt.grid()\n",
    "plt.axvline(LS_lmax, color=\"grey\", linestyle=\"--\");"
   ]
  },
  {
   "cell_type": "code",
   "execution_count": null,
   "id": "693b0e87-d2f2-4b63-a39b-3305e62ca08d",
   "metadata": {},
   "outputs": [],
   "source": [
    "ii_LS_alm = hp.resize_alm(ii_LS_alm, lmax, lmax, LS_lmax, LS_lmax)\n",
    "\n",
    "log_ss = hp.synfast(\n",
    "    cl_ss,\n",
    "    lmax=lmax,\n",
    "    new=True,\n",
    "    nside=hp.get_nside(iqu),\n",
    ")\n",
    "log_ss_modulated = np.zeros_like(log_ss)\n",
    "log_ss_modulated[0] = log_ss[0] * (\n",
    "    hp.ud_grade(tsm / tsm.max(), nside_out=hp.get_nside(log_ss))\n",
    ")  # modulate_amp\n",
    "log_ss_modulated[1:] = log_ss[1:] * (\n",
    "    hp.ud_grade(psm, nside_out=hp.get_nside(log_ss)) - 0.5\n",
    ")  # ampl_smooth_minmax\n",
    "\n",
    "log_ls = hp.alm2map(ii_LS_alm, nside=nside)\n",
    "ii_map_out = log_ss_modulated + log_ls"
   ]
  },
  {
   "cell_type": "code",
   "execution_count": null,
   "id": "d9cf0b7f-0aac-4b84-875c-d5dee0f0fcbe",
   "metadata": {},
   "outputs": [],
   "source": [
    "filename = proddir / f\"synch_largescale_template_logpoltens_alm_nside{nside}_lmax{LS_lmax:d}_{version}.fits\"\n",
    "hp.write_alm(\n",
    "    filename,\n",
    "    ii_LS_alm,\n",
    "    lmax=LS_lmax,\n",
    "    out_dtype=np.complex64,\n",
    "    overwrite=True,\n",
    ")\n",
    "output_files.append(filename)"
   ]
  },
  {
   "cell_type": "code",
   "execution_count": null,
   "id": "408e7b10-b83a-426d-8b88-fcaa0ecaa3de",
   "metadata": {},
   "outputs": [],
   "source": [
    "pysm.utils.add_metadata(\n",
    "    [ filename ],\n",
    "    coord=\"G\",\n",
    "    unit=\"uK_RJ\",\n",
    ")"
   ]
  },
  {
   "cell_type": "code",
   "execution_count": null,
   "id": "cda3880a-a409-42a8-857a-406e209166f1",
   "metadata": {},
   "outputs": [],
   "source": [
    "plt.figure(figsize=(15, 5))\n",
    "hp.gnomview(\n",
    "    log_ss[0],\n",
    "    reso=3.75,\n",
    "    xsize=320,\n",
    "    rot=[30, -58],\n",
    "    sub=152,\n",
    "    title=\"small-scales poltens i \",\n",
    ")\n",
    "hp.gnomview(\n",
    "    log_ls[0],\n",
    "    reso=3.75,\n",
    "    xsize=320,\n",
    "    rot=[30, -58],\n",
    "    sub=153,\n",
    "    title=\"large-scales poltens i  \",\n",
    ")\n",
    "hp.gnomview(\n",
    "    ii_map_out[0], reso=3.75, xsize=320, rot=[30, -58], sub=151, title=\"coadded i \"\n",
    ")\n",
    "hp.gnomview(iqu[0], reso=3.75, xsize=320, rot=[30, -58], sub=155, title=\"input  i \")\n",
    "hp.gnomview(tsm, reso=3.75, xsize=320, rot=[30, -58], sub=154, title=\"modulation i \")\n",
    "# hp.gnomview(modulate_amp, reso=3.75, xsize=320, rot=[30,-58] ,sub=154,title='modulation i ' )\n",
    "\n",
    "plt.figure(figsize=(15, 5))\n",
    "hp.gnomview(\n",
    "    log_ss[1],\n",
    "    reso=3.75,\n",
    "    xsize=320,\n",
    "    rot=[30, -58],\n",
    "    sub=152,\n",
    "    title=\"small-scales poltens q\",\n",
    ")\n",
    "hp.gnomview(\n",
    "    log_ls[1],\n",
    "    reso=3.75,\n",
    "    xsize=320,\n",
    "    rot=[30, -58],\n",
    "    sub=153,\n",
    "    title=\"large-scales poltens q\",\n",
    ")\n",
    "hp.gnomview(\n",
    "    ii_map_out[1], reso=3.75, xsize=320, rot=[30, -58], sub=151, title=\"coadded q \"\n",
    ")\n",
    "hp.gnomview(iqu[1], reso=3.75, xsize=320, rot=[30, -58], sub=155, title=\"input  q \")\n",
    "hp.gnomview(psm, reso=3.75, xsize=320, rot=[30, -58], sub=154, title=\"modulation p  \")\n",
    "# hp.gnomview(ampl_smooth_minmax  , reso=3.75, xsize=320, rot=[30,-58] ,sub=154,title='modulation p  ' )"
   ]
  },
  {
   "cell_type": "code",
   "execution_count": null,
   "id": "c87ea88f-122e-4cbb-8b12-e378cbfb61c1",
   "metadata": {},
   "outputs": [],
   "source": [
    "ell, cl_norm, cltot = run_anafast(ii_map_out, lmax)"
   ]
  },
  {
   "cell_type": "code",
   "execution_count": null,
   "id": "138baa53-a733-442f-acb2-2ec9f830c364",
   "metadata": {},
   "outputs": [],
   "source": [
    "plt.figure(figsize=(25, 5))\n",
    "\n",
    "for ii, pol in enumerate(spectra_components):\n",
    "    plt.subplot(141 + ii)\n",
    "    plt.loglog(ell, ell * (ell + 1) / np.pi / 2 * cl[pol], label=\"anafast $C_\\ell$\")\n",
    "    plt.loglog(ell, ell * (ell + 1) / np.pi / 2 * cltot[pol], label=\"tot  $C_\\ell$\")\n",
    "\n",
    "    # plt.loglog(ell, ell*(ell+1)/np.pi/2 * small_scales_input_cl[ii]  )\n",
    "\n",
    "    plt.axvline(\n",
    "        ell_fit_low[pol],\n",
    "        linestyle=\"--\",\n",
    "        color=\"black\",\n",
    "        label=\"$ \\ell={} $\".format(ell_fit_low[pol]),\n",
    "    )\n",
    "    plt.axvline(\n",
    "        ell_fit_high[pol],\n",
    "        linestyle=\"--\",\n",
    "        color=\"gray\",\n",
    "        label=\"$ \\ell={} $\".format(ell_fit_high[pol]),\n",
    "    )\n",
    "    plt.legend()\n",
    "    plt.grid()\n",
    "    plt.title(\n",
    "        f\"{pol}   spectrum for synch  Pol.Tens  \"\n",
    "        + r\"$\\gamma_{fit}=$\"\n",
    "        + f\"{gamma_fit[pol]:.2f}\"\n",
    "    )\n",
    "\n",
    "    plt.ylabel(\"$\\ell(\\ell+1)C_\\ell/2\\pi [\\mu K_{RJ}]$\")\n",
    "    plt.xlabel((\"$\\ell$\"))\n",
    "    plt.xlim(2, lmax)\n",
    "    # plt.ylim(1e-5, 1e-1)"
   ]
  },
  {
   "cell_type": "code",
   "execution_count": null,
   "id": "3bb7f2ee-685b-404d-b296-d71b7542010a",
   "metadata": {},
   "outputs": [],
   "source": [
    "galplane = IQU[0].value > 200\n",
    "galplane_apo = nmt.mask_apodization(galplane, 5, apotype=\"C2\")"
   ]
  },
  {
   "cell_type": "code",
   "execution_count": null,
   "id": "ff6bbb63-a88d-491b-ba3b-dae31fc00d4a",
   "metadata": {},
   "outputs": [],
   "source": [
    "output_map = log_pol_tens_to_map(ii_map_out)\n",
    "output_map = output_map * (1 - galplane_apo) + IQU.value * galplane_apo"
   ]
  },
  {
   "cell_type": "code",
   "execution_count": null,
   "id": "42c430d3-e8f2-441b-915c-681896b1ea25",
   "metadata": {},
   "outputs": [],
   "source": [
    "hp.mollview(output_map[0], min=0, max=500)"
   ]
  },
  {
   "cell_type": "code",
   "execution_count": null,
   "id": "54eb2651-87a9-4484-a4a3-55a5ad9ed2da",
   "metadata": {},
   "outputs": [],
   "source": [
    "lat = 15\n",
    "plt.figure(figsize=(15, 10))\n",
    "hp.gnomview(\n",
    "    ii_map_out[0],\n",
    "    title=\"i w/ small scales \",\n",
    "    rot=[0, lat],\n",
    "    reso=3.75,\n",
    "    xsize=320,\n",
    "    sub=234,\n",
    ")\n",
    "hp.gnomview(iqu[0], title=\"i\", rot=[0, lat], reso=3.75, xsize=320, sub=231)\n",
    "hp.gnomview(\n",
    "    tsm,\n",
    "    title=\" modulation I \",\n",
    "    rot=[0, lat],\n",
    "    reso=3.75,\n",
    "    xsize=320,\n",
    "    sub=233,\n",
    ")\n",
    "\n",
    "hp.gnomview(\n",
    "    (IQU[0]),\n",
    "    title=\" I input   \",\n",
    "    rot=[0, lat],\n",
    "    reso=3.75,\n",
    "    xsize=320,\n",
    "    sub=232,\n",
    ")\n",
    "hp.gnomview(\n",
    "    (log_ss_modulated)[0],\n",
    "    title=\"  small scales \",\n",
    "    rot=[0, lat],\n",
    "    reso=3.75,\n",
    "    xsize=320,\n",
    "    sub=236,\n",
    ")\n",
    "hp.gnomview(\n",
    "    output_map[0],\n",
    "    title=\"I w/ small scales \",\n",
    "    rot=[0, lat],\n",
    "    reso=3.75,\n",
    "    xsize=320,\n",
    "    sub=235,\n",
    ")\n",
    "lat = 15\n",
    "plt.figure(figsize=(15, 10))\n",
    "hp.gnomview(\n",
    "    ii_map_out[1],\n",
    "    title=\"q w/ small scales \",\n",
    "    rot=[0, lat],\n",
    "    reso=3.75,\n",
    "    xsize=320,\n",
    "    sub=234,\n",
    ")\n",
    "hp.gnomview(iqu[1], title=\"q\", rot=[0, lat], reso=3.75, xsize=320, sub=231)\n",
    "hp.gnomview(\n",
    "    (psm),\n",
    "    title=\" modulation P \",\n",
    "    rot=[0, lat],\n",
    "    reso=3.75,\n",
    "    xsize=320,\n",
    "    sub=233,\n",
    ")\n",
    "\n",
    "hp.gnomview(\n",
    "    (IQU[1]),\n",
    "    title=\" Q input  \",\n",
    "    rot=[0, lat],\n",
    "    reso=3.75,\n",
    "    xsize=320,\n",
    "    sub=232,\n",
    ")\n",
    "hp.gnomview(\n",
    "    (log_ss_modulated)[1],\n",
    "    title=\"  small scales \",\n",
    "    rot=[0, lat],\n",
    "    reso=3.75,\n",
    "    xsize=320,\n",
    "    sub=236,\n",
    ")\n",
    "hp.gnomview(\n",
    "    output_map[1],\n",
    "    title=\"Q w/ small scales \",\n",
    "    rot=[0, lat],\n",
    "    reso=3.75,\n",
    "    xsize=320,\n",
    "    sub=235,\n",
    ")"
   ]
  },
  {
   "cell_type": "code",
   "execution_count": null,
   "id": "21ef4a15-6697-4ab5-bf14-22ba712257b5",
   "metadata": {},
   "outputs": [],
   "source": [
    "if not os.path.exists(datadir / \"sync_pysm_mod_out_circles.fits\"):\n",
    "    hp.write_map(datadir / \"sync_pysm_mod_out_circles.fits\", output_map, overwrite=True)"
   ]
  },
  {
   "cell_type": "markdown",
   "id": "72741b65-42f8-4f58-9af0-50eea3dbf46d",
   "metadata": {},
   "source": [
    "### Validation \n"
   ]
  },
  {
   "cell_type": "code",
   "execution_count": null,
   "id": "d4e1527d-abb9-4b14-9140-2b15199935d2",
   "metadata": {},
   "outputs": [],
   "source": [
    "bkmaskfile = datadir / \"bk14_mask_gal_n0512.fits\"\n",
    "if not bkmaskfile.exists():\n",
    "    !wget -O $bkmaskfile http://bicepkeck.org/BK14_datarelease/bk14_mask_gal_n0512.fits\n",
    "maskbk = hp.read_map(bkmaskfile, verbose=False)\n",
    "idx = np.where((maskbk < 0) | (~np.isfinite(maskbk)))\n",
    "maskbk[idx] = 0"
   ]
  },
  {
   "cell_type": "code",
   "execution_count": null,
   "id": "79ae3316-b445-4ef6-a26a-35c4783ddbf2",
   "metadata": {},
   "outputs": [],
   "source": [
    "aoa = \"/global/cscratch1/sd/flauger/S4_misc/weights_aoa_spsat_apo_gal_512.fits\"\n",
    "mask_aoa = hp.read_map(aoa, verbose=False)"
   ]
  },
  {
   "cell_type": "code",
   "execution_count": null,
   "id": "c308c3ba-fa6c-4c4d-9c22-83b1538d718e",
   "metadata": {},
   "outputs": [],
   "source": [
    "planck_mask_filename = datadir / \"HFI_Mask_GalPlane-apo2_2048_R2.00.fits\"\n",
    "\n",
    "if not planck_mask_filename.exists():\n",
    "    !wget -O $planck_mask_filename \"http://pla.esac.esa.int/pla/aio/product-action?MAP.MAP_ID=HFI_Mask_GalPlane-apo2_2048_R2.00.fits\""
   ]
  },
  {
   "cell_type": "code",
   "execution_count": null,
   "id": "09dc3f97-b7aa-4f58-8ded-eecc8b3ee97f",
   "metadata": {},
   "outputs": [],
   "source": [
    "planck_masks = {\n",
    "    \"GAL099\": hp.ud_grade(hp.read_map(planck_mask_filename, [\"GAL099\"]), nside_out=512),\n",
    "    \"GAL097\": hp.ud_grade(hp.read_map(planck_mask_filename, [\"GAL097\"]), nside_out=512),\n",
    "    \"GAL090\": hp.ud_grade(hp.read_map(planck_mask_filename, [\"GAL090\"]), nside_out=512),\n",
    "    \"GAL080\": hp.ud_grade(hp.read_map(planck_mask_filename, [\"GAL080\"]), nside_out=512),\n",
    "    \"GAL070\": hp.ud_grade(hp.read_map(planck_mask_filename, [\"GAL070\"]), nside_out=512),\n",
    "    \"GAL060\": hp.ud_grade(hp.read_map(planck_mask_filename, [\"GAL060\"]), nside_out=512),\n",
    "    \"GAL040\": hp.ud_grade(hp.read_map(planck_mask_filename, [\"GAL040\"]), nside_out=512),\n",
    "    \"GAL020\": hp.ud_grade(hp.read_map(planck_mask_filename, [\"GAL020\"]), nside_out=512),\n",
    "}"
   ]
  },
  {
   "cell_type": "code",
   "execution_count": null,
   "id": "ce65d777-53be-43d6-9d2c-e396eca6fc6f",
   "metadata": {},
   "outputs": [],
   "source": [
    "ell, cl_norm, clo = run_anafast(output_map, lmax=2048)\n",
    "ell, cl_norm, cli = run_anafast(IQU, lmax=2048)"
   ]
  },
  {
   "cell_type": "code",
   "execution_count": null,
   "id": "b83bc6d5-2f89-483c-a801-462ab3a5af38",
   "metadata": {},
   "outputs": [],
   "source": [
    "colors = plt.cm.cividis(np.linspace(0, 1, len(planck_masks.keys()) + 1))"
   ]
  },
  {
   "cell_type": "code",
   "execution_count": null,
   "id": "48aa7f48-7bbd-4830-8dc1-503280604dd0",
   "metadata": {},
   "outputs": [],
   "source": [
    "bins = {\n",
    "    \"GAL099\": 5,\n",
    "    \"GAL097\": 5,\n",
    "    \"GAL090\": 5,\n",
    "    \"GAL080\": 5,\n",
    "    \"GAL070\": 15,\n",
    "    \"GAL060\": 15,\n",
    "    \"GAL040\": 25,\n",
    "    \"GAL020\": 25,\n",
    "}\n",
    "plt.figure(figsize=(15, 10))\n",
    "import os\n",
    "\n",
    "# for jj, k in enumerate([ \"GAL080\",\"GAL040\",\"GAL020\" ])  :\n",
    "for jj, k in enumerate(planck_masks.keys()):\n",
    "    print(k)\n",
    "    fspectra = datadir / f\"sync_input_gal{k[3:]}_spectra.npz\"\n",
    "    if os.path.exists(fspectra):\n",
    "        input_ell = np.load(fspectra)[\"ell\"]\n",
    "        cl_in = {kk: np.load(fspectra)[kk] for kk in spectra_components + [\"TE\"]}\n",
    "    else:\n",
    "        input_ell, cl_norm, cl_in = run_namaster(\n",
    "            m=IQU, mask=planck_masks[k], lmax=1300, nlbins=bins[k]\n",
    "        )\n",
    "        np.savez(\n",
    "            fspectra,\n",
    "            ell=input_ell,\n",
    "            TT=cl_in[\"TT\"],\n",
    "            EE=cl_in[\"EE\"],\n",
    "            BB=cl_in[\"BB\"],\n",
    "            TE=cl_in[\"TE\"],\n",
    "        )\n",
    "    fspectra = datadir / f\"sync_galplane_gal{k[3:]}_spectra.npz\"\n",
    "\n",
    "    if os.path.exists(fspectra):\n",
    "        output_ell = np.load(fspectra)[\"ell\"]\n",
    "        cl_out = {kk: np.load(fspectra)[kk] for kk in spectra_components + [\"TE\"]}\n",
    "    else:\n",
    "\n",
    "        output_ell, cl_norm, cl_out = run_namaster(\n",
    "            m=output_map, mask=planck_masks[k], lmax=1300, nlbins=bins[k]\n",
    "        )\n",
    "        np.savez(\n",
    "            fspectra,\n",
    "            ell=output_ell,\n",
    "            TT=cl_out[\"TT\"],\n",
    "            EE=cl_out[\"EE\"],\n",
    "            BB=cl_out[\"BB\"],\n",
    "            TE=cl_out[\"TE\"],\n",
    "        )\n",
    "\n",
    "    for ii, pol in enumerate([\"TT\", \"EE\", \"BB\", \"TE\"]):\n",
    "        plt.subplot(2, 2, ii + 1)\n",
    "        if jj == 0:\n",
    "            plt.title(pol)\n",
    "            plt.loglog(\n",
    "                ell,\n",
    "                ell**2 * (clo[pol]),\n",
    "                label=\"Small-Scales \",\n",
    "                color=colors[0],\n",
    "            )\n",
    "            plt.loglog(\n",
    "                ell,\n",
    "                ell**2 * (cli[pol]),\n",
    "                \":\",\n",
    "                label=\"GNILC map \",\n",
    "                color=colors[0],\n",
    "                alpha=0.5,\n",
    "            )\n",
    "        plt.loglog(output_ell, output_ell**2 * (cl_out[pol]), color=colors[jj + 1])\n",
    "        # ,label =f\"{k}\")\n",
    "        plt.loglog(\n",
    "            input_ell,\n",
    "            input_ell**2 * (cl_in[pol]),\n",
    "            \":\",\n",
    "            color=colors[jj + 1],\n",
    "            alpha=0.5,\n",
    "        )\n",
    "\n",
    "plt.subplot(221)\n",
    "plt.legend()\n",
    "plt.ylabel(\"$ D_\\ell  [\\mu K_{RJ}]$\")\n",
    "plt.ylim(1e0, 1e5)\n",
    "plt.xlim(2, 1e3)\n",
    "\n",
    "plt.subplot(222)\n",
    "plt.ylim(1e1, 5e3)\n",
    "plt.xlim(2, 1e3)\n",
    "sm = plt.cm.ScalarMappable(\n",
    "    cmap=plt.cm.cividis_r, norm=plt.Normalize(vmin=20.0, vmax=100)\n",
    ")\n",
    "cb = plt.colorbar(sm)\n",
    "cb.set_label(r\" $f_{sky}$ [%]\", rotation=90, fontsize=16)\n",
    "plt.subplot(223)\n",
    "plt.ylabel(\"$ D_\\ell  [\\mu K_{RJ}]$\")\n",
    "plt.xlabel((\"$\\ell$\"))\n",
    "\n",
    "plt.ylim(5e0, 2e3)\n",
    "plt.xlim(2, 1e3)\n",
    "\n",
    "plt.subplot(224)\n",
    "plt.ylim(1e0, 1e5)\n",
    "plt.xlim(2, 1e3)\n",
    "\n",
    "plt.xlabel((\"$\\ell$\"))\n",
    "sm = plt.cm.ScalarMappable(\n",
    "    cmap=plt.cm.cividis_r, norm=plt.Normalize(vmin=20.0, vmax=100)\n",
    ")\n",
    "cb = plt.colorbar(sm)\n",
    "cb.set_label(r\"$f_{sky}$ [%]\", rotation=90, fontsize=16)\n",
    "plt.tight_layout()"
   ]
  },
  {
   "cell_type": "code",
   "execution_count": null,
   "id": "459a65a2-d868-4718-b522-a39bce62391a",
   "metadata": {},
   "outputs": [],
   "source": [
    "# plt.figure(figsize=(15,10 ))\n",
    "import os\n",
    "\n",
    "for jj, k in enumerate(planck_masks.keys()):\n",
    "\n",
    "    fspectra = datadir / f\"sync_galplane_gal{k[3:]}_spectra.npz\"\n",
    "    if os.path.exists(fspectra):\n",
    "        #        print(\"read Namaster spectra  \")\n",
    "        output_ell = np.load(fspectra)[\"ell\"]\n",
    "        cl_out = {kk: np.load(fspectra)[kk] for kk in spectra_components + [\"TE\"]}\n",
    "\n",
    "    if jj == 0:\n",
    "        plt.plot(ell, (clo[\"EE\"] / clo[\"BB\"]), color=colors[0], alpha=1)\n",
    "    plt.plot(output_ell, (cl_out[\"EE\"] / cl_out[\"BB\"]), color=colors[jj + 1], alpha=1)\n",
    "\n",
    "plt.xlim(200, 1e3)\n",
    "plt.ylim(0, 3)\n",
    "sm = plt.cm.ScalarMappable(\n",
    "    cmap=plt.cm.cividis_r, norm=plt.Normalize(vmin=20.0, vmax=100)\n",
    ")\n",
    "cb = plt.colorbar(sm)\n",
    "cb.set_label(r\" $f_{sky}$ [%]\", rotation=90, fontsize=16)\n",
    "plt.xlabel((\"$\\ell$\"))\n",
    "plt.ylabel((\"E-to-B ratio\"))\n",
    "\n",
    "plt.tight_layout()"
   ]
  },
  {
   "cell_type": "code",
   "execution_count": null,
   "id": "39b08522-663f-44aa-bdbc-921e21625ce1",
   "metadata": {},
   "outputs": [],
   "source": [
    "def ClBB(mask, mapp):\n",
    "    map1 = mapp.copy()\n",
    "    b = nmt.NmtBin.from_nside_linear(hp.get_nside(mask), 40)\n",
    "    f_2 = nmt.NmtField(mask, map1, purify_b=True)\n",
    "    cl_22 = nmt.compute_full_master(f_2, f_2, b)\n",
    "    ell_arr = b.get_effective_ells()\n",
    "    return (ell_arr, cl_22[3], cl_22[0])"
   ]
  },
  {
   "cell_type": "code",
   "execution_count": null,
   "id": "1b3d72fe-0bdf-493c-bbf7-f93f82ceac4a",
   "metadata": {},
   "outputs": [],
   "source": [
    "import matplotlib\n",
    "import matplotlib.pyplot as plt\n",
    "from matplotlib import rc"
   ]
  },
  {
   "cell_type": "code",
   "execution_count": null,
   "id": "f276b284-d717-4ca0-b8f1-e285036f2ce7",
   "metadata": {},
   "outputs": [],
   "source": [
    "i_dic = {}\n",
    "(ells, clBB_i, clEE_i) = ClBB(mask_aoa, IQU[1:, :])\n",
    "\n",
    "i_dic[\"S4\"] = [clBB_i, clEE_i]\n",
    "(ells, clBB_i, clEE_i) = ClBB(maskbk, IQU[1:, :])\n",
    "i_dic[\"BK\"] = [clBB_i, clEE_i]"
   ]
  },
  {
   "cell_type": "code",
   "execution_count": null,
   "id": "132254e8-2879-4663-bf6b-fe901cd06c63",
   "metadata": {},
   "outputs": [],
   "source": [
    "o_dic = {}\n",
    "\n",
    "(oells, clBB_o, clEE_o) = ClBB(mask_aoa, output_map[1:, :])\n",
    "o_dic[\"S4\"] = [clBB_o, clEE_o]\n",
    "(oells, clBB_o, clEE_o) = ClBB(maskbk, output_map[1:, :])\n",
    "o_dic[\"BK\"] = [clBB_o, clEE_o]"
   ]
  },
  {
   "cell_type": "code",
   "execution_count": null,
   "id": "3c084a7e-b728-4279-b4fc-09adebbf979f",
   "metadata": {},
   "outputs": [],
   "source": [
    "plt.figure(figsize=(15, 4))\n",
    "plt.subplot(121)\n",
    "plt.title(\"EE\")\n",
    "plt.ylabel(\"$ D_\\ell\\,\\,  [\\mu K_{RJ}]$\")\n",
    "plt.xlabel((\"$\\ell$\"))\n",
    "\n",
    "plt.plot(\n",
    "    ells,\n",
    "    ells * (ells + 1.0) * i_dic[\"BK\"][1] / (2.0 * np.pi),\n",
    "    \".\",\n",
    "    alpha=0.5,\n",
    "    color=\"C0\",\n",
    "    linestyle=\":\",\n",
    ")\n",
    "plt.plot(\n",
    "    oells,\n",
    "    oells * (oells + 1.0) * o_dic[\"BK\"][1] / (2.0 * np.pi),\n",
    "    label=\"BK\",\n",
    "    color=\"C0\",\n",
    ")\n",
    "plt.plot(\n",
    "    ells,\n",
    "    ells * (ells + 1.0) * i_dic[\"S4\"][1] / (2.0 * np.pi),\n",
    "    \".\",\n",
    "    alpha=0.5,\n",
    "    color=\"C1\",\n",
    "    linestyle=\":\",\n",
    ")\n",
    "plt.plot(\n",
    "    oells,\n",
    "    oells * (oells + 1.0) * o_dic[\"S4\"][1] / (2.0 * np.pi),\n",
    "    label=\"Southern-Hole\",\n",
    "    color=\"C1\",\n",
    ")\n",
    "plt.loglog()\n",
    "plt.ylim(1e-3, 1e2)\n",
    "plt.xlim(20, 1.5e3)\n",
    "plt.axvline(ell_fit_high[pol], linestyle=\"--\", color=\"gray\")\n",
    "plt.axvline(ell_pivot, linestyle=\"--\", color=\"k\")\n",
    "plt.subplot(122)\n",
    "plt.title(\"BB\")\n",
    "plt.xlabel((\"$\\ell$\"))\n",
    "plt.plot(\n",
    "    ells,\n",
    "    ells * (ells + 1.0) * i_dic[\"BK\"][0] / (2.0 * np.pi),\n",
    "    \".\",\n",
    "    alpha=0.5,\n",
    "    color=\"C0\",\n",
    "    linestyle=\":\",\n",
    ")\n",
    "plt.plot(\n",
    "    oells,\n",
    "    oells * (oells + 1.0) * o_dic[\"BK\"][0] / (2.0 * np.pi),\n",
    "    label=\"BK\",\n",
    "    color=\"C0\",\n",
    ")\n",
    "plt.plot(\n",
    "    ells,\n",
    "    ells * (ells + 1.0) * i_dic[\"S4\"][0] / (2.0 * np.pi),\n",
    "    \".\",\n",
    "    alpha=0.5,\n",
    "    color=\"C1\",\n",
    "    linestyle=\":\",\n",
    ")\n",
    "plt.plot(\n",
    "    oells,\n",
    "    oells * (oells + 1.0) * o_dic[\"S4\"][0] / (2.0 * np.pi),\n",
    "    label=\"  S4\",\n",
    "    color=\"C1\",\n",
    ")\n",
    "plt.loglog()\n",
    "plt.ylim(1e-3, 1e1)\n",
    "plt.xlim(20, 1.5e3)\n",
    "plt.axvline(ell_fit_high[pol], linestyle=\"--\", color=\"gray\")\n",
    "plt.axvline(ell_pivot, linestyle=\"--\", color=\"k\")\n",
    "plt.legend()\n",
    "plt.grid()"
   ]
  },
  {
   "cell_type": "code",
   "execution_count": null,
   "id": "7bb97125-c5c8-4cf1-9712-a5fe1f5f923d",
   "metadata": {},
   "outputs": [],
   "source": [
    "get_polfrac = lambda m: np.sqrt(m[1] ** 2 + m[2] ** 2) / m[0]"
   ]
  },
  {
   "cell_type": "code",
   "execution_count": null,
   "id": "2c567fe9-682d-42f2-a46e-eaeef426c1c6",
   "metadata": {},
   "outputs": [],
   "source": [
    "Pout = get_polfrac(output_map)\n",
    "Pin = get_polfrac(IQU.value)\n",
    "logpin = np.log10(Pin)\n",
    "logpout = np.log10(Pout)"
   ]
  },
  {
   "cell_type": "code",
   "execution_count": null,
   "id": "338ace94-1ee7-4709-8e83-fe0352d85ef2",
   "metadata": {},
   "outputs": [],
   "source": [
    "planck_masks_bool = {\n",
    "    k: np.ma.masked_greater(m, 0).mask for k, m in planck_masks.items()\n",
    "}"
   ]
  },
  {
   "cell_type": "code",
   "execution_count": null,
   "id": "f5b6dfc5-5ed1-4e77-8621-99b24dcb4c09",
   "metadata": {},
   "outputs": [],
   "source": [
    "plt.figure(figsize=(15, 10))\n",
    "\n",
    "for jj, pm in enumerate(planck_masks_bool.items()):\n",
    "    k = pm[0]\n",
    "    msk = pm[1]\n",
    "    print(k)\n",
    "    if k == \"GAL099\":\n",
    "        continue\n",
    "    plt.subplot(3, 3, jj)\n",
    "\n",
    "    h, edg = np.histogram(logpout[msk], bins=np.linspace(-4, 0, 100), density=True)\n",
    "    xb = np.array([(edg[i] + edg[i + 1]) / 2 for i in range(edg.size - 1)])\n",
    "\n",
    "    plt.plot(xb, h, lw=3, color=\"C0\", alpha=0.5, label=\"output\")\n",
    "    h, edg = np.histogram(logpin[msk], density=True, bins=np.linspace(-4, 0, 100))\n",
    "    xb = np.array([(edg[i] + edg[i + 1]) / 2 for i in range(edg.size - 1)])\n",
    "\n",
    "    plt.plot(xb, h, lw=3, alpha=0.5, color=\"k\", linestyle=\":\", label=\"input\")\n",
    "    plt.ylabel(\"norm.counts\", fontsize=14)\n",
    "    plt.xlabel(r\"$\\log10( p )$\", fontsize=14)\n",
    "    plt.title(k + \" mask\")\n",
    "    plt.xlim(-2, -0)\n",
    "\n",
    "plt.tight_layout()\n",
    "plt.subplot(331)\n",
    "plt.legend(fontsize=11, loc=\"upper left\")\n",
    "\n",
    "plt.subplot(339)\n",
    "\n",
    "\n",
    "h, edg = np.histogram(\n",
    "    logpout[np.ma.masked_greater(maskbk, 0).mask],\n",
    "    bins=np.linspace(-4, 0, 100),\n",
    "    density=True,\n",
    ")\n",
    "xb = np.array([(edg[i] + edg[i + 1]) / 2 for i in range(edg.size - 1)])\n",
    "plt.plot(xb, h, lw=3, color=\"C0\", alpha=0.5, label=\"output\")\n",
    "h, edg = np.histogram(\n",
    "    logpin[np.ma.masked_greater(maskbk, 0).mask],\n",
    "    density=True,\n",
    "    bins=np.linspace(-4, 0, 100),\n",
    ")\n",
    "xb = np.array([(edg[i] + edg[i + 1]) / 2 for i in range(edg.size - 1)])\n",
    "plt.plot(xb, h, lw=3, alpha=0.5, color=\"k\", linestyle=\":\", label=\"input\")\n",
    "plt.title(\"BK \")\n",
    "plt.xlim(-2, -0)\n",
    "\n",
    "plt.subplot(338)\n",
    "\n",
    "\n",
    "h, edg = np.histogram(\n",
    "    logpout[np.ma.masked_greater(mask_aoa, 0).mask],\n",
    "    bins=np.linspace(-4, 0, 100),\n",
    "    density=True,\n",
    ")\n",
    "xb = np.array([(edg[i] + edg[i + 1]) / 2 for i in range(edg.size - 1)])\n",
    "plt.plot(xb, h, lw=3, color=\"C0\", alpha=0.5, label=\"output\")\n",
    "h, edg = np.histogram(\n",
    "    logpin[np.ma.masked_greater(mask_aoa, 0).mask],\n",
    "    density=True,\n",
    "    bins=np.linspace(-4, 0, 100),\n",
    ")\n",
    "xb = np.array([(edg[i] + edg[i + 1]) / 2 for i in range(edg.size - 1)])\n",
    "plt.plot(xb, h, lw=3, alpha=0.5, color=\"k\", linestyle=\":\", label=\"input\")\n",
    "plt.ylabel(\"norm.counts\", fontsize=14)\n",
    "plt.xlabel(r\"$\\log10( p )$\", fontsize=14)\n",
    "plt.title(\"S4\")\n",
    "plt.xlim(-2, -0)"
   ]
  },
  {
   "cell_type": "markdown",
   "id": "84cf270d-e493-4159-a0f3-55f87f1b68ec",
   "metadata": {},
   "source": [
    "## Save spectra to higher ell"
   ]
  },
  {
   "cell_type": "code",
   "execution_count": null,
   "id": "b1d30241-91f0-416f-81c9-c76f7e53ec9a",
   "metadata": {},
   "outputs": [],
   "source": [
    "output_nside = 8192\n",
    "output_lmax = 2 * output_nside\n",
    "lmax = output_lmax\n",
    "ell = np.arange(output_lmax + 1)\n",
    "cl_norm = ell * (ell + 1) / np.pi / 2\n",
    "cl_norm[:1] = 1"
   ]
  },
  {
   "cell_type": "code",
   "execution_count": null,
   "id": "353aaeb4-074c-4a17-b462-68509761a914",
   "metadata": {},
   "outputs": [],
   "source": [
    "output_ell = np.arange(output_lmax + 1, dtype=np.float64)[len(smallscales[0]) :]\n",
    "output_cl_norm = output_ell * (output_ell + 1) / np.pi / 2"
   ]
  },
  {
   "cell_type": "code",
   "execution_count": null,
   "id": "79dcfa87-f21c-43ab-8945-502044b1a08b",
   "metadata": {},
   "outputs": [],
   "source": [
    "for ii, pol in enumerate(spectra_components):\n",
    "    if pol == \"TE\":\n",
    "        scaling = model(output_ell, A_fit2[pol], gamma_fit2[\"TE\"])\n",
    "        smallscales[ii] = np.concatenate([smallscales[ii], scaling])\n",
    "    else:\n",
    "        scaling = model(output_ell, A_fit2[pol], gamma_fit2[\"TT\"])\n",
    "        smallscales[ii] = np.concatenate([smallscales[ii], scaling])"
   ]
  },
  {
   "cell_type": "code",
   "execution_count": null,
   "id": "1801db35-f715-40fc-abcc-16780fb63cca",
   "metadata": {},
   "outputs": [],
   "source": [
    "output_ell = np.arange(output_lmax + 1)\n",
    "output_cl_norm = output_ell * (output_ell + 1) / np.pi / 2\n",
    "output_cl_norm[:1] = 1"
   ]
  },
  {
   "cell_type": "code",
   "execution_count": null,
   "id": "c23f62bf-d073-4ecf-b3c9-6d88b08882b7",
   "metadata": {},
   "outputs": [],
   "source": [
    "len(smallscales[0]), len(output_cl_norm)"
   ]
  },
  {
   "cell_type": "code",
   "execution_count": null,
   "id": "bbb2d178-7dba-44f6-8f06-62b961b093fd",
   "metadata": {},
   "outputs": [],
   "source": [
    "cl_ss = [\n",
    "    smallscales[ii]\n",
    "    * sigmoid(output_ell, ell_fit_high[pol], ell_fit_high[pol] / 10)\n",
    "    / output_cl_norm\n",
    "    for ii, pol in enumerate(spectra_components)\n",
    "]"
   ]
  },
  {
   "cell_type": "code",
   "execution_count": null,
   "id": "be6b144c-9ea3-4623-a6ea-604685e433c0",
   "metadata": {},
   "outputs": [],
   "source": [
    "filename = proddir / f\"synch_small_scales_cl_lmax{output_lmax}_{version}.fits\"\n",
    "hp.write_cl(\n",
    "    filename,\n",
    "    cl_ss,\n",
    "    dtype=np.complex128,\n",
    "    overwrite=True,\n",
    ")"
   ]
  },
  {
   "cell_type": "code",
   "execution_count": null,
   "id": "a2923f3a-a290-4edd-8539-764b6831ea34",
   "metadata": {},
   "outputs": [],
   "source": [
    "pysm.utils.add_metadata(\n",
    "    [filename],\n",
    "    coord=\"G\",\n",
    "    unit=\"uK_RJ**2\",\n",
    ")"
   ]
  },
  {
   "cell_type": "code",
   "execution_count": null,
   "id": "1c518a7a-9042-488a-9755-01059f01ef17",
   "metadata": {},
   "outputs": [],
   "source": [
    "output_files.append(filename)"
   ]
  },
  {
   "cell_type": "code",
   "execution_count": null,
   "id": "a28d0afc-f6b2-4740-a80c-ae4b120c6807",
   "metadata": {},
   "outputs": [],
   "source": [
    "mod_lmax = 64"
   ]
  },
  {
   "cell_type": "code",
   "execution_count": null,
   "id": "7b60566f-0a99-47aa-b4e8-3f1918fa9e74",
   "metadata": {},
   "outputs": [],
   "source": [
    "tsm /= tsm.max()\n",
    "psm -= 0.5\n",
    "\n",
    "for name, each_modulate in [(\"temperature\", tsm), (\"polarization\", psm)]:\n",
    "    filename = proddir / f\"synch_{name}_modulation_alms_lmax{int(mod_lmax):d}_{version}.fits\"\n",
    "    alm = hp.map2alm(each_modulate, lmax=mod_lmax, use_pixel_weights=True)\n",
    "    hp.write_alm(\n",
    "        filename,\n",
    "        alm,\n",
    "        overwrite=True,\n",
    "        out_dtype=np.float32,\n",
    "    )\n",
    "    pysm.utils.add_metadata(\n",
    "        [filename],\n",
    "        coord=\"G\",\n",
    "        unit=\"\",\n",
    "    )\n",
    "    output_files.append(filename)"
   ]
  },
  {
   "cell_type": "code",
   "execution_count": null,
   "id": "43f550c1-e631-4c84-b4b0-2fc96c629993",
   "metadata": {},
   "outputs": [],
   "source": [
    "mod_cl_t = hp.anafast(tsm)\n",
    "mod_cl_p = hp.anafast(psm)"
   ]
  },
  {
   "cell_type": "code",
   "execution_count": null,
   "id": "c25f4f0c-5073-4cdf-9283-770aae62f676",
   "metadata": {},
   "outputs": [],
   "source": [
    "plt.loglog(mod_cl_t, label=\"mod temp\")\n",
    "plt.loglog(mod_cl_p, label=\"mod pol\")\n",
    "plt.axvline(mod_lmax, color=\"grey\", linestyle=\"--\", label=\"lmax\")\n",
    "plt.legend();"
   ]
  },
  {
   "cell_type": "code",
   "execution_count": null,
   "id": "3bebee46-8b9b-4944-b78c-00fb05dd85b8",
   "metadata": {},
   "outputs": [],
   "source": [
    "for fitsfile in output_files:\n",
    "    !gzip -f $fitsfile"
   ]
  },
  {
   "cell_type": "code",
   "execution_count": null,
   "id": "6ddb1e48-9f06-4a20-81d2-6a1ca78b1ed8",
   "metadata": {},
   "outputs": [],
   "source": []
  }
 ],
 "metadata": {
  "language_info": {
   "codemirror_mode": {
    "name": "ipython"
   },
   "file_extension": ".py",
   "mimetype": "text/x-python",
   "name": "python",
   "nbconvert_exporter": "python"
  }
 },
 "nbformat": 4,
 "nbformat_minor": 5
}
