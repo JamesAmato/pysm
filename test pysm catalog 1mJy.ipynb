{
 "cells": [
  {
   "cell_type": "code",
   "execution_count": 19,
   "id": "2a2b2831",
   "metadata": {},
   "outputs": [],
   "source": [
    "catalog_filename = \"websky_high_flux_catalog_1mJy.h5\""
   ]
  },
  {
   "cell_type": "code",
   "execution_count": 20,
   "id": "06819e34",
   "metadata": {},
   "outputs": [],
   "source": [
    "import pysm3\n",
    "import healpy as hp\n",
    "from pysm3 import units as u\n",
    "import numpy as np"
   ]
  },
  {
   "cell_type": "code",
   "execution_count": 21,
   "id": "e0ba9101",
   "metadata": {},
   "outputs": [
    {
     "data": {
      "text/plain": [
       "'/home/zonca/p/software/pysm/pysm3/__init__.py'"
      ]
     },
     "execution_count": 21,
     "metadata": {},
     "output_type": "execute_result"
    }
   ],
   "source": [
    "pysm3.__file__"
   ]
  },
  {
   "cell_type": "code",
   "execution_count": 22,
   "id": "8b545df5",
   "metadata": {},
   "outputs": [],
   "source": [
    "from pysm3.models import PointSourceCatalog"
   ]
  },
  {
   "cell_type": "code",
   "execution_count": 23,
   "id": "ed02c436",
   "metadata": {},
   "outputs": [
    {
     "name": "stdout",
     "output_type": "stream",
     "text": [
      "\u001b[0;31mInit signature:\u001b[0m\n",
      "\u001b[0mPointSourceCatalog\u001b[0m\u001b[0;34m(\u001b[0m\u001b[0;34m\u001b[0m\n",
      "\u001b[0;34m\u001b[0m    \u001b[0mcatalog_filename\u001b[0m\u001b[0;34m,\u001b[0m\u001b[0;34m\u001b[0m\n",
      "\u001b[0;34m\u001b[0m    \u001b[0mnside\u001b[0m\u001b[0;34m=\u001b[0m\u001b[0;32mNone\u001b[0m\u001b[0;34m,\u001b[0m\u001b[0;34m\u001b[0m\n",
      "\u001b[0;34m\u001b[0m    \u001b[0mtarget_wcs\u001b[0m\u001b[0;34m=\u001b[0m\u001b[0;32mNone\u001b[0m\u001b[0;34m,\u001b[0m\u001b[0;34m\u001b[0m\n",
      "\u001b[0;34m\u001b[0m    \u001b[0mmap_dist\u001b[0m\u001b[0;34m=\u001b[0m\u001b[0;32mNone\u001b[0m\u001b[0;34m,\u001b[0m\u001b[0;34m\u001b[0m\n",
      "\u001b[0;34m\u001b[0m\u001b[0;34m)\u001b[0m\u001b[0;34m\u001b[0m\u001b[0;34m\u001b[0m\u001b[0m\n",
      "\u001b[0;31mDocstring:\u001b[0m     \n",
      "Model for a Catalog of point sources defined with their coordinates and\n",
      "a model of their emission based on a logpolynomial of frequency.\n",
      "The beam convolution is performed in map domain with `pixell`.\n",
      "\n",
      "The catalog should be in HDF5 format, with the fields:\n",
      "theta: colatitude in radians\n",
      "phi: longitude in radians\n",
      "logpolycoefflux and logpolycoefpolflux: polynomial coefficients in natural\n",
      "logaritm (`np.log`) of the frequency, typically 4th order, but accepts\n",
      "any order. (source_index, pol_order). Unit needs to be Jy\n",
      "each field should have an attribute units which is checked when loading\n",
      "a model. No conversion is performed.\n",
      "See the documentation and the unit tests for examples on how to create a\n",
      "catalog file with `xarray`.\n",
      "\n",
      "Parameters\n",
      "----------\n",
      "catalog_filename: str or Path\n",
      "    Path to the catalog HDF5 file\n",
      "\u001b[0;31mInit docstring:\u001b[0m\n",
      "Parameters\n",
      "----------\n",
      "mpi_comm: object\n",
      "    MPI communicator object (optional, default=None).\n",
      "nside: int\n",
      "    Resolution parameter at which this model is to be calculated.\n",
      "max_nside: int\n",
      "    Keeps track of the the maximum Nside this model is available at\n",
      "    by default 512 like PySM 2 models\n",
      "smoothing_lmax : int\n",
      "    :math:`\\ell_{max}` for the smoothing step, by default :math:`2*N_{side}`\n",
      "\u001b[0;31mFile:\u001b[0m           ~/p/software/pysm/pysm3/models/catalog.py\n",
      "\u001b[0;31mType:\u001b[0m           type\n",
      "\u001b[0;31mSubclasses:\u001b[0m     "
     ]
    }
   ],
   "source": [
    "PointSourceCatalog?"
   ]
  },
  {
   "cell_type": "code",
   "execution_count": 24,
   "id": "a126cf4c",
   "metadata": {},
   "outputs": [],
   "source": [
    "catalog = PointSourceCatalog(catalog_filename, nside=32)"
   ]
  },
  {
   "cell_type": "code",
   "execution_count": 27,
   "id": "6da3af7b",
   "metadata": {},
   "outputs": [],
   "source": [
    "freq = np.array([100, 110])*u.GHz\n",
    "weights = np.ones(len(freq))"
   ]
  },
  {
   "cell_type": "code",
   "execution_count": 30,
   "id": "a1ed93f1",
   "metadata": {},
   "outputs": [
    {
     "ename": "AttributeError",
     "evalue": "'Quantity' object has no 'wcs' member",
     "output_type": "error",
     "traceback": [
      "\u001b[0;31m---------------------------------------------------------------------------\u001b[0m",
      "\u001b[0;31mAttributeError\u001b[0m                            Traceback (most recent call last)",
      "Cell \u001b[0;32mIn[30], line 1\u001b[0m\n\u001b[0;32m----> 1\u001b[0m \u001b[43mcatalog\u001b[49m\u001b[38;5;241;43m.\u001b[39;49m\u001b[43mget_emission\u001b[49m\u001b[43m(\u001b[49m\u001b[43mfreq\u001b[49m\u001b[43m,\u001b[49m\u001b[43m \u001b[49m\u001b[43mfwhm\u001b[49m\u001b[38;5;241;43m=\u001b[39;49m\u001b[38;5;28;43;01mNone\u001b[39;49;00m\u001b[43m,\u001b[49m\u001b[43m \u001b[49m\u001b[43mweights\u001b[49m\u001b[38;5;241;43m=\u001b[39;49m\u001b[43mweights\u001b[49m\u001b[43m)\u001b[49m\n",
      "File \u001b[0;32m~/micromamba/envs/pysm/lib/python3.11/site-packages/astropy/units/decorators.py:313\u001b[0m, in \u001b[0;36mQuantityInput.__call__.<locals>.wrapper\u001b[0;34m(*func_args, **func_kwargs)\u001b[0m\n\u001b[1;32m    311\u001b[0m \u001b[38;5;66;03m# Call the original function with any equivalencies in force.\u001b[39;00m\n\u001b[1;32m    312\u001b[0m \u001b[38;5;28;01mwith\u001b[39;00m add_enabled_equivalencies(\u001b[38;5;28mself\u001b[39m\u001b[38;5;241m.\u001b[39mequivalencies):\n\u001b[0;32m--> 313\u001b[0m     return_ \u001b[38;5;241m=\u001b[39m \u001b[43mwrapped_function\u001b[49m\u001b[43m(\u001b[49m\u001b[38;5;241;43m*\u001b[39;49m\u001b[43mfunc_args\u001b[49m\u001b[43m,\u001b[49m\u001b[43m \u001b[49m\u001b[38;5;241;43m*\u001b[39;49m\u001b[38;5;241;43m*\u001b[39;49m\u001b[43mfunc_kwargs\u001b[49m\u001b[43m)\u001b[49m\n\u001b[1;32m    315\u001b[0m \u001b[38;5;66;03m# Return\u001b[39;00m\n\u001b[1;32m    316\u001b[0m ra \u001b[38;5;241m=\u001b[39m wrapped_signature\u001b[38;5;241m.\u001b[39mreturn_annotation\n",
      "File \u001b[0;32m~/p/software/pysm/pysm3/models/catalog.py:263\u001b[0m, in \u001b[0;36mPointSourceCatalog.get_emission\u001b[0;34m(self, freqs, fwhm, weights, output_units, car_map_resolution, return_car)\u001b[0m\n\u001b[1;32m    260\u001b[0m \u001b[38;5;28;01melse\u001b[39;00m:\n\u001b[1;32m    261\u001b[0m     \u001b[38;5;28;01mfrom\u001b[39;00m \u001b[38;5;21;01mpixell\u001b[39;00m \u001b[38;5;28;01mimport\u001b[39;00m reproject\n\u001b[0;32m--> 263\u001b[0m     \u001b[38;5;28;01mreturn\u001b[39;00m \u001b[43mreproject\u001b[49m\u001b[38;5;241;43m.\u001b[39;49m\u001b[43mmap2healpix\u001b[49m\u001b[43m(\u001b[49m\u001b[43moutput_map\u001b[49m\u001b[43m,\u001b[49m\u001b[43m \u001b[49m\u001b[38;5;28;43mself\u001b[39;49m\u001b[38;5;241;43m.\u001b[39;49m\u001b[43mnside\u001b[49m\u001b[43m)\u001b[49m\n",
      "File \u001b[0;32m~/micromamba/envs/pysm/lib/python3.11/site-packages/pixell/reproject.py:195\u001b[0m, in \u001b[0;36mmap2healpix\u001b[0;34m(imap, nside, lmax, out, rot, spin, method, order, extensive, bsize, nside_mode, boundary, verbose, niter)\u001b[0m\n\u001b[1;32m    116\u001b[0m \u001b[38;5;250m\u001b[39m\u001b[38;5;124;03m\"\"\"Reproject from an enmap to healpix, optionally including a rotation.\u001b[39;00m\n\u001b[1;32m    117\u001b[0m \n\u001b[1;32m    118\u001b[0m \u001b[38;5;124;03mimap:  The input enmap[...,ny,nx]. Stokes along the -3rd axis if\u001b[39;00m\n\u001b[0;32m   (...)\u001b[0m\n\u001b[1;32m    192\u001b[0m \u001b[38;5;124;03m* ivar_healpix = map2healpix(ivar, rot=\"cel,gal\", method=\"spline\", spin=[0], extensive=True)\u001b[39;00m\n\u001b[1;32m    193\u001b[0m \u001b[38;5;124;03m\"\"\"\u001b[39;00m\n\u001b[1;32m    194\u001b[0m \u001b[38;5;66;03m# Get the map's typical resolution from cdelt\u001b[39;00m\n\u001b[0;32m--> 195\u001b[0m ires \u001b[38;5;241m=\u001b[39m np\u001b[38;5;241m.\u001b[39mmean(np\u001b[38;5;241m.\u001b[39mabs(\u001b[43mimap\u001b[49m\u001b[38;5;241;43m.\u001b[39;49m\u001b[43mwcs\u001b[49m\u001b[38;5;241m.\u001b[39mwcs\u001b[38;5;241m.\u001b[39mcdelt))\u001b[38;5;241m*\u001b[39mutils\u001b[38;5;241m.\u001b[39mdegree\n\u001b[1;32m    196\u001b[0m lnyq \u001b[38;5;241m=\u001b[39m np\u001b[38;5;241m.\u001b[39mpi\u001b[38;5;241m/\u001b[39mires\n\u001b[1;32m    197\u001b[0m \u001b[38;5;28;01mif\u001b[39;00m out \u001b[38;5;129;01mis\u001b[39;00m \u001b[38;5;28;01mNone\u001b[39;00m:\n",
      "File \u001b[0;32m~/micromamba/envs/pysm/lib/python3.11/site-packages/astropy/units/quantity.py:1108\u001b[0m, in \u001b[0;36mQuantity.__getattr__\u001b[0;34m(self, attr)\u001b[0m\n\u001b[1;32m   1103\u001b[0m \u001b[38;5;250m\u001b[39m\u001b[38;5;124;03m\"\"\"\u001b[39;00m\n\u001b[1;32m   1104\u001b[0m \u001b[38;5;124;03mQuantities are able to directly convert to other units that\u001b[39;00m\n\u001b[1;32m   1105\u001b[0m \u001b[38;5;124;03mhave the same physical type.\u001b[39;00m\n\u001b[1;32m   1106\u001b[0m \u001b[38;5;124;03m\"\"\"\u001b[39;00m\n\u001b[1;32m   1107\u001b[0m \u001b[38;5;28;01mif\u001b[39;00m \u001b[38;5;129;01mnot\u001b[39;00m \u001b[38;5;28mself\u001b[39m\u001b[38;5;241m.\u001b[39m_include_easy_conversion_members:\n\u001b[0;32m-> 1108\u001b[0m     \u001b[38;5;28;01mraise\u001b[39;00m \u001b[38;5;167;01mAttributeError\u001b[39;00m(\n\u001b[1;32m   1109\u001b[0m         \u001b[38;5;124mf\u001b[39m\u001b[38;5;124m\"\u001b[39m\u001b[38;5;124m'\u001b[39m\u001b[38;5;132;01m{\u001b[39;00m\u001b[38;5;28mself\u001b[39m\u001b[38;5;241m.\u001b[39m\u001b[38;5;18m__class__\u001b[39m\u001b[38;5;241m.\u001b[39m\u001b[38;5;18m__name__\u001b[39m\u001b[38;5;132;01m}\u001b[39;00m\u001b[38;5;124m'\u001b[39m\u001b[38;5;124m object has no \u001b[39m\u001b[38;5;124m'\u001b[39m\u001b[38;5;132;01m{\u001b[39;00mattr\u001b[38;5;132;01m}\u001b[39;00m\u001b[38;5;124m'\u001b[39m\u001b[38;5;124m member\u001b[39m\u001b[38;5;124m\"\u001b[39m\n\u001b[1;32m   1110\u001b[0m     )\n\u001b[1;32m   1112\u001b[0m \u001b[38;5;28;01mdef\u001b[39;00m \u001b[38;5;21mget_virtual_unit_attribute\u001b[39m():\n\u001b[1;32m   1113\u001b[0m     registry \u001b[38;5;241m=\u001b[39m get_current_unit_registry()\u001b[38;5;241m.\u001b[39mregistry\n",
      "\u001b[0;31mAttributeError\u001b[0m: 'Quantity' object has no 'wcs' member"
     ]
    }
   ],
   "source": [
    "catalog.get_emission(freq, fwhm=None, weights=weights)"
   ]
  },
  {
   "cell_type": "code",
   "execution_count": 29,
   "id": "0eaff325",
   "metadata": {},
   "outputs": [
    {
     "name": "stdout",
     "output_type": "stream",
     "text": [
      "> \u001b[0;32m/home/zonca/micromamba/envs/pysm/lib/python3.11/site-packages/numpy/lib/function_base.py\u001b[0m(4969)\u001b[0;36mtrapz\u001b[0;34m()\u001b[0m\n",
      "\u001b[0;32m   4967 \u001b[0;31m            \u001b[0;31m# reshape to correct shape\u001b[0m\u001b[0;34m\u001b[0m\u001b[0;34m\u001b[0m\u001b[0m\n",
      "\u001b[0m\u001b[0;32m   4968 \u001b[0;31m            \u001b[0mshape\u001b[0m \u001b[0;34m=\u001b[0m \u001b[0;34m[\u001b[0m\u001b[0;36m1\u001b[0m\u001b[0;34m]\u001b[0m\u001b[0;34m*\u001b[0m\u001b[0my\u001b[0m\u001b[0;34m.\u001b[0m\u001b[0mndim\u001b[0m\u001b[0;34m\u001b[0m\u001b[0;34m\u001b[0m\u001b[0m\n",
      "\u001b[0m\u001b[0;32m-> 4969 \u001b[0;31m            \u001b[0mshape\u001b[0m\u001b[0;34m[\u001b[0m\u001b[0maxis\u001b[0m\u001b[0;34m]\u001b[0m \u001b[0;34m=\u001b[0m \u001b[0md\u001b[0m\u001b[0;34m.\u001b[0m\u001b[0mshape\u001b[0m\u001b[0;34m[\u001b[0m\u001b[0;36m0\u001b[0m\u001b[0;34m]\u001b[0m\u001b[0;34m\u001b[0m\u001b[0;34m\u001b[0m\u001b[0m\n",
      "\u001b[0m\u001b[0;32m   4970 \u001b[0;31m            \u001b[0md\u001b[0m \u001b[0;34m=\u001b[0m \u001b[0md\u001b[0m\u001b[0;34m.\u001b[0m\u001b[0mreshape\u001b[0m\u001b[0;34m(\u001b[0m\u001b[0mshape\u001b[0m\u001b[0;34m)\u001b[0m\u001b[0;34m\u001b[0m\u001b[0;34m\u001b[0m\u001b[0m\n",
      "\u001b[0m\u001b[0;32m   4971 \u001b[0;31m        \u001b[0;32melse\u001b[0m\u001b[0;34m:\u001b[0m\u001b[0;34m\u001b[0m\u001b[0;34m\u001b[0m\u001b[0m\n",
      "\u001b[0m\n",
      "> \u001b[0;32m/home/zonca/p/software/pysm/pysm3/models/catalog.py\u001b[0m(138)\u001b[0;36mget_fluxes\u001b[0;34m()\u001b[0m\n",
      "\u001b[0;32m    136 \u001b[0;31m    \u001b[0;32mdef\u001b[0m \u001b[0mget_fluxes\u001b[0m\u001b[0;34m(\u001b[0m\u001b[0mself\u001b[0m\u001b[0;34m,\u001b[0m \u001b[0mfreqs\u001b[0m\u001b[0;34m:\u001b[0m \u001b[0mu\u001b[0m\u001b[0;34m.\u001b[0m\u001b[0mGHz\u001b[0m\u001b[0;34m,\u001b[0m \u001b[0mcoeff\u001b[0m\u001b[0;34m=\u001b[0m\u001b[0;34m\"logpolycoefflux\"\u001b[0m\u001b[0;34m,\u001b[0m \u001b[0mweights\u001b[0m\u001b[0;34m=\u001b[0m\u001b[0;32mNone\u001b[0m\u001b[0;34m)\u001b[0m\u001b[0;34m:\u001b[0m\u001b[0;34m\u001b[0m\u001b[0;34m\u001b[0m\u001b[0m\n",
      "\u001b[0m\u001b[0;32m    137 \u001b[0;31m        \u001b[0;34m\"\"\"Get catalog fluxes in Jy integrated over a bandpass\"\"\"\u001b[0m\u001b[0;34m\u001b[0m\u001b[0;34m\u001b[0m\u001b[0m\n",
      "\u001b[0m\u001b[0;32m--> 138 \u001b[0;31m        \u001b[0mweights\u001b[0m \u001b[0;34m/=\u001b[0m \u001b[0mnp\u001b[0m\u001b[0;34m.\u001b[0m\u001b[0mtrapz\u001b[0m\u001b[0;34m(\u001b[0m\u001b[0mweights\u001b[0m\u001b[0;34m,\u001b[0m \u001b[0mx\u001b[0m\u001b[0;34m=\u001b[0m\u001b[0mfreqs\u001b[0m\u001b[0;34m.\u001b[0m\u001b[0mto_value\u001b[0m\u001b[0;34m(\u001b[0m\u001b[0mu\u001b[0m\u001b[0;34m.\u001b[0m\u001b[0mGHz\u001b[0m\u001b[0;34m)\u001b[0m\u001b[0;34m)\u001b[0m\u001b[0;34m\u001b[0m\u001b[0;34m\u001b[0m\u001b[0m\n",
      "\u001b[0m\u001b[0;32m    139 \u001b[0;31m        \u001b[0;32mwith\u001b[0m \u001b[0mh5py\u001b[0m\u001b[0;34m.\u001b[0m\u001b[0mFile\u001b[0m\u001b[0;34m(\u001b[0m\u001b[0mself\u001b[0m\u001b[0;34m.\u001b[0m\u001b[0mcatalog_filename\u001b[0m\u001b[0;34m)\u001b[0m \u001b[0;32mas\u001b[0m \u001b[0mf\u001b[0m\u001b[0;34m:\u001b[0m\u001b[0;34m\u001b[0m\u001b[0;34m\u001b[0m\u001b[0m\n",
      "\u001b[0m\u001b[0;32m    140 \u001b[0;31m            \u001b[0mflux\u001b[0m \u001b[0;34m=\u001b[0m \u001b[0mevaluate_model\u001b[0m\u001b[0;34m(\u001b[0m\u001b[0mfreqs\u001b[0m\u001b[0;34m.\u001b[0m\u001b[0mto_value\u001b[0m\u001b[0;34m(\u001b[0m\u001b[0mu\u001b[0m\u001b[0;34m.\u001b[0m\u001b[0mGHz\u001b[0m\u001b[0;34m)\u001b[0m\u001b[0;34m,\u001b[0m \u001b[0mweights\u001b[0m\u001b[0;34m,\u001b[0m \u001b[0mnp\u001b[0m\u001b[0;34m.\u001b[0m\u001b[0marray\u001b[0m\u001b[0;34m(\u001b[0m\u001b[0mf\u001b[0m\u001b[0;34m[\u001b[0m\u001b[0mcoeff\u001b[0m\u001b[0;34m]\u001b[0m\u001b[0;34m)\u001b[0m\u001b[0;34m)\u001b[0m\u001b[0;34m\u001b[0m\u001b[0;34m\u001b[0m\u001b[0m\n",
      "\u001b[0m\n",
      "None\n",
      "None\n",
      "None\n",
      "--KeyboardInterrupt--\n",
      "\n",
      "KeyboardInterrupt: Interrupted by user\n"
     ]
    }
   ],
   "source": [
    "%debug"
   ]
  },
  {
   "cell_type": "code",
   "execution_count": null,
   "id": "e8ec8c3a",
   "metadata": {},
   "outputs": [],
   "source": []
  }
 ],
 "metadata": {
  "@webio": {
   "lastCommId": null,
   "lastKernelId": null
  },
  "kernelspec": {
   "display_name": "Python 3",
   "language": "python",
   "name": "python3"
  },
  "language_info": {
   "codemirror_mode": {
    "name": "ipython",
    "version": 3
   },
   "file_extension": ".py",
   "mimetype": "text/x-python",
   "name": "python",
   "nbconvert_exporter": "python",
   "pygments_lexer": "ipython3",
   "version": "3.11.0"
  }
 },
 "nbformat": 4,
 "nbformat_minor": 5
}
