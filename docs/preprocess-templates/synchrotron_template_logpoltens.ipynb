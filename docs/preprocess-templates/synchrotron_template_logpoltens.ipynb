{
 "cells": [
  {
   "cell_type": "code",
   "execution_count": null,
   "id": "989c7685-3708-45eb-914f-719da0319837",
   "metadata": {},
   "outputs": [],
   "source": [
    "import os\n",
    "\n",
    "os.environ[\n",
    "    \"OMP_NUM_THREADS\"\n",
    "] = \"64\"  # for jupyter.nersc.gov otherwise the notebook only uses 2 cores"
   ]
  },
  {
   "cell_type": "code",
   "execution_count": null,
   "id": "4f48bbb4-a285-4585-813f-93de83f91f7f",
   "metadata": {},
   "outputs": [],
   "source": [
    "from pathlib import Path\n",
    "import healpy as hp\n",
    "import matplotlib.pyplot as plt\n",
    "import numpy as np\n",
    "\n",
    "# import pymaster as nmt\n",
    "from astropy.io import fits\n",
    "\n",
    "%matplotlib inline"
   ]
  },
  {
   "cell_type": "code",
   "execution_count": null,
   "id": "0d4ad523-661b-4981-937c-2d882020b616",
   "metadata": {},
   "outputs": [],
   "source": [
    "plt.style.use(\"seaborn-talk\")"
   ]
  },
  {
   "cell_type": "code",
   "execution_count": null,
   "id": "b0c70a96-13c7-4963-8c71-b5c16f6a4898",
   "metadata": {},
   "outputs": [],
   "source": [
    "import pysm3 as pysm\n",
    "import pysm3.units as u"
   ]
  },
  {
   "cell_type": "code",
   "execution_count": null,
   "id": "e09fa591-c024-4325-8feb-439ebac13f3e",
   "metadata": {},
   "outputs": [],
   "source": [
    "nside = 512\n",
    "lmax = 3 * nside - 1"
   ]
  },
  {
   "cell_type": "code",
   "execution_count": null,
   "id": "e6e02972-6f6d-4157-82be-2a6905d15c0a",
   "metadata": {},
   "outputs": [],
   "source": [
    "comp = \"IQU\""
   ]
  },
  {
   "cell_type": "code",
   "execution_count": null,
   "id": "08c7c763-23ba-4ffa-9cd7-9aa603dc9f89",
   "metadata": {},
   "outputs": [],
   "source": [
    "components = list(enumerate(comp))\n",
    "components"
   ]
  },
  {
   "cell_type": "code",
   "execution_count": null,
   "id": "cf1f6667-b343-4b92-9adf-c28473723144",
   "metadata": {},
   "outputs": [],
   "source": [
    "spectra_components = [\"TT\", \"EE\", \"BB\"]"
   ]
  },
  {
   "cell_type": "markdown",
   "id": "428853aa-d70f-4703-b8b8-340f42f919d4",
   "metadata": {},
   "source": [
    "change this to True   if you want to  run namaster on notebook \n"
   ]
  },
  {
   "cell_type": "code",
   "execution_count": null,
   "id": "f4854475-34e5-47e5-a069-677421b158d5",
   "metadata": {},
   "outputs": [],
   "source": [
    "!rm -f data/synch_*_spectra.npz"
   ]
  },
  {
   "cell_type": "code",
   "execution_count": null,
   "id": "fb0e9603-3d04-45cc-ad39-bbbdf8e1355b",
   "metadata": {},
   "outputs": [],
   "source": [
    "namaster_on_nb = True"
   ]
  },
  {
   "cell_type": "code",
   "execution_count": null,
   "id": "306e6dc4-66c6-4639-8c37-1b0af5f4a2ad",
   "metadata": {},
   "outputs": [],
   "source": [
    "datadir = Path(\"data\")"
   ]
  },
  {
   "cell_type": "code",
   "execution_count": null,
   "id": "a1f4fb6a-03a5-46dc-81bf-cd45194f736e",
   "metadata": {},
   "outputs": [],
   "source": [
    "output_dir = Path(\"production-data/synch\")"
   ]
  },
  {
   "cell_type": "code",
   "execution_count": null,
   "id": "f7d905b5-3ad2-42a2-a801-3070915b4ff9",
   "metadata": {},
   "outputs": [],
   "source": [
    "imapfile = datadir / \"haslam408_dsds_Remazeilles2014.fits\"\n",
    "qumapfile = datadir / \"wmap_band_iqumap_r9_9yr_K_v5.fits\""
   ]
  },
  {
   "cell_type": "code",
   "execution_count": null,
   "id": "85f9e74c-441b-425a-929c-6140271a1a71",
   "metadata": {},
   "outputs": [],
   "source": [
    "if not imapfile.exists():\n",
    "    !wget -O $imapfile   https://lambda.gsfc.nasa.gov/data/foregrounds/haslam_2014/haslam408_dsds_Remazeilles2014.fits"
   ]
  },
  {
   "cell_type": "code",
   "execution_count": null,
   "id": "287c6e4b-423b-4aa4-85e1-b4b2f3d88e95",
   "metadata": {},
   "outputs": [],
   "source": [
    "if not qumapfile.exists():\n",
    "    !wget -O $qumapfile   https://lambda.gsfc.nasa.gov/data/map/dr5/skymaps/9yr/raw/wmap_band_iqumap_r9_9yr_K_v5.fits"
   ]
  },
  {
   "cell_type": "code",
   "execution_count": null,
   "id": "ff5d019b-2430-4333-ab6e-dd6f58c8d37f",
   "metadata": {},
   "outputs": [],
   "source": [
    "imap = hp.read_map(imapfile)\n",
    "qumap = hp.read_map(qumapfile, field=[1, 2])"
   ]
  },
  {
   "cell_type": "markdown",
   "id": "c90a2377-cbb0-41d9-bd20-444969bb7044",
   "metadata": {},
   "source": [
    "\n",
    "# Setting the inputs \n",
    "## Synchrotron   maps \n",
    "- We use the Haslam map at 408MHz for the intensity template \n",
    "- for Q and U we adopt maps from the K-band of WMAP .  \n",
    "\n",
    "\n",
    "- rescaling Haslam map to 23 GHz **assuming a constant spectral index =-3.1**   and from K to uK \n",
    "- converting Wmap maps to from mK to uK  \n",
    "- we reduce noise by smoothing to 2 deg \n",
    "\n"
   ]
  },
  {
   "cell_type": "code",
   "execution_count": null,
   "id": "23ea86fa-4875-41ff-94c8-a9f812d4f4b4",
   "metadata": {},
   "outputs": [],
   "source": [
    "rescaling_factor = (23.0 / 0.408) ** -3.1\n",
    "\n",
    "imap *= rescaling_factor\n",
    "imap <<= u.K_RJ\n",
    "imap = imap.to(u.uK_RJ)\n",
    "qumap <<= u.mK_RJ\n",
    "qumap = qumap.to(\"uK_RJ\")"
   ]
  },
  {
   "cell_type": "code",
   "execution_count": null,
   "id": "3181742c-8c6f-4172-bc17-56d80ff54b3c",
   "metadata": {},
   "outputs": [],
   "source": [
    "IQU = np.array([imap, qumap[0], qumap[1]])"
   ]
  },
  {
   "cell_type": "code",
   "execution_count": null,
   "id": "ff628b4c-eb47-4f04-8350-aafcc05af472",
   "metadata": {},
   "outputs": [],
   "source": [
    "FWHM_SMOOTHING = 2  # deg\n",
    "IQU = hp.smoothing(IQU, fwhm=np.radians(FWHM_SMOOTHING))\n",
    "IQU <<= u.uK_RJ"
   ]
  },
  {
   "cell_type": "code",
   "execution_count": null,
   "id": "e900c5ef-cfcc-43c6-9844-19717391dfc7",
   "metadata": {},
   "outputs": [],
   "source": [
    "plt.figure(figsize=(20, 5))\n",
    "for i_pol, pol in components:\n",
    "    hp.mollview(\n",
    "        IQU[i_pol],\n",
    "        title=\"Haslam/WMAP K synch \" + pol,\n",
    "        sub=131 + i_pol,\n",
    "        unit=IQU.unit,\n",
    "        min=-300,\n",
    "        max=300,\n",
    "    )"
   ]
  },
  {
   "cell_type": "code",
   "execution_count": null,
   "id": "eb10856c-5a9d-4564-9d3e-e0621ba4919e",
   "metadata": {},
   "outputs": [],
   "source": [
    "from pysm3.utils import map_to_log_pol_tens, log_pol_tens_to_map, sigmoid"
   ]
  },
  {
   "cell_type": "code",
   "execution_count": null,
   "id": "e7def493-949e-4761-84e9-bb74521b5458",
   "metadata": {},
   "outputs": [],
   "source": [
    "iqu = map_to_log_pol_tens(IQU.value)"
   ]
  },
  {
   "cell_type": "code",
   "execution_count": null,
   "id": "f0cc9b85-eb41-4000-b024-73cb78b341fc",
   "metadata": {},
   "outputs": [],
   "source": [
    "m_back = log_pol_tens_to_map(iqu)\n",
    "hp.mollview((IQU.value - m_back)[1], min=-1e-12, max=1e-12)\n",
    "del m_back"
   ]
  },
  {
   "cell_type": "code",
   "execution_count": null,
   "id": "2aebd463-a7ca-4150-9ddd-c8d7963f2a79",
   "metadata": {},
   "outputs": [],
   "source": [
    "print(\n",
    "    f\"{np.isnan(iqu[0]).sum()  } pixels out of { iqu[0].size} are NaNs in Log Pol Tens maps \"\n",
    ")\n",
    "for i in range(3):\n",
    "    iqu[i, np.isnan(iqu[i])] = np.nanmedian(iqu[i])\n",
    "assert np.isnan(iqu).sum() == 0\n",
    "print(\n",
    "    f\"{np.isnan(iqu[0]).sum()  } pixels out of { iqu[0].size} are NaNs in Log Pol Tens maps \"\n",
    ")"
   ]
  },
  {
   "cell_type": "code",
   "execution_count": null,
   "id": "ba49d04e-91a2-4607-abe8-23b51cc86b61",
   "metadata": {},
   "outputs": [],
   "source": [
    "for i_pol, pol in components:\n",
    "    hp.mollview(iqu[i_pol], title=\"Log Pol tensor \" + pol, sub=131 + i_pol)"
   ]
  },
  {
   "cell_type": "code",
   "execution_count": null,
   "id": "880a7987-d06e-46b6-ba6b-71eb200bcdd3",
   "metadata": {},
   "outputs": [],
   "source": [
    "from scipy.optimize import curve_fit"
   ]
  },
  {
   "cell_type": "code",
   "execution_count": null,
   "id": "c1b236a0-0706-45a5-98b2-d79d9968a62e",
   "metadata": {},
   "outputs": [],
   "source": [
    "def model(ell, A, gamma):\n",
    "    out = A * ell ** gamma\n",
    "    out[:2] = 0\n",
    "    return out"
   ]
  },
  {
   "cell_type": "code",
   "execution_count": null,
   "id": "f75dcc77-fb3b-4d1e-8958-4c15e5df7084",
   "metadata": {},
   "outputs": [],
   "source": [
    "def run_anafast(m, lmax):\n",
    "    clanaf = hp.anafast(m, lmax=lmax)\n",
    "    cl = {}\n",
    "    cl[\"TT\"] = clanaf[0]\n",
    "    cl[\"EE\"] = clanaf[1]\n",
    "    cl[\"BB\"] = clanaf[2]\n",
    "    ell = np.arange(lmax + 1)\n",
    "\n",
    "    cl_norm = ell * (ell + 1) / np.pi / 2\n",
    "    cl_norm[0] = 1\n",
    "    return ell, cl_norm, cl\n",
    "\n",
    "\n",
    "def run_namaster(m, mask, lmax):\n",
    "    \"\"\"Compute C_ell with NaMaster\n",
    "    Parameters\n",
    "    ----------\n",
    "    m : numpy array\n",
    "        T only or TQU HEALPix map\n",
    "    mask : numpy array\n",
    "        mask, 1D, 0 for masked pixels,\n",
    "        needs to have same Nside of the input map\n",
    "    lmax : int\n",
    "        maximum ell of the spherical harmonics transform\n",
    "    Returns\n",
    "    -------\n",
    "    ell : numpy array\n",
    "        array of ell from 0 to lmax (length lmax+1)\n",
    "    cl_norm : numpy array\n",
    "        ell (ell+1)/2pi factor to turn C_ell into D_ell\n",
    "        first element is set to 1\n",
    "    cl : dict of numpy arrays\n",
    "        dictionary of numpy arrays with all components\n",
    "        of the spectra, for now only II, EE, BB, no\n",
    "        cross-spectra\n",
    "    \"\"\"\n",
    "    nside = hp.npix2nside(len(mask))\n",
    "\n",
    "    binning = nmt.NmtBin(nside=nside, nlb=1, lmax=lmax, is_Dell=False)\n",
    "\n",
    "    cl = {}\n",
    "\n",
    "    f_0 = nmt.NmtField(mask, [m[0]])\n",
    "\n",
    "    if len(m) == 3:\n",
    "        f_2 = nmt.NmtField(mask, m[1:].copy())  # NaMaster masks the map in-place\n",
    "        cl_namaster = nmt.compute_full_master(f_2, f_2, binning)\n",
    "        cl[\"EE\"] = np.concatenate([[0, 0], cl_namaster[0]])\n",
    "        cl[\"BB\"] = np.concatenate([[0, 0], cl_namaster[3]])\n",
    "        cl_namaster = nmt.compute_full_master(f_0, f_2, binning)\n",
    "        cl[\"TE\"] = np.concatenate([[0, 0], cl_namaster[0]])\n",
    "    elif m.ndim == 1:\n",
    "        m = m.reshape((1, -1))\n",
    "\n",
    "    cl_namaster_I = nmt.compute_full_master(f_0, f_0, binning)\n",
    "\n",
    "    cl[\"TT\"] = np.concatenate([[0, 0], cl_namaster_I[0]])\n",
    "    ell = np.concatenate([[0, 1], binning.get_effective_ells()])\n",
    "    cl_norm = ell * (ell + 1) / np.pi / 2\n",
    "    cl_norm[0] = 1\n",
    "    return ell, cl_norm, cl"
   ]
  },
  {
   "cell_type": "code",
   "execution_count": null,
   "id": "0c4b729a-5d46-4b29-8428-f868cc823df6",
   "metadata": {},
   "outputs": [],
   "source": [
    "print(\"run anafast on masked sky  \")\n",
    "ell, cl_norm, cl = run_anafast(iqu, lmax)"
   ]
  },
  {
   "cell_type": "markdown",
   "id": "e9c81d2c-2179-41f0-b01c-d370075965e3",
   "metadata": {
    "tags": []
   },
   "source": [
    "## Power law fit \n",
    "\n",
    "- We fit in$\\ell \\in[1-,36]$ a power law for TT spectrum of the logpol tens i map\n",
    "- we use the spectral index power law also for EE and BB power spectra to avoid unphysical crossings of EE over TT and BB over TT at higher multipoles\n"
   ]
  },
  {
   "cell_type": "code",
   "execution_count": null,
   "id": "0d3e38e8-fe3f-412e-9c7f-cffe9c78b517",
   "metadata": {},
   "outputs": [],
   "source": [
    "ell_fit_low = {\"TT\": 10, \"EE\": 10, \"BB\": 10}\n",
    "ell_fit_high = {\"TT\": 36, \"EE\": 36, \"BB\": 36}\n",
    "A_fit, gamma_fit, A_fit_std, gamma_fit_std = {}, {}, {}, {}\n",
    "plt.figure(figsize=(25, 5))\n",
    "\n",
    "for ii, pol in enumerate(spectra_components):\n",
    "    plt.subplot(131 + ii)\n",
    "    xdata = np.arange(ell_fit_low[pol], ell_fit_high[pol])\n",
    "    ydata = xdata * (xdata + 1) / np.pi / 2 * cl[pol][xdata]\n",
    "    (A_fit[pol], gamma_fit[pol]), cov = curve_fit(model, xdata, ydata)\n",
    "    A_fit_std[pol], gamma_fit_std[pol] = np.sqrt(np.diag(cov))\n",
    "\n",
    "    plt.loglog(ell, ell * (ell + 1) / np.pi / 2 * cl[pol], label=\"Anafast $C_\\ell$\")\n",
    "\n",
    "    plt.plot(\n",
    "        ell[ell_fit_low[pol] // 2 : ell_fit_high[pol] * 2],\n",
    "        model(\n",
    "            ell[ell_fit_low[pol] // 2 : ell_fit_high[pol] * 2],\n",
    "            A_fit[pol],\n",
    "            gamma_fit[pol],\n",
    "        ),\n",
    "        label=\"old model fit\",\n",
    "    )\n",
    "\n",
    "    plt.axvline(\n",
    "        ell_fit_low[pol],\n",
    "        linestyle=\"--\",\n",
    "        color=\"black\",\n",
    "        label=\"$ \\ell={} $\".format(ell_fit_low[pol]),\n",
    "    )\n",
    "    plt.axvline(\n",
    "        ell_fit_high[pol],\n",
    "        linestyle=\"--\",\n",
    "        color=\"gray\",\n",
    "        label=\"$ \\ell={} $\".format(ell_fit_high[pol]),\n",
    "    )\n",
    "    plt.grid()\n",
    "    plt.title(\n",
    "        f\"{pol}   spectrum for dust Dust Pol.Tens  \"\n",
    "        + r\"$\\gamma_{fit}=$\"\n",
    "        + f\"{gamma_fit[pol]:.2f}\"\n",
    "    )\n",
    "\n",
    "    plt.ylabel(\"$\\ell(\\ell+1)C_\\ell/2\\pi [\\mu K_{RJ}]$\")\n",
    "    plt.xlabel((\"$\\ell$\"))\n",
    "    plt.xlim(2, lmax)\n",
    "\n",
    "print(f\"B-to-E ratio at l= {ell_fit_high['BB']} , { A_fit['BB']/A_fit['EE' ]}\")\n",
    "\n",
    "for ii, pol in enumerate(spectra_components[1:]):\n",
    "    # we change the EE and BB power laws\n",
    "    A_fit[pol] = A_fit[pol] * ell_fit_high[pol] ** (gamma_fit[pol] - gamma_fit[\"TT\"])\n",
    "    gamma_fit[pol] = gamma_fit[\"TT\"]\n",
    "    plt.subplot(132 + ii)\n",
    "    plt.plot(\n",
    "        ell[ell_fit_high[pol] : ell_fit_high[pol] * 10],\n",
    "        model(\n",
    "            ell[ell_fit_high[pol] : ell_fit_high[pol] * 10], A_fit[pol], gamma_fit[pol]\n",
    "        ),\n",
    "        label=\"new power law\",\n",
    "    )\n",
    "\n",
    "print(f\"B-to-E ratio at l= {ell_fit_high['BB']} , { A_fit['BB']/A_fit['EE' ]}\")"
   ]
  },
  {
   "cell_type": "markdown",
   "id": "1dc4c929-7c90-4cb4-8391-212fdc51f417",
   "metadata": {},
   "source": [
    "### Define Modulation maps \n",
    "as suggested by Ben Thorne , \n",
    "the injected small scales are at different multipoles for intensity and polarization, we consider 2 different modulation maps  \n",
    "\n",
    "#### Modulation for  polarization : \n",
    "- smooth `i` map to 5 deg \n",
    "- we saturate all the pixels >5.5 to 1.5 \n",
    "- reduce the dynamic range to range from .5 to 1.5 with MinMax rescaling  \n",
    "\n",
    "#### Modulation for  intensity : \n",
    "- smooth `i` map to 5 deg \n",
    "- for  the pixels >5  MinMax rescaling from 1.1 to 2 \n",
    "- elsewhere MinMax rescaling  from  .1 to 1.1   "
   ]
  },
  {
   "cell_type": "code",
   "execution_count": null,
   "id": "14debea2-386b-46d5-ac10-69766ffb576b",
   "metadata": {},
   "outputs": [],
   "source": [
    "ismooth = hp.smoothing(iqu[0], fwhm=np.radians(5))"
   ]
  },
  {
   "cell_type": "code",
   "execution_count": null,
   "id": "5b7e8e2e-0f80-42df-ba01-488e5c25af65",
   "metadata": {},
   "outputs": [],
   "source": [
    "minmax = lambda m, a, b: a + (b - a) * (m - m.min()) / (m.max() - m.min())\n",
    "\n",
    "modulate_amp_pol = (ismooth) * 1.0\n",
    "modulate_amp = (ismooth) * 1.0\n",
    "\n",
    "mskmd = ismooth > 5.5\n",
    "b1 = 1.5\n",
    "a = 0.5\n",
    "\n",
    "modulate_amp_pol[mskmd] = 1.5\n",
    "modulate_amp_pol[~mskmd] = minmax(ismooth[~mskmd], 0.5, 1.5)\n",
    "mskmd = ismooth > 5\n",
    "\n",
    "modulate_amp[mskmd] = minmax(ismooth[mskmd], 1.1, 2)\n",
    "modulate_amp[~mskmd] = minmax(ismooth[~mskmd], 0.1, 1.1)"
   ]
  },
  {
   "cell_type": "code",
   "execution_count": null,
   "id": "7122c67d-3851-411c-aea0-3970abc15766",
   "metadata": {},
   "outputs": [],
   "source": [
    "hp.mollview(modulate_amp, title=\"intensity modulation\", sub=121)\n",
    "hp.mollview(modulate_amp_pol, title=\"polarization modulation\", sub=122)"
   ]
  },
  {
   "cell_type": "code",
   "execution_count": null,
   "id": "abea969d-d50a-45d3-ba66-3d4fc6fe0d21",
   "metadata": {},
   "outputs": [],
   "source": [
    "output_nside = 2048\n",
    "output_lmax = 2 * output_nside\n",
    "output_ell = np.arange(output_lmax + 1)\n",
    "output_cl_norm = output_ell * (output_ell + 1) / np.pi / 2\n",
    "output_cl_norm[0] = 1"
   ]
  },
  {
   "cell_type": "code",
   "execution_count": null,
   "id": "c5ab2cbe-8b48-4f06-9ee1-309750b35663",
   "metadata": {},
   "outputs": [],
   "source": [
    "modulate_alm = {}\n",
    "for name, each_modulate in [(\"temperature\", modulate_amp), (\"polarization\", modulate_amp_pol)]:\n",
    "    modulate_alm[name] = hp.map2alm(each_modulate, lmax=lmax, use_pixel_weights=True)\n",
    "    if output_nside > 4096:\n",
    "\n",
    "        hp.write_alm(output_dir / \"raw\" / f\"synch_{name}_modulation_alms_lmax{int(lmax):d}.fits\",\n",
    "             modulate_alm[name], overwrite=True, out_dtype=np.float32)\n",
    "del modulate_amp, modulate_amp_pol, each_modulate"
   ]
  },
  {
   "cell_type": "code",
   "execution_count": null,
   "id": "c897b4ba-508d-43d2-9716-a69165f2beff",
   "metadata": {},
   "outputs": [],
   "source": [
    "np.random.seed(555)\n",
    "# filter small scales\n",
    "small_scales_input_cl = [\n",
    "    1\n",
    "    * model(output_ell, A_fit[pol], gamma_fit[pol])\n",
    "    * sigmoid(output_ell, ell_fit_high[pol], ell_fit_high[pol] / 10)\n",
    "    / output_cl_norm\n",
    "    for pol in spectra_components\n",
    "]\n",
    "\n",
    "if output_nside > 4096:\n",
    "\n",
    "    hp.write_cl(\n",
    "        output_dir / \"raw\" / f\"synch_small_scales_logpoltens_cl_lmax{output_lmax}.fits\",\n",
    "        small_scales_input_cl,\n",
    "        dtype=np.complex128,\n",
    "        overwrite=True,\n",
    "    )\n",
    "\n",
    "ii_SS_alm = hp.synalm(\n",
    "    small_scales_input_cl + [np.zeros_like(small_scales_input_cl[0])] * 3,\n",
    "    lmax=lmax,\n",
    "    new=True,\n",
    ")\n",
    "\n",
    "\n",
    "# filter large scales\n",
    "alm_log_pol_tens_fullsky = hp.map2alm(iqu, lmax=lmax, use_pixel_weights=True)\n",
    "ii_LS_alm = np.empty_like(alm_log_pol_tens_fullsky)\n",
    "\n",
    "for ii, pol in enumerate(spectra_components):\n",
    "\n",
    "    sig_func = sigmoid(ell, x0=ell_fit_high[pol], width=ell_fit_high[pol] / 10)\n",
    "    ii_LS_alm[ii] = hp.almxfl(alm_log_pol_tens_fullsky[ii], (1.0 - sig_func) ** 0.2)\n",
    "\n",
    "log_ss = hp.alm2map(ii_SS_alm, nside=output_nside)\n",
    "modulate_amp = hp.alm2map(modulate_alm[\"temperature\"], output_nside)\n",
    "\n",
    "log_ss[0] *= modulate_amp\n",
    "modulate_amp_pol = hp.alm2map(modulate_alm[\"polarization\"], output_nside)\n",
    "log_ss[1:] *= modulate_amp_pol\n",
    "\n",
    "if output_nside > 4096:\n",
    "\n",
    "    hp.write_alm(\n",
    "        output_dir / \"raw\" / f\"synch_largescale_template_logpoltens_alm_nside{nside}_lmax{lmax:d}_complex64.fits\",\n",
    "        ii_LS_alm,\n",
    "        lmax=lmax,\n",
    "        out_dtype=np.complex64,\n",
    "        overwrite=True,\n",
    "    )\n",
    "\n",
    "log_ls = hp.alm2map(ii_LS_alm, nside=output_nside)\n",
    "ii_map_out = log_ss + log_ls"
   ]
  },
  {
   "cell_type": "code",
   "execution_count": null,
   "id": "a79836e0-4465-42c8-a431-66c8d1103c7b",
   "metadata": {},
   "outputs": [],
   "source": [
    "output_map_alm = hp.map2alm(ii_map_out, lmax=output_lmax)"
   ]
  },
  {
   "cell_type": "code",
   "execution_count": null,
   "id": "96da4ba4-9431-4934-adcd-b3e4be096e00",
   "metadata": {},
   "outputs": [],
   "source": [
    "if output_nside > 4096:\n",
    "\n",
    "    hp.write_alm(\n",
    "        output_dir / \"raw\" / f\"dust_gnilc_template_alm_nside{output_nside}_lmax{output_lmax}_complex64.fits\",\n",
    "        output_map_alm,\n",
    "        out_dtype = np.complex64,\n",
    "        overwrite=True,\n",
    "    )"
   ]
  },
  {
   "cell_type": "code",
   "execution_count": null,
   "id": "c87ea88f-122e-4cbb-8b12-e378cbfb61c1",
   "metadata": {},
   "outputs": [],
   "source": []
  },
  {
   "cell_type": "code",
   "execution_count": null,
   "id": "138baa53-a733-442f-acb2-2ec9f830c364",
   "metadata": {},
   "outputs": [],
   "source": [
    "\n",
    "if output_nside < 4096:\n",
    "    ell, cl_norm, cltot = run_anafast(ii_map_out, lmax)\n",
    "    plt.figure(figsize=(25, 5))\n",
    "\n",
    "    for ii, pol in enumerate(spectra_components):\n",
    "        plt.subplot(131 + ii)\n",
    "        plt.loglog(ell, ell * (ell + 1) / np.pi / 2 * cl[pol], label=\"anafast $C_\\ell$\")\n",
    "        plt.loglog(ell, ell * (ell + 1) / np.pi / 2 * cltot[pol], label=\"tot  $C_\\ell$\")\n",
    "\n",
    "        plt.plot(\n",
    "            ell[ell_fit_low[pol] // 2 : ell_fit_high[pol] * 20],\n",
    "            model(\n",
    "                ell[ell_fit_low[pol] // 2 : ell_fit_high[pol] * 20],\n",
    "                A_fit[pol],\n",
    "                gamma_fit[pol],\n",
    "            ),\n",
    "            label=\"model fit\",\n",
    "        )\n",
    "\n",
    "        plt.axvline(\n",
    "            ell_fit_low[pol],\n",
    "            linestyle=\"--\",\n",
    "            color=\"black\",\n",
    "            label=\"$ \\ell={} $\".format(ell_fit_low[pol]),\n",
    "        )\n",
    "        plt.axvline(\n",
    "            ell_fit_high[pol],\n",
    "            linestyle=\"--\",\n",
    "            color=\"gray\",\n",
    "            label=\"$ \\ell={} $\".format(ell_fit_high[pol]),\n",
    "        )\n",
    "        plt.legend()\n",
    "        plt.grid()\n",
    "        plt.title(\n",
    "            f\"{pol}   spectrum for dust Dust Pol.Tens  \"\n",
    "            + r\"$\\gamma_{fit}=$\"\n",
    "            + f\"{gamma_fit[pol]:.2f}\"\n",
    "        )\n",
    "\n",
    "        plt.ylabel(\"$\\ell(\\ell+1)C_\\ell/2\\pi [\\mu K_{RJ}]$\")\n",
    "        plt.xlabel((\"$\\ell$\"))\n",
    "        plt.xlim(2, lmax)"
   ]
  },
  {
   "cell_type": "code",
   "execution_count": null,
   "id": "ff6bbb63-a88d-491b-ba3b-dae31fc00d4a",
   "metadata": {},
   "outputs": [],
   "source": [
    "output_map = log_pol_tens_to_map(ii_map_out)"
   ]
  },
  {
   "cell_type": "code",
   "execution_count": null,
   "id": "54eb2651-87a9-4484-a4a3-55a5ad9ed2da",
   "metadata": {},
   "outputs": [],
   "source": [
    "if output_nside < 4096:\n",
    "    lat = 75\n",
    "    plt.figure(figsize=(15, 10))\n",
    "    hp.gnomview(\n",
    "        ii_map_out[0],\n",
    "        title=\"i w/ small scales \",\n",
    "        rot=[0, lat],\n",
    "        reso=3.75,\n",
    "        xsize=320,\n",
    "        sub=234,\n",
    "    )\n",
    "    hp.gnomview(iqu[0], title=\"i\", rot=[0, lat], reso=3.75, xsize=320, sub=231)\n",
    "    hp.gnomview(\n",
    "        modulate_amp,\n",
    "        title=\" modulation I \",\n",
    "        rot=[0, lat],\n",
    "        reso=3.75,\n",
    "        xsize=320,\n",
    "        sub=233,\n",
    "    )\n",
    "\n",
    "    hp.gnomview(\n",
    "        (IQU[0]),\n",
    "        title=\" I input   \",\n",
    "        rot=[0, lat],\n",
    "        reso=3.75,\n",
    "        xsize=320,\n",
    "        sub=232,\n",
    "    )\n",
    "    hp.gnomview(\n",
    "        (log_ss)[0],\n",
    "        title=\"  small scales \",\n",
    "        rot=[0, lat],\n",
    "        reso=3.75,\n",
    "        xsize=320,\n",
    "        sub=236,\n",
    "    )\n",
    "    hp.gnomview(\n",
    "        output_map[0],\n",
    "        title=\"I w/ small scales \",\n",
    "        rot=[0, lat],\n",
    "        reso=3.75,\n",
    "        xsize=320,\n",
    "        sub=235,\n",
    "    )\n",
    "    lat = 75\n",
    "    plt.figure(figsize=(15, 10))\n",
    "    hp.gnomview(\n",
    "        ii_map_out[1],\n",
    "        title=\"q w/ small scales \",\n",
    "        rot=[0, lat],\n",
    "        reso=3.75,\n",
    "        xsize=320,\n",
    "        sub=234,\n",
    "    )\n",
    "    hp.gnomview(iqu[1], title=\"q\", rot=[0, lat], reso=3.75, xsize=320, sub=231)\n",
    "    hp.gnomview(\n",
    "        (modulate_amp_pol),\n",
    "        title=\" modulation P \",\n",
    "        rot=[0, lat],\n",
    "        reso=3.75,\n",
    "        xsize=320,\n",
    "        sub=233,\n",
    "    )\n",
    "\n",
    "    hp.gnomview(\n",
    "        (IQU[1]),\n",
    "        title=\" Q input  \",\n",
    "        rot=[0, lat],\n",
    "        reso=3.75,\n",
    "        xsize=320,\n",
    "        sub=232,\n",
    "    )\n",
    "    hp.gnomview(\n",
    "        (log_ss)[1],\n",
    "        title=\"  small scales \",\n",
    "        rot=[0, lat],\n",
    "        reso=3.75,\n",
    "        xsize=320,\n",
    "        sub=236,\n",
    "    )\n",
    "    hp.gnomview(\n",
    "        output_map[1],\n",
    "        title=\"Q w/ small scales \",\n",
    "        rot=[0, lat],\n",
    "        reso=3.75,\n",
    "        xsize=320,\n",
    "        sub=235,\n",
    "    )"
   ]
  },
  {
   "cell_type": "markdown",
   "id": "72741b65-42f8-4f58-9af0-50eea3dbf46d",
   "metadata": {},
   "source": [
    "### Validation \n"
   ]
  },
  {
   "cell_type": "code",
   "execution_count": null,
   "id": "e71565b6-33e5-45bf-8506-1ed10067e285",
   "metadata": {},
   "outputs": [],
   "source": [
    "bk15_mask_filename = datadir / \"BK15_region_Gal_apo.fits\"\n",
    "if not bk15_mask_filename.exists():\n",
    "    !wget -O $bk15_mask_filename https://portal.nersc.gov/project/cmb/pysm-data/gnilc/inputs/BK15_region_Gal_apo.fits"
   ]
  },
  {
   "cell_type": "code",
   "execution_count": null,
   "id": "86692762-f1ea-4c70-a6bb-8dd238e17057",
   "metadata": {},
   "outputs": [],
   "source": [
    "if output_nside < 4096:\n",
    "    planck_masks = {\n",
    "        k.lower(): hp.read_map(datadir / \"HFI_Mask_GalPlane-apo2_2048_R2.00.fits\", [k])\n",
    "        for k in [\"GAL{:03d}\".format(frac) for frac in [20, 40, 80]]\n",
    "    }\n",
    "\n",
    "    planck_masks[\"BK\"] = hp.read_map(bk15_mask_filename)"
   ]
  },
  {
   "cell_type": "code",
   "execution_count": null,
   "id": "3d0f829c-5eb6-4193-835d-f3a833e5e7c7",
   "metadata": {},
   "outputs": [],
   "source": [
    "if output_nside < 4096:\n",
    "\n",
    "\n",
    "    planck_masks_512 = {k:hp.ud_grade(v, 512) for k,v in planck_masks.items()}\n"
   ]
  },
  {
   "cell_type": "code",
   "execution_count": null,
   "id": "680a52d4-6b3d-4dd8-b7e3-1b6213515abe",
   "metadata": {},
   "outputs": [],
   "source": [
    "if output_nside < 4096:\n",
    "\n",
    "    for k, v in planck_masks.items():\n",
    "        planck_masks[k] = hp.ud_grade(v, output_nside)"
   ]
  },
  {
   "cell_type": "code",
   "execution_count": null,
   "id": "5f4e9356-4a36-4c44-be2f-b7cce021545b",
   "metadata": {},
   "outputs": [],
   "source": [
    "nlb = {\"BK\": 35, \"gal020\": 25, \"gal040\": 15, \"gal080\": 4}"
   ]
  },
  {
   "cell_type": "code",
   "execution_count": null,
   "id": "964da8db-bbf4-4449-93d3-f7fd5d858bdf",
   "metadata": {},
   "outputs": [],
   "source": [
    "import pymaster as nmt"
   ]
  },
  {
   "cell_type": "code",
   "execution_count": null,
   "id": "6aab8bdf-f8b8-464d-929a-0c5dd9a48997",
   "metadata": {},
   "outputs": [],
   "source": [
    "def run_namaster(m, mask, lmax, nlbins=1):\n",
    "    \"\"\"Compute C_ell with NaMaster\n",
    "    Parameters\n",
    "    ----------\n",
    "    m : numpy array\n",
    "        T only or TQU HEALPix map\n",
    "    mask : numpy array\n",
    "        mask, 1D, 0 for masked pixels,\n",
    "        needs to have same Nside of the input map\n",
    "    lmax : int\n",
    "        maximum ell of the spherical harmonics transform\n",
    "    Returns\n",
    "    -------\n",
    "    ell : numpy array\n",
    "        array of ell from 0 to lmax (length lmax+1)\n",
    "    cl_norm : numpy array\n",
    "        ell (ell+1)/2pi factor to turn C_ell into D_ell\n",
    "        first element is set to 1\n",
    "    cl : dict of numpy arrays\n",
    "        dictionary of numpy arrays with all components\n",
    "        of the spectra, for now only II, EE, BB, no\n",
    "        cross-spectra\n",
    "    \"\"\"\n",
    "    nside = hp.npix2nside(len(mask))\n",
    "\n",
    "    binning = nmt.NmtBin(nside=nside, nlb=nlbins, lmax=lmax, is_Dell=False)\n",
    "\n",
    "    cl = {}\n",
    "\n",
    "    f_0 = nmt.NmtField(mask, [m[0].copy()])\n",
    "\n",
    "    if len(m) == 3:\n",
    "        f_2 = nmt.NmtField(mask, m[1:].copy())  # NaMaster masks the map in-place\n",
    "        cl_namaster = nmt.compute_full_master(f_2, f_2, binning)\n",
    "        cl[\"EE\"] = np.concatenate([[0, 0], cl_namaster[0]])\n",
    "        cl[\"BB\"] = np.concatenate([[0, 0], cl_namaster[3]])\n",
    "        cl_namaster = nmt.compute_full_master(f_0, f_2, binning)\n",
    "        cl[\"TE\"] = np.concatenate([[0, 0], cl_namaster[0]])\n",
    "    elif m.ndim == 1:\n",
    "        m = m.reshape((1, -1))\n",
    "\n",
    "    cl_namaster_I = nmt.compute_full_master(f_0, f_0, binning)\n",
    "\n",
    "    cl[\"TT\"] = np.concatenate([[0, 0], cl_namaster_I[0]])\n",
    "    ell = np.concatenate([[0, 1], binning.get_effective_ells()])\n",
    "    cl_norm = ell * (ell + 1) / np.pi / 2\n",
    "    cl_norm[0] = 1\n",
    "    return ell, cl_norm, cl"
   ]
  },
  {
   "cell_type": "code",
   "execution_count": null,
   "id": "48aa7f48-7bbd-4830-8dc1-503280604dd0",
   "metadata": {},
   "outputs": [],
   "source": [
    "if output_nside < 4096:\n",
    "\n",
    "    plt.figure(figsize=(10, 5))\n",
    "\n",
    "    for jj, k in enumerate(planck_masks.keys()):\n",
    "        fspectra = datadir / f\"sync_hybrid_out_{k}_spectra.npz\"\n",
    "        if os.path.exists(fspectra):\n",
    "            print(\"read Namaster spectra  \")\n",
    "            output_ell = np.load(fspectra)[\"ell\"]\n",
    "            cl_out = {kk: np.load(fspectra)[kk] for kk in spectra_components}\n",
    "        elif namaster_on_nb:\n",
    "            print(\"run Namaster  \")\n",
    "            output_ell, output_cl_norm, cl_out = run_namaster(\n",
    "                output_map, mask=planck_masks[k], lmax=output_lmax, nlbins=nlb[k]\n",
    "            )\n",
    "            np.savez(fspectra, ell=output_ell, cl_norm=output_cl_norm, **cl_out)\n",
    "\n",
    "        fspectra = datadir / f\"synch_hybrid_{k}_spectra.npz\"\n",
    "        if os.path.exists(fspectra):\n",
    "            print(\"read Namaster spectra  \")\n",
    "            input_ell = np.load(fspectra)[\"ell\"]\n",
    "            cl_in = {kk: np.load(fspectra)[kk] for kk in spectra_components}\n",
    "        elif namaster_on_nb:\n",
    "            print(\"run Namaster  \")\n",
    "            input_ell, input_cl_norm, cl_in = run_namaster(\n",
    "                IQU, mask=planck_masks_512[k], lmax=lmax, nlbins=nlb[k]\n",
    "            )\n",
    "            np.savez(fspectra, ell=input_ell, cl_norm=input_cl_norm, **cl_in)\n",
    "        plt.subplot(2, 2, jj + 1)\n",
    "        for ii, pol in enumerate([\"TT\", \"EE\", \"BB\"]):\n",
    "            if jj == 3:\n",
    "\n",
    "                plt.loglog(output_ell, abs(cl_out[pol]), color=\"C%d\" % ii, label=pol)\n",
    "            else:\n",
    "                plt.loglog(\n",
    "                    output_ell,\n",
    "                    abs(cl_out[pol]),\n",
    "                    color=\"C%d\" % ii,\n",
    "                )\n",
    "            plt.loglog(\n",
    "                input_ell,\n",
    "                abs(cl_in[pol]),\n",
    "                color=\"C%d\" % ii,\n",
    "                alpha=0.5,\n",
    "            )\n",
    "\n",
    "            plt.grid()\n",
    "            plt.legend(title=(k + \" mask \"), fontsize=15)\n",
    "            plt.ylabel(\"$ C_\\ell  [\\mu K_{RJ}]$\")\n",
    "            plt.xlabel((\"$\\ell$\"))\n",
    "            plt.xlim(10, 1e3)\n",
    "            plt.ylim(1e-6, 1e0)\n",
    "    plt.tight_layout()"
   ]
  },
  {
   "cell_type": "code",
   "execution_count": null,
   "id": "4b15448c-229c-4494-9efc-a37647b62c4f",
   "metadata": {},
   "outputs": [],
   "source": [
    "if output_nside < 4096:\n",
    "\n",
    "    plt.figure(figsize=(10, 5))\n",
    "\n",
    "    for jj, k in enumerate(planck_masks.keys()):\n",
    "        fspectra = datadir / f\"sync_hybrid_out_{k}_spectra.npz\"\n",
    "        if os.path.exists(fspectra):\n",
    "            print(\"read Namaster spectra  \")\n",
    "            output_ell = np.load(fspectra)[\"ell\"]\n",
    "            cl_out = {kk: np.load(fspectra)[kk] for kk in spectra_components}\n",
    "        elif namaster_on_nb:\n",
    "            print(\"run Namaster  \")\n",
    "            output_ell, output_cl_norm, cl_out = run_namaster(\n",
    "                output_map, mask=planck_masks[k], lmax=output_lmax, nlbins=nlb[k]\n",
    "            )\n",
    "            np.savez(fspectra, ell=output_ell, cl_norm=output_cl_norm, **cl_out)\n",
    "\n",
    "        # else:\n",
    "        #    print(\"run anafast on masked sky  \")\n",
    "        #    output_ell, cl_norm, cl_out = run_anafast(output_map * planck_mask, lmax)\n",
    "\n",
    "        fspectra = datadir / f\"synch_hybrid_{k}_spectra.npz\"\n",
    "        if os.path.exists(fspectra):\n",
    "            print(\"read Namaster spectra  \")\n",
    "            input_ell = np.load(fspectra)[\"ell\"]\n",
    "            cl_in = {kk: np.load(fspectra)[kk] for kk in spectra_components}\n",
    "        elif namaster_on_nb:\n",
    "            print(\"run Namaster  \")\n",
    "            input_ell, input_cl_norm, cl_in = run_namaster(\n",
    "                m_planck_varres, mask=planck_masks[k], lmax=output_lmax, nlbins=nlb[k]\n",
    "            )\n",
    "            np.savez(fspectra, ell=input_ell, cl_norm=input_cl_norm, **cl_in)\n",
    "        # else:\n",
    "        #    print(\"run anafast on masked sky  \")\n",
    "        #    ell, cl_norm, cl_out = run_anafast(output_map * planck_mask, lmax)\n",
    "        plt.subplot(2, 2, jj + 1)\n",
    "        plt.semilogx(\n",
    "            output_ell,\n",
    "            cl_out[\"BB\"] / cl_out[\"EE\"],\n",
    "            color=\"C%d\" % 0,\n",
    "        )\n",
    "        plt.semilogx(\n",
    "            input_ell,\n",
    "            cl_in[\"BB\"] / cl_in[\"EE\"],\n",
    "            color=\"C%d\" % 0,\n",
    "            alpha=0.5,\n",
    "        )\n",
    "        plt.grid()\n",
    "        plt.legend(title=(k + \" mask \"), fontsize=15)\n",
    "        plt.ylabel((\"B-to-E ratio\"))\n",
    "        plt.xlabel((\"$\\ell$\"))\n",
    "        plt.ylim(0, 1)\n",
    "        plt.xlim(10, 2e3)\n",
    "\n",
    "    plt.tight_layout()"
   ]
  },
  {
   "cell_type": "code",
   "execution_count": null,
   "id": "7bb97125-c5c8-4cf1-9712-a5fe1f5f923d",
   "metadata": {},
   "outputs": [],
   "source": [
    "get_polfrac = lambda m: np.sqrt(m[1] ** 2 + m[2] ** 2) / m[0]"
   ]
  },
  {
   "cell_type": "code",
   "execution_count": null,
   "id": "2c567fe9-682d-42f2-a46e-eaeef426c1c6",
   "metadata": {
    "tags": []
   },
   "outputs": [],
   "source": [
    "if output_nside < 4096:\n",
    "\n",
    "    Pout = get_polfrac(output_map)\n",
    "    Pin = get_polfrac(IQU.value)"
   ]
  },
  {
   "cell_type": "code",
   "execution_count": null,
   "id": "338ace94-1ee7-4709-8e83-fe0352d85ef2",
   "metadata": {},
   "outputs": [],
   "source": [
    "if output_nside < 4096:\n",
    "\n",
    "    plt.figure(figsize=(15, 5))\n",
    "    hp.mollview(\n",
    "        np.log10(Pin), title=\" Pol.Frac input\", sub=121, min=-3, max=0, unit=\"Log10(p )\"\n",
    "    )\n",
    "    hp.mollview(\n",
    "        np.log10(Pout), title=\"Pol.Frac output\", sub=122, min=-3, max=0, unit=\"Log10(p)\"\n",
    "    )"
   ]
  },
  {
   "cell_type": "code",
   "execution_count": null,
   "id": "b77ffffa-fee3-4449-a00d-b554df3cdad0",
   "metadata": {},
   "outputs": [],
   "source": [
    "if output_nside < 4096:\n",
    "\n",
    "    logpin = np.log10(Pin)\n",
    "    logpout = np.log10(Pout)"
   ]
  },
  {
   "cell_type": "code",
   "execution_count": null,
   "id": "f5b6dfc5-5ed1-4e77-8621-99b24dcb4c09",
   "metadata": {},
   "outputs": [],
   "source": [
    "if output_nside < 4096:\n",
    "\n",
    "    plt.figure(figsize=(10, 5))\n",
    "\n",
    "    for jj, pm in enumerate(planck_masks.items()):\n",
    "        k = pm[0]\n",
    "        msk = np.round(pm[1]).astype(bool)\n",
    "        msk_512 = np.round(planck_masks_512[k]).astype(bool)\n",
    "\n",
    "        plt.subplot(2, 2, jj + 1)\n",
    "\n",
    "        h, edg = np.histogram(logpout[msk], bins=np.linspace(-4, 0, 100), density=True)\n",
    "        xb = np.array([(edg[i] + edg[i + 1]) / 2 for i in range(edg.size - 1)])\n",
    "\n",
    "        plt.plot(xb, h, lw=3, color=\"C0\", alpha=0.5, label=\"output\")\n",
    "        h, edg = np.histogram(logpin[msk_512], density=True, bins=np.linspace(-4, 0, 100))\n",
    "        xb = np.array([(edg[i] + edg[i + 1]) / 2 for i in range(edg.size - 1)])\n",
    "\n",
    "        plt.plot(xb, h, lw=3, alpha=0.5, color=\"C0\", linestyle=\"--\", label=\"input\")\n",
    "        plt.ylabel(\"norm.counts\", fontsize=14)\n",
    "        plt.xlabel(r\"$\\log10( p )$\", fontsize=14)\n",
    "        plt.legend(title=(k + \" mask \"), fontsize=13, loc=\"best\")\n",
    "        plt.xlim(-3, -0.0)\n",
    "    plt.tight_layout()"
   ]
  }
 ],
 "metadata": {
  "kernelspec": {
   "display_name": "condanamaster2",
   "language": "python",
   "name": "condanamaster2"
  },
  "language_info": {
   "codemirror_mode": {
    "name": "ipython",
    "version": 3
   },
   "file_extension": ".py",
   "mimetype": "text/x-python",
   "name": "python",
   "nbconvert_exporter": "python",
   "pygments_lexer": "ipython3",
   "version": "3.8.0"
  }
 },
 "nbformat": 4,
 "nbformat_minor": 5
}
