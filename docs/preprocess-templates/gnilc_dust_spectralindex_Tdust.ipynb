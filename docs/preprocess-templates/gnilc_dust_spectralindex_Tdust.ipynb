{
 "cells": [
  {
   "cell_type": "code",
   "execution_count": null,
   "metadata": {},
   "outputs": [],
   "source": [
    "import os\n",
    "\n",
    "os.environ[\n",
    "    \"OMP_NUM_THREADS\"\n",
    "] = \"64\"  # for jupyter.nersc.gov otherwise the notebook only uses 2 cores"
   ]
  },
  {
   "cell_type": "code",
   "execution_count": null,
   "metadata": {},
   "outputs": [],
   "source": [
    "from pathlib import Path\n",
    "import healpy as hp\n",
    "import matplotlib.pyplot as plt\n",
    "import numpy as np\n",
    "import pymaster as nmt\n",
    "from astropy.io import fits\n",
    "\n",
    "%matplotlib inline"
   ]
  },
  {
   "cell_type": "code",
   "execution_count": null,
   "metadata": {},
   "outputs": [],
   "source": [
    "plt.style.use(\"seaborn-talk\")"
   ]
  },
  {
   "cell_type": "code",
   "execution_count": null,
   "metadata": {},
   "outputs": [],
   "source": [
    "import pysm3 as pysm\n",
    "import pysm3.units as u"
   ]
  },
  {
   "cell_type": "code",
   "execution_count": null,
   "metadata": {},
   "outputs": [],
   "source": [
    "nside = 2048\n",
    "lmax = 2048"
   ]
  },
  {
   "cell_type": "code",
   "execution_count": null,
   "metadata": {},
   "outputs": [],
   "source": [
    "comp = \"IQU\""
   ]
  },
  {
   "cell_type": "code",
   "execution_count": null,
   "metadata": {},
   "outputs": [],
   "source": [
    "components = list(enumerate(comp))\n",
    "components"
   ]
  },
  {
   "cell_type": "code",
   "execution_count": null,
   "metadata": {},
   "outputs": [],
   "source": [
    "spectra_components = [\"TT\", \"EE\", \"BB\"]"
   ]
  },
  {
   "cell_type": "markdown",
   "metadata": {},
   "source": [
    "change this to True   if you want to  run namaster on notebook \n"
   ]
  },
  {
   "cell_type": "code",
   "execution_count": null,
   "metadata": {},
   "outputs": [],
   "source": [
    "namaster_on_nb = True"
   ]
  },
  {
   "cell_type": "code",
   "execution_count": null,
   "metadata": {},
   "outputs": [],
   "source": [
    "datadir = Path(\"data/\")"
   ]
  },
  {
   "cell_type": "markdown",
   "metadata": {},
   "source": [
    "# Setting the inputs \n",
    "## Dust maps \n",
    "- We use the  2015 GNILC intensity map from the 2nd planck release, as it encodes less contamination from CIB with 21.8' resolution https://www.dropbox.com/s/hicocet83z31ob3/COM_CompMap_Dust-GNILC-F353_2048_21p8acm.fits?dl=0\n",
    "\n",
    "- for Q and U we adopt maps from the 3rd Planck release as they were optimized for polarization studies with 80' reso.  \n",
    "\n"
   ]
  },
  {
   "cell_type": "code",
   "execution_count": null,
   "metadata": {},
   "outputs": [],
   "source": [
    "dust_varresI = datadir / \"COM_CompMap_Dust-GNILC-F353_2048_21p8acm.fits\""
   ]
  },
  {
   "cell_type": "code",
   "execution_count": null,
   "metadata": {},
   "outputs": [],
   "source": [
    "if not dust_varresI.exists():\n",
    "    !wget -O $dust_varresI https://portal.nersc.gov/project/cmb/pysm-data/gnilc/inputs/COM_CompMap_Dust-GNILC-F353_2048_21p8acm.fits"
   ]
  },
  {
   "cell_type": "markdown",
   "metadata": {},
   "source": [
    "Transform maps to double precision for computations"
   ]
  },
  {
   "cell_type": "code",
   "execution_count": null,
   "metadata": {},
   "outputs": [],
   "source": [
    "I_planck_varres, h = hp.read_map(dust_varresI, dtype=np.float64, h=True)"
   ]
  },
  {
   "cell_type": "markdown",
   "metadata": {},
   "source": [
    "Maps from the two releases are in different units `MJy/sr` the former, and `K_CMB` the latter, we therefore need to perform some conversion to `uK_RJ`. "
   ]
  },
  {
   "cell_type": "code",
   "execution_count": null,
   "metadata": {},
   "outputs": [],
   "source": [
    "I_planck_varres <<= u.MJy / u.sr\n",
    "I_planck_varres = I_planck_varres.to(\n",
    "    \"uK_RJ\", equivalencies=u.cmb_equivalencies(353 * u.GHz)\n",
    ")"
   ]
  },
  {
   "cell_type": "code",
   "execution_count": null,
   "metadata": {},
   "outputs": [],
   "source": [
    "output_nside = 8192\n",
    "output_lmax = 2 * output_nside"
   ]
  },
  {
   "cell_type": "markdown",
   "metadata": {},
   "source": [
    "## Amplitude modulation"
   ]
  },
  {
   "cell_type": "code",
   "execution_count": null,
   "metadata": {},
   "outputs": [],
   "source": [
    "modulate_amp = hp.alm2map(\n",
    "    hp.read_alm(\n",
    "        datadir / \"gnilc_dust_temperature_modulation_alms_lmax3072.fits\",\n",
    "    ).astype(np.complex128),\n",
    "    nside=output_nside,\n",
    ")"
   ]
  },
  {
   "cell_type": "markdown",
   "metadata": {
    "tags": []
   },
   "source": [
    "## Injecting small scales to Spectral parameters "
   ]
  },
  {
   "cell_type": "code",
   "execution_count": null,
   "metadata": {},
   "outputs": [],
   "source": [
    "tdfile = datadir / \"COM_CompMap_Dust-GNILC-Model-Temperature_2048_R2.00.fits\"\n",
    "if not tdfile.exists():\n",
    "    !wget -O $tdfile  http://pla.esac.esa.int/pla/aio/product-action?MAP.MAP_ID=COM_CompMap_Dust-GNILC-Model-Temperature_2048_R2.00.fits\n",
    "bdfile = datadir / \"COM_CompMap_Dust-GNILC-Model-Spectral-Index_2048_R2.00.fits\"\n",
    "\n",
    "if not bdfile.exists():\n",
    "    !wget -O $bdfile http://pla.esac.esa.int/pla/aio/product-action?MAP.MAP_ID=COM_CompMap_Dust-GNILC-Model-Spectral-Index_2048_R2.00.fits"
   ]
  },
  {
   "cell_type": "code",
   "execution_count": null,
   "metadata": {},
   "outputs": [],
   "source": [
    "td = hp.read_map(tdfile, dtype=np.float64)\n",
    "bd = hp.read_map(bdfile, dtype=np.float64)"
   ]
  },
  {
   "cell_type": "code",
   "execution_count": null,
   "metadata": {},
   "outputs": [],
   "source": [
    "hp.mollview(td)"
   ]
  },
  {
   "cell_type": "code",
   "execution_count": null,
   "metadata": {},
   "outputs": [],
   "source": [
    "hp.mollview(bd)"
   ]
  },
  {
   "cell_type": "code",
   "execution_count": null,
   "metadata": {},
   "outputs": [],
   "source": [
    "cltd = hp.anafast(td, use_pixel_weights=True, lmax=lmax)\n",
    "clbd = hp.anafast(bd, use_pixel_weights=True, lmax=lmax)\n",
    "\n",
    "cl = {\"bd\": clbd, \"td\": cltd}\n",
    "dust_params = list(cl.keys())\n",
    "ell = np.arange(lmax + 1)"
   ]
  },
  {
   "cell_type": "code",
   "execution_count": null,
   "metadata": {},
   "outputs": [],
   "source": [
    "from scipy.optimize import curve_fit"
   ]
  },
  {
   "cell_type": "code",
   "execution_count": null,
   "metadata": {},
   "outputs": [],
   "source": [
    "def model(ell, A, gamma):\n",
    "    out = A * ell ** gamma\n",
    "    out[:2] = 0\n",
    "    return out"
   ]
  },
  {
   "cell_type": "code",
   "execution_count": null,
   "metadata": {},
   "outputs": [],
   "source": [
    "ell_fit_low = {\"bd\": 200, \"td\": 100}\n",
    "ell_fit_high = {\"bd\": 400, \"td\": 400}\n",
    "\n",
    "A_fit, gamma_fit, A_fit_std, gamma_fit_std = {}, {}, {}, {}\n",
    "plt.figure(figsize=(25, 5))\n",
    "\n",
    "for ii, pol in enumerate(dust_params):\n",
    "    plt.subplot(131 + ii)\n",
    "    xdata = np.arange(ell_fit_low[pol], ell_fit_high[pol])\n",
    "    ydata = cl[pol][xdata]\n",
    "    (A_fit[pol], gamma_fit[pol]), cov = curve_fit(model, xdata, ydata)\n",
    "\n",
    "    A_fit_std[pol], gamma_fit_std[pol] = np.sqrt(np.diag(cov))\n",
    "    plt.loglog(ell, cl[pol], label=\" Anafast $C_\\ell$\")\n",
    "\n",
    "    plt.plot(\n",
    "        ell[ell_fit_low[pol] // 2 : ell_fit_high[pol] * 2],\n",
    "        model(\n",
    "            ell[ell_fit_low[pol] // 2 : ell_fit_high[pol] * 2],\n",
    "            A_fit[pol],\n",
    "            gamma_fit[pol],\n",
    "        ),\n",
    "        label=\"model fit\",\n",
    "    )\n",
    "\n",
    "    plt.axvline(\n",
    "        ell_fit_low[pol],\n",
    "        linestyle=\"--\",\n",
    "        color=\"black\",\n",
    "        label=\"$ \\ell={} $\".format(ell_fit_low[pol]),\n",
    "    )\n",
    "    plt.axvline(\n",
    "        ell_fit_high[pol],\n",
    "        linestyle=\"--\",\n",
    "        color=\"gray\",\n",
    "        label=\"$ \\ell={} $\".format(ell_fit_high[pol]),\n",
    "    )\n",
    "    plt.legend()\n",
    "    plt.grid()\n",
    "    plt.title(\n",
    "        f\"{pol}   spectrum for dust   \" + r\"$\\gamma_{fit}=$\" + f\"{gamma_fit[pol]:.2f}\"\n",
    "    )\n",
    "\n",
    "    plt.ylabel(\"$ C_\\ell $\")\n",
    "    plt.xlabel((\"$\\ell$\"))\n",
    "    plt.xlim(2, lmax)"
   ]
  },
  {
   "cell_type": "markdown",
   "metadata": {},
   "source": [
    "- We inject smaller angular scales to the maps  by extrapolating the power law fitted from the GNILC spectral parameter maps \n",
    "\n",
    "- Smaller angular scales are modulated similarly as the intensity map in pol tens formalism. \n",
    "\n",
    "- the multipoles where the fit is performed are different given the observed spectra . In any case we don't fit beyond $\\ell=400$, which is consistent with the TT analysis above \n",
    "- given the fact that we inject smaller angular scales with a steeper spectral index  than TT\n",
    "$$\\gamma_{\\beta} = -1.96, \\gamma_{Td} = -2.47, \\gamma_{TT}= -1.29$$\n",
    "\n",
    "we don't expect to injecti _small scale noise_ when rescaling at frequencies orders of magnitude lower or larger than  the reference one ( 353 GHz). \n"
   ]
  },
  {
   "cell_type": "code",
   "execution_count": null,
   "metadata": {},
   "outputs": [],
   "source": [
    "def sigmoid(x, x0, width, power=4):\n",
    "    \"\"\"Sigmoid function given start point and width\n",
    "    Parameters\n",
    "    ----------\n",
    "    x : array\n",
    "        input x axis\n",
    "    x0 : float\n",
    "        value of x where the sigmoid starts (not the center)\n",
    "    width : float\n",
    "        width of the transition region in unit of x\n",
    "    power : float\n",
    "        tweak the steepness of the curve\n",
    "    Returns\n",
    "    -------\n",
    "    sigmoid : array\n",
    "        sigmoid, same length of x\"\"\"\n",
    "    return 1.0 / (1 + np.exp(-power * (x - x0 - width / 2) / width))"
   ]
  },
  {
   "cell_type": "markdown",
   "metadata": {},
   "source": [
    "### Small scales"
   ]
  },
  {
   "cell_type": "code",
   "execution_count": null,
   "metadata": {},
   "outputs": [],
   "source": [
    "# filter small scales\n",
    "small_scales_input_cl = [\n",
    "    1\n",
    "    * model(ell, A_fit[pol], gamma_fit[pol])\n",
    "    * (sigmoid(ell, ell_fit_high[pol], ell_fit_high[pol] / 10))\n",
    "    for pol in dust_params\n",
    "]\n",
    "\n",
    "names = [\"beta\", \"Td\"]\n",
    "\n",
    "for name, each in zip(names, small_scales_input_cl):\n",
    "    hp.write_cl(\n",
    "        datadir / f\"gnilc_dust_small_scales_{name}_cl_lmax{output_lmax}.fits\",\n",
    "        each,\n",
    "        dtype=np.complex128,\n",
    "        overwrite=True,\n",
    "    )\n",
    "    pysm.utils.add_metadata(\n",
    "        [datadir / f\"gnilc_dust_small_scales_{name}_cl_lmax{output_lmax}.fits\"],\n",
    "        unit=\"K**2\" if name == \"Td\" else \"\",\n",
    "    )\n",
    "\n",
    "\n",
    "np.random.seed(777)\n",
    "bd_ss_alm = hp.synalm(small_scales_input_cl[0], lmax=output_lmax)\n",
    "np.random.seed(888)\n",
    "td_ss_alm = hp.synalm(small_scales_input_cl[1], lmax=output_lmax)\n",
    "\n",
    "\n",
    "bd_ss = hp.alm2map(bd_ss_alm, nside=output_nside)\n",
    "td_ss = hp.alm2map(td_ss_alm, nside=output_nside)\n",
    "\n",
    "\n",
    "bd_ss *= modulate_amp\n",
    "td_ss *= modulate_amp"
   ]
  },
  {
   "cell_type": "markdown",
   "metadata": {},
   "source": [
    "### Large scales"
   ]
  },
  {
   "cell_type": "code",
   "execution_count": null,
   "metadata": {},
   "outputs": [],
   "source": [
    "largescale_lmax = 1024"
   ]
  },
  {
   "cell_type": "code",
   "execution_count": null,
   "metadata": {},
   "outputs": [],
   "source": [
    "alm_bd = hp.map2alm(bd, lmax=largescale_lmax, use_pixel_weights=True)\n",
    "alm_td = hp.map2alm(td, lmax=largescale_lmax, use_pixel_weights=True)\n",
    "\n",
    "sig_func = sigmoid(ell, x0=ell_fit_high[\"bd\"], width=ell_fit_high[\"bd\"] / 10)\n",
    "bd_LS_alm = hp.almxfl(alm_bd, np.sqrt(1.0 - sig_func))\n",
    "td_LS_alm = hp.almxfl(alm_td, np.sqrt(1.0 - sig_func))\n",
    "\n",
    "for name, alm in zip(names, [bd_LS_alm, td_LS_alm]):\n",
    "\n",
    "    hp.write_alm(\n",
    "        datadir\n",
    "        / f\"gnilc_dust_largescale_template_{name}_alm_nside{nside}_lmax{largescale_lmax:d}.fits\",\n",
    "        alm,\n",
    "        lmax=largescale_lmax,\n",
    "        out_dtype=np.complex64,\n",
    "        overwrite=True,\n",
    "    )\n",
    "\n",
    "pysm.utils.add_metadata(\n",
    "    [\n",
    "        datadir\n",
    "        / f\"gnilc_dust_largescale_template_beta_alm_nside{nside}_lmax{largescale_lmax:d}.fits\"\n",
    "    ],\n",
    "    coord=\"G\",\n",
    "    unit=\"\",\n",
    ")\n",
    "pysm.utils.add_metadata(\n",
    "    [\n",
    "        datadir\n",
    "        / f\"gnilc_dust_largescale_template_Td_alm_nside{nside}_lmax{largescale_lmax:d}.fits\"\n",
    "    ],\n",
    "    coord=\"G\",\n",
    "    unit=\"K\",\n",
    ")\n",
    "\n",
    "bd_ls = hp.alm2map(bd_LS_alm, nside=output_nside)\n",
    "td_ls = hp.alm2map(td_LS_alm, nside=output_nside)"
   ]
  },
  {
   "cell_type": "code",
   "execution_count": null,
   "metadata": {},
   "outputs": [],
   "source": [
    "plt.loglog(hp.alm2cl(bd_LS_alm))"
   ]
  },
  {
   "cell_type": "markdown",
   "metadata": {},
   "source": [
    "### Final map"
   ]
  },
  {
   "cell_type": "code",
   "execution_count": null,
   "metadata": {},
   "outputs": [],
   "source": [
    "bd_out = bd_ss + bd_ls\n",
    "td_out = td_ss + td_ls"
   ]
  },
  {
   "cell_type": "code",
   "execution_count": null,
   "metadata": {},
   "outputs": [],
   "source": [
    "hp.write_map(\n",
    "    datadir / f\"gnilc_dust_beta_nside{output_nside}.fits\",\n",
    "    bd_out,\n",
    "    dtype=np.float32,\n",
    "    coord=\"G\",\n",
    "    column_units=\"\",\n",
    "    overwrite=True,\n",
    ")"
   ]
  },
  {
   "cell_type": "code",
   "execution_count": null,
   "metadata": {},
   "outputs": [],
   "source": [
    "hp.write_map(\n",
    "    datadir / f\"gnilc_dust_Td_nside{output_nside}.fits\",\n",
    "    td_out,\n",
    "    dtype=np.float32,\n",
    "    coord=\"G\",\n",
    "    column_units=\"K\",\n",
    "    overwrite=True,\n",
    ")"
   ]
  },
  {
   "cell_type": "code",
   "execution_count": null,
   "metadata": {},
   "outputs": [],
   "source": [
    "cl_out = {\n",
    "    \"bd\": hp.anafast(bd_out, use_pixel_weights=True, lmax=lmax),\n",
    "    \"td\": hp.anafast(td_out, use_pixel_weights=True, lmax=lmax),\n",
    "}"
   ]
  },
  {
   "cell_type": "code",
   "execution_count": null,
   "metadata": {},
   "outputs": [],
   "source": [
    "for ii, pol in enumerate(dust_params):\n",
    "    plt.loglog(ell, cl[pol], alpha=0.5, color=\"C%d\" % ii)\n",
    "    plt.loglog(ell, cl_out[pol], label=f\" {pol}   \", color=\"C%d\" % ii)\n",
    "\n",
    "    plt.legend()\n",
    "    plt.grid(True)\n",
    "    plt.plot(\n",
    "        ell[100:][2:],\n",
    "        model(ell[100:], A_fit[pol], gamma_fit[pol])[2:],\n",
    "        \"--\",\n",
    "        color=\"red\",\n",
    "    )\n",
    "    plt.axvline(ell_fit_high[pol], linestyle=\"--\", color=\"gray\")\n",
    "    plt.axvline(100, linestyle=\"--\", color=\"gray\")\n",
    "\n",
    "    plt.ylabel(\"$ C_\\ell $\")\n",
    "    plt.xlabel((\"$\\ell$\"))\n",
    "    # plt.xlim(350, 500 )\n",
    "    plt.xlim(2, lmax)"
   ]
  },
  {
   "cell_type": "code",
   "execution_count": null,
   "metadata": {},
   "outputs": [],
   "source": [
    "hp.mollview(bd_out, title=\"Beta output\")"
   ]
  },
  {
   "cell_type": "code",
   "execution_count": null,
   "metadata": {},
   "outputs": [],
   "source": [
    "hp.mollview(td_out, title=\"Td output\")"
   ]
  },
  {
   "cell_type": "code",
   "execution_count": null,
   "metadata": {},
   "outputs": [],
   "source": [
    "lat = 35\n",
    "cm = plt.cm.RdBu\n",
    "plt.figure(figsize=(15, 8))\n",
    "hp.gnomview(\n",
    "    bd_out,\n",
    "    title=\"Bd  w/ small scales \",\n",
    "    rot=[0, lat],\n",
    "    reso=3.75,\n",
    "    cmap=cm,\n",
    "    xsize=320,\n",
    "    sub=234,\n",
    "    min=1.2,\n",
    "    max=1.9,\n",
    ")\n",
    "hp.gnomview(\n",
    "    bd_ss, title=\"small scales \", rot=[0, lat], reso=3.75, xsize=320, cmap=cm, sub=232\n",
    ")\n",
    "hp.gnomview(\n",
    "    I_planck_varres,\n",
    "    title=\" GNILC I MAP  \",\n",
    "    rot=[0, lat],\n",
    "    reso=3.75,\n",
    "    cmap=cm,\n",
    "    xsize=320,\n",
    "    sub=233,\n",
    ")\n",
    "\n",
    "hp.gnomview(\n",
    "    (bd),\n",
    "    title=\" Bd  GNILC  \",\n",
    "    rot=[0, lat],\n",
    "    reso=3.75,\n",
    "    xsize=320,\n",
    "    cmap=cm,\n",
    "    sub=235,\n",
    "    min=1.2,\n",
    "    max=1.9,\n",
    ")\n",
    "hp.gnomview(\n",
    "    bd_ls,\n",
    "    title=\"  Bd large scales \",\n",
    "    rot=[0, lat],\n",
    "    reso=3.75,\n",
    "    cmap=cm,\n",
    "    xsize=320,\n",
    "    sub=231,\n",
    "    min=1.2,\n",
    "    max=1.9,\n",
    ")\n",
    "\n",
    "plt.figure(figsize=(15, 8))\n",
    "hp.gnomview(\n",
    "    td_out,\n",
    "    title=\"Td  w/ small scales \",\n",
    "    rot=[0, lat],\n",
    "    reso=3.75,\n",
    "    xsize=320,\n",
    "    cmap=cm,\n",
    "    sub=234,\n",
    "    min=15,\n",
    "    max=25,\n",
    ")\n",
    "hp.gnomview(\n",
    "    td_ss, title=\"small scales \", rot=[0, lat], reso=3.75, xsize=320, sub=232, cmap=cm\n",
    ")\n",
    "hp.gnomview(\n",
    "    (modulate_amp),\n",
    "    title=\" modulation  \",\n",
    "    rot=[0, lat],\n",
    "    reso=3.75,\n",
    "    xsize=320,\n",
    "    cmap=cm,\n",
    "    sub=233,\n",
    ")\n",
    "\n",
    "hp.gnomview(\n",
    "    (td),\n",
    "    title=\" Td  GNILC  \",\n",
    "    rot=[0, lat],\n",
    "    reso=3.75,\n",
    "    xsize=320,\n",
    "    sub=235,\n",
    "    cmap=cm,\n",
    "    min=15,\n",
    "    max=25,\n",
    ")\n",
    "hp.gnomview(\n",
    "    td_ls,\n",
    "    title=\"  Td large scales \",\n",
    "    rot=[0, lat],\n",
    "    reso=3.75,\n",
    "    xsize=320,\n",
    "    cmap=cm,\n",
    "    sub=231,\n",
    "    min=15,\n",
    "    max=25,\n",
    ")"
   ]
  },
  {
   "cell_type": "code",
   "execution_count": null,
   "metadata": {},
   "outputs": [],
   "source": []
  }
 ],
 "metadata": {
  "kernelspec": {
   "display_name": "condanamaster2",
   "language": "python",
   "name": "condanamaster2"
  },
  "language_info": {
   "codemirror_mode": {
    "name": "ipython",
    "version": 3
   },
   "file_extension": ".py",
   "mimetype": "text/x-python",
   "name": "python",
   "nbconvert_exporter": "python",
   "pygments_lexer": "ipython3",
   "version": "3.8.0"
  },
  "toc-autonumbering": false
 },
 "nbformat": 4,
 "nbformat_minor": 4
}
