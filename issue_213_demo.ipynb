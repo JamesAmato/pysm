{
 "cells": [
  {
   "cell_type": "code",
   "execution_count": 1,
   "metadata": {},
   "outputs": [],
   "source": [
    "from itertools import product\n",
    "from pysm3.models import Model, CMBLensed"
   ]
  },
  {
   "cell_type": "code",
   "execution_count": 2,
   "metadata": {},
   "outputs": [],
   "source": [
    "ps_c1_fp = \"demo_powerspectra/c1_ps.dat\"\n",
    "delensing_ells_c1_fp = \"demo_powerspectra/c1_delensing_ells.dat\""
   ]
  },
  {
   "cell_type": "markdown",
   "metadata": {},
   "source": [
    "# Problem"
   ]
  },
  {
   "cell_type": "markdown",
   "metadata": {},
   "source": [
    "Running CMBLensed with `apply_delens=False` (default) works as expected."
   ]
  },
  {
   "cell_type": "code",
   "execution_count": 3,
   "metadata": {},
   "outputs": [
    {
     "data": {
      "text/plain": [
       "<pysm3.models.cmb.CMBLensed at 0x7febfc6d4970>"
      ]
     },
     "execution_count": 3,
     "metadata": {},
     "output_type": "execute_result"
    }
   ],
   "source": [
    "CMBLensed(nside=128, cmb_spectra=ps_c1_fp, delensing_ells=delensing_ells_c1_fp, apply_delens=False)"
   ]
  },
  {
   "cell_type": "markdown",
   "metadata": {},
   "source": [
    "Running CMBLensed with `apply_delens=True` causes a ValueError."
   ]
  },
  {
   "cell_type": "code",
   "execution_count": 4,
   "metadata": {},
   "outputs": [
    {
     "name": "stdout",
     "output_type": "stream",
     "text": [
      "operands could not be broadcast together with shapes (2199,) (2,) \n"
     ]
    }
   ],
   "source": [
    "try:\n",
    "    CMBLensed(nside=128, cmb_spectra=ps_c1_fp, delensing_ells=delensing_ells_c1_fp, apply_delens=True)\n",
    "except ValueError as e:\n",
    "    print(e)"
   ]
  },
  {
   "cell_type": "markdown",
   "metadata": {},
   "source": [
    "# Diagnosing"
   ]
  },
  {
   "cell_type": "markdown",
   "metadata": {},
   "source": [
    "The delensing ells are transposed. Note that in the following output, the long axis goes from 0 to 1."
   ]
  },
  {
   "cell_type": "code",
   "execution_count": 5,
   "metadata": {},
   "outputs": [
    {
     "data": {
      "text/plain": [
       "((8, 2199), (2199, 2))"
      ]
     },
     "execution_count": 5,
     "metadata": {},
     "output_type": "execute_result"
    }
   ],
   "source": [
    "a = CMBLensed(nside=128, cmb_spectra=ps_c1_fp, delensing_ells=delensing_ells_c1_fp, apply_delens=False)\n",
    "a.cmb_spectra.shape, a.delensing_ells.shape"
   ]
  },
  {
   "cell_type": "markdown",
   "metadata": {},
   "source": [
    "Changing the way the delensing ells are read (adding `unpack=True`) aligns the matrices as the code expects."
   ]
  },
  {
   "cell_type": "code",
   "execution_count": 6,
   "metadata": {},
   "outputs": [],
   "source": [
    "class SurrogateCMBLensed(Model):\n",
    "    def __init__(self, ps_file, apply_delens, nside=2048):\n",
    "        super().__init__(nside=nside)\n",
    "        self.nside = nside\n",
    "        self.cmb_seed = 8675309\n",
    "        self.cmb_spectra = self.read_txt(ps_file, unpack=True)\n",
    "        self.apply_delens = apply_delens\n",
    "        self.delensing_ells = self.read_txt(delensing_ells_c1_fp, unpack=True)  # Fix here!\n",
    "        self._map = None"
   ]
  },
  {
   "cell_type": "markdown",
   "metadata": {},
   "source": [
    "Now the axes line up."
   ]
  },
  {
   "cell_type": "code",
   "execution_count": 7,
   "metadata": {},
   "outputs": [
    {
     "data": {
      "text/plain": [
       "((8, 2199), (2, 2199))"
      ]
     },
     "execution_count": 7,
     "metadata": {},
     "output_type": "execute_result"
    }
   ],
   "source": [
    "b = SurrogateCMBLensed(ps_c1_fp, True, nside=128)\n",
    "b.cmb_spectra.shape, b.delensing_ells.shape"
   ]
  },
  {
   "cell_type": "markdown",
   "metadata": {},
   "source": [
    "And the code runs."
   ]
  },
  {
   "cell_type": "code",
   "execution_count": 8,
   "metadata": {},
   "outputs": [],
   "source": [
    "b.run_taylens = CMBLensed.run_taylens  # Patch in the method\n",
    "b._map = b.run_taylens(b)  # 4.5 minutes at nside=2048; 1 second at nside=128"
   ]
  },
  {
   "cell_type": "markdown",
   "metadata": {},
   "source": [
    "# NOT COMPLETE!"
   ]
  },
  {
   "cell_type": "markdown",
   "metadata": {},
   "source": [
    "I think I need to account for the presence or absence of L=0 and L=1, following Issue 212."
   ]
  }
 ],
 "metadata": {
  "kernelspec": {
   "display_name": "cmb-ml2",
   "language": "python",
   "name": "python3"
  },
  "language_info": {
   "codemirror_mode": {
    "name": "ipython",
    "version": 3
   },
   "file_extension": ".py",
   "mimetype": "text/x-python",
   "name": "python",
   "nbconvert_exporter": "python",
   "pygments_lexer": "ipython3",
   "version": "3.9.21"
  }
 },
 "nbformat": 4,
 "nbformat_minor": 2
}
